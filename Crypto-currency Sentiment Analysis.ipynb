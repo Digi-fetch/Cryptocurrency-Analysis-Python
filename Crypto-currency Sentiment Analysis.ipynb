{
 "cells": [
  {
   "cell_type": "code",
   "execution_count": 47,
   "metadata": {},
   "outputs": [],
   "source": [
    "import glob\n",
    "import pandas as pd\n",
    "import numpy as np\n",
    "\n",
    "import requests\n",
    "#import html5lib\n",
    "from bs4 import BeautifulSoup\n",
    "\n",
    "import datetime\n",
    "import re\n",
    "\n",
    "def percentage(part, whole):\n",
    "    return 100 * float(part)/float(whole)"
   ]
  },
  {
   "cell_type": "code",
   "execution_count": 48,
   "metadata": {},
   "outputs": [],
   "source": [
    "# ================================================================================== #\n",
    "# Change the \"crypto_name\" variable to any other Cryptocurrency to get their result  #\n",
    "# ================================================================================== #\n",
    "\n",
    "crypto_name = 'bitcoin' # bitcoin, ethereum, bitcoincash, ripple or litecoin\n"
   ]
  },
  {
   "cell_type": "code",
   "execution_count": 49,
   "metadata": {},
   "outputs": [],
   "source": [
    "# initializing dataframes\n",
    "df_noOfTweets = pd.DataFrame(columns=['date','positive', 'neutral', 'negative', 'total']) # for the barchart of no. of tweets\n",
    "df_polarity_line = pd.DataFrame(columns=['date','polarity']) # for the polarity line chart\n",
    "\n",
    "# Tweets about each crypto is taken from saved txt files with dates ranging from 2017-09-01 to 2017-11-30\n",
    "# Tweets are collected by selenium automated script written in python\n",
    "for f in glob.glob( 'database\\\\Tweets\\\\'+ crypto_name +'\\\\'+ crypto_name + '*.txt'):\n",
    "    df_datawise = pd.read_csv(f, sep='\\t', encoding='utf-8', parse_dates=True)\n",
    "    polarity = 0.00\n",
    "    neutral = positive = negative = 0\n",
    "    for idx,row in df_datawise.iterrows():\n",
    "        polarity += float(row[\"polarity\"])  # adding up polarities to find the average later\n",
    "        \n",
    "        # adding reaction of how people are reacting to find average later\n",
    "        if (float(row[\"polarity\"]) >= -0.1 and float(row[\"polarity\"]) <= 0.1):  \n",
    "            neutral += 1\n",
    "        elif (float(row[\"polarity\"]) > 0.1):\n",
    "            positive += 1\n",
    "        elif (float(row[\"polarity\"]) <-0.1):\n",
    "            negative += 1\n",
    "    positive = percentage(positive, len(df_datawise.index))\n",
    "    negative = percentage(negative, len(df_datawise.index))\n",
    "    neutral = percentage(neutral, len(df_datawise.index))\n",
    "    \n",
    "    # below df format is for barchart with sentiments\n",
    "    df_temp_df_noOfTweets = pd.DataFrame({'date': df_datawise.iloc[0]['date'], 'positive': ((positive/100)*len(df_datawise.index)),'neutral': ((neutral/100)*len(df_datawise.index)), 'negative': ((negative/100)*len(df_datawise.index)), 'total': len(df_datawise.index)}, index=[0])\n",
    "    df_noOfTweets = df_barchart.append(df_temp_df_noOfTweets, sort=True, ignore_index=True)\n",
    "    \n",
    "    # below df format is for polarity_line with sentiments\n",
    "    df_temp_polarity_line = pd.DataFrame({'date': df_datawise.iloc[0]['date'], 'polarity': polarity}, index=[0])\n",
    "    df_polarity_line = df_polarity_line.append(df_temp_polarity_line, sort=True, ignore_index=True)"
   ]
  },
  {
   "cell_type": "code",
   "execution_count": 50,
   "metadata": {},
   "outputs": [
    {
     "data": {
      "application/vnd.plotly.v1+json": {
       "data": [
        {
         "colorscale": [
          [
           0,
           "#00083e"
          ],
          [
           0.5,
           "#ededee"
          ],
          [
           1,
           "#ffffff"
          ]
         ],
         "hoverinfo": "none",
         "opacity": 0.75,
         "showscale": false,
         "type": "heatmap",
         "uid": "ec67835a-480d-4850-9cbd-df4923b67fda",
         "z": [
          [
           0,
           0,
           0,
           0,
           0
          ],
          [
           0.5,
           0.5,
           0.5,
           0.5,
           0.5
          ],
          [
           1,
           1,
           1,
           1,
           1
          ],
          [
           0.5,
           0.5,
           0.5,
           0.5,
           0.5
          ],
          [
           1,
           1,
           1,
           1,
           1
          ],
          [
           0.5,
           0.5,
           0.5,
           0.5,
           0.5
          ],
          [
           1,
           1,
           1,
           1,
           1
          ],
          [
           0.5,
           0.5,
           0.5,
           0.5,
           0.5
          ],
          [
           1,
           1,
           1,
           1,
           1
          ],
          [
           0.5,
           0.5,
           0.5,
           0.5,
           0.5
          ],
          [
           1,
           1,
           1,
           1,
           1
          ],
          [
           0.5,
           0.5,
           0.5,
           0.5,
           0.5
          ],
          [
           1,
           1,
           1,
           1,
           1
          ],
          [
           0.5,
           0.5,
           0.5,
           0.5,
           0.5
          ],
          [
           1,
           1,
           1,
           1,
           1
          ],
          [
           0.5,
           0.5,
           0.5,
           0.5,
           0.5
          ],
          [
           1,
           1,
           1,
           1,
           1
          ],
          [
           0.5,
           0.5,
           0.5,
           0.5,
           0.5
          ],
          [
           1,
           1,
           1,
           1,
           1
          ],
          [
           0.5,
           0.5,
           0.5,
           0.5,
           0.5
          ],
          [
           1,
           1,
           1,
           1,
           1
          ],
          [
           0.5,
           0.5,
           0.5,
           0.5,
           0.5
          ],
          [
           1,
           1,
           1,
           1,
           1
          ],
          [
           0.5,
           0.5,
           0.5,
           0.5,
           0.5
          ],
          [
           1,
           1,
           1,
           1,
           1
          ],
          [
           0.5,
           0.5,
           0.5,
           0.5,
           0.5
          ],
          [
           1,
           1,
           1,
           1,
           1
          ],
          [
           0.5,
           0.5,
           0.5,
           0.5,
           0.5
          ],
          [
           1,
           1,
           1,
           1,
           1
          ],
          [
           0.5,
           0.5,
           0.5,
           0.5,
           0.5
          ],
          [
           1,
           1,
           1,
           1,
           1
          ],
          [
           0.5,
           0.5,
           0.5,
           0.5,
           0.5
          ],
          [
           1,
           1,
           1,
           1,
           1
          ],
          [
           0.5,
           0.5,
           0.5,
           0.5,
           0.5
          ],
          [
           1,
           1,
           1,
           1,
           1
          ],
          [
           0.5,
           0.5,
           0.5,
           0.5,
           0.5
          ],
          [
           1,
           1,
           1,
           1,
           1
          ],
          [
           0.5,
           0.5,
           0.5,
           0.5,
           0.5
          ],
          [
           1,
           1,
           1,
           1,
           1
          ],
          [
           0.5,
           0.5,
           0.5,
           0.5,
           0.5
          ],
          [
           1,
           1,
           1,
           1,
           1
          ],
          [
           0.5,
           0.5,
           0.5,
           0.5,
           0.5
          ],
          [
           1,
           1,
           1,
           1,
           1
          ],
          [
           0.5,
           0.5,
           0.5,
           0.5,
           0.5
          ],
          [
           1,
           1,
           1,
           1,
           1
          ],
          [
           0.5,
           0.5,
           0.5,
           0.5,
           0.5
          ],
          [
           1,
           1,
           1,
           1,
           1
          ],
          [
           0.5,
           0.5,
           0.5,
           0.5,
           0.5
          ],
          [
           1,
           1,
           1,
           1,
           1
          ],
          [
           0.5,
           0.5,
           0.5,
           0.5,
           0.5
          ],
          [
           1,
           1,
           1,
           1,
           1
          ],
          [
           0.5,
           0.5,
           0.5,
           0.5,
           0.5
          ],
          [
           1,
           1,
           1,
           1,
           1
          ],
          [
           0.5,
           0.5,
           0.5,
           0.5,
           0.5
          ],
          [
           1,
           1,
           1,
           1,
           1
          ],
          [
           0.5,
           0.5,
           0.5,
           0.5,
           0.5
          ],
          [
           1,
           1,
           1,
           1,
           1
          ],
          [
           0.5,
           0.5,
           0.5,
           0.5,
           0.5
          ],
          [
           1,
           1,
           1,
           1,
           1
          ],
          [
           0.5,
           0.5,
           0.5,
           0.5,
           0.5
          ],
          [
           1,
           1,
           1,
           1,
           1
          ],
          [
           0.5,
           0.5,
           0.5,
           0.5,
           0.5
          ],
          [
           1,
           1,
           1,
           1,
           1
          ],
          [
           0.5,
           0.5,
           0.5,
           0.5,
           0.5
          ],
          [
           1,
           1,
           1,
           1,
           1
          ],
          [
           0.5,
           0.5,
           0.5,
           0.5,
           0.5
          ],
          [
           1,
           1,
           1,
           1,
           1
          ],
          [
           0.5,
           0.5,
           0.5,
           0.5,
           0.5
          ],
          [
           1,
           1,
           1,
           1,
           1
          ],
          [
           0.5,
           0.5,
           0.5,
           0.5,
           0.5
          ],
          [
           1,
           1,
           1,
           1,
           1
          ],
          [
           0.5,
           0.5,
           0.5,
           0.5,
           0.5
          ],
          [
           1,
           1,
           1,
           1,
           1
          ],
          [
           0.5,
           0.5,
           0.5,
           0.5,
           0.5
          ],
          [
           1,
           1,
           1,
           1,
           1
          ],
          [
           0.5,
           0.5,
           0.5,
           0.5,
           0.5
          ],
          [
           1,
           1,
           1,
           1,
           1
          ],
          [
           0.5,
           0.5,
           0.5,
           0.5,
           0.5
          ],
          [
           1,
           1,
           1,
           1,
           1
          ],
          [
           0.5,
           0.5,
           0.5,
           0.5,
           0.5
          ],
          [
           1,
           1,
           1,
           1,
           1
          ],
          [
           0.5,
           0.5,
           0.5,
           0.5,
           0.5
          ],
          [
           1,
           1,
           1,
           1,
           1
          ],
          [
           0.5,
           0.5,
           0.5,
           0.5,
           0.5
          ],
          [
           1,
           1,
           1,
           1,
           1
          ],
          [
           0.5,
           0.5,
           0.5,
           0.5,
           0.5
          ],
          [
           1,
           1,
           1,
           1,
           1
          ],
          [
           0.5,
           0.5,
           0.5,
           0.5,
           0.5
          ],
          [
           1,
           1,
           1,
           1,
           1
          ],
          [
           0.5,
           0.5,
           0.5,
           0.5,
           0.5
          ],
          [
           1,
           1,
           1,
           1,
           1
          ],
          [
           0.5,
           0.5,
           0.5,
           0.5,
           0.5
          ],
          [
           1,
           1,
           1,
           1,
           1
          ]
         ]
        }
       ],
       "layout": {
        "annotations": [
         {
          "align": "left",
          "font": {
           "color": "#ffffff"
          },
          "showarrow": false,
          "text": "<b>date</b>",
          "x": -0.45,
          "xanchor": "left",
          "xref": "x",
          "y": 0,
          "yref": "y"
         },
         {
          "align": "left",
          "font": {
           "color": "#ffffff"
          },
          "showarrow": false,
          "text": "<b>negative</b>",
          "x": 0.55,
          "xanchor": "left",
          "xref": "x",
          "y": 0,
          "yref": "y"
         },
         {
          "align": "left",
          "font": {
           "color": "#ffffff"
          },
          "showarrow": false,
          "text": "<b>neutral</b>",
          "x": 1.55,
          "xanchor": "left",
          "xref": "x",
          "y": 0,
          "yref": "y"
         },
         {
          "align": "left",
          "font": {
           "color": "#ffffff"
          },
          "showarrow": false,
          "text": "<b>positive</b>",
          "x": 2.55,
          "xanchor": "left",
          "xref": "x",
          "y": 0,
          "yref": "y"
         },
         {
          "align": "left",
          "font": {
           "color": "#ffffff"
          },
          "showarrow": false,
          "text": "<b>total</b>",
          "x": 3.55,
          "xanchor": "left",
          "xref": "x",
          "y": 0,
          "yref": "y"
         },
         {
          "align": "left",
          "font": {
           "color": "#000000"
          },
          "showarrow": false,
          "text": "2017-09-01",
          "x": -0.45,
          "xanchor": "left",
          "xref": "x",
          "y": 1,
          "yref": "y"
         },
         {
          "align": "left",
          "font": {
           "color": "#000000"
          },
          "showarrow": false,
          "text": "6.999999999999999",
          "x": 0.55,
          "xanchor": "left",
          "xref": "x",
          "y": 1,
          "yref": "y"
         },
         {
          "align": "left",
          "font": {
           "color": "#000000"
          },
          "showarrow": false,
          "text": "29.0",
          "x": 1.55,
          "xanchor": "left",
          "xref": "x",
          "y": 1,
          "yref": "y"
         },
         {
          "align": "left",
          "font": {
           "color": "#000000"
          },
          "showarrow": false,
          "text": "36.0",
          "x": 2.55,
          "xanchor": "left",
          "xref": "x",
          "y": 1,
          "yref": "y"
         },
         {
          "align": "left",
          "font": {
           "color": "#000000"
          },
          "showarrow": false,
          "text": "72",
          "x": 3.55,
          "xanchor": "left",
          "xref": "x",
          "y": 1,
          "yref": "y"
         },
         {
          "align": "left",
          "font": {
           "color": "#000000"
          },
          "showarrow": false,
          "text": "2017-09-02",
          "x": -0.45,
          "xanchor": "left",
          "xref": "x",
          "y": 2,
          "yref": "y"
         },
         {
          "align": "left",
          "font": {
           "color": "#000000"
          },
          "showarrow": false,
          "text": "3.9999999999999996",
          "x": 0.55,
          "xanchor": "left",
          "xref": "x",
          "y": 2,
          "yref": "y"
         },
         {
          "align": "left",
          "font": {
           "color": "#000000"
          },
          "showarrow": false,
          "text": "45.0",
          "x": 1.55,
          "xanchor": "left",
          "xref": "x",
          "y": 2,
          "yref": "y"
         },
         {
          "align": "left",
          "font": {
           "color": "#000000"
          },
          "showarrow": false,
          "text": "25.0",
          "x": 2.55,
          "xanchor": "left",
          "xref": "x",
          "y": 2,
          "yref": "y"
         },
         {
          "align": "left",
          "font": {
           "color": "#000000"
          },
          "showarrow": false,
          "text": "74",
          "x": 3.55,
          "xanchor": "left",
          "xref": "x",
          "y": 2,
          "yref": "y"
         },
         {
          "align": "left",
          "font": {
           "color": "#000000"
          },
          "showarrow": false,
          "text": "2017-09-03",
          "x": -0.45,
          "xanchor": "left",
          "xref": "x",
          "y": 3,
          "yref": "y"
         },
         {
          "align": "left",
          "font": {
           "color": "#000000"
          },
          "showarrow": false,
          "text": "5.0",
          "x": 0.55,
          "xanchor": "left",
          "xref": "x",
          "y": 3,
          "yref": "y"
         },
         {
          "align": "left",
          "font": {
           "color": "#000000"
          },
          "showarrow": false,
          "text": "43.0",
          "x": 1.55,
          "xanchor": "left",
          "xref": "x",
          "y": 3,
          "yref": "y"
         },
         {
          "align": "left",
          "font": {
           "color": "#000000"
          },
          "showarrow": false,
          "text": "27.0",
          "x": 2.55,
          "xanchor": "left",
          "xref": "x",
          "y": 3,
          "yref": "y"
         },
         {
          "align": "left",
          "font": {
           "color": "#000000"
          },
          "showarrow": false,
          "text": "75",
          "x": 3.55,
          "xanchor": "left",
          "xref": "x",
          "y": 3,
          "yref": "y"
         },
         {
          "align": "left",
          "font": {
           "color": "#000000"
          },
          "showarrow": false,
          "text": "2017-09-04",
          "x": -0.45,
          "xanchor": "left",
          "xref": "x",
          "y": 4,
          "yref": "y"
         },
         {
          "align": "left",
          "font": {
           "color": "#000000"
          },
          "showarrow": false,
          "text": "6.0",
          "x": 0.55,
          "xanchor": "left",
          "xref": "x",
          "y": 4,
          "yref": "y"
         },
         {
          "align": "left",
          "font": {
           "color": "#000000"
          },
          "showarrow": false,
          "text": "33.0",
          "x": 1.55,
          "xanchor": "left",
          "xref": "x",
          "y": 4,
          "yref": "y"
         },
         {
          "align": "left",
          "font": {
           "color": "#000000"
          },
          "showarrow": false,
          "text": "16.0",
          "x": 2.55,
          "xanchor": "left",
          "xref": "x",
          "y": 4,
          "yref": "y"
         },
         {
          "align": "left",
          "font": {
           "color": "#000000"
          },
          "showarrow": false,
          "text": "55",
          "x": 3.55,
          "xanchor": "left",
          "xref": "x",
          "y": 4,
          "yref": "y"
         },
         {
          "align": "left",
          "font": {
           "color": "#000000"
          },
          "showarrow": false,
          "text": "2017-09-05",
          "x": -0.45,
          "xanchor": "left",
          "xref": "x",
          "y": 5,
          "yref": "y"
         },
         {
          "align": "left",
          "font": {
           "color": "#000000"
          },
          "showarrow": false,
          "text": "0.0",
          "x": 0.55,
          "xanchor": "left",
          "xref": "x",
          "y": 5,
          "yref": "y"
         },
         {
          "align": "left",
          "font": {
           "color": "#000000"
          },
          "showarrow": false,
          "text": "13.0",
          "x": 1.55,
          "xanchor": "left",
          "xref": "x",
          "y": 5,
          "yref": "y"
         },
         {
          "align": "left",
          "font": {
           "color": "#000000"
          },
          "showarrow": false,
          "text": "11.0",
          "x": 2.55,
          "xanchor": "left",
          "xref": "x",
          "y": 5,
          "yref": "y"
         },
         {
          "align": "left",
          "font": {
           "color": "#000000"
          },
          "showarrow": false,
          "text": "24",
          "x": 3.55,
          "xanchor": "left",
          "xref": "x",
          "y": 5,
          "yref": "y"
         },
         {
          "align": "left",
          "font": {
           "color": "#000000"
          },
          "showarrow": false,
          "text": "2017-09-06",
          "x": -0.45,
          "xanchor": "left",
          "xref": "x",
          "y": 6,
          "yref": "y"
         },
         {
          "align": "left",
          "font": {
           "color": "#000000"
          },
          "showarrow": false,
          "text": "1.0",
          "x": 0.55,
          "xanchor": "left",
          "xref": "x",
          "y": 6,
          "yref": "y"
         },
         {
          "align": "left",
          "font": {
           "color": "#000000"
          },
          "showarrow": false,
          "text": "13.0",
          "x": 1.55,
          "xanchor": "left",
          "xref": "x",
          "y": 6,
          "yref": "y"
         },
         {
          "align": "left",
          "font": {
           "color": "#000000"
          },
          "showarrow": false,
          "text": "8.0",
          "x": 2.55,
          "xanchor": "left",
          "xref": "x",
          "y": 6,
          "yref": "y"
         },
         {
          "align": "left",
          "font": {
           "color": "#000000"
          },
          "showarrow": false,
          "text": "22",
          "x": 3.55,
          "xanchor": "left",
          "xref": "x",
          "y": 6,
          "yref": "y"
         },
         {
          "align": "left",
          "font": {
           "color": "#000000"
          },
          "showarrow": false,
          "text": "2017-09-07",
          "x": -0.45,
          "xanchor": "left",
          "xref": "x",
          "y": 7,
          "yref": "y"
         },
         {
          "align": "left",
          "font": {
           "color": "#000000"
          },
          "showarrow": false,
          "text": "0.0",
          "x": 0.55,
          "xanchor": "left",
          "xref": "x",
          "y": 7,
          "yref": "y"
         },
         {
          "align": "left",
          "font": {
           "color": "#000000"
          },
          "showarrow": false,
          "text": "15.0",
          "x": 1.55,
          "xanchor": "left",
          "xref": "x",
          "y": 7,
          "yref": "y"
         },
         {
          "align": "left",
          "font": {
           "color": "#000000"
          },
          "showarrow": false,
          "text": "9.0",
          "x": 2.55,
          "xanchor": "left",
          "xref": "x",
          "y": 7,
          "yref": "y"
         },
         {
          "align": "left",
          "font": {
           "color": "#000000"
          },
          "showarrow": false,
          "text": "24",
          "x": 3.55,
          "xanchor": "left",
          "xref": "x",
          "y": 7,
          "yref": "y"
         },
         {
          "align": "left",
          "font": {
           "color": "#000000"
          },
          "showarrow": false,
          "text": "2017-09-08",
          "x": -0.45,
          "xanchor": "left",
          "xref": "x",
          "y": 8,
          "yref": "y"
         },
         {
          "align": "left",
          "font": {
           "color": "#000000"
          },
          "showarrow": false,
          "text": "1.0",
          "x": 0.55,
          "xanchor": "left",
          "xref": "x",
          "y": 8,
          "yref": "y"
         },
         {
          "align": "left",
          "font": {
           "color": "#000000"
          },
          "showarrow": false,
          "text": "14.0",
          "x": 1.55,
          "xanchor": "left",
          "xref": "x",
          "y": 8,
          "yref": "y"
         },
         {
          "align": "left",
          "font": {
           "color": "#000000"
          },
          "showarrow": false,
          "text": "9.0",
          "x": 2.55,
          "xanchor": "left",
          "xref": "x",
          "y": 8,
          "yref": "y"
         },
         {
          "align": "left",
          "font": {
           "color": "#000000"
          },
          "showarrow": false,
          "text": "24",
          "x": 3.55,
          "xanchor": "left",
          "xref": "x",
          "y": 8,
          "yref": "y"
         },
         {
          "align": "left",
          "font": {
           "color": "#000000"
          },
          "showarrow": false,
          "text": "2017-09-09",
          "x": -0.45,
          "xanchor": "left",
          "xref": "x",
          "y": 9,
          "yref": "y"
         },
         {
          "align": "left",
          "font": {
           "color": "#000000"
          },
          "showarrow": false,
          "text": "1.0",
          "x": 0.55,
          "xanchor": "left",
          "xref": "x",
          "y": 9,
          "yref": "y"
         },
         {
          "align": "left",
          "font": {
           "color": "#000000"
          },
          "showarrow": false,
          "text": "12.000000000000002",
          "x": 1.55,
          "xanchor": "left",
          "xref": "x",
          "y": 9,
          "yref": "y"
         },
         {
          "align": "left",
          "font": {
           "color": "#000000"
          },
          "showarrow": false,
          "text": "8.0",
          "x": 2.55,
          "xanchor": "left",
          "xref": "x",
          "y": 9,
          "yref": "y"
         },
         {
          "align": "left",
          "font": {
           "color": "#000000"
          },
          "showarrow": false,
          "text": "21",
          "x": 3.55,
          "xanchor": "left",
          "xref": "x",
          "y": 9,
          "yref": "y"
         },
         {
          "align": "left",
          "font": {
           "color": "#000000"
          },
          "showarrow": false,
          "text": "2017-09-10",
          "x": -0.45,
          "xanchor": "left",
          "xref": "x",
          "y": 10,
          "yref": "y"
         },
         {
          "align": "left",
          "font": {
           "color": "#000000"
          },
          "showarrow": false,
          "text": "2.0",
          "x": 0.55,
          "xanchor": "left",
          "xref": "x",
          "y": 10,
          "yref": "y"
         },
         {
          "align": "left",
          "font": {
           "color": "#000000"
          },
          "showarrow": false,
          "text": "8.0",
          "x": 1.55,
          "xanchor": "left",
          "xref": "x",
          "y": 10,
          "yref": "y"
         },
         {
          "align": "left",
          "font": {
           "color": "#000000"
          },
          "showarrow": false,
          "text": "12.999999999999998",
          "x": 2.55,
          "xanchor": "left",
          "xref": "x",
          "y": 10,
          "yref": "y"
         },
         {
          "align": "left",
          "font": {
           "color": "#000000"
          },
          "showarrow": false,
          "text": "23",
          "x": 3.55,
          "xanchor": "left",
          "xref": "x",
          "y": 10,
          "yref": "y"
         },
         {
          "align": "left",
          "font": {
           "color": "#000000"
          },
          "showarrow": false,
          "text": "2017-09-11",
          "x": -0.45,
          "xanchor": "left",
          "xref": "x",
          "y": 11,
          "yref": "y"
         },
         {
          "align": "left",
          "font": {
           "color": "#000000"
          },
          "showarrow": false,
          "text": "1.0",
          "x": 0.55,
          "xanchor": "left",
          "xref": "x",
          "y": 11,
          "yref": "y"
         },
         {
          "align": "left",
          "font": {
           "color": "#000000"
          },
          "showarrow": false,
          "text": "14.0",
          "x": 1.55,
          "xanchor": "left",
          "xref": "x",
          "y": 11,
          "yref": "y"
         },
         {
          "align": "left",
          "font": {
           "color": "#000000"
          },
          "showarrow": false,
          "text": "9.0",
          "x": 2.55,
          "xanchor": "left",
          "xref": "x",
          "y": 11,
          "yref": "y"
         },
         {
          "align": "left",
          "font": {
           "color": "#000000"
          },
          "showarrow": false,
          "text": "24",
          "x": 3.55,
          "xanchor": "left",
          "xref": "x",
          "y": 11,
          "yref": "y"
         },
         {
          "align": "left",
          "font": {
           "color": "#000000"
          },
          "showarrow": false,
          "text": "2017-09-12",
          "x": -0.45,
          "xanchor": "left",
          "xref": "x",
          "y": 12,
          "yref": "y"
         },
         {
          "align": "left",
          "font": {
           "color": "#000000"
          },
          "showarrow": false,
          "text": "1.0",
          "x": 0.55,
          "xanchor": "left",
          "xref": "x",
          "y": 12,
          "yref": "y"
         },
         {
          "align": "left",
          "font": {
           "color": "#000000"
          },
          "showarrow": false,
          "text": "14.0",
          "x": 1.55,
          "xanchor": "left",
          "xref": "x",
          "y": 12,
          "yref": "y"
         },
         {
          "align": "left",
          "font": {
           "color": "#000000"
          },
          "showarrow": false,
          "text": "7.0",
          "x": 2.55,
          "xanchor": "left",
          "xref": "x",
          "y": 12,
          "yref": "y"
         },
         {
          "align": "left",
          "font": {
           "color": "#000000"
          },
          "showarrow": false,
          "text": "22",
          "x": 3.55,
          "xanchor": "left",
          "xref": "x",
          "y": 12,
          "yref": "y"
         },
         {
          "align": "left",
          "font": {
           "color": "#000000"
          },
          "showarrow": false,
          "text": "2017-09-13",
          "x": -0.45,
          "xanchor": "left",
          "xref": "x",
          "y": 13,
          "yref": "y"
         },
         {
          "align": "left",
          "font": {
           "color": "#000000"
          },
          "showarrow": false,
          "text": "3.0",
          "x": 0.55,
          "xanchor": "left",
          "xref": "x",
          "y": 13,
          "yref": "y"
         },
         {
          "align": "left",
          "font": {
           "color": "#000000"
          },
          "showarrow": false,
          "text": "15.0",
          "x": 1.55,
          "xanchor": "left",
          "xref": "x",
          "y": 13,
          "yref": "y"
         },
         {
          "align": "left",
          "font": {
           "color": "#000000"
          },
          "showarrow": false,
          "text": "6.0",
          "x": 2.55,
          "xanchor": "left",
          "xref": "x",
          "y": 13,
          "yref": "y"
         },
         {
          "align": "left",
          "font": {
           "color": "#000000"
          },
          "showarrow": false,
          "text": "24",
          "x": 3.55,
          "xanchor": "left",
          "xref": "x",
          "y": 13,
          "yref": "y"
         },
         {
          "align": "left",
          "font": {
           "color": "#000000"
          },
          "showarrow": false,
          "text": "2017-09-14",
          "x": -0.45,
          "xanchor": "left",
          "xref": "x",
          "y": 14,
          "yref": "y"
         },
         {
          "align": "left",
          "font": {
           "color": "#000000"
          },
          "showarrow": false,
          "text": "0.0",
          "x": 0.55,
          "xanchor": "left",
          "xref": "x",
          "y": 14,
          "yref": "y"
         },
         {
          "align": "left",
          "font": {
           "color": "#000000"
          },
          "showarrow": false,
          "text": "17.0",
          "x": 1.55,
          "xanchor": "left",
          "xref": "x",
          "y": 14,
          "yref": "y"
         },
         {
          "align": "left",
          "font": {
           "color": "#000000"
          },
          "showarrow": false,
          "text": "6.0",
          "x": 2.55,
          "xanchor": "left",
          "xref": "x",
          "y": 14,
          "yref": "y"
         },
         {
          "align": "left",
          "font": {
           "color": "#000000"
          },
          "showarrow": false,
          "text": "23",
          "x": 3.55,
          "xanchor": "left",
          "xref": "x",
          "y": 14,
          "yref": "y"
         },
         {
          "align": "left",
          "font": {
           "color": "#000000"
          },
          "showarrow": false,
          "text": "2017-09-15",
          "x": -0.45,
          "xanchor": "left",
          "xref": "x",
          "y": 15,
          "yref": "y"
         },
         {
          "align": "left",
          "font": {
           "color": "#000000"
          },
          "showarrow": false,
          "text": "1.0",
          "x": 0.55,
          "xanchor": "left",
          "xref": "x",
          "y": 15,
          "yref": "y"
         },
         {
          "align": "left",
          "font": {
           "color": "#000000"
          },
          "showarrow": false,
          "text": "12.0",
          "x": 1.55,
          "xanchor": "left",
          "xref": "x",
          "y": 15,
          "yref": "y"
         },
         {
          "align": "left",
          "font": {
           "color": "#000000"
          },
          "showarrow": false,
          "text": "9.0",
          "x": 2.55,
          "xanchor": "left",
          "xref": "x",
          "y": 15,
          "yref": "y"
         },
         {
          "align": "left",
          "font": {
           "color": "#000000"
          },
          "showarrow": false,
          "text": "22",
          "x": 3.55,
          "xanchor": "left",
          "xref": "x",
          "y": 15,
          "yref": "y"
         },
         {
          "align": "left",
          "font": {
           "color": "#000000"
          },
          "showarrow": false,
          "text": "2017-09-16",
          "x": -0.45,
          "xanchor": "left",
          "xref": "x",
          "y": 16,
          "yref": "y"
         },
         {
          "align": "left",
          "font": {
           "color": "#000000"
          },
          "showarrow": false,
          "text": "1.0",
          "x": 0.55,
          "xanchor": "left",
          "xref": "x",
          "y": 16,
          "yref": "y"
         },
         {
          "align": "left",
          "font": {
           "color": "#000000"
          },
          "showarrow": false,
          "text": "12.0",
          "x": 1.55,
          "xanchor": "left",
          "xref": "x",
          "y": 16,
          "yref": "y"
         },
         {
          "align": "left",
          "font": {
           "color": "#000000"
          },
          "showarrow": false,
          "text": "11.0",
          "x": 2.55,
          "xanchor": "left",
          "xref": "x",
          "y": 16,
          "yref": "y"
         },
         {
          "align": "left",
          "font": {
           "color": "#000000"
          },
          "showarrow": false,
          "text": "24",
          "x": 3.55,
          "xanchor": "left",
          "xref": "x",
          "y": 16,
          "yref": "y"
         },
         {
          "align": "left",
          "font": {
           "color": "#000000"
          },
          "showarrow": false,
          "text": "2017-09-17",
          "x": -0.45,
          "xanchor": "left",
          "xref": "x",
          "y": 17,
          "yref": "y"
         },
         {
          "align": "left",
          "font": {
           "color": "#000000"
          },
          "showarrow": false,
          "text": "0.0",
          "x": 0.55,
          "xanchor": "left",
          "xref": "x",
          "y": 17,
          "yref": "y"
         },
         {
          "align": "left",
          "font": {
           "color": "#000000"
          },
          "showarrow": false,
          "text": "14.0",
          "x": 1.55,
          "xanchor": "left",
          "xref": "x",
          "y": 17,
          "yref": "y"
         },
         {
          "align": "left",
          "font": {
           "color": "#000000"
          },
          "showarrow": false,
          "text": "8.0",
          "x": 2.55,
          "xanchor": "left",
          "xref": "x",
          "y": 17,
          "yref": "y"
         },
         {
          "align": "left",
          "font": {
           "color": "#000000"
          },
          "showarrow": false,
          "text": "22",
          "x": 3.55,
          "xanchor": "left",
          "xref": "x",
          "y": 17,
          "yref": "y"
         },
         {
          "align": "left",
          "font": {
           "color": "#000000"
          },
          "showarrow": false,
          "text": "2017-09-18",
          "x": -0.45,
          "xanchor": "left",
          "xref": "x",
          "y": 18,
          "yref": "y"
         },
         {
          "align": "left",
          "font": {
           "color": "#000000"
          },
          "showarrow": false,
          "text": "0.0",
          "x": 0.55,
          "xanchor": "left",
          "xref": "x",
          "y": 18,
          "yref": "y"
         },
         {
          "align": "left",
          "font": {
           "color": "#000000"
          },
          "showarrow": false,
          "text": "11.0",
          "x": 1.55,
          "xanchor": "left",
          "xref": "x",
          "y": 18,
          "yref": "y"
         },
         {
          "align": "left",
          "font": {
           "color": "#000000"
          },
          "showarrow": false,
          "text": "11.0",
          "x": 2.55,
          "xanchor": "left",
          "xref": "x",
          "y": 18,
          "yref": "y"
         },
         {
          "align": "left",
          "font": {
           "color": "#000000"
          },
          "showarrow": false,
          "text": "22",
          "x": 3.55,
          "xanchor": "left",
          "xref": "x",
          "y": 18,
          "yref": "y"
         },
         {
          "align": "left",
          "font": {
           "color": "#000000"
          },
          "showarrow": false,
          "text": "2017-09-19",
          "x": -0.45,
          "xanchor": "left",
          "xref": "x",
          "y": 19,
          "yref": "y"
         },
         {
          "align": "left",
          "font": {
           "color": "#000000"
          },
          "showarrow": false,
          "text": "1.0",
          "x": 0.55,
          "xanchor": "left",
          "xref": "x",
          "y": 19,
          "yref": "y"
         },
         {
          "align": "left",
          "font": {
           "color": "#000000"
          },
          "showarrow": false,
          "text": "12.0",
          "x": 1.55,
          "xanchor": "left",
          "xref": "x",
          "y": 19,
          "yref": "y"
         },
         {
          "align": "left",
          "font": {
           "color": "#000000"
          },
          "showarrow": false,
          "text": "11.0",
          "x": 2.55,
          "xanchor": "left",
          "xref": "x",
          "y": 19,
          "yref": "y"
         },
         {
          "align": "left",
          "font": {
           "color": "#000000"
          },
          "showarrow": false,
          "text": "24",
          "x": 3.55,
          "xanchor": "left",
          "xref": "x",
          "y": 19,
          "yref": "y"
         },
         {
          "align": "left",
          "font": {
           "color": "#000000"
          },
          "showarrow": false,
          "text": "2017-09-20",
          "x": -0.45,
          "xanchor": "left",
          "xref": "x",
          "y": 20,
          "yref": "y"
         },
         {
          "align": "left",
          "font": {
           "color": "#000000"
          },
          "showarrow": false,
          "text": "1.0",
          "x": 0.55,
          "xanchor": "left",
          "xref": "x",
          "y": 20,
          "yref": "y"
         },
         {
          "align": "left",
          "font": {
           "color": "#000000"
          },
          "showarrow": false,
          "text": "15.000000000000002",
          "x": 1.55,
          "xanchor": "left",
          "xref": "x",
          "y": 20,
          "yref": "y"
         },
         {
          "align": "left",
          "font": {
           "color": "#000000"
          },
          "showarrow": false,
          "text": "6.0",
          "x": 2.55,
          "xanchor": "left",
          "xref": "x",
          "y": 20,
          "yref": "y"
         },
         {
          "align": "left",
          "font": {
           "color": "#000000"
          },
          "showarrow": false,
          "text": "22",
          "x": 3.55,
          "xanchor": "left",
          "xref": "x",
          "y": 20,
          "yref": "y"
         },
         {
          "align": "left",
          "font": {
           "color": "#000000"
          },
          "showarrow": false,
          "text": "2017-09-21",
          "x": -0.45,
          "xanchor": "left",
          "xref": "x",
          "y": 21,
          "yref": "y"
         },
         {
          "align": "left",
          "font": {
           "color": "#000000"
          },
          "showarrow": false,
          "text": "0.0",
          "x": 0.55,
          "xanchor": "left",
          "xref": "x",
          "y": 21,
          "yref": "y"
         },
         {
          "align": "left",
          "font": {
           "color": "#000000"
          },
          "showarrow": false,
          "text": "14.0",
          "x": 1.55,
          "xanchor": "left",
          "xref": "x",
          "y": 21,
          "yref": "y"
         },
         {
          "align": "left",
          "font": {
           "color": "#000000"
          },
          "showarrow": false,
          "text": "10.0",
          "x": 2.55,
          "xanchor": "left",
          "xref": "x",
          "y": 21,
          "yref": "y"
         },
         {
          "align": "left",
          "font": {
           "color": "#000000"
          },
          "showarrow": false,
          "text": "24",
          "x": 3.55,
          "xanchor": "left",
          "xref": "x",
          "y": 21,
          "yref": "y"
         },
         {
          "align": "left",
          "font": {
           "color": "#000000"
          },
          "showarrow": false,
          "text": "2017-09-22",
          "x": -0.45,
          "xanchor": "left",
          "xref": "x",
          "y": 22,
          "yref": "y"
         },
         {
          "align": "left",
          "font": {
           "color": "#000000"
          },
          "showarrow": false,
          "text": "0.0",
          "x": 0.55,
          "xanchor": "left",
          "xref": "x",
          "y": 22,
          "yref": "y"
         },
         {
          "align": "left",
          "font": {
           "color": "#000000"
          },
          "showarrow": false,
          "text": "12.0",
          "x": 1.55,
          "xanchor": "left",
          "xref": "x",
          "y": 22,
          "yref": "y"
         },
         {
          "align": "left",
          "font": {
           "color": "#000000"
          },
          "showarrow": false,
          "text": "8.0",
          "x": 2.55,
          "xanchor": "left",
          "xref": "x",
          "y": 22,
          "yref": "y"
         },
         {
          "align": "left",
          "font": {
           "color": "#000000"
          },
          "showarrow": false,
          "text": "20",
          "x": 3.55,
          "xanchor": "left",
          "xref": "x",
          "y": 22,
          "yref": "y"
         },
         {
          "align": "left",
          "font": {
           "color": "#000000"
          },
          "showarrow": false,
          "text": "2017-09-23",
          "x": -0.45,
          "xanchor": "left",
          "xref": "x",
          "y": 23,
          "yref": "y"
         },
         {
          "align": "left",
          "font": {
           "color": "#000000"
          },
          "showarrow": false,
          "text": "2.0",
          "x": 0.55,
          "xanchor": "left",
          "xref": "x",
          "y": 23,
          "yref": "y"
         },
         {
          "align": "left",
          "font": {
           "color": "#000000"
          },
          "showarrow": false,
          "text": "14.0",
          "x": 1.55,
          "xanchor": "left",
          "xref": "x",
          "y": 23,
          "yref": "y"
         },
         {
          "align": "left",
          "font": {
           "color": "#000000"
          },
          "showarrow": false,
          "text": "8.0",
          "x": 2.55,
          "xanchor": "left",
          "xref": "x",
          "y": 23,
          "yref": "y"
         },
         {
          "align": "left",
          "font": {
           "color": "#000000"
          },
          "showarrow": false,
          "text": "24",
          "x": 3.55,
          "xanchor": "left",
          "xref": "x",
          "y": 23,
          "yref": "y"
         },
         {
          "align": "left",
          "font": {
           "color": "#000000"
          },
          "showarrow": false,
          "text": "2017-09-24",
          "x": -0.45,
          "xanchor": "left",
          "xref": "x",
          "y": 24,
          "yref": "y"
         },
         {
          "align": "left",
          "font": {
           "color": "#000000"
          },
          "showarrow": false,
          "text": "1.0",
          "x": 0.55,
          "xanchor": "left",
          "xref": "x",
          "y": 24,
          "yref": "y"
         },
         {
          "align": "left",
          "font": {
           "color": "#000000"
          },
          "showarrow": false,
          "text": "14.000000000000002",
          "x": 1.55,
          "xanchor": "left",
          "xref": "x",
          "y": 24,
          "yref": "y"
         },
         {
          "align": "left",
          "font": {
           "color": "#000000"
          },
          "showarrow": false,
          "text": "10.0",
          "x": 2.55,
          "xanchor": "left",
          "xref": "x",
          "y": 24,
          "yref": "y"
         },
         {
          "align": "left",
          "font": {
           "color": "#000000"
          },
          "showarrow": false,
          "text": "25",
          "x": 3.55,
          "xanchor": "left",
          "xref": "x",
          "y": 24,
          "yref": "y"
         },
         {
          "align": "left",
          "font": {
           "color": "#000000"
          },
          "showarrow": false,
          "text": "2017-09-25",
          "x": -0.45,
          "xanchor": "left",
          "xref": "x",
          "y": 25,
          "yref": "y"
         },
         {
          "align": "left",
          "font": {
           "color": "#000000"
          },
          "showarrow": false,
          "text": "1.0",
          "x": 0.55,
          "xanchor": "left",
          "xref": "x",
          "y": 25,
          "yref": "y"
         },
         {
          "align": "left",
          "font": {
           "color": "#000000"
          },
          "showarrow": false,
          "text": "14.0",
          "x": 1.55,
          "xanchor": "left",
          "xref": "x",
          "y": 25,
          "yref": "y"
         },
         {
          "align": "left",
          "font": {
           "color": "#000000"
          },
          "showarrow": false,
          "text": "7.0",
          "x": 2.55,
          "xanchor": "left",
          "xref": "x",
          "y": 25,
          "yref": "y"
         },
         {
          "align": "left",
          "font": {
           "color": "#000000"
          },
          "showarrow": false,
          "text": "22",
          "x": 3.55,
          "xanchor": "left",
          "xref": "x",
          "y": 25,
          "yref": "y"
         },
         {
          "align": "left",
          "font": {
           "color": "#000000"
          },
          "showarrow": false,
          "text": "2017-09-26",
          "x": -0.45,
          "xanchor": "left",
          "xref": "x",
          "y": 26,
          "yref": "y"
         },
         {
          "align": "left",
          "font": {
           "color": "#000000"
          },
          "showarrow": false,
          "text": "1.0",
          "x": 0.55,
          "xanchor": "left",
          "xref": "x",
          "y": 26,
          "yref": "y"
         },
         {
          "align": "left",
          "font": {
           "color": "#000000"
          },
          "showarrow": false,
          "text": "11.0",
          "x": 1.55,
          "xanchor": "left",
          "xref": "x",
          "y": 26,
          "yref": "y"
         },
         {
          "align": "left",
          "font": {
           "color": "#000000"
          },
          "showarrow": false,
          "text": "11.0",
          "x": 2.55,
          "xanchor": "left",
          "xref": "x",
          "y": 26,
          "yref": "y"
         },
         {
          "align": "left",
          "font": {
           "color": "#000000"
          },
          "showarrow": false,
          "text": "23",
          "x": 3.55,
          "xanchor": "left",
          "xref": "x",
          "y": 26,
          "yref": "y"
         },
         {
          "align": "left",
          "font": {
           "color": "#000000"
          },
          "showarrow": false,
          "text": "2017-09-27",
          "x": -0.45,
          "xanchor": "left",
          "xref": "x",
          "y": 27,
          "yref": "y"
         },
         {
          "align": "left",
          "font": {
           "color": "#000000"
          },
          "showarrow": false,
          "text": "3.0000000000000004",
          "x": 0.55,
          "xanchor": "left",
          "xref": "x",
          "y": 27,
          "yref": "y"
         },
         {
          "align": "left",
          "font": {
           "color": "#000000"
          },
          "showarrow": false,
          "text": "14.000000000000002",
          "x": 1.55,
          "xanchor": "left",
          "xref": "x",
          "y": 27,
          "yref": "y"
         },
         {
          "align": "left",
          "font": {
           "color": "#000000"
          },
          "showarrow": false,
          "text": "4.0",
          "x": 2.55,
          "xanchor": "left",
          "xref": "x",
          "y": 27,
          "yref": "y"
         },
         {
          "align": "left",
          "font": {
           "color": "#000000"
          },
          "showarrow": false,
          "text": "21",
          "x": 3.55,
          "xanchor": "left",
          "xref": "x",
          "y": 27,
          "yref": "y"
         },
         {
          "align": "left",
          "font": {
           "color": "#000000"
          },
          "showarrow": false,
          "text": "2017-09-28",
          "x": -0.45,
          "xanchor": "left",
          "xref": "x",
          "y": 28,
          "yref": "y"
         },
         {
          "align": "left",
          "font": {
           "color": "#000000"
          },
          "showarrow": false,
          "text": "2.0",
          "x": 0.55,
          "xanchor": "left",
          "xref": "x",
          "y": 28,
          "yref": "y"
         },
         {
          "align": "left",
          "font": {
           "color": "#000000"
          },
          "showarrow": false,
          "text": "14.0",
          "x": 1.55,
          "xanchor": "left",
          "xref": "x",
          "y": 28,
          "yref": "y"
         },
         {
          "align": "left",
          "font": {
           "color": "#000000"
          },
          "showarrow": false,
          "text": "8.0",
          "x": 2.55,
          "xanchor": "left",
          "xref": "x",
          "y": 28,
          "yref": "y"
         },
         {
          "align": "left",
          "font": {
           "color": "#000000"
          },
          "showarrow": false,
          "text": "24",
          "x": 3.55,
          "xanchor": "left",
          "xref": "x",
          "y": 28,
          "yref": "y"
         },
         {
          "align": "left",
          "font": {
           "color": "#000000"
          },
          "showarrow": false,
          "text": "2017-09-29",
          "x": -0.45,
          "xanchor": "left",
          "xref": "x",
          "y": 29,
          "yref": "y"
         },
         {
          "align": "left",
          "font": {
           "color": "#000000"
          },
          "showarrow": false,
          "text": "2.0",
          "x": 0.55,
          "xanchor": "left",
          "xref": "x",
          "y": 29,
          "yref": "y"
         },
         {
          "align": "left",
          "font": {
           "color": "#000000"
          },
          "showarrow": false,
          "text": "10.0",
          "x": 1.55,
          "xanchor": "left",
          "xref": "x",
          "y": 29,
          "yref": "y"
         },
         {
          "align": "left",
          "font": {
           "color": "#000000"
          },
          "showarrow": false,
          "text": "12.0",
          "x": 2.55,
          "xanchor": "left",
          "xref": "x",
          "y": 29,
          "yref": "y"
         },
         {
          "align": "left",
          "font": {
           "color": "#000000"
          },
          "showarrow": false,
          "text": "24",
          "x": 3.55,
          "xanchor": "left",
          "xref": "x",
          "y": 29,
          "yref": "y"
         },
         {
          "align": "left",
          "font": {
           "color": "#000000"
          },
          "showarrow": false,
          "text": "2017-09-30",
          "x": -0.45,
          "xanchor": "left",
          "xref": "x",
          "y": 30,
          "yref": "y"
         },
         {
          "align": "left",
          "font": {
           "color": "#000000"
          },
          "showarrow": false,
          "text": "0.0",
          "x": 0.55,
          "xanchor": "left",
          "xref": "x",
          "y": 30,
          "yref": "y"
         },
         {
          "align": "left",
          "font": {
           "color": "#000000"
          },
          "showarrow": false,
          "text": "14.0",
          "x": 1.55,
          "xanchor": "left",
          "xref": "x",
          "y": 30,
          "yref": "y"
         },
         {
          "align": "left",
          "font": {
           "color": "#000000"
          },
          "showarrow": false,
          "text": "9.0",
          "x": 2.55,
          "xanchor": "left",
          "xref": "x",
          "y": 30,
          "yref": "y"
         },
         {
          "align": "left",
          "font": {
           "color": "#000000"
          },
          "showarrow": false,
          "text": "23",
          "x": 3.55,
          "xanchor": "left",
          "xref": "x",
          "y": 30,
          "yref": "y"
         },
         {
          "align": "left",
          "font": {
           "color": "#000000"
          },
          "showarrow": false,
          "text": "2017-10-01",
          "x": -0.45,
          "xanchor": "left",
          "xref": "x",
          "y": 31,
          "yref": "y"
         },
         {
          "align": "left",
          "font": {
           "color": "#000000"
          },
          "showarrow": false,
          "text": "0.0",
          "x": 0.55,
          "xanchor": "left",
          "xref": "x",
          "y": 31,
          "yref": "y"
         },
         {
          "align": "left",
          "font": {
           "color": "#000000"
          },
          "showarrow": false,
          "text": "12.0",
          "x": 1.55,
          "xanchor": "left",
          "xref": "x",
          "y": 31,
          "yref": "y"
         },
         {
          "align": "left",
          "font": {
           "color": "#000000"
          },
          "showarrow": false,
          "text": "10.0",
          "x": 2.55,
          "xanchor": "left",
          "xref": "x",
          "y": 31,
          "yref": "y"
         },
         {
          "align": "left",
          "font": {
           "color": "#000000"
          },
          "showarrow": false,
          "text": "22",
          "x": 3.55,
          "xanchor": "left",
          "xref": "x",
          "y": 31,
          "yref": "y"
         },
         {
          "align": "left",
          "font": {
           "color": "#000000"
          },
          "showarrow": false,
          "text": "2017-10-02",
          "x": -0.45,
          "xanchor": "left",
          "xref": "x",
          "y": 32,
          "yref": "y"
         },
         {
          "align": "left",
          "font": {
           "color": "#000000"
          },
          "showarrow": false,
          "text": "1.0",
          "x": 0.55,
          "xanchor": "left",
          "xref": "x",
          "y": 32,
          "yref": "y"
         },
         {
          "align": "left",
          "font": {
           "color": "#000000"
          },
          "showarrow": false,
          "text": "14.0",
          "x": 1.55,
          "xanchor": "left",
          "xref": "x",
          "y": 32,
          "yref": "y"
         },
         {
          "align": "left",
          "font": {
           "color": "#000000"
          },
          "showarrow": false,
          "text": "8.0",
          "x": 2.55,
          "xanchor": "left",
          "xref": "x",
          "y": 32,
          "yref": "y"
         },
         {
          "align": "left",
          "font": {
           "color": "#000000"
          },
          "showarrow": false,
          "text": "23",
          "x": 3.55,
          "xanchor": "left",
          "xref": "x",
          "y": 32,
          "yref": "y"
         },
         {
          "align": "left",
          "font": {
           "color": "#000000"
          },
          "showarrow": false,
          "text": "2017-10-03",
          "x": -0.45,
          "xanchor": "left",
          "xref": "x",
          "y": 33,
          "yref": "y"
         },
         {
          "align": "left",
          "font": {
           "color": "#000000"
          },
          "showarrow": false,
          "text": "2.0",
          "x": 0.55,
          "xanchor": "left",
          "xref": "x",
          "y": 33,
          "yref": "y"
         },
         {
          "align": "left",
          "font": {
           "color": "#000000"
          },
          "showarrow": false,
          "text": "9.0",
          "x": 1.55,
          "xanchor": "left",
          "xref": "x",
          "y": 33,
          "yref": "y"
         },
         {
          "align": "left",
          "font": {
           "color": "#000000"
          },
          "showarrow": false,
          "text": "13.0",
          "x": 2.55,
          "xanchor": "left",
          "xref": "x",
          "y": 33,
          "yref": "y"
         },
         {
          "align": "left",
          "font": {
           "color": "#000000"
          },
          "showarrow": false,
          "text": "24",
          "x": 3.55,
          "xanchor": "left",
          "xref": "x",
          "y": 33,
          "yref": "y"
         },
         {
          "align": "left",
          "font": {
           "color": "#000000"
          },
          "showarrow": false,
          "text": "2017-10-04",
          "x": -0.45,
          "xanchor": "left",
          "xref": "x",
          "y": 34,
          "yref": "y"
         },
         {
          "align": "left",
          "font": {
           "color": "#000000"
          },
          "showarrow": false,
          "text": "1.0",
          "x": 0.55,
          "xanchor": "left",
          "xref": "x",
          "y": 34,
          "yref": "y"
         },
         {
          "align": "left",
          "font": {
           "color": "#000000"
          },
          "showarrow": false,
          "text": "11.0",
          "x": 1.55,
          "xanchor": "left",
          "xref": "x",
          "y": 34,
          "yref": "y"
         },
         {
          "align": "left",
          "font": {
           "color": "#000000"
          },
          "showarrow": false,
          "text": "11.0",
          "x": 2.55,
          "xanchor": "left",
          "xref": "x",
          "y": 34,
          "yref": "y"
         },
         {
          "align": "left",
          "font": {
           "color": "#000000"
          },
          "showarrow": false,
          "text": "23",
          "x": 3.55,
          "xanchor": "left",
          "xref": "x",
          "y": 34,
          "yref": "y"
         },
         {
          "align": "left",
          "font": {
           "color": "#000000"
          },
          "showarrow": false,
          "text": "2017-10-05",
          "x": -0.45,
          "xanchor": "left",
          "xref": "x",
          "y": 35,
          "yref": "y"
         },
         {
          "align": "left",
          "font": {
           "color": "#000000"
          },
          "showarrow": false,
          "text": "0.0",
          "x": 0.55,
          "xanchor": "left",
          "xref": "x",
          "y": 35,
          "yref": "y"
         },
         {
          "align": "left",
          "font": {
           "color": "#000000"
          },
          "showarrow": false,
          "text": "17.0",
          "x": 1.55,
          "xanchor": "left",
          "xref": "x",
          "y": 35,
          "yref": "y"
         },
         {
          "align": "left",
          "font": {
           "color": "#000000"
          },
          "showarrow": false,
          "text": "8.0",
          "x": 2.55,
          "xanchor": "left",
          "xref": "x",
          "y": 35,
          "yref": "y"
         },
         {
          "align": "left",
          "font": {
           "color": "#000000"
          },
          "showarrow": false,
          "text": "25",
          "x": 3.55,
          "xanchor": "left",
          "xref": "x",
          "y": 35,
          "yref": "y"
         },
         {
          "align": "left",
          "font": {
           "color": "#000000"
          },
          "showarrow": false,
          "text": "2017-10-06",
          "x": -0.45,
          "xanchor": "left",
          "xref": "x",
          "y": 36,
          "yref": "y"
         },
         {
          "align": "left",
          "font": {
           "color": "#000000"
          },
          "showarrow": false,
          "text": "3.0000000000000004",
          "x": 0.55,
          "xanchor": "left",
          "xref": "x",
          "y": 36,
          "yref": "y"
         },
         {
          "align": "left",
          "font": {
           "color": "#000000"
          },
          "showarrow": false,
          "text": "13.0",
          "x": 1.55,
          "xanchor": "left",
          "xref": "x",
          "y": 36,
          "yref": "y"
         },
         {
          "align": "left",
          "font": {
           "color": "#000000"
          },
          "showarrow": false,
          "text": "5.0",
          "x": 2.55,
          "xanchor": "left",
          "xref": "x",
          "y": 36,
          "yref": "y"
         },
         {
          "align": "left",
          "font": {
           "color": "#000000"
          },
          "showarrow": false,
          "text": "21",
          "x": 3.55,
          "xanchor": "left",
          "xref": "x",
          "y": 36,
          "yref": "y"
         },
         {
          "align": "left",
          "font": {
           "color": "#000000"
          },
          "showarrow": false,
          "text": "2017-10-07",
          "x": -0.45,
          "xanchor": "left",
          "xref": "x",
          "y": 37,
          "yref": "y"
         },
         {
          "align": "left",
          "font": {
           "color": "#000000"
          },
          "showarrow": false,
          "text": "2.0",
          "x": 0.55,
          "xanchor": "left",
          "xref": "x",
          "y": 37,
          "yref": "y"
         },
         {
          "align": "left",
          "font": {
           "color": "#000000"
          },
          "showarrow": false,
          "text": "9.0",
          "x": 1.55,
          "xanchor": "left",
          "xref": "x",
          "y": 37,
          "yref": "y"
         },
         {
          "align": "left",
          "font": {
           "color": "#000000"
          },
          "showarrow": false,
          "text": "10.0",
          "x": 2.55,
          "xanchor": "left",
          "xref": "x",
          "y": 37,
          "yref": "y"
         },
         {
          "align": "left",
          "font": {
           "color": "#000000"
          },
          "showarrow": false,
          "text": "21",
          "x": 3.55,
          "xanchor": "left",
          "xref": "x",
          "y": 37,
          "yref": "y"
         },
         {
          "align": "left",
          "font": {
           "color": "#000000"
          },
          "showarrow": false,
          "text": "2017-10-08",
          "x": -0.45,
          "xanchor": "left",
          "xref": "x",
          "y": 38,
          "yref": "y"
         },
         {
          "align": "left",
          "font": {
           "color": "#000000"
          },
          "showarrow": false,
          "text": "1.0",
          "x": 0.55,
          "xanchor": "left",
          "xref": "x",
          "y": 38,
          "yref": "y"
         },
         {
          "align": "left",
          "font": {
           "color": "#000000"
          },
          "showarrow": false,
          "text": "14.0",
          "x": 1.55,
          "xanchor": "left",
          "xref": "x",
          "y": 38,
          "yref": "y"
         },
         {
          "align": "left",
          "font": {
           "color": "#000000"
          },
          "showarrow": false,
          "text": "7.0",
          "x": 2.55,
          "xanchor": "left",
          "xref": "x",
          "y": 38,
          "yref": "y"
         },
         {
          "align": "left",
          "font": {
           "color": "#000000"
          },
          "showarrow": false,
          "text": "22",
          "x": 3.55,
          "xanchor": "left",
          "xref": "x",
          "y": 38,
          "yref": "y"
         },
         {
          "align": "left",
          "font": {
           "color": "#000000"
          },
          "showarrow": false,
          "text": "2017-10-09",
          "x": -0.45,
          "xanchor": "left",
          "xref": "x",
          "y": 39,
          "yref": "y"
         },
         {
          "align": "left",
          "font": {
           "color": "#000000"
          },
          "showarrow": false,
          "text": "2.0",
          "x": 0.55,
          "xanchor": "left",
          "xref": "x",
          "y": 39,
          "yref": "y"
         },
         {
          "align": "left",
          "font": {
           "color": "#000000"
          },
          "showarrow": false,
          "text": "11.0",
          "x": 1.55,
          "xanchor": "left",
          "xref": "x",
          "y": 39,
          "yref": "y"
         },
         {
          "align": "left",
          "font": {
           "color": "#000000"
          },
          "showarrow": false,
          "text": "12.0",
          "x": 2.55,
          "xanchor": "left",
          "xref": "x",
          "y": 39,
          "yref": "y"
         },
         {
          "align": "left",
          "font": {
           "color": "#000000"
          },
          "showarrow": false,
          "text": "25",
          "x": 3.55,
          "xanchor": "left",
          "xref": "x",
          "y": 39,
          "yref": "y"
         },
         {
          "align": "left",
          "font": {
           "color": "#000000"
          },
          "showarrow": false,
          "text": "2017-10-10",
          "x": -0.45,
          "xanchor": "left",
          "xref": "x",
          "y": 40,
          "yref": "y"
         },
         {
          "align": "left",
          "font": {
           "color": "#000000"
          },
          "showarrow": false,
          "text": "1.0",
          "x": 0.55,
          "xanchor": "left",
          "xref": "x",
          "y": 40,
          "yref": "y"
         },
         {
          "align": "left",
          "font": {
           "color": "#000000"
          },
          "showarrow": false,
          "text": "11.0",
          "x": 1.55,
          "xanchor": "left",
          "xref": "x",
          "y": 40,
          "yref": "y"
         },
         {
          "align": "left",
          "font": {
           "color": "#000000"
          },
          "showarrow": false,
          "text": "13.0",
          "x": 2.55,
          "xanchor": "left",
          "xref": "x",
          "y": 40,
          "yref": "y"
         },
         {
          "align": "left",
          "font": {
           "color": "#000000"
          },
          "showarrow": false,
          "text": "25",
          "x": 3.55,
          "xanchor": "left",
          "xref": "x",
          "y": 40,
          "yref": "y"
         },
         {
          "align": "left",
          "font": {
           "color": "#000000"
          },
          "showarrow": false,
          "text": "2017-10-11",
          "x": -0.45,
          "xanchor": "left",
          "xref": "x",
          "y": 41,
          "yref": "y"
         },
         {
          "align": "left",
          "font": {
           "color": "#000000"
          },
          "showarrow": false,
          "text": "0.0",
          "x": 0.55,
          "xanchor": "left",
          "xref": "x",
          "y": 41,
          "yref": "y"
         },
         {
          "align": "left",
          "font": {
           "color": "#000000"
          },
          "showarrow": false,
          "text": "12.999999999999998",
          "x": 1.55,
          "xanchor": "left",
          "xref": "x",
          "y": 41,
          "yref": "y"
         },
         {
          "align": "left",
          "font": {
           "color": "#000000"
          },
          "showarrow": false,
          "text": "10.0",
          "x": 2.55,
          "xanchor": "left",
          "xref": "x",
          "y": 41,
          "yref": "y"
         },
         {
          "align": "left",
          "font": {
           "color": "#000000"
          },
          "showarrow": false,
          "text": "23",
          "x": 3.55,
          "xanchor": "left",
          "xref": "x",
          "y": 41,
          "yref": "y"
         },
         {
          "align": "left",
          "font": {
           "color": "#000000"
          },
          "showarrow": false,
          "text": "2017-10-12",
          "x": -0.45,
          "xanchor": "left",
          "xref": "x",
          "y": 42,
          "yref": "y"
         },
         {
          "align": "left",
          "font": {
           "color": "#000000"
          },
          "showarrow": false,
          "text": "3.0",
          "x": 0.55,
          "xanchor": "left",
          "xref": "x",
          "y": 42,
          "yref": "y"
         },
         {
          "align": "left",
          "font": {
           "color": "#000000"
          },
          "showarrow": false,
          "text": "6.0",
          "x": 1.55,
          "xanchor": "left",
          "xref": "x",
          "y": 42,
          "yref": "y"
         },
         {
          "align": "left",
          "font": {
           "color": "#000000"
          },
          "showarrow": false,
          "text": "15.0",
          "x": 2.55,
          "xanchor": "left",
          "xref": "x",
          "y": 42,
          "yref": "y"
         },
         {
          "align": "left",
          "font": {
           "color": "#000000"
          },
          "showarrow": false,
          "text": "24",
          "x": 3.55,
          "xanchor": "left",
          "xref": "x",
          "y": 42,
          "yref": "y"
         },
         {
          "align": "left",
          "font": {
           "color": "#000000"
          },
          "showarrow": false,
          "text": "2017-10-13",
          "x": -0.45,
          "xanchor": "left",
          "xref": "x",
          "y": 43,
          "yref": "y"
         },
         {
          "align": "left",
          "font": {
           "color": "#000000"
          },
          "showarrow": false,
          "text": "3.0",
          "x": 0.55,
          "xanchor": "left",
          "xref": "x",
          "y": 43,
          "yref": "y"
         },
         {
          "align": "left",
          "font": {
           "color": "#000000"
          },
          "showarrow": false,
          "text": "22.0",
          "x": 1.55,
          "xanchor": "left",
          "xref": "x",
          "y": 43,
          "yref": "y"
         },
         {
          "align": "left",
          "font": {
           "color": "#000000"
          },
          "showarrow": false,
          "text": "2.0",
          "x": 2.55,
          "xanchor": "left",
          "xref": "x",
          "y": 43,
          "yref": "y"
         },
         {
          "align": "left",
          "font": {
           "color": "#000000"
          },
          "showarrow": false,
          "text": "27",
          "x": 3.55,
          "xanchor": "left",
          "xref": "x",
          "y": 43,
          "yref": "y"
         },
         {
          "align": "left",
          "font": {
           "color": "#000000"
          },
          "showarrow": false,
          "text": "2017-10-14",
          "x": -0.45,
          "xanchor": "left",
          "xref": "x",
          "y": 44,
          "yref": "y"
         },
         {
          "align": "left",
          "font": {
           "color": "#000000"
          },
          "showarrow": false,
          "text": "3.0",
          "x": 0.55,
          "xanchor": "left",
          "xref": "x",
          "y": 44,
          "yref": "y"
         },
         {
          "align": "left",
          "font": {
           "color": "#000000"
          },
          "showarrow": false,
          "text": "14.000000000000002",
          "x": 1.55,
          "xanchor": "left",
          "xref": "x",
          "y": 44,
          "yref": "y"
         },
         {
          "align": "left",
          "font": {
           "color": "#000000"
          },
          "showarrow": false,
          "text": "8.0",
          "x": 2.55,
          "xanchor": "left",
          "xref": "x",
          "y": 44,
          "yref": "y"
         },
         {
          "align": "left",
          "font": {
           "color": "#000000"
          },
          "showarrow": false,
          "text": "25",
          "x": 3.55,
          "xanchor": "left",
          "xref": "x",
          "y": 44,
          "yref": "y"
         },
         {
          "align": "left",
          "font": {
           "color": "#000000"
          },
          "showarrow": false,
          "text": "2017-10-15",
          "x": -0.45,
          "xanchor": "left",
          "xref": "x",
          "y": 45,
          "yref": "y"
         },
         {
          "align": "left",
          "font": {
           "color": "#000000"
          },
          "showarrow": false,
          "text": "2.0",
          "x": 0.55,
          "xanchor": "left",
          "xref": "x",
          "y": 45,
          "yref": "y"
         },
         {
          "align": "left",
          "font": {
           "color": "#000000"
          },
          "showarrow": false,
          "text": "12.0",
          "x": 1.55,
          "xanchor": "left",
          "xref": "x",
          "y": 45,
          "yref": "y"
         },
         {
          "align": "left",
          "font": {
           "color": "#000000"
          },
          "showarrow": false,
          "text": "10.0",
          "x": 2.55,
          "xanchor": "left",
          "xref": "x",
          "y": 45,
          "yref": "y"
         },
         {
          "align": "left",
          "font": {
           "color": "#000000"
          },
          "showarrow": false,
          "text": "24",
          "x": 3.55,
          "xanchor": "left",
          "xref": "x",
          "y": 45,
          "yref": "y"
         },
         {
          "align": "left",
          "font": {
           "color": "#000000"
          },
          "showarrow": false,
          "text": "2017-10-16",
          "x": -0.45,
          "xanchor": "left",
          "xref": "x",
          "y": 46,
          "yref": "y"
         },
         {
          "align": "left",
          "font": {
           "color": "#000000"
          },
          "showarrow": false,
          "text": "2.0",
          "x": 0.55,
          "xanchor": "left",
          "xref": "x",
          "y": 46,
          "yref": "y"
         },
         {
          "align": "left",
          "font": {
           "color": "#000000"
          },
          "showarrow": false,
          "text": "10.0",
          "x": 1.55,
          "xanchor": "left",
          "xref": "x",
          "y": 46,
          "yref": "y"
         },
         {
          "align": "left",
          "font": {
           "color": "#000000"
          },
          "showarrow": false,
          "text": "10.0",
          "x": 2.55,
          "xanchor": "left",
          "xref": "x",
          "y": 46,
          "yref": "y"
         },
         {
          "align": "left",
          "font": {
           "color": "#000000"
          },
          "showarrow": false,
          "text": "22",
          "x": 3.55,
          "xanchor": "left",
          "xref": "x",
          "y": 46,
          "yref": "y"
         },
         {
          "align": "left",
          "font": {
           "color": "#000000"
          },
          "showarrow": false,
          "text": "2017-10-17",
          "x": -0.45,
          "xanchor": "left",
          "xref": "x",
          "y": 47,
          "yref": "y"
         },
         {
          "align": "left",
          "font": {
           "color": "#000000"
          },
          "showarrow": false,
          "text": "4.0",
          "x": 0.55,
          "xanchor": "left",
          "xref": "x",
          "y": 47,
          "yref": "y"
         },
         {
          "align": "left",
          "font": {
           "color": "#000000"
          },
          "showarrow": false,
          "text": "13.0",
          "x": 1.55,
          "xanchor": "left",
          "xref": "x",
          "y": 47,
          "yref": "y"
         },
         {
          "align": "left",
          "font": {
           "color": "#000000"
          },
          "showarrow": false,
          "text": "10.000000000000002",
          "x": 2.55,
          "xanchor": "left",
          "xref": "x",
          "y": 47,
          "yref": "y"
         },
         {
          "align": "left",
          "font": {
           "color": "#000000"
          },
          "showarrow": false,
          "text": "27",
          "x": 3.55,
          "xanchor": "left",
          "xref": "x",
          "y": 47,
          "yref": "y"
         },
         {
          "align": "left",
          "font": {
           "color": "#000000"
          },
          "showarrow": false,
          "text": "2017-10-18",
          "x": -0.45,
          "xanchor": "left",
          "xref": "x",
          "y": 48,
          "yref": "y"
         },
         {
          "align": "left",
          "font": {
           "color": "#000000"
          },
          "showarrow": false,
          "text": "4.0",
          "x": 0.55,
          "xanchor": "left",
          "xref": "x",
          "y": 48,
          "yref": "y"
         },
         {
          "align": "left",
          "font": {
           "color": "#000000"
          },
          "showarrow": false,
          "text": "9.0",
          "x": 1.55,
          "xanchor": "left",
          "xref": "x",
          "y": 48,
          "yref": "y"
         },
         {
          "align": "left",
          "font": {
           "color": "#000000"
          },
          "showarrow": false,
          "text": "11.0",
          "x": 2.55,
          "xanchor": "left",
          "xref": "x",
          "y": 48,
          "yref": "y"
         },
         {
          "align": "left",
          "font": {
           "color": "#000000"
          },
          "showarrow": false,
          "text": "24",
          "x": 3.55,
          "xanchor": "left",
          "xref": "x",
          "y": 48,
          "yref": "y"
         },
         {
          "align": "left",
          "font": {
           "color": "#000000"
          },
          "showarrow": false,
          "text": "2017-10-19",
          "x": -0.45,
          "xanchor": "left",
          "xref": "x",
          "y": 49,
          "yref": "y"
         },
         {
          "align": "left",
          "font": {
           "color": "#000000"
          },
          "showarrow": false,
          "text": "1.0",
          "x": 0.55,
          "xanchor": "left",
          "xref": "x",
          "y": 49,
          "yref": "y"
         },
         {
          "align": "left",
          "font": {
           "color": "#000000"
          },
          "showarrow": false,
          "text": "12.0",
          "x": 1.55,
          "xanchor": "left",
          "xref": "x",
          "y": 49,
          "yref": "y"
         },
         {
          "align": "left",
          "font": {
           "color": "#000000"
          },
          "showarrow": false,
          "text": "11.0",
          "x": 2.55,
          "xanchor": "left",
          "xref": "x",
          "y": 49,
          "yref": "y"
         },
         {
          "align": "left",
          "font": {
           "color": "#000000"
          },
          "showarrow": false,
          "text": "24",
          "x": 3.55,
          "xanchor": "left",
          "xref": "x",
          "y": 49,
          "yref": "y"
         },
         {
          "align": "left",
          "font": {
           "color": "#000000"
          },
          "showarrow": false,
          "text": "2017-10-20",
          "x": -0.45,
          "xanchor": "left",
          "xref": "x",
          "y": 50,
          "yref": "y"
         },
         {
          "align": "left",
          "font": {
           "color": "#000000"
          },
          "showarrow": false,
          "text": "2.0",
          "x": 0.55,
          "xanchor": "left",
          "xref": "x",
          "y": 50,
          "yref": "y"
         },
         {
          "align": "left",
          "font": {
           "color": "#000000"
          },
          "showarrow": false,
          "text": "11.0",
          "x": 1.55,
          "xanchor": "left",
          "xref": "x",
          "y": 50,
          "yref": "y"
         },
         {
          "align": "left",
          "font": {
           "color": "#000000"
          },
          "showarrow": false,
          "text": "12.0",
          "x": 2.55,
          "xanchor": "left",
          "xref": "x",
          "y": 50,
          "yref": "y"
         },
         {
          "align": "left",
          "font": {
           "color": "#000000"
          },
          "showarrow": false,
          "text": "25",
          "x": 3.55,
          "xanchor": "left",
          "xref": "x",
          "y": 50,
          "yref": "y"
         },
         {
          "align": "left",
          "font": {
           "color": "#000000"
          },
          "showarrow": false,
          "text": "2017-10-21",
          "x": -0.45,
          "xanchor": "left",
          "xref": "x",
          "y": 51,
          "yref": "y"
         },
         {
          "align": "left",
          "font": {
           "color": "#000000"
          },
          "showarrow": false,
          "text": "4.0",
          "x": 0.55,
          "xanchor": "left",
          "xref": "x",
          "y": 51,
          "yref": "y"
         },
         {
          "align": "left",
          "font": {
           "color": "#000000"
          },
          "showarrow": false,
          "text": "8.0",
          "x": 1.55,
          "xanchor": "left",
          "xref": "x",
          "y": 51,
          "yref": "y"
         },
         {
          "align": "left",
          "font": {
           "color": "#000000"
          },
          "showarrow": false,
          "text": "14.0",
          "x": 2.55,
          "xanchor": "left",
          "xref": "x",
          "y": 51,
          "yref": "y"
         },
         {
          "align": "left",
          "font": {
           "color": "#000000"
          },
          "showarrow": false,
          "text": "26",
          "x": 3.55,
          "xanchor": "left",
          "xref": "x",
          "y": 51,
          "yref": "y"
         },
         {
          "align": "left",
          "font": {
           "color": "#000000"
          },
          "showarrow": false,
          "text": "2017-10-22",
          "x": -0.45,
          "xanchor": "left",
          "xref": "x",
          "y": 52,
          "yref": "y"
         },
         {
          "align": "left",
          "font": {
           "color": "#000000"
          },
          "showarrow": false,
          "text": "1.0000000000000002",
          "x": 0.55,
          "xanchor": "left",
          "xref": "x",
          "y": 52,
          "yref": "y"
         },
         {
          "align": "left",
          "font": {
           "color": "#000000"
          },
          "showarrow": false,
          "text": "18.0",
          "x": 1.55,
          "xanchor": "left",
          "xref": "x",
          "y": 52,
          "yref": "y"
         },
         {
          "align": "left",
          "font": {
           "color": "#000000"
          },
          "showarrow": false,
          "text": "9.0",
          "x": 2.55,
          "xanchor": "left",
          "xref": "x",
          "y": 52,
          "yref": "y"
         },
         {
          "align": "left",
          "font": {
           "color": "#000000"
          },
          "showarrow": false,
          "text": "28",
          "x": 3.55,
          "xanchor": "left",
          "xref": "x",
          "y": 52,
          "yref": "y"
         },
         {
          "align": "left",
          "font": {
           "color": "#000000"
          },
          "showarrow": false,
          "text": "2017-10-23",
          "x": -0.45,
          "xanchor": "left",
          "xref": "x",
          "y": 53,
          "yref": "y"
         },
         {
          "align": "left",
          "font": {
           "color": "#000000"
          },
          "showarrow": false,
          "text": "2.0",
          "x": 0.55,
          "xanchor": "left",
          "xref": "x",
          "y": 53,
          "yref": "y"
         },
         {
          "align": "left",
          "font": {
           "color": "#000000"
          },
          "showarrow": false,
          "text": "15.0",
          "x": 1.55,
          "xanchor": "left",
          "xref": "x",
          "y": 53,
          "yref": "y"
         },
         {
          "align": "left",
          "font": {
           "color": "#000000"
          },
          "showarrow": false,
          "text": "6.0",
          "x": 2.55,
          "xanchor": "left",
          "xref": "x",
          "y": 53,
          "yref": "y"
         },
         {
          "align": "left",
          "font": {
           "color": "#000000"
          },
          "showarrow": false,
          "text": "23",
          "x": 3.55,
          "xanchor": "left",
          "xref": "x",
          "y": 53,
          "yref": "y"
         },
         {
          "align": "left",
          "font": {
           "color": "#000000"
          },
          "showarrow": false,
          "text": "2017-10-24",
          "x": -0.45,
          "xanchor": "left",
          "xref": "x",
          "y": 54,
          "yref": "y"
         },
         {
          "align": "left",
          "font": {
           "color": "#000000"
          },
          "showarrow": false,
          "text": "3.0",
          "x": 0.55,
          "xanchor": "left",
          "xref": "x",
          "y": 54,
          "yref": "y"
         },
         {
          "align": "left",
          "font": {
           "color": "#000000"
          },
          "showarrow": false,
          "text": "11.0",
          "x": 1.55,
          "xanchor": "left",
          "xref": "x",
          "y": 54,
          "yref": "y"
         },
         {
          "align": "left",
          "font": {
           "color": "#000000"
          },
          "showarrow": false,
          "text": "9.0",
          "x": 2.55,
          "xanchor": "left",
          "xref": "x",
          "y": 54,
          "yref": "y"
         },
         {
          "align": "left",
          "font": {
           "color": "#000000"
          },
          "showarrow": false,
          "text": "23",
          "x": 3.55,
          "xanchor": "left",
          "xref": "x",
          "y": 54,
          "yref": "y"
         },
         {
          "align": "left",
          "font": {
           "color": "#000000"
          },
          "showarrow": false,
          "text": "2017-10-25",
          "x": -0.45,
          "xanchor": "left",
          "xref": "x",
          "y": 55,
          "yref": "y"
         },
         {
          "align": "left",
          "font": {
           "color": "#000000"
          },
          "showarrow": false,
          "text": "0.0",
          "x": 0.55,
          "xanchor": "left",
          "xref": "x",
          "y": 55,
          "yref": "y"
         },
         {
          "align": "left",
          "font": {
           "color": "#000000"
          },
          "showarrow": false,
          "text": "16.0",
          "x": 1.55,
          "xanchor": "left",
          "xref": "x",
          "y": 55,
          "yref": "y"
         },
         {
          "align": "left",
          "font": {
           "color": "#000000"
          },
          "showarrow": false,
          "text": "8.0",
          "x": 2.55,
          "xanchor": "left",
          "xref": "x",
          "y": 55,
          "yref": "y"
         },
         {
          "align": "left",
          "font": {
           "color": "#000000"
          },
          "showarrow": false,
          "text": "24",
          "x": 3.55,
          "xanchor": "left",
          "xref": "x",
          "y": 55,
          "yref": "y"
         },
         {
          "align": "left",
          "font": {
           "color": "#000000"
          },
          "showarrow": false,
          "text": "2017-10-26",
          "x": -0.45,
          "xanchor": "left",
          "xref": "x",
          "y": 56,
          "yref": "y"
         },
         {
          "align": "left",
          "font": {
           "color": "#000000"
          },
          "showarrow": false,
          "text": "3.0",
          "x": 0.55,
          "xanchor": "left",
          "xref": "x",
          "y": 56,
          "yref": "y"
         },
         {
          "align": "left",
          "font": {
           "color": "#000000"
          },
          "showarrow": false,
          "text": "9.0",
          "x": 1.55,
          "xanchor": "left",
          "xref": "x",
          "y": 56,
          "yref": "y"
         },
         {
          "align": "left",
          "font": {
           "color": "#000000"
          },
          "showarrow": false,
          "text": "11.0",
          "x": 2.55,
          "xanchor": "left",
          "xref": "x",
          "y": 56,
          "yref": "y"
         },
         {
          "align": "left",
          "font": {
           "color": "#000000"
          },
          "showarrow": false,
          "text": "23",
          "x": 3.55,
          "xanchor": "left",
          "xref": "x",
          "y": 56,
          "yref": "y"
         },
         {
          "align": "left",
          "font": {
           "color": "#000000"
          },
          "showarrow": false,
          "text": "2017-10-27",
          "x": -0.45,
          "xanchor": "left",
          "xref": "x",
          "y": 57,
          "yref": "y"
         },
         {
          "align": "left",
          "font": {
           "color": "#000000"
          },
          "showarrow": false,
          "text": "0.0",
          "x": 0.55,
          "xanchor": "left",
          "xref": "x",
          "y": 57,
          "yref": "y"
         },
         {
          "align": "left",
          "font": {
           "color": "#000000"
          },
          "showarrow": false,
          "text": "13.0",
          "x": 1.55,
          "xanchor": "left",
          "xref": "x",
          "y": 57,
          "yref": "y"
         },
         {
          "align": "left",
          "font": {
           "color": "#000000"
          },
          "showarrow": false,
          "text": "13.0",
          "x": 2.55,
          "xanchor": "left",
          "xref": "x",
          "y": 57,
          "yref": "y"
         },
         {
          "align": "left",
          "font": {
           "color": "#000000"
          },
          "showarrow": false,
          "text": "26",
          "x": 3.55,
          "xanchor": "left",
          "xref": "x",
          "y": 57,
          "yref": "y"
         },
         {
          "align": "left",
          "font": {
           "color": "#000000"
          },
          "showarrow": false,
          "text": "2017-10-28",
          "x": -0.45,
          "xanchor": "left",
          "xref": "x",
          "y": 58,
          "yref": "y"
         },
         {
          "align": "left",
          "font": {
           "color": "#000000"
          },
          "showarrow": false,
          "text": "3.0",
          "x": 0.55,
          "xanchor": "left",
          "xref": "x",
          "y": 58,
          "yref": "y"
         },
         {
          "align": "left",
          "font": {
           "color": "#000000"
          },
          "showarrow": false,
          "text": "15.0",
          "x": 1.55,
          "xanchor": "left",
          "xref": "x",
          "y": 58,
          "yref": "y"
         },
         {
          "align": "left",
          "font": {
           "color": "#000000"
          },
          "showarrow": false,
          "text": "5.0",
          "x": 2.55,
          "xanchor": "left",
          "xref": "x",
          "y": 58,
          "yref": "y"
         },
         {
          "align": "left",
          "font": {
           "color": "#000000"
          },
          "showarrow": false,
          "text": "23",
          "x": 3.55,
          "xanchor": "left",
          "xref": "x",
          "y": 58,
          "yref": "y"
         },
         {
          "align": "left",
          "font": {
           "color": "#000000"
          },
          "showarrow": false,
          "text": "2017-10-29",
          "x": -0.45,
          "xanchor": "left",
          "xref": "x",
          "y": 59,
          "yref": "y"
         },
         {
          "align": "left",
          "font": {
           "color": "#000000"
          },
          "showarrow": false,
          "text": "0.0",
          "x": 0.55,
          "xanchor": "left",
          "xref": "x",
          "y": 59,
          "yref": "y"
         },
         {
          "align": "left",
          "font": {
           "color": "#000000"
          },
          "showarrow": false,
          "text": "14.0",
          "x": 1.55,
          "xanchor": "left",
          "xref": "x",
          "y": 59,
          "yref": "y"
         },
         {
          "align": "left",
          "font": {
           "color": "#000000"
          },
          "showarrow": false,
          "text": "8.0",
          "x": 2.55,
          "xanchor": "left",
          "xref": "x",
          "y": 59,
          "yref": "y"
         },
         {
          "align": "left",
          "font": {
           "color": "#000000"
          },
          "showarrow": false,
          "text": "22",
          "x": 3.55,
          "xanchor": "left",
          "xref": "x",
          "y": 59,
          "yref": "y"
         },
         {
          "align": "left",
          "font": {
           "color": "#000000"
          },
          "showarrow": false,
          "text": "2017-10-30",
          "x": -0.45,
          "xanchor": "left",
          "xref": "x",
          "y": 60,
          "yref": "y"
         },
         {
          "align": "left",
          "font": {
           "color": "#000000"
          },
          "showarrow": false,
          "text": "1.0",
          "x": 0.55,
          "xanchor": "left",
          "xref": "x",
          "y": 60,
          "yref": "y"
         },
         {
          "align": "left",
          "font": {
           "color": "#000000"
          },
          "showarrow": false,
          "text": "18.0",
          "x": 1.55,
          "xanchor": "left",
          "xref": "x",
          "y": 60,
          "yref": "y"
         },
         {
          "align": "left",
          "font": {
           "color": "#000000"
          },
          "showarrow": false,
          "text": "6.0",
          "x": 2.55,
          "xanchor": "left",
          "xref": "x",
          "y": 60,
          "yref": "y"
         },
         {
          "align": "left",
          "font": {
           "color": "#000000"
          },
          "showarrow": false,
          "text": "25",
          "x": 3.55,
          "xanchor": "left",
          "xref": "x",
          "y": 60,
          "yref": "y"
         },
         {
          "align": "left",
          "font": {
           "color": "#000000"
          },
          "showarrow": false,
          "text": "2017-10-31",
          "x": -0.45,
          "xanchor": "left",
          "xref": "x",
          "y": 61,
          "yref": "y"
         },
         {
          "align": "left",
          "font": {
           "color": "#000000"
          },
          "showarrow": false,
          "text": "3.0",
          "x": 0.55,
          "xanchor": "left",
          "xref": "x",
          "y": 61,
          "yref": "y"
         },
         {
          "align": "left",
          "font": {
           "color": "#000000"
          },
          "showarrow": false,
          "text": "27.0",
          "x": 1.55,
          "xanchor": "left",
          "xref": "x",
          "y": 61,
          "yref": "y"
         },
         {
          "align": "left",
          "font": {
           "color": "#000000"
          },
          "showarrow": false,
          "text": "20.0",
          "x": 2.55,
          "xanchor": "left",
          "xref": "x",
          "y": 61,
          "yref": "y"
         },
         {
          "align": "left",
          "font": {
           "color": "#000000"
          },
          "showarrow": false,
          "text": "50",
          "x": 3.55,
          "xanchor": "left",
          "xref": "x",
          "y": 61,
          "yref": "y"
         },
         {
          "align": "left",
          "font": {
           "color": "#000000"
          },
          "showarrow": false,
          "text": "2017-11-01",
          "x": -0.45,
          "xanchor": "left",
          "xref": "x",
          "y": 62,
          "yref": "y"
         },
         {
          "align": "left",
          "font": {
           "color": "#000000"
          },
          "showarrow": false,
          "text": "9.0",
          "x": 0.55,
          "xanchor": "left",
          "xref": "x",
          "y": 62,
          "yref": "y"
         },
         {
          "align": "left",
          "font": {
           "color": "#000000"
          },
          "showarrow": false,
          "text": "38.0",
          "x": 1.55,
          "xanchor": "left",
          "xref": "x",
          "y": 62,
          "yref": "y"
         },
         {
          "align": "left",
          "font": {
           "color": "#000000"
          },
          "showarrow": false,
          "text": "31.000000000000004",
          "x": 2.55,
          "xanchor": "left",
          "xref": "x",
          "y": 62,
          "yref": "y"
         },
         {
          "align": "left",
          "font": {
           "color": "#000000"
          },
          "showarrow": false,
          "text": "78",
          "x": 3.55,
          "xanchor": "left",
          "xref": "x",
          "y": 62,
          "yref": "y"
         },
         {
          "align": "left",
          "font": {
           "color": "#000000"
          },
          "showarrow": false,
          "text": "2017-11-02",
          "x": -0.45,
          "xanchor": "left",
          "xref": "x",
          "y": 63,
          "yref": "y"
         },
         {
          "align": "left",
          "font": {
           "color": "#000000"
          },
          "showarrow": false,
          "text": "4.0",
          "x": 0.55,
          "xanchor": "left",
          "xref": "x",
          "y": 63,
          "yref": "y"
         },
         {
          "align": "left",
          "font": {
           "color": "#000000"
          },
          "showarrow": false,
          "text": "42.00000000000001",
          "x": 1.55,
          "xanchor": "left",
          "xref": "x",
          "y": 63,
          "yref": "y"
         },
         {
          "align": "left",
          "font": {
           "color": "#000000"
          },
          "showarrow": false,
          "text": "30.0",
          "x": 2.55,
          "xanchor": "left",
          "xref": "x",
          "y": 63,
          "yref": "y"
         },
         {
          "align": "left",
          "font": {
           "color": "#000000"
          },
          "showarrow": false,
          "text": "76",
          "x": 3.55,
          "xanchor": "left",
          "xref": "x",
          "y": 63,
          "yref": "y"
         },
         {
          "align": "left",
          "font": {
           "color": "#000000"
          },
          "showarrow": false,
          "text": "2017-11-03",
          "x": -0.45,
          "xanchor": "left",
          "xref": "x",
          "y": 64,
          "yref": "y"
         },
         {
          "align": "left",
          "font": {
           "color": "#000000"
          },
          "showarrow": false,
          "text": "13.0",
          "x": 0.55,
          "xanchor": "left",
          "xref": "x",
          "y": 64,
          "yref": "y"
         },
         {
          "align": "left",
          "font": {
           "color": "#000000"
          },
          "showarrow": false,
          "text": "39.0",
          "x": 1.55,
          "xanchor": "left",
          "xref": "x",
          "y": 64,
          "yref": "y"
         },
         {
          "align": "left",
          "font": {
           "color": "#000000"
          },
          "showarrow": false,
          "text": "34.0",
          "x": 2.55,
          "xanchor": "left",
          "xref": "x",
          "y": 64,
          "yref": "y"
         },
         {
          "align": "left",
          "font": {
           "color": "#000000"
          },
          "showarrow": false,
          "text": "86",
          "x": 3.55,
          "xanchor": "left",
          "xref": "x",
          "y": 64,
          "yref": "y"
         },
         {
          "align": "left",
          "font": {
           "color": "#000000"
          },
          "showarrow": false,
          "text": "2017-11-04",
          "x": -0.45,
          "xanchor": "left",
          "xref": "x",
          "y": 65,
          "yref": "y"
         },
         {
          "align": "left",
          "font": {
           "color": "#000000"
          },
          "showarrow": false,
          "text": "7.999999999999999",
          "x": 0.55,
          "xanchor": "left",
          "xref": "x",
          "y": 65,
          "yref": "y"
         },
         {
          "align": "left",
          "font": {
           "color": "#000000"
          },
          "showarrow": false,
          "text": "34.0",
          "x": 1.55,
          "xanchor": "left",
          "xref": "x",
          "y": 65,
          "yref": "y"
         },
         {
          "align": "left",
          "font": {
           "color": "#000000"
          },
          "showarrow": false,
          "text": "33.0",
          "x": 2.55,
          "xanchor": "left",
          "xref": "x",
          "y": 65,
          "yref": "y"
         },
         {
          "align": "left",
          "font": {
           "color": "#000000"
          },
          "showarrow": false,
          "text": "75",
          "x": 3.55,
          "xanchor": "left",
          "xref": "x",
          "y": 65,
          "yref": "y"
         },
         {
          "align": "left",
          "font": {
           "color": "#000000"
          },
          "showarrow": false,
          "text": "2017-11-05",
          "x": -0.45,
          "xanchor": "left",
          "xref": "x",
          "y": 66,
          "yref": "y"
         },
         {
          "align": "left",
          "font": {
           "color": "#000000"
          },
          "showarrow": false,
          "text": "7.0",
          "x": 0.55,
          "xanchor": "left",
          "xref": "x",
          "y": 66,
          "yref": "y"
         },
         {
          "align": "left",
          "font": {
           "color": "#000000"
          },
          "showarrow": false,
          "text": "33.0",
          "x": 1.55,
          "xanchor": "left",
          "xref": "x",
          "y": 66,
          "yref": "y"
         },
         {
          "align": "left",
          "font": {
           "color": "#000000"
          },
          "showarrow": false,
          "text": "40.0",
          "x": 2.55,
          "xanchor": "left",
          "xref": "x",
          "y": 66,
          "yref": "y"
         },
         {
          "align": "left",
          "font": {
           "color": "#000000"
          },
          "showarrow": false,
          "text": "80",
          "x": 3.55,
          "xanchor": "left",
          "xref": "x",
          "y": 66,
          "yref": "y"
         },
         {
          "align": "left",
          "font": {
           "color": "#000000"
          },
          "showarrow": false,
          "text": "2017-11-06",
          "x": -0.45,
          "xanchor": "left",
          "xref": "x",
          "y": 67,
          "yref": "y"
         },
         {
          "align": "left",
          "font": {
           "color": "#000000"
          },
          "showarrow": false,
          "text": "73.0",
          "x": 0.55,
          "xanchor": "left",
          "xref": "x",
          "y": 67,
          "yref": "y"
         },
         {
          "align": "left",
          "font": {
           "color": "#000000"
          },
          "showarrow": false,
          "text": "389.00000000000006",
          "x": 1.55,
          "xanchor": "left",
          "xref": "x",
          "y": 67,
          "yref": "y"
         },
         {
          "align": "left",
          "font": {
           "color": "#000000"
          },
          "showarrow": false,
          "text": "229.99999999999997",
          "x": 2.55,
          "xanchor": "left",
          "xref": "x",
          "y": 67,
          "yref": "y"
         },
         {
          "align": "left",
          "font": {
           "color": "#000000"
          },
          "showarrow": false,
          "text": "692",
          "x": 3.55,
          "xanchor": "left",
          "xref": "x",
          "y": 67,
          "yref": "y"
         },
         {
          "align": "left",
          "font": {
           "color": "#000000"
          },
          "showarrow": false,
          "text": "2017-11-07",
          "x": -0.45,
          "xanchor": "left",
          "xref": "x",
          "y": 68,
          "yref": "y"
         },
         {
          "align": "left",
          "font": {
           "color": "#000000"
          },
          "showarrow": false,
          "text": "59.00000000000001",
          "x": 0.55,
          "xanchor": "left",
          "xref": "x",
          "y": 68,
          "yref": "y"
         },
         {
          "align": "left",
          "font": {
           "color": "#000000"
          },
          "showarrow": false,
          "text": "370.00000000000006",
          "x": 1.55,
          "xanchor": "left",
          "xref": "x",
          "y": 68,
          "yref": "y"
         },
         {
          "align": "left",
          "font": {
           "color": "#000000"
          },
          "showarrow": false,
          "text": "230.99999999999997",
          "x": 2.55,
          "xanchor": "left",
          "xref": "x",
          "y": 68,
          "yref": "y"
         },
         {
          "align": "left",
          "font": {
           "color": "#000000"
          },
          "showarrow": false,
          "text": "660",
          "x": 3.55,
          "xanchor": "left",
          "xref": "x",
          "y": 68,
          "yref": "y"
         },
         {
          "align": "left",
          "font": {
           "color": "#000000"
          },
          "showarrow": false,
          "text": "2017-11-08",
          "x": -0.45,
          "xanchor": "left",
          "xref": "x",
          "y": 69,
          "yref": "y"
         },
         {
          "align": "left",
          "font": {
           "color": "#000000"
          },
          "showarrow": false,
          "text": "67.0",
          "x": 0.55,
          "xanchor": "left",
          "xref": "x",
          "y": 69,
          "yref": "y"
         },
         {
          "align": "left",
          "font": {
           "color": "#000000"
          },
          "showarrow": false,
          "text": "426.00000000000006",
          "x": 1.55,
          "xanchor": "left",
          "xref": "x",
          "y": 69,
          "yref": "y"
         },
         {
          "align": "left",
          "font": {
           "color": "#000000"
          },
          "showarrow": false,
          "text": "353.0",
          "x": 2.55,
          "xanchor": "left",
          "xref": "x",
          "y": 69,
          "yref": "y"
         },
         {
          "align": "left",
          "font": {
           "color": "#000000"
          },
          "showarrow": false,
          "text": "846",
          "x": 3.55,
          "xanchor": "left",
          "xref": "x",
          "y": 69,
          "yref": "y"
         },
         {
          "align": "left",
          "font": {
           "color": "#000000"
          },
          "showarrow": false,
          "text": "2017-11-09",
          "x": -0.45,
          "xanchor": "left",
          "xref": "x",
          "y": 70,
          "yref": "y"
         },
         {
          "align": "left",
          "font": {
           "color": "#000000"
          },
          "showarrow": false,
          "text": "57.99999999999999",
          "x": 0.55,
          "xanchor": "left",
          "xref": "x",
          "y": 70,
          "yref": "y"
         },
         {
          "align": "left",
          "font": {
           "color": "#000000"
          },
          "showarrow": false,
          "text": "382.00000000000006",
          "x": 1.55,
          "xanchor": "left",
          "xref": "x",
          "y": 70,
          "yref": "y"
         },
         {
          "align": "left",
          "font": {
           "color": "#000000"
          },
          "showarrow": false,
          "text": "253.0",
          "x": 2.55,
          "xanchor": "left",
          "xref": "x",
          "y": 70,
          "yref": "y"
         },
         {
          "align": "left",
          "font": {
           "color": "#000000"
          },
          "showarrow": false,
          "text": "693",
          "x": 3.55,
          "xanchor": "left",
          "xref": "x",
          "y": 70,
          "yref": "y"
         },
         {
          "align": "left",
          "font": {
           "color": "#000000"
          },
          "showarrow": false,
          "text": "2017-11-10",
          "x": -0.45,
          "xanchor": "left",
          "xref": "x",
          "y": 71,
          "yref": "y"
         },
         {
          "align": "left",
          "font": {
           "color": "#000000"
          },
          "showarrow": false,
          "text": "88.0",
          "x": 0.55,
          "xanchor": "left",
          "xref": "x",
          "y": 71,
          "yref": "y"
         },
         {
          "align": "left",
          "font": {
           "color": "#000000"
          },
          "showarrow": false,
          "text": "385.0",
          "x": 1.55,
          "xanchor": "left",
          "xref": "x",
          "y": 71,
          "yref": "y"
         },
         {
          "align": "left",
          "font": {
           "color": "#000000"
          },
          "showarrow": false,
          "text": "267.0",
          "x": 2.55,
          "xanchor": "left",
          "xref": "x",
          "y": 71,
          "yref": "y"
         },
         {
          "align": "left",
          "font": {
           "color": "#000000"
          },
          "showarrow": false,
          "text": "740",
          "x": 3.55,
          "xanchor": "left",
          "xref": "x",
          "y": 71,
          "yref": "y"
         },
         {
          "align": "left",
          "font": {
           "color": "#000000"
          },
          "showarrow": false,
          "text": "2017-11-11",
          "x": -0.45,
          "xanchor": "left",
          "xref": "x",
          "y": 72,
          "yref": "y"
         },
         {
          "align": "left",
          "font": {
           "color": "#000000"
          },
          "showarrow": false,
          "text": "57.0",
          "x": 0.55,
          "xanchor": "left",
          "xref": "x",
          "y": 72,
          "yref": "y"
         },
         {
          "align": "left",
          "font": {
           "color": "#000000"
          },
          "showarrow": false,
          "text": "333.0",
          "x": 1.55,
          "xanchor": "left",
          "xref": "x",
          "y": 72,
          "yref": "y"
         },
         {
          "align": "left",
          "font": {
           "color": "#000000"
          },
          "showarrow": false,
          "text": "247.0",
          "x": 2.55,
          "xanchor": "left",
          "xref": "x",
          "y": 72,
          "yref": "y"
         },
         {
          "align": "left",
          "font": {
           "color": "#000000"
          },
          "showarrow": false,
          "text": "637",
          "x": 3.55,
          "xanchor": "left",
          "xref": "x",
          "y": 72,
          "yref": "y"
         },
         {
          "align": "left",
          "font": {
           "color": "#000000"
          },
          "showarrow": false,
          "text": "2017-11-12",
          "x": -0.45,
          "xanchor": "left",
          "xref": "x",
          "y": 73,
          "yref": "y"
         },
         {
          "align": "left",
          "font": {
           "color": "#000000"
          },
          "showarrow": false,
          "text": "85.99999999999999",
          "x": 0.55,
          "xanchor": "left",
          "xref": "x",
          "y": 73,
          "yref": "y"
         },
         {
          "align": "left",
          "font": {
           "color": "#000000"
          },
          "showarrow": false,
          "text": "370.0",
          "x": 1.55,
          "xanchor": "left",
          "xref": "x",
          "y": 73,
          "yref": "y"
         },
         {
          "align": "left",
          "font": {
           "color": "#000000"
          },
          "showarrow": false,
          "text": "293.0",
          "x": 2.55,
          "xanchor": "left",
          "xref": "x",
          "y": 73,
          "yref": "y"
         },
         {
          "align": "left",
          "font": {
           "color": "#000000"
          },
          "showarrow": false,
          "text": "749",
          "x": 3.55,
          "xanchor": "left",
          "xref": "x",
          "y": 73,
          "yref": "y"
         },
         {
          "align": "left",
          "font": {
           "color": "#000000"
          },
          "showarrow": false,
          "text": "2017-11-13",
          "x": -0.45,
          "xanchor": "left",
          "xref": "x",
          "y": 74,
          "yref": "y"
         },
         {
          "align": "left",
          "font": {
           "color": "#000000"
          },
          "showarrow": false,
          "text": "88.00000000000001",
          "x": 0.55,
          "xanchor": "left",
          "xref": "x",
          "y": 74,
          "yref": "y"
         },
         {
          "align": "left",
          "font": {
           "color": "#000000"
          },
          "showarrow": false,
          "text": "438.00000000000006",
          "x": 1.55,
          "xanchor": "left",
          "xref": "x",
          "y": 74,
          "yref": "y"
         },
         {
          "align": "left",
          "font": {
           "color": "#000000"
          },
          "showarrow": false,
          "text": "305.0",
          "x": 2.55,
          "xanchor": "left",
          "xref": "x",
          "y": 74,
          "yref": "y"
         },
         {
          "align": "left",
          "font": {
           "color": "#000000"
          },
          "showarrow": false,
          "text": "831",
          "x": 3.55,
          "xanchor": "left",
          "xref": "x",
          "y": 74,
          "yref": "y"
         },
         {
          "align": "left",
          "font": {
           "color": "#000000"
          },
          "showarrow": false,
          "text": "2017-11-14",
          "x": -0.45,
          "xanchor": "left",
          "xref": "x",
          "y": 75,
          "yref": "y"
         },
         {
          "align": "left",
          "font": {
           "color": "#000000"
          },
          "showarrow": false,
          "text": "59.0",
          "x": 0.55,
          "xanchor": "left",
          "xref": "x",
          "y": 75,
          "yref": "y"
         },
         {
          "align": "left",
          "font": {
           "color": "#000000"
          },
          "showarrow": false,
          "text": "384.0",
          "x": 1.55,
          "xanchor": "left",
          "xref": "x",
          "y": 75,
          "yref": "y"
         },
         {
          "align": "left",
          "font": {
           "color": "#000000"
          },
          "showarrow": false,
          "text": "296.0",
          "x": 2.55,
          "xanchor": "left",
          "xref": "x",
          "y": 75,
          "yref": "y"
         },
         {
          "align": "left",
          "font": {
           "color": "#000000"
          },
          "showarrow": false,
          "text": "739",
          "x": 3.55,
          "xanchor": "left",
          "xref": "x",
          "y": 75,
          "yref": "y"
         },
         {
          "align": "left",
          "font": {
           "color": "#000000"
          },
          "showarrow": false,
          "text": "2017-11-15",
          "x": -0.45,
          "xanchor": "left",
          "xref": "x",
          "y": 76,
          "yref": "y"
         },
         {
          "align": "left",
          "font": {
           "color": "#000000"
          },
          "showarrow": false,
          "text": "53.99999999999999",
          "x": 0.55,
          "xanchor": "left",
          "xref": "x",
          "y": 76,
          "yref": "y"
         },
         {
          "align": "left",
          "font": {
           "color": "#000000"
          },
          "showarrow": false,
          "text": "436.0",
          "x": 1.55,
          "xanchor": "left",
          "xref": "x",
          "y": 76,
          "yref": "y"
         },
         {
          "align": "left",
          "font": {
           "color": "#000000"
          },
          "showarrow": false,
          "text": "341.00000000000006",
          "x": 2.55,
          "xanchor": "left",
          "xref": "x",
          "y": 76,
          "yref": "y"
         },
         {
          "align": "left",
          "font": {
           "color": "#000000"
          },
          "showarrow": false,
          "text": "831",
          "x": 3.55,
          "xanchor": "left",
          "xref": "x",
          "y": 76,
          "yref": "y"
         },
         {
          "align": "left",
          "font": {
           "color": "#000000"
          },
          "showarrow": false,
          "text": "2017-11-16",
          "x": -0.45,
          "xanchor": "left",
          "xref": "x",
          "y": 77,
          "yref": "y"
         },
         {
          "align": "left",
          "font": {
           "color": "#000000"
          },
          "showarrow": false,
          "text": "55.00000000000001",
          "x": 0.55,
          "xanchor": "left",
          "xref": "x",
          "y": 77,
          "yref": "y"
         },
         {
          "align": "left",
          "font": {
           "color": "#000000"
          },
          "showarrow": false,
          "text": "463.0",
          "x": 1.55,
          "xanchor": "left",
          "xref": "x",
          "y": 77,
          "yref": "y"
         },
         {
          "align": "left",
          "font": {
           "color": "#000000"
          },
          "showarrow": false,
          "text": "344.00000000000006",
          "x": 2.55,
          "xanchor": "left",
          "xref": "x",
          "y": 77,
          "yref": "y"
         },
         {
          "align": "left",
          "font": {
           "color": "#000000"
          },
          "showarrow": false,
          "text": "862",
          "x": 3.55,
          "xanchor": "left",
          "xref": "x",
          "y": 77,
          "yref": "y"
         },
         {
          "align": "left",
          "font": {
           "color": "#000000"
          },
          "showarrow": false,
          "text": "2017-11-17",
          "x": -0.45,
          "xanchor": "left",
          "xref": "x",
          "y": 78,
          "yref": "y"
         },
         {
          "align": "left",
          "font": {
           "color": "#000000"
          },
          "showarrow": false,
          "text": "68.99999999999999",
          "x": 0.55,
          "xanchor": "left",
          "xref": "x",
          "y": 78,
          "yref": "y"
         },
         {
          "align": "left",
          "font": {
           "color": "#000000"
          },
          "showarrow": false,
          "text": "454.00000000000006",
          "x": 1.55,
          "xanchor": "left",
          "xref": "x",
          "y": 78,
          "yref": "y"
         },
         {
          "align": "left",
          "font": {
           "color": "#000000"
          },
          "showarrow": false,
          "text": "339.0",
          "x": 2.55,
          "xanchor": "left",
          "xref": "x",
          "y": 78,
          "yref": "y"
         },
         {
          "align": "left",
          "font": {
           "color": "#000000"
          },
          "showarrow": false,
          "text": "862",
          "x": 3.55,
          "xanchor": "left",
          "xref": "x",
          "y": 78,
          "yref": "y"
         },
         {
          "align": "left",
          "font": {
           "color": "#000000"
          },
          "showarrow": false,
          "text": "2017-11-18",
          "x": -0.45,
          "xanchor": "left",
          "xref": "x",
          "y": 79,
          "yref": "y"
         },
         {
          "align": "left",
          "font": {
           "color": "#000000"
          },
          "showarrow": false,
          "text": "54.00000000000001",
          "x": 0.55,
          "xanchor": "left",
          "xref": "x",
          "y": 79,
          "yref": "y"
         },
         {
          "align": "left",
          "font": {
           "color": "#000000"
          },
          "showarrow": false,
          "text": "320.00000000000006",
          "x": 1.55,
          "xanchor": "left",
          "xref": "x",
          "y": 79,
          "yref": "y"
         },
         {
          "align": "left",
          "font": {
           "color": "#000000"
          },
          "showarrow": false,
          "text": "271.0",
          "x": 2.55,
          "xanchor": "left",
          "xref": "x",
          "y": 79,
          "yref": "y"
         },
         {
          "align": "left",
          "font": {
           "color": "#000000"
          },
          "showarrow": false,
          "text": "645",
          "x": 3.55,
          "xanchor": "left",
          "xref": "x",
          "y": 79,
          "yref": "y"
         },
         {
          "align": "left",
          "font": {
           "color": "#000000"
          },
          "showarrow": false,
          "text": "2017-11-19",
          "x": -0.45,
          "xanchor": "left",
          "xref": "x",
          "y": 80,
          "yref": "y"
         },
         {
          "align": "left",
          "font": {
           "color": "#000000"
          },
          "showarrow": false,
          "text": "42.0",
          "x": 0.55,
          "xanchor": "left",
          "xref": "x",
          "y": 80,
          "yref": "y"
         },
         {
          "align": "left",
          "font": {
           "color": "#000000"
          },
          "showarrow": false,
          "text": "340.0",
          "x": 1.55,
          "xanchor": "left",
          "xref": "x",
          "y": 80,
          "yref": "y"
         },
         {
          "align": "left",
          "font": {
           "color": "#000000"
          },
          "showarrow": false,
          "text": "239.0",
          "x": 2.55,
          "xanchor": "left",
          "xref": "x",
          "y": 80,
          "yref": "y"
         },
         {
          "align": "left",
          "font": {
           "color": "#000000"
          },
          "showarrow": false,
          "text": "621",
          "x": 3.55,
          "xanchor": "left",
          "xref": "x",
          "y": 80,
          "yref": "y"
         },
         {
          "align": "left",
          "font": {
           "color": "#000000"
          },
          "showarrow": false,
          "text": "2017-11-20",
          "x": -0.45,
          "xanchor": "left",
          "xref": "x",
          "y": 81,
          "yref": "y"
         },
         {
          "align": "left",
          "font": {
           "color": "#000000"
          },
          "showarrow": false,
          "text": "65.0",
          "x": 0.55,
          "xanchor": "left",
          "xref": "x",
          "y": 81,
          "yref": "y"
         },
         {
          "align": "left",
          "font": {
           "color": "#000000"
          },
          "showarrow": false,
          "text": "477.0",
          "x": 1.55,
          "xanchor": "left",
          "xref": "x",
          "y": 81,
          "yref": "y"
         },
         {
          "align": "left",
          "font": {
           "color": "#000000"
          },
          "showarrow": false,
          "text": "319.0",
          "x": 2.55,
          "xanchor": "left",
          "xref": "x",
          "y": 81,
          "yref": "y"
         },
         {
          "align": "left",
          "font": {
           "color": "#000000"
          },
          "showarrow": false,
          "text": "861",
          "x": 3.55,
          "xanchor": "left",
          "xref": "x",
          "y": 81,
          "yref": "y"
         },
         {
          "align": "left",
          "font": {
           "color": "#000000"
          },
          "showarrow": false,
          "text": "2017-11-21",
          "x": -0.45,
          "xanchor": "left",
          "xref": "x",
          "y": 82,
          "yref": "y"
         },
         {
          "align": "left",
          "font": {
           "color": "#000000"
          },
          "showarrow": false,
          "text": "34.99999999999999",
          "x": 0.55,
          "xanchor": "left",
          "xref": "x",
          "y": 82,
          "yref": "y"
         },
         {
          "align": "left",
          "font": {
           "color": "#000000"
          },
          "showarrow": false,
          "text": "154.99999999999997",
          "x": 1.55,
          "xanchor": "left",
          "xref": "x",
          "y": 82,
          "yref": "y"
         },
         {
          "align": "left",
          "font": {
           "color": "#000000"
          },
          "showarrow": false,
          "text": "109.99999999999999",
          "x": 2.55,
          "xanchor": "left",
          "xref": "x",
          "y": 82,
          "yref": "y"
         },
         {
          "align": "left",
          "font": {
           "color": "#000000"
          },
          "showarrow": false,
          "text": "300",
          "x": 3.55,
          "xanchor": "left",
          "xref": "x",
          "y": 82,
          "yref": "y"
         },
         {
          "align": "left",
          "font": {
           "color": "#000000"
          },
          "showarrow": false,
          "text": "2017-11-22",
          "x": -0.45,
          "xanchor": "left",
          "xref": "x",
          "y": 83,
          "yref": "y"
         },
         {
          "align": "left",
          "font": {
           "color": "#000000"
          },
          "showarrow": false,
          "text": "72.0",
          "x": 0.55,
          "xanchor": "left",
          "xref": "x",
          "y": 83,
          "yref": "y"
         },
         {
          "align": "left",
          "font": {
           "color": "#000000"
          },
          "showarrow": false,
          "text": "439.0",
          "x": 1.55,
          "xanchor": "left",
          "xref": "x",
          "y": 83,
          "yref": "y"
         },
         {
          "align": "left",
          "font": {
           "color": "#000000"
          },
          "showarrow": false,
          "text": "377.0",
          "x": 2.55,
          "xanchor": "left",
          "xref": "x",
          "y": 83,
          "yref": "y"
         },
         {
          "align": "left",
          "font": {
           "color": "#000000"
          },
          "showarrow": false,
          "text": "888",
          "x": 3.55,
          "xanchor": "left",
          "xref": "x",
          "y": 83,
          "yref": "y"
         },
         {
          "align": "left",
          "font": {
           "color": "#000000"
          },
          "showarrow": false,
          "text": "2017-11-23",
          "x": -0.45,
          "xanchor": "left",
          "xref": "x",
          "y": 84,
          "yref": "y"
         },
         {
          "align": "left",
          "font": {
           "color": "#000000"
          },
          "showarrow": false,
          "text": "70.0",
          "x": 0.55,
          "xanchor": "left",
          "xref": "x",
          "y": 84,
          "yref": "y"
         },
         {
          "align": "left",
          "font": {
           "color": "#000000"
          },
          "showarrow": false,
          "text": "373.0",
          "x": 1.55,
          "xanchor": "left",
          "xref": "x",
          "y": 84,
          "yref": "y"
         },
         {
          "align": "left",
          "font": {
           "color": "#000000"
          },
          "showarrow": false,
          "text": "303.0",
          "x": 2.55,
          "xanchor": "left",
          "xref": "x",
          "y": 84,
          "yref": "y"
         },
         {
          "align": "left",
          "font": {
           "color": "#000000"
          },
          "showarrow": false,
          "text": "746",
          "x": 3.55,
          "xanchor": "left",
          "xref": "x",
          "y": 84,
          "yref": "y"
         },
         {
          "align": "left",
          "font": {
           "color": "#000000"
          },
          "showarrow": false,
          "text": "2017-11-24",
          "x": -0.45,
          "xanchor": "left",
          "xref": "x",
          "y": 85,
          "yref": "y"
         },
         {
          "align": "left",
          "font": {
           "color": "#000000"
          },
          "showarrow": false,
          "text": "57.00000000000001",
          "x": 0.55,
          "xanchor": "left",
          "xref": "x",
          "y": 85,
          "yref": "y"
         },
         {
          "align": "left",
          "font": {
           "color": "#000000"
          },
          "showarrow": false,
          "text": "350.0",
          "x": 1.55,
          "xanchor": "left",
          "xref": "x",
          "y": 85,
          "yref": "y"
         },
         {
          "align": "left",
          "font": {
           "color": "#000000"
          },
          "showarrow": false,
          "text": "298.00000000000006",
          "x": 2.55,
          "xanchor": "left",
          "xref": "x",
          "y": 85,
          "yref": "y"
         },
         {
          "align": "left",
          "font": {
           "color": "#000000"
          },
          "showarrow": false,
          "text": "705",
          "x": 3.55,
          "xanchor": "left",
          "xref": "x",
          "y": 85,
          "yref": "y"
         },
         {
          "align": "left",
          "font": {
           "color": "#000000"
          },
          "showarrow": false,
          "text": "2017-11-25",
          "x": -0.45,
          "xanchor": "left",
          "xref": "x",
          "y": 86,
          "yref": "y"
         },
         {
          "align": "left",
          "font": {
           "color": "#000000"
          },
          "showarrow": false,
          "text": "54.0",
          "x": 0.55,
          "xanchor": "left",
          "xref": "x",
          "y": 86,
          "yref": "y"
         },
         {
          "align": "left",
          "font": {
           "color": "#000000"
          },
          "showarrow": false,
          "text": "380.0",
          "x": 1.55,
          "xanchor": "left",
          "xref": "x",
          "y": 86,
          "yref": "y"
         },
         {
          "align": "left",
          "font": {
           "color": "#000000"
          },
          "showarrow": false,
          "text": "270.0",
          "x": 2.55,
          "xanchor": "left",
          "xref": "x",
          "y": 86,
          "yref": "y"
         },
         {
          "align": "left",
          "font": {
           "color": "#000000"
          },
          "showarrow": false,
          "text": "704",
          "x": 3.55,
          "xanchor": "left",
          "xref": "x",
          "y": 86,
          "yref": "y"
         },
         {
          "align": "left",
          "font": {
           "color": "#000000"
          },
          "showarrow": false,
          "text": "2017-11-26",
          "x": -0.45,
          "xanchor": "left",
          "xref": "x",
          "y": 87,
          "yref": "y"
         },
         {
          "align": "left",
          "font": {
           "color": "#000000"
          },
          "showarrow": false,
          "text": "69.0",
          "x": 0.55,
          "xanchor": "left",
          "xref": "x",
          "y": 87,
          "yref": "y"
         },
         {
          "align": "left",
          "font": {
           "color": "#000000"
          },
          "showarrow": false,
          "text": "446.0",
          "x": 1.55,
          "xanchor": "left",
          "xref": "x",
          "y": 87,
          "yref": "y"
         },
         {
          "align": "left",
          "font": {
           "color": "#000000"
          },
          "showarrow": false,
          "text": "362.0",
          "x": 2.55,
          "xanchor": "left",
          "xref": "x",
          "y": 87,
          "yref": "y"
         },
         {
          "align": "left",
          "font": {
           "color": "#000000"
          },
          "showarrow": false,
          "text": "877",
          "x": 3.55,
          "xanchor": "left",
          "xref": "x",
          "y": 87,
          "yref": "y"
         },
         {
          "align": "left",
          "font": {
           "color": "#000000"
          },
          "showarrow": false,
          "text": "2017-11-27",
          "x": -0.45,
          "xanchor": "left",
          "xref": "x",
          "y": 88,
          "yref": "y"
         },
         {
          "align": "left",
          "font": {
           "color": "#000000"
          },
          "showarrow": false,
          "text": "93.0",
          "x": 0.55,
          "xanchor": "left",
          "xref": "x",
          "y": 88,
          "yref": "y"
         },
         {
          "align": "left",
          "font": {
           "color": "#000000"
          },
          "showarrow": false,
          "text": "609.0000000000001",
          "x": 1.55,
          "xanchor": "left",
          "xref": "x",
          "y": 88,
          "yref": "y"
         },
         {
          "align": "left",
          "font": {
           "color": "#000000"
          },
          "showarrow": false,
          "text": "471.00000000000006",
          "x": 2.55,
          "xanchor": "left",
          "xref": "x",
          "y": 88,
          "yref": "y"
         },
         {
          "align": "left",
          "font": {
           "color": "#000000"
          },
          "showarrow": false,
          "text": "1173",
          "x": 3.55,
          "xanchor": "left",
          "xref": "x",
          "y": 88,
          "yref": "y"
         },
         {
          "align": "left",
          "font": {
           "color": "#000000"
          },
          "showarrow": false,
          "text": "2017-11-28",
          "x": -0.45,
          "xanchor": "left",
          "xref": "x",
          "y": 89,
          "yref": "y"
         },
         {
          "align": "left",
          "font": {
           "color": "#000000"
          },
          "showarrow": false,
          "text": "121.0",
          "x": 0.55,
          "xanchor": "left",
          "xref": "x",
          "y": 89,
          "yref": "y"
         },
         {
          "align": "left",
          "font": {
           "color": "#000000"
          },
          "showarrow": false,
          "text": "639.0000000000001",
          "x": 1.55,
          "xanchor": "left",
          "xref": "x",
          "y": 89,
          "yref": "y"
         },
         {
          "align": "left",
          "font": {
           "color": "#000000"
          },
          "showarrow": false,
          "text": "477.99999999999994",
          "x": 2.55,
          "xanchor": "left",
          "xref": "x",
          "y": 89,
          "yref": "y"
         },
         {
          "align": "left",
          "font": {
           "color": "#000000"
          },
          "showarrow": false,
          "text": "1238",
          "x": 3.55,
          "xanchor": "left",
          "xref": "x",
          "y": 89,
          "yref": "y"
         },
         {
          "align": "left",
          "font": {
           "color": "#000000"
          },
          "showarrow": false,
          "text": "2017-11-29",
          "x": -0.45,
          "xanchor": "left",
          "xref": "x",
          "y": 90,
          "yref": "y"
         },
         {
          "align": "left",
          "font": {
           "color": "#000000"
          },
          "showarrow": false,
          "text": "195.0",
          "x": 0.55,
          "xanchor": "left",
          "xref": "x",
          "y": 90,
          "yref": "y"
         },
         {
          "align": "left",
          "font": {
           "color": "#000000"
          },
          "showarrow": false,
          "text": "987.0000000000001",
          "x": 1.55,
          "xanchor": "left",
          "xref": "x",
          "y": 90,
          "yref": "y"
         },
         {
          "align": "left",
          "font": {
           "color": "#000000"
          },
          "showarrow": false,
          "text": "656.0",
          "x": 2.55,
          "xanchor": "left",
          "xref": "x",
          "y": 90,
          "yref": "y"
         },
         {
          "align": "left",
          "font": {
           "color": "#000000"
          },
          "showarrow": false,
          "text": "1838",
          "x": 3.55,
          "xanchor": "left",
          "xref": "x",
          "y": 90,
          "yref": "y"
         },
         {
          "align": "left",
          "font": {
           "color": "#000000"
          },
          "showarrow": false,
          "text": "2017-11-30",
          "x": -0.45,
          "xanchor": "left",
          "xref": "x",
          "y": 91,
          "yref": "y"
         },
         {
          "align": "left",
          "font": {
           "color": "#000000"
          },
          "showarrow": false,
          "text": "139.0",
          "x": 0.55,
          "xanchor": "left",
          "xref": "x",
          "y": 91,
          "yref": "y"
         },
         {
          "align": "left",
          "font": {
           "color": "#000000"
          },
          "showarrow": false,
          "text": "660.0000000000001",
          "x": 1.55,
          "xanchor": "left",
          "xref": "x",
          "y": 91,
          "yref": "y"
         },
         {
          "align": "left",
          "font": {
           "color": "#000000"
          },
          "showarrow": false,
          "text": "460.0",
          "x": 2.55,
          "xanchor": "left",
          "xref": "x",
          "y": 91,
          "yref": "y"
         },
         {
          "align": "left",
          "font": {
           "color": "#000000"
          },
          "showarrow": false,
          "text": "1259",
          "x": 3.55,
          "xanchor": "left",
          "xref": "x",
          "y": 91,
          "yref": "y"
         },
         {
          "align": "left",
          "font": {
           "color": "#000000"
          },
          "showarrow": false,
          "text": "2017-11-30",
          "x": -0.45,
          "xanchor": "left",
          "xref": "x",
          "y": 92,
          "yref": "y"
         },
         {
          "align": "left",
          "font": {
           "color": "#000000"
          },
          "showarrow": false,
          "text": "139.0",
          "x": 0.55,
          "xanchor": "left",
          "xref": "x",
          "y": 92,
          "yref": "y"
         },
         {
          "align": "left",
          "font": {
           "color": "#000000"
          },
          "showarrow": false,
          "text": "661.0",
          "x": 1.55,
          "xanchor": "left",
          "xref": "x",
          "y": 92,
          "yref": "y"
         },
         {
          "align": "left",
          "font": {
           "color": "#000000"
          },
          "showarrow": false,
          "text": "459.0",
          "x": 2.55,
          "xanchor": "left",
          "xref": "x",
          "y": 92,
          "yref": "y"
         },
         {
          "align": "left",
          "font": {
           "color": "#000000"
          },
          "showarrow": false,
          "text": "1259",
          "x": 3.55,
          "xanchor": "left",
          "xref": "x",
          "y": 92,
          "yref": "y"
         }
        ],
        "height": 2840,
        "margin": {
         "b": 0,
         "l": 0,
         "r": 0,
         "t": 0
        },
        "xaxis": {
         "dtick": 1,
         "gridwidth": 2,
         "showticklabels": false,
         "tick0": -0.5,
         "ticks": "",
         "zeroline": false
        },
        "yaxis": {
         "autorange": "reversed",
         "dtick": 1,
         "gridwidth": 2,
         "showticklabels": false,
         "tick0": 0.5,
         "ticks": "",
         "zeroline": false
        }
       }
      },
      "text/html": [
       "<div id=\"36e79efe-e7b8-4078-9541-0534ed3be51b\" style=\"height: 2840px; width: 100%;\" class=\"plotly-graph-div\"></div><script type=\"text/javascript\">require([\"plotly\"], function(Plotly) { window.PLOTLYENV=window.PLOTLYENV || {};window.PLOTLYENV.BASE_URL=\"https://plot.ly\";Plotly.newPlot(\"36e79efe-e7b8-4078-9541-0534ed3be51b\", [{\"colorscale\": [[0, \"#00083e\"], [0.5, \"#ededee\"], [1, \"#ffffff\"]], \"hoverinfo\": \"none\", \"opacity\": 0.75, \"showscale\": false, \"z\": [[0, 0, 0, 0, 0], [0.5, 0.5, 0.5, 0.5, 0.5], [1, 1, 1, 1, 1], [0.5, 0.5, 0.5, 0.5, 0.5], [1, 1, 1, 1, 1], [0.5, 0.5, 0.5, 0.5, 0.5], [1, 1, 1, 1, 1], [0.5, 0.5, 0.5, 0.5, 0.5], [1, 1, 1, 1, 1], [0.5, 0.5, 0.5, 0.5, 0.5], [1, 1, 1, 1, 1], [0.5, 0.5, 0.5, 0.5, 0.5], [1, 1, 1, 1, 1], [0.5, 0.5, 0.5, 0.5, 0.5], [1, 1, 1, 1, 1], [0.5, 0.5, 0.5, 0.5, 0.5], [1, 1, 1, 1, 1], [0.5, 0.5, 0.5, 0.5, 0.5], [1, 1, 1, 1, 1], [0.5, 0.5, 0.5, 0.5, 0.5], [1, 1, 1, 1, 1], [0.5, 0.5, 0.5, 0.5, 0.5], [1, 1, 1, 1, 1], [0.5, 0.5, 0.5, 0.5, 0.5], [1, 1, 1, 1, 1], [0.5, 0.5, 0.5, 0.5, 0.5], [1, 1, 1, 1, 1], [0.5, 0.5, 0.5, 0.5, 0.5], [1, 1, 1, 1, 1], [0.5, 0.5, 0.5, 0.5, 0.5], [1, 1, 1, 1, 1], [0.5, 0.5, 0.5, 0.5, 0.5], [1, 1, 1, 1, 1], [0.5, 0.5, 0.5, 0.5, 0.5], [1, 1, 1, 1, 1], [0.5, 0.5, 0.5, 0.5, 0.5], [1, 1, 1, 1, 1], [0.5, 0.5, 0.5, 0.5, 0.5], [1, 1, 1, 1, 1], [0.5, 0.5, 0.5, 0.5, 0.5], [1, 1, 1, 1, 1], [0.5, 0.5, 0.5, 0.5, 0.5], [1, 1, 1, 1, 1], [0.5, 0.5, 0.5, 0.5, 0.5], [1, 1, 1, 1, 1], [0.5, 0.5, 0.5, 0.5, 0.5], [1, 1, 1, 1, 1], [0.5, 0.5, 0.5, 0.5, 0.5], [1, 1, 1, 1, 1], [0.5, 0.5, 0.5, 0.5, 0.5], [1, 1, 1, 1, 1], [0.5, 0.5, 0.5, 0.5, 0.5], [1, 1, 1, 1, 1], [0.5, 0.5, 0.5, 0.5, 0.5], [1, 1, 1, 1, 1], [0.5, 0.5, 0.5, 0.5, 0.5], [1, 1, 1, 1, 1], [0.5, 0.5, 0.5, 0.5, 0.5], [1, 1, 1, 1, 1], [0.5, 0.5, 0.5, 0.5, 0.5], [1, 1, 1, 1, 1], [0.5, 0.5, 0.5, 0.5, 0.5], [1, 1, 1, 1, 1], [0.5, 0.5, 0.5, 0.5, 0.5], [1, 1, 1, 1, 1], [0.5, 0.5, 0.5, 0.5, 0.5], [1, 1, 1, 1, 1], [0.5, 0.5, 0.5, 0.5, 0.5], [1, 1, 1, 1, 1], [0.5, 0.5, 0.5, 0.5, 0.5], [1, 1, 1, 1, 1], [0.5, 0.5, 0.5, 0.5, 0.5], [1, 1, 1, 1, 1], [0.5, 0.5, 0.5, 0.5, 0.5], [1, 1, 1, 1, 1], [0.5, 0.5, 0.5, 0.5, 0.5], [1, 1, 1, 1, 1], [0.5, 0.5, 0.5, 0.5, 0.5], [1, 1, 1, 1, 1], [0.5, 0.5, 0.5, 0.5, 0.5], [1, 1, 1, 1, 1], [0.5, 0.5, 0.5, 0.5, 0.5], [1, 1, 1, 1, 1], [0.5, 0.5, 0.5, 0.5, 0.5], [1, 1, 1, 1, 1], [0.5, 0.5, 0.5, 0.5, 0.5], [1, 1, 1, 1, 1], [0.5, 0.5, 0.5, 0.5, 0.5], [1, 1, 1, 1, 1], [0.5, 0.5, 0.5, 0.5, 0.5], [1, 1, 1, 1, 1], [0.5, 0.5, 0.5, 0.5, 0.5], [1, 1, 1, 1, 1]], \"type\": \"heatmap\", \"uid\": \"ec67835a-480d-4850-9cbd-df4923b67fda\"}], {\"annotations\": [{\"align\": \"left\", \"font\": {\"color\": \"#ffffff\"}, \"showarrow\": false, \"text\": \"<b>date</b>\", \"x\": -0.45, \"xanchor\": \"left\", \"xref\": \"x\", \"y\": 0, \"yref\": \"y\"}, {\"align\": \"left\", \"font\": {\"color\": \"#ffffff\"}, \"showarrow\": false, \"text\": \"<b>negative</b>\", \"x\": 0.55, \"xanchor\": \"left\", \"xref\": \"x\", \"y\": 0, \"yref\": \"y\"}, {\"align\": \"left\", \"font\": {\"color\": \"#ffffff\"}, \"showarrow\": false, \"text\": \"<b>neutral</b>\", \"x\": 1.55, \"xanchor\": \"left\", \"xref\": \"x\", \"y\": 0, \"yref\": \"y\"}, {\"align\": \"left\", \"font\": {\"color\": \"#ffffff\"}, \"showarrow\": false, \"text\": \"<b>positive</b>\", \"x\": 2.55, \"xanchor\": \"left\", \"xref\": \"x\", \"y\": 0, \"yref\": \"y\"}, {\"align\": \"left\", \"font\": {\"color\": \"#ffffff\"}, \"showarrow\": false, \"text\": \"<b>total</b>\", \"x\": 3.55, \"xanchor\": \"left\", \"xref\": \"x\", \"y\": 0, \"yref\": \"y\"}, {\"align\": \"left\", \"font\": {\"color\": \"#000000\"}, \"showarrow\": false, \"text\": \"2017-09-01\", \"x\": -0.45, \"xanchor\": \"left\", \"xref\": \"x\", \"y\": 1, \"yref\": \"y\"}, {\"align\": \"left\", \"font\": {\"color\": \"#000000\"}, \"showarrow\": false, \"text\": \"6.999999999999999\", \"x\": 0.55, \"xanchor\": \"left\", \"xref\": \"x\", \"y\": 1, \"yref\": \"y\"}, {\"align\": \"left\", \"font\": {\"color\": \"#000000\"}, \"showarrow\": false, \"text\": \"29.0\", \"x\": 1.55, \"xanchor\": \"left\", \"xref\": \"x\", \"y\": 1, \"yref\": \"y\"}, {\"align\": \"left\", \"font\": {\"color\": \"#000000\"}, \"showarrow\": false, \"text\": \"36.0\", \"x\": 2.55, \"xanchor\": \"left\", \"xref\": \"x\", \"y\": 1, \"yref\": \"y\"}, {\"align\": \"left\", \"font\": {\"color\": \"#000000\"}, \"showarrow\": false, \"text\": \"72\", \"x\": 3.55, \"xanchor\": \"left\", \"xref\": \"x\", \"y\": 1, \"yref\": \"y\"}, {\"align\": \"left\", \"font\": {\"color\": \"#000000\"}, \"showarrow\": false, \"text\": \"2017-09-02\", \"x\": -0.45, \"xanchor\": \"left\", \"xref\": \"x\", \"y\": 2, \"yref\": \"y\"}, {\"align\": \"left\", \"font\": {\"color\": \"#000000\"}, \"showarrow\": false, \"text\": \"3.9999999999999996\", \"x\": 0.55, \"xanchor\": \"left\", \"xref\": \"x\", \"y\": 2, \"yref\": \"y\"}, {\"align\": \"left\", \"font\": {\"color\": \"#000000\"}, \"showarrow\": false, \"text\": \"45.0\", \"x\": 1.55, \"xanchor\": \"left\", \"xref\": \"x\", \"y\": 2, \"yref\": \"y\"}, {\"align\": \"left\", \"font\": {\"color\": \"#000000\"}, \"showarrow\": false, \"text\": \"25.0\", \"x\": 2.55, \"xanchor\": \"left\", \"xref\": \"x\", \"y\": 2, \"yref\": \"y\"}, {\"align\": \"left\", \"font\": {\"color\": \"#000000\"}, \"showarrow\": false, \"text\": \"74\", \"x\": 3.55, \"xanchor\": \"left\", \"xref\": \"x\", \"y\": 2, \"yref\": \"y\"}, {\"align\": \"left\", \"font\": {\"color\": \"#000000\"}, \"showarrow\": false, \"text\": \"2017-09-03\", \"x\": -0.45, \"xanchor\": \"left\", \"xref\": \"x\", \"y\": 3, \"yref\": \"y\"}, {\"align\": \"left\", \"font\": {\"color\": \"#000000\"}, \"showarrow\": false, \"text\": \"5.0\", \"x\": 0.55, \"xanchor\": \"left\", \"xref\": \"x\", \"y\": 3, \"yref\": \"y\"}, {\"align\": \"left\", \"font\": {\"color\": \"#000000\"}, \"showarrow\": false, \"text\": \"43.0\", \"x\": 1.55, \"xanchor\": \"left\", \"xref\": \"x\", \"y\": 3, \"yref\": \"y\"}, {\"align\": \"left\", \"font\": {\"color\": \"#000000\"}, \"showarrow\": false, \"text\": \"27.0\", \"x\": 2.55, \"xanchor\": \"left\", \"xref\": \"x\", \"y\": 3, \"yref\": \"y\"}, {\"align\": \"left\", \"font\": {\"color\": \"#000000\"}, \"showarrow\": false, \"text\": \"75\", \"x\": 3.55, \"xanchor\": \"left\", \"xref\": \"x\", \"y\": 3, \"yref\": \"y\"}, {\"align\": \"left\", \"font\": {\"color\": \"#000000\"}, \"showarrow\": false, \"text\": \"2017-09-04\", \"x\": -0.45, \"xanchor\": \"left\", \"xref\": \"x\", \"y\": 4, \"yref\": \"y\"}, {\"align\": \"left\", \"font\": {\"color\": \"#000000\"}, \"showarrow\": false, \"text\": \"6.0\", \"x\": 0.55, \"xanchor\": \"left\", \"xref\": \"x\", \"y\": 4, \"yref\": \"y\"}, {\"align\": \"left\", \"font\": {\"color\": \"#000000\"}, \"showarrow\": false, \"text\": \"33.0\", \"x\": 1.55, \"xanchor\": \"left\", \"xref\": \"x\", \"y\": 4, \"yref\": \"y\"}, {\"align\": \"left\", \"font\": {\"color\": \"#000000\"}, \"showarrow\": false, \"text\": \"16.0\", \"x\": 2.55, \"xanchor\": \"left\", \"xref\": \"x\", \"y\": 4, \"yref\": \"y\"}, {\"align\": \"left\", \"font\": {\"color\": \"#000000\"}, \"showarrow\": false, \"text\": \"55\", \"x\": 3.55, \"xanchor\": \"left\", \"xref\": \"x\", \"y\": 4, \"yref\": \"y\"}, {\"align\": \"left\", \"font\": {\"color\": \"#000000\"}, \"showarrow\": false, \"text\": \"2017-09-05\", \"x\": -0.45, \"xanchor\": \"left\", \"xref\": \"x\", \"y\": 5, \"yref\": \"y\"}, {\"align\": \"left\", \"font\": {\"color\": \"#000000\"}, \"showarrow\": false, \"text\": \"0.0\", \"x\": 0.55, \"xanchor\": \"left\", \"xref\": \"x\", \"y\": 5, \"yref\": \"y\"}, {\"align\": \"left\", \"font\": {\"color\": \"#000000\"}, \"showarrow\": false, \"text\": \"13.0\", \"x\": 1.55, \"xanchor\": \"left\", \"xref\": \"x\", \"y\": 5, \"yref\": \"y\"}, {\"align\": \"left\", \"font\": {\"color\": \"#000000\"}, \"showarrow\": false, \"text\": \"11.0\", \"x\": 2.55, \"xanchor\": \"left\", \"xref\": \"x\", \"y\": 5, \"yref\": \"y\"}, {\"align\": \"left\", \"font\": {\"color\": \"#000000\"}, \"showarrow\": false, \"text\": \"24\", \"x\": 3.55, \"xanchor\": \"left\", \"xref\": \"x\", \"y\": 5, \"yref\": \"y\"}, {\"align\": \"left\", \"font\": {\"color\": \"#000000\"}, \"showarrow\": false, \"text\": \"2017-09-06\", \"x\": -0.45, \"xanchor\": \"left\", \"xref\": \"x\", \"y\": 6, \"yref\": \"y\"}, {\"align\": \"left\", \"font\": {\"color\": \"#000000\"}, \"showarrow\": false, \"text\": \"1.0\", \"x\": 0.55, \"xanchor\": \"left\", \"xref\": \"x\", \"y\": 6, \"yref\": \"y\"}, {\"align\": \"left\", \"font\": {\"color\": \"#000000\"}, \"showarrow\": false, \"text\": \"13.0\", \"x\": 1.55, \"xanchor\": \"left\", \"xref\": \"x\", \"y\": 6, \"yref\": \"y\"}, {\"align\": \"left\", \"font\": {\"color\": \"#000000\"}, \"showarrow\": false, \"text\": \"8.0\", \"x\": 2.55, \"xanchor\": \"left\", \"xref\": \"x\", \"y\": 6, \"yref\": \"y\"}, {\"align\": \"left\", \"font\": {\"color\": \"#000000\"}, \"showarrow\": false, \"text\": \"22\", \"x\": 3.55, \"xanchor\": \"left\", \"xref\": \"x\", \"y\": 6, \"yref\": \"y\"}, {\"align\": \"left\", \"font\": {\"color\": \"#000000\"}, \"showarrow\": false, \"text\": \"2017-09-07\", \"x\": -0.45, \"xanchor\": \"left\", \"xref\": \"x\", \"y\": 7, \"yref\": \"y\"}, {\"align\": \"left\", \"font\": {\"color\": \"#000000\"}, \"showarrow\": false, \"text\": \"0.0\", \"x\": 0.55, \"xanchor\": \"left\", \"xref\": \"x\", \"y\": 7, \"yref\": \"y\"}, {\"align\": \"left\", \"font\": {\"color\": \"#000000\"}, \"showarrow\": false, \"text\": \"15.0\", \"x\": 1.55, \"xanchor\": \"left\", \"xref\": \"x\", \"y\": 7, \"yref\": \"y\"}, {\"align\": \"left\", \"font\": {\"color\": \"#000000\"}, \"showarrow\": false, \"text\": \"9.0\", \"x\": 2.55, \"xanchor\": \"left\", \"xref\": \"x\", \"y\": 7, \"yref\": \"y\"}, {\"align\": \"left\", \"font\": {\"color\": \"#000000\"}, \"showarrow\": false, \"text\": \"24\", \"x\": 3.55, \"xanchor\": \"left\", \"xref\": \"x\", \"y\": 7, \"yref\": \"y\"}, {\"align\": \"left\", \"font\": {\"color\": \"#000000\"}, \"showarrow\": false, \"text\": \"2017-09-08\", \"x\": -0.45, \"xanchor\": \"left\", \"xref\": \"x\", \"y\": 8, \"yref\": \"y\"}, {\"align\": \"left\", \"font\": {\"color\": \"#000000\"}, \"showarrow\": false, \"text\": \"1.0\", \"x\": 0.55, \"xanchor\": \"left\", \"xref\": \"x\", \"y\": 8, \"yref\": \"y\"}, {\"align\": \"left\", \"font\": {\"color\": \"#000000\"}, \"showarrow\": false, \"text\": \"14.0\", \"x\": 1.55, \"xanchor\": \"left\", \"xref\": \"x\", \"y\": 8, \"yref\": \"y\"}, {\"align\": \"left\", \"font\": {\"color\": \"#000000\"}, \"showarrow\": false, \"text\": \"9.0\", \"x\": 2.55, \"xanchor\": \"left\", \"xref\": \"x\", \"y\": 8, \"yref\": \"y\"}, {\"align\": \"left\", \"font\": {\"color\": \"#000000\"}, \"showarrow\": false, \"text\": \"24\", \"x\": 3.55, \"xanchor\": \"left\", \"xref\": \"x\", \"y\": 8, \"yref\": \"y\"}, {\"align\": \"left\", \"font\": {\"color\": \"#000000\"}, \"showarrow\": false, \"text\": \"2017-09-09\", \"x\": -0.45, \"xanchor\": \"left\", \"xref\": \"x\", \"y\": 9, \"yref\": \"y\"}, {\"align\": \"left\", \"font\": {\"color\": \"#000000\"}, \"showarrow\": false, \"text\": \"1.0\", \"x\": 0.55, \"xanchor\": \"left\", \"xref\": \"x\", \"y\": 9, \"yref\": \"y\"}, {\"align\": \"left\", \"font\": {\"color\": \"#000000\"}, \"showarrow\": false, \"text\": \"12.000000000000002\", \"x\": 1.55, \"xanchor\": \"left\", \"xref\": \"x\", \"y\": 9, \"yref\": \"y\"}, {\"align\": \"left\", \"font\": {\"color\": \"#000000\"}, \"showarrow\": false, \"text\": \"8.0\", \"x\": 2.55, \"xanchor\": \"left\", \"xref\": \"x\", \"y\": 9, \"yref\": \"y\"}, {\"align\": \"left\", \"font\": {\"color\": \"#000000\"}, \"showarrow\": false, \"text\": \"21\", \"x\": 3.55, \"xanchor\": \"left\", \"xref\": \"x\", \"y\": 9, \"yref\": \"y\"}, {\"align\": \"left\", \"font\": {\"color\": \"#000000\"}, \"showarrow\": false, \"text\": \"2017-09-10\", \"x\": -0.45, \"xanchor\": \"left\", \"xref\": \"x\", \"y\": 10, \"yref\": \"y\"}, {\"align\": \"left\", \"font\": {\"color\": \"#000000\"}, \"showarrow\": false, \"text\": \"2.0\", \"x\": 0.55, \"xanchor\": \"left\", \"xref\": \"x\", \"y\": 10, \"yref\": \"y\"}, {\"align\": \"left\", \"font\": {\"color\": \"#000000\"}, \"showarrow\": false, \"text\": \"8.0\", \"x\": 1.55, \"xanchor\": \"left\", \"xref\": \"x\", \"y\": 10, \"yref\": \"y\"}, {\"align\": \"left\", \"font\": {\"color\": \"#000000\"}, \"showarrow\": false, \"text\": \"12.999999999999998\", \"x\": 2.55, \"xanchor\": \"left\", \"xref\": \"x\", \"y\": 10, \"yref\": \"y\"}, {\"align\": \"left\", \"font\": {\"color\": \"#000000\"}, \"showarrow\": false, \"text\": \"23\", \"x\": 3.55, \"xanchor\": \"left\", \"xref\": \"x\", \"y\": 10, \"yref\": \"y\"}, {\"align\": \"left\", \"font\": {\"color\": \"#000000\"}, \"showarrow\": false, \"text\": \"2017-09-11\", \"x\": -0.45, \"xanchor\": \"left\", \"xref\": \"x\", \"y\": 11, \"yref\": \"y\"}, {\"align\": \"left\", \"font\": {\"color\": \"#000000\"}, \"showarrow\": false, \"text\": \"1.0\", \"x\": 0.55, \"xanchor\": \"left\", \"xref\": \"x\", \"y\": 11, \"yref\": \"y\"}, {\"align\": \"left\", \"font\": {\"color\": \"#000000\"}, \"showarrow\": false, \"text\": \"14.0\", \"x\": 1.55, \"xanchor\": \"left\", \"xref\": \"x\", \"y\": 11, \"yref\": \"y\"}, {\"align\": \"left\", \"font\": {\"color\": \"#000000\"}, \"showarrow\": false, \"text\": \"9.0\", \"x\": 2.55, \"xanchor\": \"left\", \"xref\": \"x\", \"y\": 11, \"yref\": \"y\"}, {\"align\": \"left\", \"font\": {\"color\": \"#000000\"}, \"showarrow\": false, \"text\": \"24\", \"x\": 3.55, \"xanchor\": \"left\", \"xref\": \"x\", \"y\": 11, \"yref\": \"y\"}, {\"align\": \"left\", \"font\": {\"color\": \"#000000\"}, \"showarrow\": false, \"text\": \"2017-09-12\", \"x\": -0.45, \"xanchor\": \"left\", \"xref\": \"x\", \"y\": 12, \"yref\": \"y\"}, {\"align\": \"left\", \"font\": {\"color\": \"#000000\"}, \"showarrow\": false, \"text\": \"1.0\", \"x\": 0.55, \"xanchor\": \"left\", \"xref\": \"x\", \"y\": 12, \"yref\": \"y\"}, {\"align\": \"left\", \"font\": {\"color\": \"#000000\"}, \"showarrow\": false, \"text\": \"14.0\", \"x\": 1.55, \"xanchor\": \"left\", \"xref\": \"x\", \"y\": 12, \"yref\": \"y\"}, {\"align\": \"left\", \"font\": {\"color\": \"#000000\"}, \"showarrow\": false, \"text\": \"7.0\", \"x\": 2.55, \"xanchor\": \"left\", \"xref\": \"x\", \"y\": 12, \"yref\": \"y\"}, {\"align\": \"left\", \"font\": {\"color\": \"#000000\"}, \"showarrow\": false, \"text\": \"22\", \"x\": 3.55, \"xanchor\": \"left\", \"xref\": \"x\", \"y\": 12, \"yref\": \"y\"}, {\"align\": \"left\", \"font\": {\"color\": \"#000000\"}, \"showarrow\": false, \"text\": \"2017-09-13\", \"x\": -0.45, \"xanchor\": \"left\", \"xref\": \"x\", \"y\": 13, \"yref\": \"y\"}, {\"align\": \"left\", \"font\": {\"color\": \"#000000\"}, \"showarrow\": false, \"text\": \"3.0\", \"x\": 0.55, \"xanchor\": \"left\", \"xref\": \"x\", \"y\": 13, \"yref\": \"y\"}, {\"align\": \"left\", \"font\": {\"color\": \"#000000\"}, \"showarrow\": false, \"text\": \"15.0\", \"x\": 1.55, \"xanchor\": \"left\", \"xref\": \"x\", \"y\": 13, \"yref\": \"y\"}, {\"align\": \"left\", \"font\": {\"color\": \"#000000\"}, \"showarrow\": false, \"text\": \"6.0\", \"x\": 2.55, \"xanchor\": \"left\", \"xref\": \"x\", \"y\": 13, \"yref\": \"y\"}, {\"align\": \"left\", \"font\": {\"color\": \"#000000\"}, \"showarrow\": false, \"text\": \"24\", \"x\": 3.55, \"xanchor\": \"left\", \"xref\": \"x\", \"y\": 13, \"yref\": \"y\"}, {\"align\": \"left\", \"font\": {\"color\": \"#000000\"}, \"showarrow\": false, \"text\": \"2017-09-14\", \"x\": -0.45, \"xanchor\": \"left\", \"xref\": \"x\", \"y\": 14, \"yref\": \"y\"}, {\"align\": \"left\", \"font\": {\"color\": \"#000000\"}, \"showarrow\": false, \"text\": \"0.0\", \"x\": 0.55, \"xanchor\": \"left\", \"xref\": \"x\", \"y\": 14, \"yref\": \"y\"}, {\"align\": \"left\", \"font\": {\"color\": \"#000000\"}, \"showarrow\": false, \"text\": \"17.0\", \"x\": 1.55, \"xanchor\": \"left\", \"xref\": \"x\", \"y\": 14, \"yref\": \"y\"}, {\"align\": \"left\", \"font\": {\"color\": \"#000000\"}, \"showarrow\": false, \"text\": \"6.0\", \"x\": 2.55, \"xanchor\": \"left\", \"xref\": \"x\", \"y\": 14, \"yref\": \"y\"}, {\"align\": \"left\", \"font\": {\"color\": \"#000000\"}, \"showarrow\": false, \"text\": \"23\", \"x\": 3.55, \"xanchor\": \"left\", \"xref\": \"x\", \"y\": 14, \"yref\": \"y\"}, {\"align\": \"left\", \"font\": {\"color\": \"#000000\"}, \"showarrow\": false, \"text\": \"2017-09-15\", \"x\": -0.45, \"xanchor\": \"left\", \"xref\": \"x\", \"y\": 15, \"yref\": \"y\"}, {\"align\": \"left\", \"font\": {\"color\": \"#000000\"}, \"showarrow\": false, \"text\": \"1.0\", \"x\": 0.55, \"xanchor\": \"left\", \"xref\": \"x\", \"y\": 15, \"yref\": \"y\"}, {\"align\": \"left\", \"font\": {\"color\": \"#000000\"}, \"showarrow\": false, \"text\": \"12.0\", \"x\": 1.55, \"xanchor\": \"left\", \"xref\": \"x\", \"y\": 15, \"yref\": \"y\"}, {\"align\": \"left\", \"font\": {\"color\": \"#000000\"}, \"showarrow\": false, \"text\": \"9.0\", \"x\": 2.55, \"xanchor\": \"left\", \"xref\": \"x\", \"y\": 15, \"yref\": \"y\"}, {\"align\": \"left\", \"font\": {\"color\": \"#000000\"}, \"showarrow\": false, \"text\": \"22\", \"x\": 3.55, \"xanchor\": \"left\", \"xref\": \"x\", \"y\": 15, \"yref\": \"y\"}, {\"align\": \"left\", \"font\": {\"color\": \"#000000\"}, \"showarrow\": false, \"text\": \"2017-09-16\", \"x\": -0.45, \"xanchor\": \"left\", \"xref\": \"x\", \"y\": 16, \"yref\": \"y\"}, {\"align\": \"left\", \"font\": {\"color\": \"#000000\"}, \"showarrow\": false, \"text\": \"1.0\", \"x\": 0.55, \"xanchor\": \"left\", \"xref\": \"x\", \"y\": 16, \"yref\": \"y\"}, {\"align\": \"left\", \"font\": {\"color\": \"#000000\"}, \"showarrow\": false, \"text\": \"12.0\", \"x\": 1.55, \"xanchor\": \"left\", \"xref\": \"x\", \"y\": 16, \"yref\": \"y\"}, {\"align\": \"left\", \"font\": {\"color\": \"#000000\"}, \"showarrow\": false, \"text\": \"11.0\", \"x\": 2.55, \"xanchor\": \"left\", \"xref\": \"x\", \"y\": 16, \"yref\": \"y\"}, {\"align\": \"left\", \"font\": {\"color\": \"#000000\"}, \"showarrow\": false, \"text\": \"24\", \"x\": 3.55, \"xanchor\": \"left\", \"xref\": \"x\", \"y\": 16, \"yref\": \"y\"}, {\"align\": \"left\", \"font\": {\"color\": \"#000000\"}, \"showarrow\": false, \"text\": \"2017-09-17\", \"x\": -0.45, \"xanchor\": \"left\", \"xref\": \"x\", \"y\": 17, \"yref\": \"y\"}, {\"align\": \"left\", \"font\": {\"color\": \"#000000\"}, \"showarrow\": false, \"text\": \"0.0\", \"x\": 0.55, \"xanchor\": \"left\", \"xref\": \"x\", \"y\": 17, \"yref\": \"y\"}, {\"align\": \"left\", \"font\": {\"color\": \"#000000\"}, \"showarrow\": false, \"text\": \"14.0\", \"x\": 1.55, \"xanchor\": \"left\", \"xref\": \"x\", \"y\": 17, \"yref\": \"y\"}, {\"align\": \"left\", \"font\": {\"color\": \"#000000\"}, \"showarrow\": false, \"text\": \"8.0\", \"x\": 2.55, \"xanchor\": \"left\", \"xref\": \"x\", \"y\": 17, \"yref\": \"y\"}, {\"align\": \"left\", \"font\": {\"color\": \"#000000\"}, \"showarrow\": false, \"text\": \"22\", \"x\": 3.55, \"xanchor\": \"left\", \"xref\": \"x\", \"y\": 17, \"yref\": \"y\"}, {\"align\": \"left\", \"font\": {\"color\": \"#000000\"}, \"showarrow\": false, \"text\": \"2017-09-18\", \"x\": -0.45, \"xanchor\": \"left\", \"xref\": \"x\", \"y\": 18, \"yref\": \"y\"}, {\"align\": \"left\", \"font\": {\"color\": \"#000000\"}, \"showarrow\": false, \"text\": \"0.0\", \"x\": 0.55, \"xanchor\": \"left\", \"xref\": \"x\", \"y\": 18, \"yref\": \"y\"}, {\"align\": \"left\", \"font\": {\"color\": \"#000000\"}, \"showarrow\": false, \"text\": \"11.0\", \"x\": 1.55, \"xanchor\": \"left\", \"xref\": \"x\", \"y\": 18, \"yref\": \"y\"}, {\"align\": \"left\", \"font\": {\"color\": \"#000000\"}, \"showarrow\": false, \"text\": \"11.0\", \"x\": 2.55, \"xanchor\": \"left\", \"xref\": \"x\", \"y\": 18, \"yref\": \"y\"}, {\"align\": \"left\", \"font\": {\"color\": \"#000000\"}, \"showarrow\": false, \"text\": \"22\", \"x\": 3.55, \"xanchor\": \"left\", \"xref\": \"x\", \"y\": 18, \"yref\": \"y\"}, {\"align\": \"left\", \"font\": {\"color\": \"#000000\"}, \"showarrow\": false, \"text\": \"2017-09-19\", \"x\": -0.45, \"xanchor\": \"left\", \"xref\": \"x\", \"y\": 19, \"yref\": \"y\"}, {\"align\": \"left\", \"font\": {\"color\": \"#000000\"}, \"showarrow\": false, \"text\": \"1.0\", \"x\": 0.55, \"xanchor\": \"left\", \"xref\": \"x\", \"y\": 19, \"yref\": \"y\"}, {\"align\": \"left\", \"font\": {\"color\": \"#000000\"}, \"showarrow\": false, \"text\": \"12.0\", \"x\": 1.55, \"xanchor\": \"left\", \"xref\": \"x\", \"y\": 19, \"yref\": \"y\"}, {\"align\": \"left\", \"font\": {\"color\": \"#000000\"}, \"showarrow\": false, \"text\": \"11.0\", \"x\": 2.55, \"xanchor\": \"left\", \"xref\": \"x\", \"y\": 19, \"yref\": \"y\"}, {\"align\": \"left\", \"font\": {\"color\": \"#000000\"}, \"showarrow\": false, \"text\": \"24\", \"x\": 3.55, \"xanchor\": \"left\", \"xref\": \"x\", \"y\": 19, \"yref\": \"y\"}, {\"align\": \"left\", \"font\": {\"color\": \"#000000\"}, \"showarrow\": false, \"text\": \"2017-09-20\", \"x\": -0.45, \"xanchor\": \"left\", \"xref\": \"x\", \"y\": 20, \"yref\": \"y\"}, {\"align\": \"left\", \"font\": {\"color\": \"#000000\"}, \"showarrow\": false, \"text\": \"1.0\", \"x\": 0.55, \"xanchor\": \"left\", \"xref\": \"x\", \"y\": 20, \"yref\": \"y\"}, {\"align\": \"left\", \"font\": {\"color\": \"#000000\"}, \"showarrow\": false, \"text\": \"15.000000000000002\", \"x\": 1.55, \"xanchor\": \"left\", \"xref\": \"x\", \"y\": 20, \"yref\": \"y\"}, {\"align\": \"left\", \"font\": {\"color\": \"#000000\"}, \"showarrow\": false, \"text\": \"6.0\", \"x\": 2.55, \"xanchor\": \"left\", \"xref\": \"x\", \"y\": 20, \"yref\": \"y\"}, {\"align\": \"left\", \"font\": {\"color\": \"#000000\"}, \"showarrow\": false, \"text\": \"22\", \"x\": 3.55, \"xanchor\": \"left\", \"xref\": \"x\", \"y\": 20, \"yref\": \"y\"}, {\"align\": \"left\", \"font\": {\"color\": \"#000000\"}, \"showarrow\": false, \"text\": \"2017-09-21\", \"x\": -0.45, \"xanchor\": \"left\", \"xref\": \"x\", \"y\": 21, \"yref\": \"y\"}, {\"align\": \"left\", \"font\": {\"color\": \"#000000\"}, \"showarrow\": false, \"text\": \"0.0\", \"x\": 0.55, \"xanchor\": \"left\", \"xref\": \"x\", \"y\": 21, \"yref\": \"y\"}, {\"align\": \"left\", \"font\": {\"color\": \"#000000\"}, \"showarrow\": false, \"text\": \"14.0\", \"x\": 1.55, \"xanchor\": \"left\", \"xref\": \"x\", \"y\": 21, \"yref\": \"y\"}, {\"align\": \"left\", \"font\": {\"color\": \"#000000\"}, \"showarrow\": false, \"text\": \"10.0\", \"x\": 2.55, \"xanchor\": \"left\", \"xref\": \"x\", \"y\": 21, \"yref\": \"y\"}, {\"align\": \"left\", \"font\": {\"color\": \"#000000\"}, \"showarrow\": false, \"text\": \"24\", \"x\": 3.55, \"xanchor\": \"left\", \"xref\": \"x\", \"y\": 21, \"yref\": \"y\"}, {\"align\": \"left\", \"font\": {\"color\": \"#000000\"}, \"showarrow\": false, \"text\": \"2017-09-22\", \"x\": -0.45, \"xanchor\": \"left\", \"xref\": \"x\", \"y\": 22, \"yref\": \"y\"}, {\"align\": \"left\", \"font\": {\"color\": \"#000000\"}, \"showarrow\": false, \"text\": \"0.0\", \"x\": 0.55, \"xanchor\": \"left\", \"xref\": \"x\", \"y\": 22, \"yref\": \"y\"}, {\"align\": \"left\", \"font\": {\"color\": \"#000000\"}, \"showarrow\": false, \"text\": \"12.0\", \"x\": 1.55, \"xanchor\": \"left\", \"xref\": \"x\", \"y\": 22, \"yref\": \"y\"}, {\"align\": \"left\", \"font\": {\"color\": \"#000000\"}, \"showarrow\": false, \"text\": \"8.0\", \"x\": 2.55, \"xanchor\": \"left\", \"xref\": \"x\", \"y\": 22, \"yref\": \"y\"}, {\"align\": \"left\", \"font\": {\"color\": \"#000000\"}, \"showarrow\": false, \"text\": \"20\", \"x\": 3.55, \"xanchor\": \"left\", \"xref\": \"x\", \"y\": 22, \"yref\": \"y\"}, {\"align\": \"left\", \"font\": {\"color\": \"#000000\"}, \"showarrow\": false, \"text\": \"2017-09-23\", \"x\": -0.45, \"xanchor\": \"left\", \"xref\": \"x\", \"y\": 23, \"yref\": \"y\"}, {\"align\": \"left\", \"font\": {\"color\": \"#000000\"}, \"showarrow\": false, \"text\": \"2.0\", \"x\": 0.55, \"xanchor\": \"left\", \"xref\": \"x\", \"y\": 23, \"yref\": \"y\"}, {\"align\": \"left\", \"font\": {\"color\": \"#000000\"}, \"showarrow\": false, \"text\": \"14.0\", \"x\": 1.55, \"xanchor\": \"left\", \"xref\": \"x\", \"y\": 23, \"yref\": \"y\"}, {\"align\": \"left\", \"font\": {\"color\": \"#000000\"}, \"showarrow\": false, \"text\": \"8.0\", \"x\": 2.55, \"xanchor\": \"left\", \"xref\": \"x\", \"y\": 23, \"yref\": \"y\"}, {\"align\": \"left\", \"font\": {\"color\": \"#000000\"}, \"showarrow\": false, \"text\": \"24\", \"x\": 3.55, \"xanchor\": \"left\", \"xref\": \"x\", \"y\": 23, \"yref\": \"y\"}, {\"align\": \"left\", \"font\": {\"color\": \"#000000\"}, \"showarrow\": false, \"text\": \"2017-09-24\", \"x\": -0.45, \"xanchor\": \"left\", \"xref\": \"x\", \"y\": 24, \"yref\": \"y\"}, {\"align\": \"left\", \"font\": {\"color\": \"#000000\"}, \"showarrow\": false, \"text\": \"1.0\", \"x\": 0.55, \"xanchor\": \"left\", \"xref\": \"x\", \"y\": 24, \"yref\": \"y\"}, {\"align\": \"left\", \"font\": {\"color\": \"#000000\"}, \"showarrow\": false, \"text\": \"14.000000000000002\", \"x\": 1.55, \"xanchor\": \"left\", \"xref\": \"x\", \"y\": 24, \"yref\": \"y\"}, {\"align\": \"left\", \"font\": {\"color\": \"#000000\"}, \"showarrow\": false, \"text\": \"10.0\", \"x\": 2.55, \"xanchor\": \"left\", \"xref\": \"x\", \"y\": 24, \"yref\": \"y\"}, {\"align\": \"left\", \"font\": {\"color\": \"#000000\"}, \"showarrow\": false, \"text\": \"25\", \"x\": 3.55, \"xanchor\": \"left\", \"xref\": \"x\", \"y\": 24, \"yref\": \"y\"}, {\"align\": \"left\", \"font\": {\"color\": \"#000000\"}, \"showarrow\": false, \"text\": \"2017-09-25\", \"x\": -0.45, \"xanchor\": \"left\", \"xref\": \"x\", \"y\": 25, \"yref\": \"y\"}, {\"align\": \"left\", \"font\": {\"color\": \"#000000\"}, \"showarrow\": false, \"text\": \"1.0\", \"x\": 0.55, \"xanchor\": \"left\", \"xref\": \"x\", \"y\": 25, \"yref\": \"y\"}, {\"align\": \"left\", \"font\": {\"color\": \"#000000\"}, \"showarrow\": false, \"text\": \"14.0\", \"x\": 1.55, \"xanchor\": \"left\", \"xref\": \"x\", \"y\": 25, \"yref\": \"y\"}, {\"align\": \"left\", \"font\": {\"color\": \"#000000\"}, \"showarrow\": false, \"text\": \"7.0\", \"x\": 2.55, \"xanchor\": \"left\", \"xref\": \"x\", \"y\": 25, \"yref\": \"y\"}, {\"align\": \"left\", \"font\": {\"color\": \"#000000\"}, \"showarrow\": false, \"text\": \"22\", \"x\": 3.55, \"xanchor\": \"left\", \"xref\": \"x\", \"y\": 25, \"yref\": \"y\"}, {\"align\": \"left\", \"font\": {\"color\": \"#000000\"}, \"showarrow\": false, \"text\": \"2017-09-26\", \"x\": -0.45, \"xanchor\": \"left\", \"xref\": \"x\", \"y\": 26, \"yref\": \"y\"}, {\"align\": \"left\", \"font\": {\"color\": \"#000000\"}, \"showarrow\": false, \"text\": \"1.0\", \"x\": 0.55, \"xanchor\": \"left\", \"xref\": \"x\", \"y\": 26, \"yref\": \"y\"}, {\"align\": \"left\", \"font\": {\"color\": \"#000000\"}, \"showarrow\": false, \"text\": \"11.0\", \"x\": 1.55, \"xanchor\": \"left\", \"xref\": \"x\", \"y\": 26, \"yref\": \"y\"}, {\"align\": \"left\", \"font\": {\"color\": \"#000000\"}, \"showarrow\": false, \"text\": \"11.0\", \"x\": 2.55, \"xanchor\": \"left\", \"xref\": \"x\", \"y\": 26, \"yref\": \"y\"}, {\"align\": \"left\", \"font\": {\"color\": \"#000000\"}, \"showarrow\": false, \"text\": \"23\", \"x\": 3.55, \"xanchor\": \"left\", \"xref\": \"x\", \"y\": 26, \"yref\": \"y\"}, {\"align\": \"left\", \"font\": {\"color\": \"#000000\"}, \"showarrow\": false, \"text\": \"2017-09-27\", \"x\": -0.45, \"xanchor\": \"left\", \"xref\": \"x\", \"y\": 27, \"yref\": \"y\"}, {\"align\": \"left\", \"font\": {\"color\": \"#000000\"}, \"showarrow\": false, \"text\": \"3.0000000000000004\", \"x\": 0.55, \"xanchor\": \"left\", \"xref\": \"x\", \"y\": 27, \"yref\": \"y\"}, {\"align\": \"left\", \"font\": {\"color\": \"#000000\"}, \"showarrow\": false, \"text\": \"14.000000000000002\", \"x\": 1.55, \"xanchor\": \"left\", \"xref\": \"x\", \"y\": 27, \"yref\": \"y\"}, {\"align\": \"left\", \"font\": {\"color\": \"#000000\"}, \"showarrow\": false, \"text\": \"4.0\", \"x\": 2.55, \"xanchor\": \"left\", \"xref\": \"x\", \"y\": 27, \"yref\": \"y\"}, {\"align\": \"left\", \"font\": {\"color\": \"#000000\"}, \"showarrow\": false, \"text\": \"21\", \"x\": 3.55, \"xanchor\": \"left\", \"xref\": \"x\", \"y\": 27, \"yref\": \"y\"}, {\"align\": \"left\", \"font\": {\"color\": \"#000000\"}, \"showarrow\": false, \"text\": \"2017-09-28\", \"x\": -0.45, \"xanchor\": \"left\", \"xref\": \"x\", \"y\": 28, \"yref\": \"y\"}, {\"align\": \"left\", \"font\": {\"color\": \"#000000\"}, \"showarrow\": false, \"text\": \"2.0\", \"x\": 0.55, \"xanchor\": \"left\", \"xref\": \"x\", \"y\": 28, \"yref\": \"y\"}, {\"align\": \"left\", \"font\": {\"color\": \"#000000\"}, \"showarrow\": false, \"text\": \"14.0\", \"x\": 1.55, \"xanchor\": \"left\", \"xref\": \"x\", \"y\": 28, \"yref\": \"y\"}, {\"align\": \"left\", \"font\": {\"color\": \"#000000\"}, \"showarrow\": false, \"text\": \"8.0\", \"x\": 2.55, \"xanchor\": \"left\", \"xref\": \"x\", \"y\": 28, \"yref\": \"y\"}, {\"align\": \"left\", \"font\": {\"color\": \"#000000\"}, \"showarrow\": false, \"text\": \"24\", \"x\": 3.55, \"xanchor\": \"left\", \"xref\": \"x\", \"y\": 28, \"yref\": \"y\"}, {\"align\": \"left\", \"font\": {\"color\": \"#000000\"}, \"showarrow\": false, \"text\": \"2017-09-29\", \"x\": -0.45, \"xanchor\": \"left\", \"xref\": \"x\", \"y\": 29, \"yref\": \"y\"}, {\"align\": \"left\", \"font\": {\"color\": \"#000000\"}, \"showarrow\": false, \"text\": \"2.0\", \"x\": 0.55, \"xanchor\": \"left\", \"xref\": \"x\", \"y\": 29, \"yref\": \"y\"}, {\"align\": \"left\", \"font\": {\"color\": \"#000000\"}, \"showarrow\": false, \"text\": \"10.0\", \"x\": 1.55, \"xanchor\": \"left\", \"xref\": \"x\", \"y\": 29, \"yref\": \"y\"}, {\"align\": \"left\", \"font\": {\"color\": \"#000000\"}, \"showarrow\": false, \"text\": \"12.0\", \"x\": 2.55, \"xanchor\": \"left\", \"xref\": \"x\", \"y\": 29, \"yref\": \"y\"}, {\"align\": \"left\", \"font\": {\"color\": \"#000000\"}, \"showarrow\": false, \"text\": \"24\", \"x\": 3.55, \"xanchor\": \"left\", \"xref\": \"x\", \"y\": 29, \"yref\": \"y\"}, {\"align\": \"left\", \"font\": {\"color\": \"#000000\"}, \"showarrow\": false, \"text\": \"2017-09-30\", \"x\": -0.45, \"xanchor\": \"left\", \"xref\": \"x\", \"y\": 30, \"yref\": \"y\"}, {\"align\": \"left\", \"font\": {\"color\": \"#000000\"}, \"showarrow\": false, \"text\": \"0.0\", \"x\": 0.55, \"xanchor\": \"left\", \"xref\": \"x\", \"y\": 30, \"yref\": \"y\"}, {\"align\": \"left\", \"font\": {\"color\": \"#000000\"}, \"showarrow\": false, \"text\": \"14.0\", \"x\": 1.55, \"xanchor\": \"left\", \"xref\": \"x\", \"y\": 30, \"yref\": \"y\"}, {\"align\": \"left\", \"font\": {\"color\": \"#000000\"}, \"showarrow\": false, \"text\": \"9.0\", \"x\": 2.55, \"xanchor\": \"left\", \"xref\": \"x\", \"y\": 30, \"yref\": \"y\"}, {\"align\": \"left\", \"font\": {\"color\": \"#000000\"}, \"showarrow\": false, \"text\": \"23\", \"x\": 3.55, \"xanchor\": \"left\", \"xref\": \"x\", \"y\": 30, \"yref\": \"y\"}, {\"align\": \"left\", \"font\": {\"color\": \"#000000\"}, \"showarrow\": false, \"text\": \"2017-10-01\", \"x\": -0.45, \"xanchor\": \"left\", \"xref\": \"x\", \"y\": 31, \"yref\": \"y\"}, {\"align\": \"left\", \"font\": {\"color\": \"#000000\"}, \"showarrow\": false, \"text\": \"0.0\", \"x\": 0.55, \"xanchor\": \"left\", \"xref\": \"x\", \"y\": 31, \"yref\": \"y\"}, {\"align\": \"left\", \"font\": {\"color\": \"#000000\"}, \"showarrow\": false, \"text\": \"12.0\", \"x\": 1.55, \"xanchor\": \"left\", \"xref\": \"x\", \"y\": 31, \"yref\": \"y\"}, {\"align\": \"left\", \"font\": {\"color\": \"#000000\"}, \"showarrow\": false, \"text\": \"10.0\", \"x\": 2.55, \"xanchor\": \"left\", \"xref\": \"x\", \"y\": 31, \"yref\": \"y\"}, {\"align\": \"left\", \"font\": {\"color\": \"#000000\"}, \"showarrow\": false, \"text\": \"22\", \"x\": 3.55, \"xanchor\": \"left\", \"xref\": \"x\", \"y\": 31, \"yref\": \"y\"}, {\"align\": \"left\", \"font\": {\"color\": \"#000000\"}, \"showarrow\": false, \"text\": \"2017-10-02\", \"x\": -0.45, \"xanchor\": \"left\", \"xref\": \"x\", \"y\": 32, \"yref\": \"y\"}, {\"align\": \"left\", \"font\": {\"color\": \"#000000\"}, \"showarrow\": false, \"text\": \"1.0\", \"x\": 0.55, \"xanchor\": \"left\", \"xref\": \"x\", \"y\": 32, \"yref\": \"y\"}, {\"align\": \"left\", \"font\": {\"color\": \"#000000\"}, \"showarrow\": false, \"text\": \"14.0\", \"x\": 1.55, \"xanchor\": \"left\", \"xref\": \"x\", \"y\": 32, \"yref\": \"y\"}, {\"align\": \"left\", \"font\": {\"color\": \"#000000\"}, \"showarrow\": false, \"text\": \"8.0\", \"x\": 2.55, \"xanchor\": \"left\", \"xref\": \"x\", \"y\": 32, \"yref\": \"y\"}, {\"align\": \"left\", \"font\": {\"color\": \"#000000\"}, \"showarrow\": false, \"text\": \"23\", \"x\": 3.55, \"xanchor\": \"left\", \"xref\": \"x\", \"y\": 32, \"yref\": \"y\"}, {\"align\": \"left\", \"font\": {\"color\": \"#000000\"}, \"showarrow\": false, \"text\": \"2017-10-03\", \"x\": -0.45, \"xanchor\": \"left\", \"xref\": \"x\", \"y\": 33, \"yref\": \"y\"}, {\"align\": \"left\", \"font\": {\"color\": \"#000000\"}, \"showarrow\": false, \"text\": \"2.0\", \"x\": 0.55, \"xanchor\": \"left\", \"xref\": \"x\", \"y\": 33, \"yref\": \"y\"}, {\"align\": \"left\", \"font\": {\"color\": \"#000000\"}, \"showarrow\": false, \"text\": \"9.0\", \"x\": 1.55, \"xanchor\": \"left\", \"xref\": \"x\", \"y\": 33, \"yref\": \"y\"}, {\"align\": \"left\", \"font\": {\"color\": \"#000000\"}, \"showarrow\": false, \"text\": \"13.0\", \"x\": 2.55, \"xanchor\": \"left\", \"xref\": \"x\", \"y\": 33, \"yref\": \"y\"}, {\"align\": \"left\", \"font\": {\"color\": \"#000000\"}, \"showarrow\": false, \"text\": \"24\", \"x\": 3.55, \"xanchor\": \"left\", \"xref\": \"x\", \"y\": 33, \"yref\": \"y\"}, {\"align\": \"left\", \"font\": {\"color\": \"#000000\"}, \"showarrow\": false, \"text\": \"2017-10-04\", \"x\": -0.45, \"xanchor\": \"left\", \"xref\": \"x\", \"y\": 34, \"yref\": \"y\"}, {\"align\": \"left\", \"font\": {\"color\": \"#000000\"}, \"showarrow\": false, \"text\": \"1.0\", \"x\": 0.55, \"xanchor\": \"left\", \"xref\": \"x\", \"y\": 34, \"yref\": \"y\"}, {\"align\": \"left\", \"font\": {\"color\": \"#000000\"}, \"showarrow\": false, \"text\": \"11.0\", \"x\": 1.55, \"xanchor\": \"left\", \"xref\": \"x\", \"y\": 34, \"yref\": \"y\"}, {\"align\": \"left\", \"font\": {\"color\": \"#000000\"}, \"showarrow\": false, \"text\": \"11.0\", \"x\": 2.55, \"xanchor\": \"left\", \"xref\": \"x\", \"y\": 34, \"yref\": \"y\"}, {\"align\": \"left\", \"font\": {\"color\": \"#000000\"}, \"showarrow\": false, \"text\": \"23\", \"x\": 3.55, \"xanchor\": \"left\", \"xref\": \"x\", \"y\": 34, \"yref\": \"y\"}, {\"align\": \"left\", \"font\": {\"color\": \"#000000\"}, \"showarrow\": false, \"text\": \"2017-10-05\", \"x\": -0.45, \"xanchor\": \"left\", \"xref\": \"x\", \"y\": 35, \"yref\": \"y\"}, {\"align\": \"left\", \"font\": {\"color\": \"#000000\"}, \"showarrow\": false, \"text\": \"0.0\", \"x\": 0.55, \"xanchor\": \"left\", \"xref\": \"x\", \"y\": 35, \"yref\": \"y\"}, {\"align\": \"left\", \"font\": {\"color\": \"#000000\"}, \"showarrow\": false, \"text\": \"17.0\", \"x\": 1.55, \"xanchor\": \"left\", \"xref\": \"x\", \"y\": 35, \"yref\": \"y\"}, {\"align\": \"left\", \"font\": {\"color\": \"#000000\"}, \"showarrow\": false, \"text\": \"8.0\", \"x\": 2.55, \"xanchor\": \"left\", \"xref\": \"x\", \"y\": 35, \"yref\": \"y\"}, {\"align\": \"left\", \"font\": {\"color\": \"#000000\"}, \"showarrow\": false, \"text\": \"25\", \"x\": 3.55, \"xanchor\": \"left\", \"xref\": \"x\", \"y\": 35, \"yref\": \"y\"}, {\"align\": \"left\", \"font\": {\"color\": \"#000000\"}, \"showarrow\": false, \"text\": \"2017-10-06\", \"x\": -0.45, \"xanchor\": \"left\", \"xref\": \"x\", \"y\": 36, \"yref\": \"y\"}, {\"align\": \"left\", \"font\": {\"color\": \"#000000\"}, \"showarrow\": false, \"text\": \"3.0000000000000004\", \"x\": 0.55, \"xanchor\": \"left\", \"xref\": \"x\", \"y\": 36, \"yref\": \"y\"}, {\"align\": \"left\", \"font\": {\"color\": \"#000000\"}, \"showarrow\": false, \"text\": \"13.0\", \"x\": 1.55, \"xanchor\": \"left\", \"xref\": \"x\", \"y\": 36, \"yref\": \"y\"}, {\"align\": \"left\", \"font\": {\"color\": \"#000000\"}, \"showarrow\": false, \"text\": \"5.0\", \"x\": 2.55, \"xanchor\": \"left\", \"xref\": \"x\", \"y\": 36, \"yref\": \"y\"}, {\"align\": \"left\", \"font\": {\"color\": \"#000000\"}, \"showarrow\": false, \"text\": \"21\", \"x\": 3.55, \"xanchor\": \"left\", \"xref\": \"x\", \"y\": 36, \"yref\": \"y\"}, {\"align\": \"left\", \"font\": {\"color\": \"#000000\"}, \"showarrow\": false, \"text\": \"2017-10-07\", \"x\": -0.45, \"xanchor\": \"left\", \"xref\": \"x\", \"y\": 37, \"yref\": \"y\"}, {\"align\": \"left\", \"font\": {\"color\": \"#000000\"}, \"showarrow\": false, \"text\": \"2.0\", \"x\": 0.55, \"xanchor\": \"left\", \"xref\": \"x\", \"y\": 37, \"yref\": \"y\"}, {\"align\": \"left\", \"font\": {\"color\": \"#000000\"}, \"showarrow\": false, \"text\": \"9.0\", \"x\": 1.55, \"xanchor\": \"left\", \"xref\": \"x\", \"y\": 37, \"yref\": \"y\"}, {\"align\": \"left\", \"font\": {\"color\": \"#000000\"}, \"showarrow\": false, \"text\": \"10.0\", \"x\": 2.55, \"xanchor\": \"left\", \"xref\": \"x\", \"y\": 37, \"yref\": \"y\"}, {\"align\": \"left\", \"font\": {\"color\": \"#000000\"}, \"showarrow\": false, \"text\": \"21\", \"x\": 3.55, \"xanchor\": \"left\", \"xref\": \"x\", \"y\": 37, \"yref\": \"y\"}, {\"align\": \"left\", \"font\": {\"color\": \"#000000\"}, \"showarrow\": false, \"text\": \"2017-10-08\", \"x\": -0.45, \"xanchor\": \"left\", \"xref\": \"x\", \"y\": 38, \"yref\": \"y\"}, {\"align\": \"left\", \"font\": {\"color\": \"#000000\"}, \"showarrow\": false, \"text\": \"1.0\", \"x\": 0.55, \"xanchor\": \"left\", \"xref\": \"x\", \"y\": 38, \"yref\": \"y\"}, {\"align\": \"left\", \"font\": {\"color\": \"#000000\"}, \"showarrow\": false, \"text\": \"14.0\", \"x\": 1.55, \"xanchor\": \"left\", \"xref\": \"x\", \"y\": 38, \"yref\": \"y\"}, {\"align\": \"left\", \"font\": {\"color\": \"#000000\"}, \"showarrow\": false, \"text\": \"7.0\", \"x\": 2.55, \"xanchor\": \"left\", \"xref\": \"x\", \"y\": 38, \"yref\": \"y\"}, {\"align\": \"left\", \"font\": {\"color\": \"#000000\"}, \"showarrow\": false, \"text\": \"22\", \"x\": 3.55, \"xanchor\": \"left\", \"xref\": \"x\", \"y\": 38, \"yref\": \"y\"}, {\"align\": \"left\", \"font\": {\"color\": \"#000000\"}, \"showarrow\": false, \"text\": \"2017-10-09\", \"x\": -0.45, \"xanchor\": \"left\", \"xref\": \"x\", \"y\": 39, \"yref\": \"y\"}, {\"align\": \"left\", \"font\": {\"color\": \"#000000\"}, \"showarrow\": false, \"text\": \"2.0\", \"x\": 0.55, \"xanchor\": \"left\", \"xref\": \"x\", \"y\": 39, \"yref\": \"y\"}, {\"align\": \"left\", \"font\": {\"color\": \"#000000\"}, \"showarrow\": false, \"text\": \"11.0\", \"x\": 1.55, \"xanchor\": \"left\", \"xref\": \"x\", \"y\": 39, \"yref\": \"y\"}, {\"align\": \"left\", \"font\": {\"color\": \"#000000\"}, \"showarrow\": false, \"text\": \"12.0\", \"x\": 2.55, \"xanchor\": \"left\", \"xref\": \"x\", \"y\": 39, \"yref\": \"y\"}, {\"align\": \"left\", \"font\": {\"color\": \"#000000\"}, \"showarrow\": false, \"text\": \"25\", \"x\": 3.55, \"xanchor\": \"left\", \"xref\": \"x\", \"y\": 39, \"yref\": \"y\"}, {\"align\": \"left\", \"font\": {\"color\": \"#000000\"}, \"showarrow\": false, \"text\": \"2017-10-10\", \"x\": -0.45, \"xanchor\": \"left\", \"xref\": \"x\", \"y\": 40, \"yref\": \"y\"}, {\"align\": \"left\", \"font\": {\"color\": \"#000000\"}, \"showarrow\": false, \"text\": \"1.0\", \"x\": 0.55, \"xanchor\": \"left\", \"xref\": \"x\", \"y\": 40, \"yref\": \"y\"}, {\"align\": \"left\", \"font\": {\"color\": \"#000000\"}, \"showarrow\": false, \"text\": \"11.0\", \"x\": 1.55, \"xanchor\": \"left\", \"xref\": \"x\", \"y\": 40, \"yref\": \"y\"}, {\"align\": \"left\", \"font\": {\"color\": \"#000000\"}, \"showarrow\": false, \"text\": \"13.0\", \"x\": 2.55, \"xanchor\": \"left\", \"xref\": \"x\", \"y\": 40, \"yref\": \"y\"}, {\"align\": \"left\", \"font\": {\"color\": \"#000000\"}, \"showarrow\": false, \"text\": \"25\", \"x\": 3.55, \"xanchor\": \"left\", \"xref\": \"x\", \"y\": 40, \"yref\": \"y\"}, {\"align\": \"left\", \"font\": {\"color\": \"#000000\"}, \"showarrow\": false, \"text\": \"2017-10-11\", \"x\": -0.45, \"xanchor\": \"left\", \"xref\": \"x\", \"y\": 41, \"yref\": \"y\"}, {\"align\": \"left\", \"font\": {\"color\": \"#000000\"}, \"showarrow\": false, \"text\": \"0.0\", \"x\": 0.55, \"xanchor\": \"left\", \"xref\": \"x\", \"y\": 41, \"yref\": \"y\"}, {\"align\": \"left\", \"font\": {\"color\": \"#000000\"}, \"showarrow\": false, \"text\": \"12.999999999999998\", \"x\": 1.55, \"xanchor\": \"left\", \"xref\": \"x\", \"y\": 41, \"yref\": \"y\"}, {\"align\": \"left\", \"font\": {\"color\": \"#000000\"}, \"showarrow\": false, \"text\": \"10.0\", \"x\": 2.55, \"xanchor\": \"left\", \"xref\": \"x\", \"y\": 41, \"yref\": \"y\"}, {\"align\": \"left\", \"font\": {\"color\": \"#000000\"}, \"showarrow\": false, \"text\": \"23\", \"x\": 3.55, \"xanchor\": \"left\", \"xref\": \"x\", \"y\": 41, \"yref\": \"y\"}, {\"align\": \"left\", \"font\": {\"color\": \"#000000\"}, \"showarrow\": false, \"text\": \"2017-10-12\", \"x\": -0.45, \"xanchor\": \"left\", \"xref\": \"x\", \"y\": 42, \"yref\": \"y\"}, {\"align\": \"left\", \"font\": {\"color\": \"#000000\"}, \"showarrow\": false, \"text\": \"3.0\", \"x\": 0.55, \"xanchor\": \"left\", \"xref\": \"x\", \"y\": 42, \"yref\": \"y\"}, {\"align\": \"left\", \"font\": {\"color\": \"#000000\"}, \"showarrow\": false, \"text\": \"6.0\", \"x\": 1.55, \"xanchor\": \"left\", \"xref\": \"x\", \"y\": 42, \"yref\": \"y\"}, {\"align\": \"left\", \"font\": {\"color\": \"#000000\"}, \"showarrow\": false, \"text\": \"15.0\", \"x\": 2.55, \"xanchor\": \"left\", \"xref\": \"x\", \"y\": 42, \"yref\": \"y\"}, {\"align\": \"left\", \"font\": {\"color\": \"#000000\"}, \"showarrow\": false, \"text\": \"24\", \"x\": 3.55, \"xanchor\": \"left\", \"xref\": \"x\", \"y\": 42, \"yref\": \"y\"}, {\"align\": \"left\", \"font\": {\"color\": \"#000000\"}, \"showarrow\": false, \"text\": \"2017-10-13\", \"x\": -0.45, \"xanchor\": \"left\", \"xref\": \"x\", \"y\": 43, \"yref\": \"y\"}, {\"align\": \"left\", \"font\": {\"color\": \"#000000\"}, \"showarrow\": false, \"text\": \"3.0\", \"x\": 0.55, \"xanchor\": \"left\", \"xref\": \"x\", \"y\": 43, \"yref\": \"y\"}, {\"align\": \"left\", \"font\": {\"color\": \"#000000\"}, \"showarrow\": false, \"text\": \"22.0\", \"x\": 1.55, \"xanchor\": \"left\", \"xref\": \"x\", \"y\": 43, \"yref\": \"y\"}, {\"align\": \"left\", \"font\": {\"color\": \"#000000\"}, \"showarrow\": false, \"text\": \"2.0\", \"x\": 2.55, \"xanchor\": \"left\", \"xref\": \"x\", \"y\": 43, \"yref\": \"y\"}, {\"align\": \"left\", \"font\": {\"color\": \"#000000\"}, \"showarrow\": false, \"text\": \"27\", \"x\": 3.55, \"xanchor\": \"left\", \"xref\": \"x\", \"y\": 43, \"yref\": \"y\"}, {\"align\": \"left\", \"font\": {\"color\": \"#000000\"}, \"showarrow\": false, \"text\": \"2017-10-14\", \"x\": -0.45, \"xanchor\": \"left\", \"xref\": \"x\", \"y\": 44, \"yref\": \"y\"}, {\"align\": \"left\", \"font\": {\"color\": \"#000000\"}, \"showarrow\": false, \"text\": \"3.0\", \"x\": 0.55, \"xanchor\": \"left\", \"xref\": \"x\", \"y\": 44, \"yref\": \"y\"}, {\"align\": \"left\", \"font\": {\"color\": \"#000000\"}, \"showarrow\": false, \"text\": \"14.000000000000002\", \"x\": 1.55, \"xanchor\": \"left\", \"xref\": \"x\", \"y\": 44, \"yref\": \"y\"}, {\"align\": \"left\", \"font\": {\"color\": \"#000000\"}, \"showarrow\": false, \"text\": \"8.0\", \"x\": 2.55, \"xanchor\": \"left\", \"xref\": \"x\", \"y\": 44, \"yref\": \"y\"}, {\"align\": \"left\", \"font\": {\"color\": \"#000000\"}, \"showarrow\": false, \"text\": \"25\", \"x\": 3.55, \"xanchor\": \"left\", \"xref\": \"x\", \"y\": 44, \"yref\": \"y\"}, {\"align\": \"left\", \"font\": {\"color\": \"#000000\"}, \"showarrow\": false, \"text\": \"2017-10-15\", \"x\": -0.45, \"xanchor\": \"left\", \"xref\": \"x\", \"y\": 45, \"yref\": \"y\"}, {\"align\": \"left\", \"font\": {\"color\": \"#000000\"}, \"showarrow\": false, \"text\": \"2.0\", \"x\": 0.55, \"xanchor\": \"left\", \"xref\": \"x\", \"y\": 45, \"yref\": \"y\"}, {\"align\": \"left\", \"font\": {\"color\": \"#000000\"}, \"showarrow\": false, \"text\": \"12.0\", \"x\": 1.55, \"xanchor\": \"left\", \"xref\": \"x\", \"y\": 45, \"yref\": \"y\"}, {\"align\": \"left\", \"font\": {\"color\": \"#000000\"}, \"showarrow\": false, \"text\": \"10.0\", \"x\": 2.55, \"xanchor\": \"left\", \"xref\": \"x\", \"y\": 45, \"yref\": \"y\"}, {\"align\": \"left\", \"font\": {\"color\": \"#000000\"}, \"showarrow\": false, \"text\": \"24\", \"x\": 3.55, \"xanchor\": \"left\", \"xref\": \"x\", \"y\": 45, \"yref\": \"y\"}, {\"align\": \"left\", \"font\": {\"color\": \"#000000\"}, \"showarrow\": false, \"text\": \"2017-10-16\", \"x\": -0.45, \"xanchor\": \"left\", \"xref\": \"x\", \"y\": 46, \"yref\": \"y\"}, {\"align\": \"left\", \"font\": {\"color\": \"#000000\"}, \"showarrow\": false, \"text\": \"2.0\", \"x\": 0.55, \"xanchor\": \"left\", \"xref\": \"x\", \"y\": 46, \"yref\": \"y\"}, {\"align\": \"left\", \"font\": {\"color\": \"#000000\"}, \"showarrow\": false, \"text\": \"10.0\", \"x\": 1.55, \"xanchor\": \"left\", \"xref\": \"x\", \"y\": 46, \"yref\": \"y\"}, {\"align\": \"left\", \"font\": {\"color\": \"#000000\"}, \"showarrow\": false, \"text\": \"10.0\", \"x\": 2.55, \"xanchor\": \"left\", \"xref\": \"x\", \"y\": 46, \"yref\": \"y\"}, {\"align\": \"left\", \"font\": {\"color\": \"#000000\"}, \"showarrow\": false, \"text\": \"22\", \"x\": 3.55, \"xanchor\": \"left\", \"xref\": \"x\", \"y\": 46, \"yref\": \"y\"}, {\"align\": \"left\", \"font\": {\"color\": \"#000000\"}, \"showarrow\": false, \"text\": \"2017-10-17\", \"x\": -0.45, \"xanchor\": \"left\", \"xref\": \"x\", \"y\": 47, \"yref\": \"y\"}, {\"align\": \"left\", \"font\": {\"color\": \"#000000\"}, \"showarrow\": false, \"text\": \"4.0\", \"x\": 0.55, \"xanchor\": \"left\", \"xref\": \"x\", \"y\": 47, \"yref\": \"y\"}, {\"align\": \"left\", \"font\": {\"color\": \"#000000\"}, \"showarrow\": false, \"text\": \"13.0\", \"x\": 1.55, \"xanchor\": \"left\", \"xref\": \"x\", \"y\": 47, \"yref\": \"y\"}, {\"align\": \"left\", \"font\": {\"color\": \"#000000\"}, \"showarrow\": false, \"text\": \"10.000000000000002\", \"x\": 2.55, \"xanchor\": \"left\", \"xref\": \"x\", \"y\": 47, \"yref\": \"y\"}, {\"align\": \"left\", \"font\": {\"color\": \"#000000\"}, \"showarrow\": false, \"text\": \"27\", \"x\": 3.55, \"xanchor\": \"left\", \"xref\": \"x\", \"y\": 47, \"yref\": \"y\"}, {\"align\": \"left\", \"font\": {\"color\": \"#000000\"}, \"showarrow\": false, \"text\": \"2017-10-18\", \"x\": -0.45, \"xanchor\": \"left\", \"xref\": \"x\", \"y\": 48, \"yref\": \"y\"}, {\"align\": \"left\", \"font\": {\"color\": \"#000000\"}, \"showarrow\": false, \"text\": \"4.0\", \"x\": 0.55, \"xanchor\": \"left\", \"xref\": \"x\", \"y\": 48, \"yref\": \"y\"}, {\"align\": \"left\", \"font\": {\"color\": \"#000000\"}, \"showarrow\": false, \"text\": \"9.0\", \"x\": 1.55, \"xanchor\": \"left\", \"xref\": \"x\", \"y\": 48, \"yref\": \"y\"}, {\"align\": \"left\", \"font\": {\"color\": \"#000000\"}, \"showarrow\": false, \"text\": \"11.0\", \"x\": 2.55, \"xanchor\": \"left\", \"xref\": \"x\", \"y\": 48, \"yref\": \"y\"}, {\"align\": \"left\", \"font\": {\"color\": \"#000000\"}, \"showarrow\": false, \"text\": \"24\", \"x\": 3.55, \"xanchor\": \"left\", \"xref\": \"x\", \"y\": 48, \"yref\": \"y\"}, {\"align\": \"left\", \"font\": {\"color\": \"#000000\"}, \"showarrow\": false, \"text\": \"2017-10-19\", \"x\": -0.45, \"xanchor\": \"left\", \"xref\": \"x\", \"y\": 49, \"yref\": \"y\"}, {\"align\": \"left\", \"font\": {\"color\": \"#000000\"}, \"showarrow\": false, \"text\": \"1.0\", \"x\": 0.55, \"xanchor\": \"left\", \"xref\": \"x\", \"y\": 49, \"yref\": \"y\"}, {\"align\": \"left\", \"font\": {\"color\": \"#000000\"}, \"showarrow\": false, \"text\": \"12.0\", \"x\": 1.55, \"xanchor\": \"left\", \"xref\": \"x\", \"y\": 49, \"yref\": \"y\"}, {\"align\": \"left\", \"font\": {\"color\": \"#000000\"}, \"showarrow\": false, \"text\": \"11.0\", \"x\": 2.55, \"xanchor\": \"left\", \"xref\": \"x\", \"y\": 49, \"yref\": \"y\"}, {\"align\": \"left\", \"font\": {\"color\": \"#000000\"}, \"showarrow\": false, \"text\": \"24\", \"x\": 3.55, \"xanchor\": \"left\", \"xref\": \"x\", \"y\": 49, \"yref\": \"y\"}, {\"align\": \"left\", \"font\": {\"color\": \"#000000\"}, \"showarrow\": false, \"text\": \"2017-10-20\", \"x\": -0.45, \"xanchor\": \"left\", \"xref\": \"x\", \"y\": 50, \"yref\": \"y\"}, {\"align\": \"left\", \"font\": {\"color\": \"#000000\"}, \"showarrow\": false, \"text\": \"2.0\", \"x\": 0.55, \"xanchor\": \"left\", \"xref\": \"x\", \"y\": 50, \"yref\": \"y\"}, {\"align\": \"left\", \"font\": {\"color\": \"#000000\"}, \"showarrow\": false, \"text\": \"11.0\", \"x\": 1.55, \"xanchor\": \"left\", \"xref\": \"x\", \"y\": 50, \"yref\": \"y\"}, {\"align\": \"left\", \"font\": {\"color\": \"#000000\"}, \"showarrow\": false, \"text\": \"12.0\", \"x\": 2.55, \"xanchor\": \"left\", \"xref\": \"x\", \"y\": 50, \"yref\": \"y\"}, {\"align\": \"left\", \"font\": {\"color\": \"#000000\"}, \"showarrow\": false, \"text\": \"25\", \"x\": 3.55, \"xanchor\": \"left\", \"xref\": \"x\", \"y\": 50, \"yref\": \"y\"}, {\"align\": \"left\", \"font\": {\"color\": \"#000000\"}, \"showarrow\": false, \"text\": \"2017-10-21\", \"x\": -0.45, \"xanchor\": \"left\", \"xref\": \"x\", \"y\": 51, \"yref\": \"y\"}, {\"align\": \"left\", \"font\": {\"color\": \"#000000\"}, \"showarrow\": false, \"text\": \"4.0\", \"x\": 0.55, \"xanchor\": \"left\", \"xref\": \"x\", \"y\": 51, \"yref\": \"y\"}, {\"align\": \"left\", \"font\": {\"color\": \"#000000\"}, \"showarrow\": false, \"text\": \"8.0\", \"x\": 1.55, \"xanchor\": \"left\", \"xref\": \"x\", \"y\": 51, \"yref\": \"y\"}, {\"align\": \"left\", \"font\": {\"color\": \"#000000\"}, \"showarrow\": false, \"text\": \"14.0\", \"x\": 2.55, \"xanchor\": \"left\", \"xref\": \"x\", \"y\": 51, \"yref\": \"y\"}, {\"align\": \"left\", \"font\": {\"color\": \"#000000\"}, \"showarrow\": false, \"text\": \"26\", \"x\": 3.55, \"xanchor\": \"left\", \"xref\": \"x\", \"y\": 51, \"yref\": \"y\"}, {\"align\": \"left\", \"font\": {\"color\": \"#000000\"}, \"showarrow\": false, \"text\": \"2017-10-22\", \"x\": -0.45, \"xanchor\": \"left\", \"xref\": \"x\", \"y\": 52, \"yref\": \"y\"}, {\"align\": \"left\", \"font\": {\"color\": \"#000000\"}, \"showarrow\": false, \"text\": \"1.0000000000000002\", \"x\": 0.55, \"xanchor\": \"left\", \"xref\": \"x\", \"y\": 52, \"yref\": \"y\"}, {\"align\": \"left\", \"font\": {\"color\": \"#000000\"}, \"showarrow\": false, \"text\": \"18.0\", \"x\": 1.55, \"xanchor\": \"left\", \"xref\": \"x\", \"y\": 52, \"yref\": \"y\"}, {\"align\": \"left\", \"font\": {\"color\": \"#000000\"}, \"showarrow\": false, \"text\": \"9.0\", \"x\": 2.55, \"xanchor\": \"left\", \"xref\": \"x\", \"y\": 52, \"yref\": \"y\"}, {\"align\": \"left\", \"font\": {\"color\": \"#000000\"}, \"showarrow\": false, \"text\": \"28\", \"x\": 3.55, \"xanchor\": \"left\", \"xref\": \"x\", \"y\": 52, \"yref\": \"y\"}, {\"align\": \"left\", \"font\": {\"color\": \"#000000\"}, \"showarrow\": false, \"text\": \"2017-10-23\", \"x\": -0.45, \"xanchor\": \"left\", \"xref\": \"x\", \"y\": 53, \"yref\": \"y\"}, {\"align\": \"left\", \"font\": {\"color\": \"#000000\"}, \"showarrow\": false, \"text\": \"2.0\", \"x\": 0.55, \"xanchor\": \"left\", \"xref\": \"x\", \"y\": 53, \"yref\": \"y\"}, {\"align\": \"left\", \"font\": {\"color\": \"#000000\"}, \"showarrow\": false, \"text\": \"15.0\", \"x\": 1.55, \"xanchor\": \"left\", \"xref\": \"x\", \"y\": 53, \"yref\": \"y\"}, {\"align\": \"left\", \"font\": {\"color\": \"#000000\"}, \"showarrow\": false, \"text\": \"6.0\", \"x\": 2.55, \"xanchor\": \"left\", \"xref\": \"x\", \"y\": 53, \"yref\": \"y\"}, {\"align\": \"left\", \"font\": {\"color\": \"#000000\"}, \"showarrow\": false, \"text\": \"23\", \"x\": 3.55, \"xanchor\": \"left\", \"xref\": \"x\", \"y\": 53, \"yref\": \"y\"}, {\"align\": \"left\", \"font\": {\"color\": \"#000000\"}, \"showarrow\": false, \"text\": \"2017-10-24\", \"x\": -0.45, \"xanchor\": \"left\", \"xref\": \"x\", \"y\": 54, \"yref\": \"y\"}, {\"align\": \"left\", \"font\": {\"color\": \"#000000\"}, \"showarrow\": false, \"text\": \"3.0\", \"x\": 0.55, \"xanchor\": \"left\", \"xref\": \"x\", \"y\": 54, \"yref\": \"y\"}, {\"align\": \"left\", \"font\": {\"color\": \"#000000\"}, \"showarrow\": false, \"text\": \"11.0\", \"x\": 1.55, \"xanchor\": \"left\", \"xref\": \"x\", \"y\": 54, \"yref\": \"y\"}, {\"align\": \"left\", \"font\": {\"color\": \"#000000\"}, \"showarrow\": false, \"text\": \"9.0\", \"x\": 2.55, \"xanchor\": \"left\", \"xref\": \"x\", \"y\": 54, \"yref\": \"y\"}, {\"align\": \"left\", \"font\": {\"color\": \"#000000\"}, \"showarrow\": false, \"text\": \"23\", \"x\": 3.55, \"xanchor\": \"left\", \"xref\": \"x\", \"y\": 54, \"yref\": \"y\"}, {\"align\": \"left\", \"font\": {\"color\": \"#000000\"}, \"showarrow\": false, \"text\": \"2017-10-25\", \"x\": -0.45, \"xanchor\": \"left\", \"xref\": \"x\", \"y\": 55, \"yref\": \"y\"}, {\"align\": \"left\", \"font\": {\"color\": \"#000000\"}, \"showarrow\": false, \"text\": \"0.0\", \"x\": 0.55, \"xanchor\": \"left\", \"xref\": \"x\", \"y\": 55, \"yref\": \"y\"}, {\"align\": \"left\", \"font\": {\"color\": \"#000000\"}, \"showarrow\": false, \"text\": \"16.0\", \"x\": 1.55, \"xanchor\": \"left\", \"xref\": \"x\", \"y\": 55, \"yref\": \"y\"}, {\"align\": \"left\", \"font\": {\"color\": \"#000000\"}, \"showarrow\": false, \"text\": \"8.0\", \"x\": 2.55, \"xanchor\": \"left\", \"xref\": \"x\", \"y\": 55, \"yref\": \"y\"}, {\"align\": \"left\", \"font\": {\"color\": \"#000000\"}, \"showarrow\": false, \"text\": \"24\", \"x\": 3.55, \"xanchor\": \"left\", \"xref\": \"x\", \"y\": 55, \"yref\": \"y\"}, {\"align\": \"left\", \"font\": {\"color\": \"#000000\"}, \"showarrow\": false, \"text\": \"2017-10-26\", \"x\": -0.45, \"xanchor\": \"left\", \"xref\": \"x\", \"y\": 56, \"yref\": \"y\"}, {\"align\": \"left\", \"font\": {\"color\": \"#000000\"}, \"showarrow\": false, \"text\": \"3.0\", \"x\": 0.55, \"xanchor\": \"left\", \"xref\": \"x\", \"y\": 56, \"yref\": \"y\"}, {\"align\": \"left\", \"font\": {\"color\": \"#000000\"}, \"showarrow\": false, \"text\": \"9.0\", \"x\": 1.55, \"xanchor\": \"left\", \"xref\": \"x\", \"y\": 56, \"yref\": \"y\"}, {\"align\": \"left\", \"font\": {\"color\": \"#000000\"}, \"showarrow\": false, \"text\": \"11.0\", \"x\": 2.55, \"xanchor\": \"left\", \"xref\": \"x\", \"y\": 56, \"yref\": \"y\"}, {\"align\": \"left\", \"font\": {\"color\": \"#000000\"}, \"showarrow\": false, \"text\": \"23\", \"x\": 3.55, \"xanchor\": \"left\", \"xref\": \"x\", \"y\": 56, \"yref\": \"y\"}, {\"align\": \"left\", \"font\": {\"color\": \"#000000\"}, \"showarrow\": false, \"text\": \"2017-10-27\", \"x\": -0.45, \"xanchor\": \"left\", \"xref\": \"x\", \"y\": 57, \"yref\": \"y\"}, {\"align\": \"left\", \"font\": {\"color\": \"#000000\"}, \"showarrow\": false, \"text\": \"0.0\", \"x\": 0.55, \"xanchor\": \"left\", \"xref\": \"x\", \"y\": 57, \"yref\": \"y\"}, {\"align\": \"left\", \"font\": {\"color\": \"#000000\"}, \"showarrow\": false, \"text\": \"13.0\", \"x\": 1.55, \"xanchor\": \"left\", \"xref\": \"x\", \"y\": 57, \"yref\": \"y\"}, {\"align\": \"left\", \"font\": {\"color\": \"#000000\"}, \"showarrow\": false, \"text\": \"13.0\", \"x\": 2.55, \"xanchor\": \"left\", \"xref\": \"x\", \"y\": 57, \"yref\": \"y\"}, {\"align\": \"left\", \"font\": {\"color\": \"#000000\"}, \"showarrow\": false, \"text\": \"26\", \"x\": 3.55, \"xanchor\": \"left\", \"xref\": \"x\", \"y\": 57, \"yref\": \"y\"}, {\"align\": \"left\", \"font\": {\"color\": \"#000000\"}, \"showarrow\": false, \"text\": \"2017-10-28\", \"x\": -0.45, \"xanchor\": \"left\", \"xref\": \"x\", \"y\": 58, \"yref\": \"y\"}, {\"align\": \"left\", \"font\": {\"color\": \"#000000\"}, \"showarrow\": false, \"text\": \"3.0\", \"x\": 0.55, \"xanchor\": \"left\", \"xref\": \"x\", \"y\": 58, \"yref\": \"y\"}, {\"align\": \"left\", \"font\": {\"color\": \"#000000\"}, \"showarrow\": false, \"text\": \"15.0\", \"x\": 1.55, \"xanchor\": \"left\", \"xref\": \"x\", \"y\": 58, \"yref\": \"y\"}, {\"align\": \"left\", \"font\": {\"color\": \"#000000\"}, \"showarrow\": false, \"text\": \"5.0\", \"x\": 2.55, \"xanchor\": \"left\", \"xref\": \"x\", \"y\": 58, \"yref\": \"y\"}, {\"align\": \"left\", \"font\": {\"color\": \"#000000\"}, \"showarrow\": false, \"text\": \"23\", \"x\": 3.55, \"xanchor\": \"left\", \"xref\": \"x\", \"y\": 58, \"yref\": \"y\"}, {\"align\": \"left\", \"font\": {\"color\": \"#000000\"}, \"showarrow\": false, \"text\": \"2017-10-29\", \"x\": -0.45, \"xanchor\": \"left\", \"xref\": \"x\", \"y\": 59, \"yref\": \"y\"}, {\"align\": \"left\", \"font\": {\"color\": \"#000000\"}, \"showarrow\": false, \"text\": \"0.0\", \"x\": 0.55, \"xanchor\": \"left\", \"xref\": \"x\", \"y\": 59, \"yref\": \"y\"}, {\"align\": \"left\", \"font\": {\"color\": \"#000000\"}, \"showarrow\": false, \"text\": \"14.0\", \"x\": 1.55, \"xanchor\": \"left\", \"xref\": \"x\", \"y\": 59, \"yref\": \"y\"}, {\"align\": \"left\", \"font\": {\"color\": \"#000000\"}, \"showarrow\": false, \"text\": \"8.0\", \"x\": 2.55, \"xanchor\": \"left\", \"xref\": \"x\", \"y\": 59, \"yref\": \"y\"}, {\"align\": \"left\", \"font\": {\"color\": \"#000000\"}, \"showarrow\": false, \"text\": \"22\", \"x\": 3.55, \"xanchor\": \"left\", \"xref\": \"x\", \"y\": 59, \"yref\": \"y\"}, {\"align\": \"left\", \"font\": {\"color\": \"#000000\"}, \"showarrow\": false, \"text\": \"2017-10-30\", \"x\": -0.45, \"xanchor\": \"left\", \"xref\": \"x\", \"y\": 60, \"yref\": \"y\"}, {\"align\": \"left\", \"font\": {\"color\": \"#000000\"}, \"showarrow\": false, \"text\": \"1.0\", \"x\": 0.55, \"xanchor\": \"left\", \"xref\": \"x\", \"y\": 60, \"yref\": \"y\"}, {\"align\": \"left\", \"font\": {\"color\": \"#000000\"}, \"showarrow\": false, \"text\": \"18.0\", \"x\": 1.55, \"xanchor\": \"left\", \"xref\": \"x\", \"y\": 60, \"yref\": \"y\"}, {\"align\": \"left\", \"font\": {\"color\": \"#000000\"}, \"showarrow\": false, \"text\": \"6.0\", \"x\": 2.55, \"xanchor\": \"left\", \"xref\": \"x\", \"y\": 60, \"yref\": \"y\"}, {\"align\": \"left\", \"font\": {\"color\": \"#000000\"}, \"showarrow\": false, \"text\": \"25\", \"x\": 3.55, \"xanchor\": \"left\", \"xref\": \"x\", \"y\": 60, \"yref\": \"y\"}, {\"align\": \"left\", \"font\": {\"color\": \"#000000\"}, \"showarrow\": false, \"text\": \"2017-10-31\", \"x\": -0.45, \"xanchor\": \"left\", \"xref\": \"x\", \"y\": 61, \"yref\": \"y\"}, {\"align\": \"left\", \"font\": {\"color\": \"#000000\"}, \"showarrow\": false, \"text\": \"3.0\", \"x\": 0.55, \"xanchor\": \"left\", \"xref\": \"x\", \"y\": 61, \"yref\": \"y\"}, {\"align\": \"left\", \"font\": {\"color\": \"#000000\"}, \"showarrow\": false, \"text\": \"27.0\", \"x\": 1.55, \"xanchor\": \"left\", \"xref\": \"x\", \"y\": 61, \"yref\": \"y\"}, {\"align\": \"left\", \"font\": {\"color\": \"#000000\"}, \"showarrow\": false, \"text\": \"20.0\", \"x\": 2.55, \"xanchor\": \"left\", \"xref\": \"x\", \"y\": 61, \"yref\": \"y\"}, {\"align\": \"left\", \"font\": {\"color\": \"#000000\"}, \"showarrow\": false, \"text\": \"50\", \"x\": 3.55, \"xanchor\": \"left\", \"xref\": \"x\", \"y\": 61, \"yref\": \"y\"}, {\"align\": \"left\", \"font\": {\"color\": \"#000000\"}, \"showarrow\": false, \"text\": \"2017-11-01\", \"x\": -0.45, \"xanchor\": \"left\", \"xref\": \"x\", \"y\": 62, \"yref\": \"y\"}, {\"align\": \"left\", \"font\": {\"color\": \"#000000\"}, \"showarrow\": false, \"text\": \"9.0\", \"x\": 0.55, \"xanchor\": \"left\", \"xref\": \"x\", \"y\": 62, \"yref\": \"y\"}, {\"align\": \"left\", \"font\": {\"color\": \"#000000\"}, \"showarrow\": false, \"text\": \"38.0\", \"x\": 1.55, \"xanchor\": \"left\", \"xref\": \"x\", \"y\": 62, \"yref\": \"y\"}, {\"align\": \"left\", \"font\": {\"color\": \"#000000\"}, \"showarrow\": false, \"text\": \"31.000000000000004\", \"x\": 2.55, \"xanchor\": \"left\", \"xref\": \"x\", \"y\": 62, \"yref\": \"y\"}, {\"align\": \"left\", \"font\": {\"color\": \"#000000\"}, \"showarrow\": false, \"text\": \"78\", \"x\": 3.55, \"xanchor\": \"left\", \"xref\": \"x\", \"y\": 62, \"yref\": \"y\"}, {\"align\": \"left\", \"font\": {\"color\": \"#000000\"}, \"showarrow\": false, \"text\": \"2017-11-02\", \"x\": -0.45, \"xanchor\": \"left\", \"xref\": \"x\", \"y\": 63, \"yref\": \"y\"}, {\"align\": \"left\", \"font\": {\"color\": \"#000000\"}, \"showarrow\": false, \"text\": \"4.0\", \"x\": 0.55, \"xanchor\": \"left\", \"xref\": \"x\", \"y\": 63, \"yref\": \"y\"}, {\"align\": \"left\", \"font\": {\"color\": \"#000000\"}, \"showarrow\": false, \"text\": \"42.00000000000001\", \"x\": 1.55, \"xanchor\": \"left\", \"xref\": \"x\", \"y\": 63, \"yref\": \"y\"}, {\"align\": \"left\", \"font\": {\"color\": \"#000000\"}, \"showarrow\": false, \"text\": \"30.0\", \"x\": 2.55, \"xanchor\": \"left\", \"xref\": \"x\", \"y\": 63, \"yref\": \"y\"}, {\"align\": \"left\", \"font\": {\"color\": \"#000000\"}, \"showarrow\": false, \"text\": \"76\", \"x\": 3.55, \"xanchor\": \"left\", \"xref\": \"x\", \"y\": 63, \"yref\": \"y\"}, {\"align\": \"left\", \"font\": {\"color\": \"#000000\"}, \"showarrow\": false, \"text\": \"2017-11-03\", \"x\": -0.45, \"xanchor\": \"left\", \"xref\": \"x\", \"y\": 64, \"yref\": \"y\"}, {\"align\": \"left\", \"font\": {\"color\": \"#000000\"}, \"showarrow\": false, \"text\": \"13.0\", \"x\": 0.55, \"xanchor\": \"left\", \"xref\": \"x\", \"y\": 64, \"yref\": \"y\"}, {\"align\": \"left\", \"font\": {\"color\": \"#000000\"}, \"showarrow\": false, \"text\": \"39.0\", \"x\": 1.55, \"xanchor\": \"left\", \"xref\": \"x\", \"y\": 64, \"yref\": \"y\"}, {\"align\": \"left\", \"font\": {\"color\": \"#000000\"}, \"showarrow\": false, \"text\": \"34.0\", \"x\": 2.55, \"xanchor\": \"left\", \"xref\": \"x\", \"y\": 64, \"yref\": \"y\"}, {\"align\": \"left\", \"font\": {\"color\": \"#000000\"}, \"showarrow\": false, \"text\": \"86\", \"x\": 3.55, \"xanchor\": \"left\", \"xref\": \"x\", \"y\": 64, \"yref\": \"y\"}, {\"align\": \"left\", \"font\": {\"color\": \"#000000\"}, \"showarrow\": false, \"text\": \"2017-11-04\", \"x\": -0.45, \"xanchor\": \"left\", \"xref\": \"x\", \"y\": 65, \"yref\": \"y\"}, {\"align\": \"left\", \"font\": {\"color\": \"#000000\"}, \"showarrow\": false, \"text\": \"7.999999999999999\", \"x\": 0.55, \"xanchor\": \"left\", \"xref\": \"x\", \"y\": 65, \"yref\": \"y\"}, {\"align\": \"left\", \"font\": {\"color\": \"#000000\"}, \"showarrow\": false, \"text\": \"34.0\", \"x\": 1.55, \"xanchor\": \"left\", \"xref\": \"x\", \"y\": 65, \"yref\": \"y\"}, {\"align\": \"left\", \"font\": {\"color\": \"#000000\"}, \"showarrow\": false, \"text\": \"33.0\", \"x\": 2.55, \"xanchor\": \"left\", \"xref\": \"x\", \"y\": 65, \"yref\": \"y\"}, {\"align\": \"left\", \"font\": {\"color\": \"#000000\"}, \"showarrow\": false, \"text\": \"75\", \"x\": 3.55, \"xanchor\": \"left\", \"xref\": \"x\", \"y\": 65, \"yref\": \"y\"}, {\"align\": \"left\", \"font\": {\"color\": \"#000000\"}, \"showarrow\": false, \"text\": \"2017-11-05\", \"x\": -0.45, \"xanchor\": \"left\", \"xref\": \"x\", \"y\": 66, \"yref\": \"y\"}, {\"align\": \"left\", \"font\": {\"color\": \"#000000\"}, \"showarrow\": false, \"text\": \"7.0\", \"x\": 0.55, \"xanchor\": \"left\", \"xref\": \"x\", \"y\": 66, \"yref\": \"y\"}, {\"align\": \"left\", \"font\": {\"color\": \"#000000\"}, \"showarrow\": false, \"text\": \"33.0\", \"x\": 1.55, \"xanchor\": \"left\", \"xref\": \"x\", \"y\": 66, \"yref\": \"y\"}, {\"align\": \"left\", \"font\": {\"color\": \"#000000\"}, \"showarrow\": false, \"text\": \"40.0\", \"x\": 2.55, \"xanchor\": \"left\", \"xref\": \"x\", \"y\": 66, \"yref\": \"y\"}, {\"align\": \"left\", \"font\": {\"color\": \"#000000\"}, \"showarrow\": false, \"text\": \"80\", \"x\": 3.55, \"xanchor\": \"left\", \"xref\": \"x\", \"y\": 66, \"yref\": \"y\"}, {\"align\": \"left\", \"font\": {\"color\": \"#000000\"}, \"showarrow\": false, \"text\": \"2017-11-06\", \"x\": -0.45, \"xanchor\": \"left\", \"xref\": \"x\", \"y\": 67, \"yref\": \"y\"}, {\"align\": \"left\", \"font\": {\"color\": \"#000000\"}, \"showarrow\": false, \"text\": \"73.0\", \"x\": 0.55, \"xanchor\": \"left\", \"xref\": \"x\", \"y\": 67, \"yref\": \"y\"}, {\"align\": \"left\", \"font\": {\"color\": \"#000000\"}, \"showarrow\": false, \"text\": \"389.00000000000006\", \"x\": 1.55, \"xanchor\": \"left\", \"xref\": \"x\", \"y\": 67, \"yref\": \"y\"}, {\"align\": \"left\", \"font\": {\"color\": \"#000000\"}, \"showarrow\": false, \"text\": \"229.99999999999997\", \"x\": 2.55, \"xanchor\": \"left\", \"xref\": \"x\", \"y\": 67, \"yref\": \"y\"}, {\"align\": \"left\", \"font\": {\"color\": \"#000000\"}, \"showarrow\": false, \"text\": \"692\", \"x\": 3.55, \"xanchor\": \"left\", \"xref\": \"x\", \"y\": 67, \"yref\": \"y\"}, {\"align\": \"left\", \"font\": {\"color\": \"#000000\"}, \"showarrow\": false, \"text\": \"2017-11-07\", \"x\": -0.45, \"xanchor\": \"left\", \"xref\": \"x\", \"y\": 68, \"yref\": \"y\"}, {\"align\": \"left\", \"font\": {\"color\": \"#000000\"}, \"showarrow\": false, \"text\": \"59.00000000000001\", \"x\": 0.55, \"xanchor\": \"left\", \"xref\": \"x\", \"y\": 68, \"yref\": \"y\"}, {\"align\": \"left\", \"font\": {\"color\": \"#000000\"}, \"showarrow\": false, \"text\": \"370.00000000000006\", \"x\": 1.55, \"xanchor\": \"left\", \"xref\": \"x\", \"y\": 68, \"yref\": \"y\"}, {\"align\": \"left\", \"font\": {\"color\": \"#000000\"}, \"showarrow\": false, \"text\": \"230.99999999999997\", \"x\": 2.55, \"xanchor\": \"left\", \"xref\": \"x\", \"y\": 68, \"yref\": \"y\"}, {\"align\": \"left\", \"font\": {\"color\": \"#000000\"}, \"showarrow\": false, \"text\": \"660\", \"x\": 3.55, \"xanchor\": \"left\", \"xref\": \"x\", \"y\": 68, \"yref\": \"y\"}, {\"align\": \"left\", \"font\": {\"color\": \"#000000\"}, \"showarrow\": false, \"text\": \"2017-11-08\", \"x\": -0.45, \"xanchor\": \"left\", \"xref\": \"x\", \"y\": 69, \"yref\": \"y\"}, {\"align\": \"left\", \"font\": {\"color\": \"#000000\"}, \"showarrow\": false, \"text\": \"67.0\", \"x\": 0.55, \"xanchor\": \"left\", \"xref\": \"x\", \"y\": 69, \"yref\": \"y\"}, {\"align\": \"left\", \"font\": {\"color\": \"#000000\"}, \"showarrow\": false, \"text\": \"426.00000000000006\", \"x\": 1.55, \"xanchor\": \"left\", \"xref\": \"x\", \"y\": 69, \"yref\": \"y\"}, {\"align\": \"left\", \"font\": {\"color\": \"#000000\"}, \"showarrow\": false, \"text\": \"353.0\", \"x\": 2.55, \"xanchor\": \"left\", \"xref\": \"x\", \"y\": 69, \"yref\": \"y\"}, {\"align\": \"left\", \"font\": {\"color\": \"#000000\"}, \"showarrow\": false, \"text\": \"846\", \"x\": 3.55, \"xanchor\": \"left\", \"xref\": \"x\", \"y\": 69, \"yref\": \"y\"}, {\"align\": \"left\", \"font\": {\"color\": \"#000000\"}, \"showarrow\": false, \"text\": \"2017-11-09\", \"x\": -0.45, \"xanchor\": \"left\", \"xref\": \"x\", \"y\": 70, \"yref\": \"y\"}, {\"align\": \"left\", \"font\": {\"color\": \"#000000\"}, \"showarrow\": false, \"text\": \"57.99999999999999\", \"x\": 0.55, \"xanchor\": \"left\", \"xref\": \"x\", \"y\": 70, \"yref\": \"y\"}, {\"align\": \"left\", \"font\": {\"color\": \"#000000\"}, \"showarrow\": false, \"text\": \"382.00000000000006\", \"x\": 1.55, \"xanchor\": \"left\", \"xref\": \"x\", \"y\": 70, \"yref\": \"y\"}, {\"align\": \"left\", \"font\": {\"color\": \"#000000\"}, \"showarrow\": false, \"text\": \"253.0\", \"x\": 2.55, \"xanchor\": \"left\", \"xref\": \"x\", \"y\": 70, \"yref\": \"y\"}, {\"align\": \"left\", \"font\": {\"color\": \"#000000\"}, \"showarrow\": false, \"text\": \"693\", \"x\": 3.55, \"xanchor\": \"left\", \"xref\": \"x\", \"y\": 70, \"yref\": \"y\"}, {\"align\": \"left\", \"font\": {\"color\": \"#000000\"}, \"showarrow\": false, \"text\": \"2017-11-10\", \"x\": -0.45, \"xanchor\": \"left\", \"xref\": \"x\", \"y\": 71, \"yref\": \"y\"}, {\"align\": \"left\", \"font\": {\"color\": \"#000000\"}, \"showarrow\": false, \"text\": \"88.0\", \"x\": 0.55, \"xanchor\": \"left\", \"xref\": \"x\", \"y\": 71, \"yref\": \"y\"}, {\"align\": \"left\", \"font\": {\"color\": \"#000000\"}, \"showarrow\": false, \"text\": \"385.0\", \"x\": 1.55, \"xanchor\": \"left\", \"xref\": \"x\", \"y\": 71, \"yref\": \"y\"}, {\"align\": \"left\", \"font\": {\"color\": \"#000000\"}, \"showarrow\": false, \"text\": \"267.0\", \"x\": 2.55, \"xanchor\": \"left\", \"xref\": \"x\", \"y\": 71, \"yref\": \"y\"}, {\"align\": \"left\", \"font\": {\"color\": \"#000000\"}, \"showarrow\": false, \"text\": \"740\", \"x\": 3.55, \"xanchor\": \"left\", \"xref\": \"x\", \"y\": 71, \"yref\": \"y\"}, {\"align\": \"left\", \"font\": {\"color\": \"#000000\"}, \"showarrow\": false, \"text\": \"2017-11-11\", \"x\": -0.45, \"xanchor\": \"left\", \"xref\": \"x\", \"y\": 72, \"yref\": \"y\"}, {\"align\": \"left\", \"font\": {\"color\": \"#000000\"}, \"showarrow\": false, \"text\": \"57.0\", \"x\": 0.55, \"xanchor\": \"left\", \"xref\": \"x\", \"y\": 72, \"yref\": \"y\"}, {\"align\": \"left\", \"font\": {\"color\": \"#000000\"}, \"showarrow\": false, \"text\": \"333.0\", \"x\": 1.55, \"xanchor\": \"left\", \"xref\": \"x\", \"y\": 72, \"yref\": \"y\"}, {\"align\": \"left\", \"font\": {\"color\": \"#000000\"}, \"showarrow\": false, \"text\": \"247.0\", \"x\": 2.55, \"xanchor\": \"left\", \"xref\": \"x\", \"y\": 72, \"yref\": \"y\"}, {\"align\": \"left\", \"font\": {\"color\": \"#000000\"}, \"showarrow\": false, \"text\": \"637\", \"x\": 3.55, \"xanchor\": \"left\", \"xref\": \"x\", \"y\": 72, \"yref\": \"y\"}, {\"align\": \"left\", \"font\": {\"color\": \"#000000\"}, \"showarrow\": false, \"text\": \"2017-11-12\", \"x\": -0.45, \"xanchor\": \"left\", \"xref\": \"x\", \"y\": 73, \"yref\": \"y\"}, {\"align\": \"left\", \"font\": {\"color\": \"#000000\"}, \"showarrow\": false, \"text\": \"85.99999999999999\", \"x\": 0.55, \"xanchor\": \"left\", \"xref\": \"x\", \"y\": 73, \"yref\": \"y\"}, {\"align\": \"left\", \"font\": {\"color\": \"#000000\"}, \"showarrow\": false, \"text\": \"370.0\", \"x\": 1.55, \"xanchor\": \"left\", \"xref\": \"x\", \"y\": 73, \"yref\": \"y\"}, {\"align\": \"left\", \"font\": {\"color\": \"#000000\"}, \"showarrow\": false, \"text\": \"293.0\", \"x\": 2.55, \"xanchor\": \"left\", \"xref\": \"x\", \"y\": 73, \"yref\": \"y\"}, {\"align\": \"left\", \"font\": {\"color\": \"#000000\"}, \"showarrow\": false, \"text\": \"749\", \"x\": 3.55, \"xanchor\": \"left\", \"xref\": \"x\", \"y\": 73, \"yref\": \"y\"}, {\"align\": \"left\", \"font\": {\"color\": \"#000000\"}, \"showarrow\": false, \"text\": \"2017-11-13\", \"x\": -0.45, \"xanchor\": \"left\", \"xref\": \"x\", \"y\": 74, \"yref\": \"y\"}, {\"align\": \"left\", \"font\": {\"color\": \"#000000\"}, \"showarrow\": false, \"text\": \"88.00000000000001\", \"x\": 0.55, \"xanchor\": \"left\", \"xref\": \"x\", \"y\": 74, \"yref\": \"y\"}, {\"align\": \"left\", \"font\": {\"color\": \"#000000\"}, \"showarrow\": false, \"text\": \"438.00000000000006\", \"x\": 1.55, \"xanchor\": \"left\", \"xref\": \"x\", \"y\": 74, \"yref\": \"y\"}, {\"align\": \"left\", \"font\": {\"color\": \"#000000\"}, \"showarrow\": false, \"text\": \"305.0\", \"x\": 2.55, \"xanchor\": \"left\", \"xref\": \"x\", \"y\": 74, \"yref\": \"y\"}, {\"align\": \"left\", \"font\": {\"color\": \"#000000\"}, \"showarrow\": false, \"text\": \"831\", \"x\": 3.55, \"xanchor\": \"left\", \"xref\": \"x\", \"y\": 74, \"yref\": \"y\"}, {\"align\": \"left\", \"font\": {\"color\": \"#000000\"}, \"showarrow\": false, \"text\": \"2017-11-14\", \"x\": -0.45, \"xanchor\": \"left\", \"xref\": \"x\", \"y\": 75, \"yref\": \"y\"}, {\"align\": \"left\", \"font\": {\"color\": \"#000000\"}, \"showarrow\": false, \"text\": \"59.0\", \"x\": 0.55, \"xanchor\": \"left\", \"xref\": \"x\", \"y\": 75, \"yref\": \"y\"}, {\"align\": \"left\", \"font\": {\"color\": \"#000000\"}, \"showarrow\": false, \"text\": \"384.0\", \"x\": 1.55, \"xanchor\": \"left\", \"xref\": \"x\", \"y\": 75, \"yref\": \"y\"}, {\"align\": \"left\", \"font\": {\"color\": \"#000000\"}, \"showarrow\": false, \"text\": \"296.0\", \"x\": 2.55, \"xanchor\": \"left\", \"xref\": \"x\", \"y\": 75, \"yref\": \"y\"}, {\"align\": \"left\", \"font\": {\"color\": \"#000000\"}, \"showarrow\": false, \"text\": \"739\", \"x\": 3.55, \"xanchor\": \"left\", \"xref\": \"x\", \"y\": 75, \"yref\": \"y\"}, {\"align\": \"left\", \"font\": {\"color\": \"#000000\"}, \"showarrow\": false, \"text\": \"2017-11-15\", \"x\": -0.45, \"xanchor\": \"left\", \"xref\": \"x\", \"y\": 76, \"yref\": \"y\"}, {\"align\": \"left\", \"font\": {\"color\": \"#000000\"}, \"showarrow\": false, \"text\": \"53.99999999999999\", \"x\": 0.55, \"xanchor\": \"left\", \"xref\": \"x\", \"y\": 76, \"yref\": \"y\"}, {\"align\": \"left\", \"font\": {\"color\": \"#000000\"}, \"showarrow\": false, \"text\": \"436.0\", \"x\": 1.55, \"xanchor\": \"left\", \"xref\": \"x\", \"y\": 76, \"yref\": \"y\"}, {\"align\": \"left\", \"font\": {\"color\": \"#000000\"}, \"showarrow\": false, \"text\": \"341.00000000000006\", \"x\": 2.55, \"xanchor\": \"left\", \"xref\": \"x\", \"y\": 76, \"yref\": \"y\"}, {\"align\": \"left\", \"font\": {\"color\": \"#000000\"}, \"showarrow\": false, \"text\": \"831\", \"x\": 3.55, \"xanchor\": \"left\", \"xref\": \"x\", \"y\": 76, \"yref\": \"y\"}, {\"align\": \"left\", \"font\": {\"color\": \"#000000\"}, \"showarrow\": false, \"text\": \"2017-11-16\", \"x\": -0.45, \"xanchor\": \"left\", \"xref\": \"x\", \"y\": 77, \"yref\": \"y\"}, {\"align\": \"left\", \"font\": {\"color\": \"#000000\"}, \"showarrow\": false, \"text\": \"55.00000000000001\", \"x\": 0.55, \"xanchor\": \"left\", \"xref\": \"x\", \"y\": 77, \"yref\": \"y\"}, {\"align\": \"left\", \"font\": {\"color\": \"#000000\"}, \"showarrow\": false, \"text\": \"463.0\", \"x\": 1.55, \"xanchor\": \"left\", \"xref\": \"x\", \"y\": 77, \"yref\": \"y\"}, {\"align\": \"left\", \"font\": {\"color\": \"#000000\"}, \"showarrow\": false, \"text\": \"344.00000000000006\", \"x\": 2.55, \"xanchor\": \"left\", \"xref\": \"x\", \"y\": 77, \"yref\": \"y\"}, {\"align\": \"left\", \"font\": {\"color\": \"#000000\"}, \"showarrow\": false, \"text\": \"862\", \"x\": 3.55, \"xanchor\": \"left\", \"xref\": \"x\", \"y\": 77, \"yref\": \"y\"}, {\"align\": \"left\", \"font\": {\"color\": \"#000000\"}, \"showarrow\": false, \"text\": \"2017-11-17\", \"x\": -0.45, \"xanchor\": \"left\", \"xref\": \"x\", \"y\": 78, \"yref\": \"y\"}, {\"align\": \"left\", \"font\": {\"color\": \"#000000\"}, \"showarrow\": false, \"text\": \"68.99999999999999\", \"x\": 0.55, \"xanchor\": \"left\", \"xref\": \"x\", \"y\": 78, \"yref\": \"y\"}, {\"align\": \"left\", \"font\": {\"color\": \"#000000\"}, \"showarrow\": false, \"text\": \"454.00000000000006\", \"x\": 1.55, \"xanchor\": \"left\", \"xref\": \"x\", \"y\": 78, \"yref\": \"y\"}, {\"align\": \"left\", \"font\": {\"color\": \"#000000\"}, \"showarrow\": false, \"text\": \"339.0\", \"x\": 2.55, \"xanchor\": \"left\", \"xref\": \"x\", \"y\": 78, \"yref\": \"y\"}, {\"align\": \"left\", \"font\": {\"color\": \"#000000\"}, \"showarrow\": false, \"text\": \"862\", \"x\": 3.55, \"xanchor\": \"left\", \"xref\": \"x\", \"y\": 78, \"yref\": \"y\"}, {\"align\": \"left\", \"font\": {\"color\": \"#000000\"}, \"showarrow\": false, \"text\": \"2017-11-18\", \"x\": -0.45, \"xanchor\": \"left\", \"xref\": \"x\", \"y\": 79, \"yref\": \"y\"}, {\"align\": \"left\", \"font\": {\"color\": \"#000000\"}, \"showarrow\": false, \"text\": \"54.00000000000001\", \"x\": 0.55, \"xanchor\": \"left\", \"xref\": \"x\", \"y\": 79, \"yref\": \"y\"}, {\"align\": \"left\", \"font\": {\"color\": \"#000000\"}, \"showarrow\": false, \"text\": \"320.00000000000006\", \"x\": 1.55, \"xanchor\": \"left\", \"xref\": \"x\", \"y\": 79, \"yref\": \"y\"}, {\"align\": \"left\", \"font\": {\"color\": \"#000000\"}, \"showarrow\": false, \"text\": \"271.0\", \"x\": 2.55, \"xanchor\": \"left\", \"xref\": \"x\", \"y\": 79, \"yref\": \"y\"}, {\"align\": \"left\", \"font\": {\"color\": \"#000000\"}, \"showarrow\": false, \"text\": \"645\", \"x\": 3.55, \"xanchor\": \"left\", \"xref\": \"x\", \"y\": 79, \"yref\": \"y\"}, {\"align\": \"left\", \"font\": {\"color\": \"#000000\"}, \"showarrow\": false, \"text\": \"2017-11-19\", \"x\": -0.45, \"xanchor\": \"left\", \"xref\": \"x\", \"y\": 80, \"yref\": \"y\"}, {\"align\": \"left\", \"font\": {\"color\": \"#000000\"}, \"showarrow\": false, \"text\": \"42.0\", \"x\": 0.55, \"xanchor\": \"left\", \"xref\": \"x\", \"y\": 80, \"yref\": \"y\"}, {\"align\": \"left\", \"font\": {\"color\": \"#000000\"}, \"showarrow\": false, \"text\": \"340.0\", \"x\": 1.55, \"xanchor\": \"left\", \"xref\": \"x\", \"y\": 80, \"yref\": \"y\"}, {\"align\": \"left\", \"font\": {\"color\": \"#000000\"}, \"showarrow\": false, \"text\": \"239.0\", \"x\": 2.55, \"xanchor\": \"left\", \"xref\": \"x\", \"y\": 80, \"yref\": \"y\"}, {\"align\": \"left\", \"font\": {\"color\": \"#000000\"}, \"showarrow\": false, \"text\": \"621\", \"x\": 3.55, \"xanchor\": \"left\", \"xref\": \"x\", \"y\": 80, \"yref\": \"y\"}, {\"align\": \"left\", \"font\": {\"color\": \"#000000\"}, \"showarrow\": false, \"text\": \"2017-11-20\", \"x\": -0.45, \"xanchor\": \"left\", \"xref\": \"x\", \"y\": 81, \"yref\": \"y\"}, {\"align\": \"left\", \"font\": {\"color\": \"#000000\"}, \"showarrow\": false, \"text\": \"65.0\", \"x\": 0.55, \"xanchor\": \"left\", \"xref\": \"x\", \"y\": 81, \"yref\": \"y\"}, {\"align\": \"left\", \"font\": {\"color\": \"#000000\"}, \"showarrow\": false, \"text\": \"477.0\", \"x\": 1.55, \"xanchor\": \"left\", \"xref\": \"x\", \"y\": 81, \"yref\": \"y\"}, {\"align\": \"left\", \"font\": {\"color\": \"#000000\"}, \"showarrow\": false, \"text\": \"319.0\", \"x\": 2.55, \"xanchor\": \"left\", \"xref\": \"x\", \"y\": 81, \"yref\": \"y\"}, {\"align\": \"left\", \"font\": {\"color\": \"#000000\"}, \"showarrow\": false, \"text\": \"861\", \"x\": 3.55, \"xanchor\": \"left\", \"xref\": \"x\", \"y\": 81, \"yref\": \"y\"}, {\"align\": \"left\", \"font\": {\"color\": \"#000000\"}, \"showarrow\": false, \"text\": \"2017-11-21\", \"x\": -0.45, \"xanchor\": \"left\", \"xref\": \"x\", \"y\": 82, \"yref\": \"y\"}, {\"align\": \"left\", \"font\": {\"color\": \"#000000\"}, \"showarrow\": false, \"text\": \"34.99999999999999\", \"x\": 0.55, \"xanchor\": \"left\", \"xref\": \"x\", \"y\": 82, \"yref\": \"y\"}, {\"align\": \"left\", \"font\": {\"color\": \"#000000\"}, \"showarrow\": false, \"text\": \"154.99999999999997\", \"x\": 1.55, \"xanchor\": \"left\", \"xref\": \"x\", \"y\": 82, \"yref\": \"y\"}, {\"align\": \"left\", \"font\": {\"color\": \"#000000\"}, \"showarrow\": false, \"text\": \"109.99999999999999\", \"x\": 2.55, \"xanchor\": \"left\", \"xref\": \"x\", \"y\": 82, \"yref\": \"y\"}, {\"align\": \"left\", \"font\": {\"color\": \"#000000\"}, \"showarrow\": false, \"text\": \"300\", \"x\": 3.55, \"xanchor\": \"left\", \"xref\": \"x\", \"y\": 82, \"yref\": \"y\"}, {\"align\": \"left\", \"font\": {\"color\": \"#000000\"}, \"showarrow\": false, \"text\": \"2017-11-22\", \"x\": -0.45, \"xanchor\": \"left\", \"xref\": \"x\", \"y\": 83, \"yref\": \"y\"}, {\"align\": \"left\", \"font\": {\"color\": \"#000000\"}, \"showarrow\": false, \"text\": \"72.0\", \"x\": 0.55, \"xanchor\": \"left\", \"xref\": \"x\", \"y\": 83, \"yref\": \"y\"}, {\"align\": \"left\", \"font\": {\"color\": \"#000000\"}, \"showarrow\": false, \"text\": \"439.0\", \"x\": 1.55, \"xanchor\": \"left\", \"xref\": \"x\", \"y\": 83, \"yref\": \"y\"}, {\"align\": \"left\", \"font\": {\"color\": \"#000000\"}, \"showarrow\": false, \"text\": \"377.0\", \"x\": 2.55, \"xanchor\": \"left\", \"xref\": \"x\", \"y\": 83, \"yref\": \"y\"}, {\"align\": \"left\", \"font\": {\"color\": \"#000000\"}, \"showarrow\": false, \"text\": \"888\", \"x\": 3.55, \"xanchor\": \"left\", \"xref\": \"x\", \"y\": 83, \"yref\": \"y\"}, {\"align\": \"left\", \"font\": {\"color\": \"#000000\"}, \"showarrow\": false, \"text\": \"2017-11-23\", \"x\": -0.45, \"xanchor\": \"left\", \"xref\": \"x\", \"y\": 84, \"yref\": \"y\"}, {\"align\": \"left\", \"font\": {\"color\": \"#000000\"}, \"showarrow\": false, \"text\": \"70.0\", \"x\": 0.55, \"xanchor\": \"left\", \"xref\": \"x\", \"y\": 84, \"yref\": \"y\"}, {\"align\": \"left\", \"font\": {\"color\": \"#000000\"}, \"showarrow\": false, \"text\": \"373.0\", \"x\": 1.55, \"xanchor\": \"left\", \"xref\": \"x\", \"y\": 84, \"yref\": \"y\"}, {\"align\": \"left\", \"font\": {\"color\": \"#000000\"}, \"showarrow\": false, \"text\": \"303.0\", \"x\": 2.55, \"xanchor\": \"left\", \"xref\": \"x\", \"y\": 84, \"yref\": \"y\"}, {\"align\": \"left\", \"font\": {\"color\": \"#000000\"}, \"showarrow\": false, \"text\": \"746\", \"x\": 3.55, \"xanchor\": \"left\", \"xref\": \"x\", \"y\": 84, \"yref\": \"y\"}, {\"align\": \"left\", \"font\": {\"color\": \"#000000\"}, \"showarrow\": false, \"text\": \"2017-11-24\", \"x\": -0.45, \"xanchor\": \"left\", \"xref\": \"x\", \"y\": 85, \"yref\": \"y\"}, {\"align\": \"left\", \"font\": {\"color\": \"#000000\"}, \"showarrow\": false, \"text\": \"57.00000000000001\", \"x\": 0.55, \"xanchor\": \"left\", \"xref\": \"x\", \"y\": 85, \"yref\": \"y\"}, {\"align\": \"left\", \"font\": {\"color\": \"#000000\"}, \"showarrow\": false, \"text\": \"350.0\", \"x\": 1.55, \"xanchor\": \"left\", \"xref\": \"x\", \"y\": 85, \"yref\": \"y\"}, {\"align\": \"left\", \"font\": {\"color\": \"#000000\"}, \"showarrow\": false, \"text\": \"298.00000000000006\", \"x\": 2.55, \"xanchor\": \"left\", \"xref\": \"x\", \"y\": 85, \"yref\": \"y\"}, {\"align\": \"left\", \"font\": {\"color\": \"#000000\"}, \"showarrow\": false, \"text\": \"705\", \"x\": 3.55, \"xanchor\": \"left\", \"xref\": \"x\", \"y\": 85, \"yref\": \"y\"}, {\"align\": \"left\", \"font\": {\"color\": \"#000000\"}, \"showarrow\": false, \"text\": \"2017-11-25\", \"x\": -0.45, \"xanchor\": \"left\", \"xref\": \"x\", \"y\": 86, \"yref\": \"y\"}, {\"align\": \"left\", \"font\": {\"color\": \"#000000\"}, \"showarrow\": false, \"text\": \"54.0\", \"x\": 0.55, \"xanchor\": \"left\", \"xref\": \"x\", \"y\": 86, \"yref\": \"y\"}, {\"align\": \"left\", \"font\": {\"color\": \"#000000\"}, \"showarrow\": false, \"text\": \"380.0\", \"x\": 1.55, \"xanchor\": \"left\", \"xref\": \"x\", \"y\": 86, \"yref\": \"y\"}, {\"align\": \"left\", \"font\": {\"color\": \"#000000\"}, \"showarrow\": false, \"text\": \"270.0\", \"x\": 2.55, \"xanchor\": \"left\", \"xref\": \"x\", \"y\": 86, \"yref\": \"y\"}, {\"align\": \"left\", \"font\": {\"color\": \"#000000\"}, \"showarrow\": false, \"text\": \"704\", \"x\": 3.55, \"xanchor\": \"left\", \"xref\": \"x\", \"y\": 86, \"yref\": \"y\"}, {\"align\": \"left\", \"font\": {\"color\": \"#000000\"}, \"showarrow\": false, \"text\": \"2017-11-26\", \"x\": -0.45, \"xanchor\": \"left\", \"xref\": \"x\", \"y\": 87, \"yref\": \"y\"}, {\"align\": \"left\", \"font\": {\"color\": \"#000000\"}, \"showarrow\": false, \"text\": \"69.0\", \"x\": 0.55, \"xanchor\": \"left\", \"xref\": \"x\", \"y\": 87, \"yref\": \"y\"}, {\"align\": \"left\", \"font\": {\"color\": \"#000000\"}, \"showarrow\": false, \"text\": \"446.0\", \"x\": 1.55, \"xanchor\": \"left\", \"xref\": \"x\", \"y\": 87, \"yref\": \"y\"}, {\"align\": \"left\", \"font\": {\"color\": \"#000000\"}, \"showarrow\": false, \"text\": \"362.0\", \"x\": 2.55, \"xanchor\": \"left\", \"xref\": \"x\", \"y\": 87, \"yref\": \"y\"}, {\"align\": \"left\", \"font\": {\"color\": \"#000000\"}, \"showarrow\": false, \"text\": \"877\", \"x\": 3.55, \"xanchor\": \"left\", \"xref\": \"x\", \"y\": 87, \"yref\": \"y\"}, {\"align\": \"left\", \"font\": {\"color\": \"#000000\"}, \"showarrow\": false, \"text\": \"2017-11-27\", \"x\": -0.45, \"xanchor\": \"left\", \"xref\": \"x\", \"y\": 88, \"yref\": \"y\"}, {\"align\": \"left\", \"font\": {\"color\": \"#000000\"}, \"showarrow\": false, \"text\": \"93.0\", \"x\": 0.55, \"xanchor\": \"left\", \"xref\": \"x\", \"y\": 88, \"yref\": \"y\"}, {\"align\": \"left\", \"font\": {\"color\": \"#000000\"}, \"showarrow\": false, \"text\": \"609.0000000000001\", \"x\": 1.55, \"xanchor\": \"left\", \"xref\": \"x\", \"y\": 88, \"yref\": \"y\"}, {\"align\": \"left\", \"font\": {\"color\": \"#000000\"}, \"showarrow\": false, \"text\": \"471.00000000000006\", \"x\": 2.55, \"xanchor\": \"left\", \"xref\": \"x\", \"y\": 88, \"yref\": \"y\"}, {\"align\": \"left\", \"font\": {\"color\": \"#000000\"}, \"showarrow\": false, \"text\": \"1173\", \"x\": 3.55, \"xanchor\": \"left\", \"xref\": \"x\", \"y\": 88, \"yref\": \"y\"}, {\"align\": \"left\", \"font\": {\"color\": \"#000000\"}, \"showarrow\": false, \"text\": \"2017-11-28\", \"x\": -0.45, \"xanchor\": \"left\", \"xref\": \"x\", \"y\": 89, \"yref\": \"y\"}, {\"align\": \"left\", \"font\": {\"color\": \"#000000\"}, \"showarrow\": false, \"text\": \"121.0\", \"x\": 0.55, \"xanchor\": \"left\", \"xref\": \"x\", \"y\": 89, \"yref\": \"y\"}, {\"align\": \"left\", \"font\": {\"color\": \"#000000\"}, \"showarrow\": false, \"text\": \"639.0000000000001\", \"x\": 1.55, \"xanchor\": \"left\", \"xref\": \"x\", \"y\": 89, \"yref\": \"y\"}, {\"align\": \"left\", \"font\": {\"color\": \"#000000\"}, \"showarrow\": false, \"text\": \"477.99999999999994\", \"x\": 2.55, \"xanchor\": \"left\", \"xref\": \"x\", \"y\": 89, \"yref\": \"y\"}, {\"align\": \"left\", \"font\": {\"color\": \"#000000\"}, \"showarrow\": false, \"text\": \"1238\", \"x\": 3.55, \"xanchor\": \"left\", \"xref\": \"x\", \"y\": 89, \"yref\": \"y\"}, {\"align\": \"left\", \"font\": {\"color\": \"#000000\"}, \"showarrow\": false, \"text\": \"2017-11-29\", \"x\": -0.45, \"xanchor\": \"left\", \"xref\": \"x\", \"y\": 90, \"yref\": \"y\"}, {\"align\": \"left\", \"font\": {\"color\": \"#000000\"}, \"showarrow\": false, \"text\": \"195.0\", \"x\": 0.55, \"xanchor\": \"left\", \"xref\": \"x\", \"y\": 90, \"yref\": \"y\"}, {\"align\": \"left\", \"font\": {\"color\": \"#000000\"}, \"showarrow\": false, \"text\": \"987.0000000000001\", \"x\": 1.55, \"xanchor\": \"left\", \"xref\": \"x\", \"y\": 90, \"yref\": \"y\"}, {\"align\": \"left\", \"font\": {\"color\": \"#000000\"}, \"showarrow\": false, \"text\": \"656.0\", \"x\": 2.55, \"xanchor\": \"left\", \"xref\": \"x\", \"y\": 90, \"yref\": \"y\"}, {\"align\": \"left\", \"font\": {\"color\": \"#000000\"}, \"showarrow\": false, \"text\": \"1838\", \"x\": 3.55, \"xanchor\": \"left\", \"xref\": \"x\", \"y\": 90, \"yref\": \"y\"}, {\"align\": \"left\", \"font\": {\"color\": \"#000000\"}, \"showarrow\": false, \"text\": \"2017-11-30\", \"x\": -0.45, \"xanchor\": \"left\", \"xref\": \"x\", \"y\": 91, \"yref\": \"y\"}, {\"align\": \"left\", \"font\": {\"color\": \"#000000\"}, \"showarrow\": false, \"text\": \"139.0\", \"x\": 0.55, \"xanchor\": \"left\", \"xref\": \"x\", \"y\": 91, \"yref\": \"y\"}, {\"align\": \"left\", \"font\": {\"color\": \"#000000\"}, \"showarrow\": false, \"text\": \"660.0000000000001\", \"x\": 1.55, \"xanchor\": \"left\", \"xref\": \"x\", \"y\": 91, \"yref\": \"y\"}, {\"align\": \"left\", \"font\": {\"color\": \"#000000\"}, \"showarrow\": false, \"text\": \"460.0\", \"x\": 2.55, \"xanchor\": \"left\", \"xref\": \"x\", \"y\": 91, \"yref\": \"y\"}, {\"align\": \"left\", \"font\": {\"color\": \"#000000\"}, \"showarrow\": false, \"text\": \"1259\", \"x\": 3.55, \"xanchor\": \"left\", \"xref\": \"x\", \"y\": 91, \"yref\": \"y\"}, {\"align\": \"left\", \"font\": {\"color\": \"#000000\"}, \"showarrow\": false, \"text\": \"2017-11-30\", \"x\": -0.45, \"xanchor\": \"left\", \"xref\": \"x\", \"y\": 92, \"yref\": \"y\"}, {\"align\": \"left\", \"font\": {\"color\": \"#000000\"}, \"showarrow\": false, \"text\": \"139.0\", \"x\": 0.55, \"xanchor\": \"left\", \"xref\": \"x\", \"y\": 92, \"yref\": \"y\"}, {\"align\": \"left\", \"font\": {\"color\": \"#000000\"}, \"showarrow\": false, \"text\": \"661.0\", \"x\": 1.55, \"xanchor\": \"left\", \"xref\": \"x\", \"y\": 92, \"yref\": \"y\"}, {\"align\": \"left\", \"font\": {\"color\": \"#000000\"}, \"showarrow\": false, \"text\": \"459.0\", \"x\": 2.55, \"xanchor\": \"left\", \"xref\": \"x\", \"y\": 92, \"yref\": \"y\"}, {\"align\": \"left\", \"font\": {\"color\": \"#000000\"}, \"showarrow\": false, \"text\": \"1259\", \"x\": 3.55, \"xanchor\": \"left\", \"xref\": \"x\", \"y\": 92, \"yref\": \"y\"}], \"height\": 2840, \"margin\": {\"b\": 0, \"l\": 0, \"r\": 0, \"t\": 0}, \"xaxis\": {\"dtick\": 1, \"gridwidth\": 2, \"showticklabels\": false, \"tick0\": -0.5, \"ticks\": \"\", \"zeroline\": false}, \"yaxis\": {\"autorange\": \"reversed\", \"dtick\": 1, \"gridwidth\": 2, \"showticklabels\": false, \"tick0\": 0.5, \"ticks\": \"\", \"zeroline\": false}}, {\"showLink\": true, \"linkText\": \"Export to plot.ly\"})});</script><script type=\"text/javascript\">window.addEventListener(\"resize\", function(){window._Plotly.Plots.resize(document.getElementById(\"36e79efe-e7b8-4078-9541-0534ed3be51b\"));});</script>"
      ],
      "text/vnd.plotly.v1+html": [
       "<div id=\"36e79efe-e7b8-4078-9541-0534ed3be51b\" style=\"height: 2840px; width: 100%;\" class=\"plotly-graph-div\"></div><script type=\"text/javascript\">require([\"plotly\"], function(Plotly) { window.PLOTLYENV=window.PLOTLYENV || {};window.PLOTLYENV.BASE_URL=\"https://plot.ly\";Plotly.newPlot(\"36e79efe-e7b8-4078-9541-0534ed3be51b\", [{\"colorscale\": [[0, \"#00083e\"], [0.5, \"#ededee\"], [1, \"#ffffff\"]], \"hoverinfo\": \"none\", \"opacity\": 0.75, \"showscale\": false, \"z\": [[0, 0, 0, 0, 0], [0.5, 0.5, 0.5, 0.5, 0.5], [1, 1, 1, 1, 1], [0.5, 0.5, 0.5, 0.5, 0.5], [1, 1, 1, 1, 1], [0.5, 0.5, 0.5, 0.5, 0.5], [1, 1, 1, 1, 1], [0.5, 0.5, 0.5, 0.5, 0.5], [1, 1, 1, 1, 1], [0.5, 0.5, 0.5, 0.5, 0.5], [1, 1, 1, 1, 1], [0.5, 0.5, 0.5, 0.5, 0.5], [1, 1, 1, 1, 1], [0.5, 0.5, 0.5, 0.5, 0.5], [1, 1, 1, 1, 1], [0.5, 0.5, 0.5, 0.5, 0.5], [1, 1, 1, 1, 1], [0.5, 0.5, 0.5, 0.5, 0.5], [1, 1, 1, 1, 1], [0.5, 0.5, 0.5, 0.5, 0.5], [1, 1, 1, 1, 1], [0.5, 0.5, 0.5, 0.5, 0.5], [1, 1, 1, 1, 1], [0.5, 0.5, 0.5, 0.5, 0.5], [1, 1, 1, 1, 1], [0.5, 0.5, 0.5, 0.5, 0.5], [1, 1, 1, 1, 1], [0.5, 0.5, 0.5, 0.5, 0.5], [1, 1, 1, 1, 1], [0.5, 0.5, 0.5, 0.5, 0.5], [1, 1, 1, 1, 1], [0.5, 0.5, 0.5, 0.5, 0.5], [1, 1, 1, 1, 1], [0.5, 0.5, 0.5, 0.5, 0.5], [1, 1, 1, 1, 1], [0.5, 0.5, 0.5, 0.5, 0.5], [1, 1, 1, 1, 1], [0.5, 0.5, 0.5, 0.5, 0.5], [1, 1, 1, 1, 1], [0.5, 0.5, 0.5, 0.5, 0.5], [1, 1, 1, 1, 1], [0.5, 0.5, 0.5, 0.5, 0.5], [1, 1, 1, 1, 1], [0.5, 0.5, 0.5, 0.5, 0.5], [1, 1, 1, 1, 1], [0.5, 0.5, 0.5, 0.5, 0.5], [1, 1, 1, 1, 1], [0.5, 0.5, 0.5, 0.5, 0.5], [1, 1, 1, 1, 1], [0.5, 0.5, 0.5, 0.5, 0.5], [1, 1, 1, 1, 1], [0.5, 0.5, 0.5, 0.5, 0.5], [1, 1, 1, 1, 1], [0.5, 0.5, 0.5, 0.5, 0.5], [1, 1, 1, 1, 1], [0.5, 0.5, 0.5, 0.5, 0.5], [1, 1, 1, 1, 1], [0.5, 0.5, 0.5, 0.5, 0.5], [1, 1, 1, 1, 1], [0.5, 0.5, 0.5, 0.5, 0.5], [1, 1, 1, 1, 1], [0.5, 0.5, 0.5, 0.5, 0.5], [1, 1, 1, 1, 1], [0.5, 0.5, 0.5, 0.5, 0.5], [1, 1, 1, 1, 1], [0.5, 0.5, 0.5, 0.5, 0.5], [1, 1, 1, 1, 1], [0.5, 0.5, 0.5, 0.5, 0.5], [1, 1, 1, 1, 1], [0.5, 0.5, 0.5, 0.5, 0.5], [1, 1, 1, 1, 1], [0.5, 0.5, 0.5, 0.5, 0.5], [1, 1, 1, 1, 1], [0.5, 0.5, 0.5, 0.5, 0.5], [1, 1, 1, 1, 1], [0.5, 0.5, 0.5, 0.5, 0.5], [1, 1, 1, 1, 1], [0.5, 0.5, 0.5, 0.5, 0.5], [1, 1, 1, 1, 1], [0.5, 0.5, 0.5, 0.5, 0.5], [1, 1, 1, 1, 1], [0.5, 0.5, 0.5, 0.5, 0.5], [1, 1, 1, 1, 1], [0.5, 0.5, 0.5, 0.5, 0.5], [1, 1, 1, 1, 1], [0.5, 0.5, 0.5, 0.5, 0.5], [1, 1, 1, 1, 1], [0.5, 0.5, 0.5, 0.5, 0.5], [1, 1, 1, 1, 1], [0.5, 0.5, 0.5, 0.5, 0.5], [1, 1, 1, 1, 1], [0.5, 0.5, 0.5, 0.5, 0.5], [1, 1, 1, 1, 1]], \"type\": \"heatmap\", \"uid\": \"ec67835a-480d-4850-9cbd-df4923b67fda\"}], {\"annotations\": [{\"align\": \"left\", \"font\": {\"color\": \"#ffffff\"}, \"showarrow\": false, \"text\": \"<b>date</b>\", \"x\": -0.45, \"xanchor\": \"left\", \"xref\": \"x\", \"y\": 0, \"yref\": \"y\"}, {\"align\": \"left\", \"font\": {\"color\": \"#ffffff\"}, \"showarrow\": false, \"text\": \"<b>negative</b>\", \"x\": 0.55, \"xanchor\": \"left\", \"xref\": \"x\", \"y\": 0, \"yref\": \"y\"}, {\"align\": \"left\", \"font\": {\"color\": \"#ffffff\"}, \"showarrow\": false, \"text\": \"<b>neutral</b>\", \"x\": 1.55, \"xanchor\": \"left\", \"xref\": \"x\", \"y\": 0, \"yref\": \"y\"}, {\"align\": \"left\", \"font\": {\"color\": \"#ffffff\"}, \"showarrow\": false, \"text\": \"<b>positive</b>\", \"x\": 2.55, \"xanchor\": \"left\", \"xref\": \"x\", \"y\": 0, \"yref\": \"y\"}, {\"align\": \"left\", \"font\": {\"color\": \"#ffffff\"}, \"showarrow\": false, \"text\": \"<b>total</b>\", \"x\": 3.55, \"xanchor\": \"left\", \"xref\": \"x\", \"y\": 0, \"yref\": \"y\"}, {\"align\": \"left\", \"font\": {\"color\": \"#000000\"}, \"showarrow\": false, \"text\": \"2017-09-01\", \"x\": -0.45, \"xanchor\": \"left\", \"xref\": \"x\", \"y\": 1, \"yref\": \"y\"}, {\"align\": \"left\", \"font\": {\"color\": \"#000000\"}, \"showarrow\": false, \"text\": \"6.999999999999999\", \"x\": 0.55, \"xanchor\": \"left\", \"xref\": \"x\", \"y\": 1, \"yref\": \"y\"}, {\"align\": \"left\", \"font\": {\"color\": \"#000000\"}, \"showarrow\": false, \"text\": \"29.0\", \"x\": 1.55, \"xanchor\": \"left\", \"xref\": \"x\", \"y\": 1, \"yref\": \"y\"}, {\"align\": \"left\", \"font\": {\"color\": \"#000000\"}, \"showarrow\": false, \"text\": \"36.0\", \"x\": 2.55, \"xanchor\": \"left\", \"xref\": \"x\", \"y\": 1, \"yref\": \"y\"}, {\"align\": \"left\", \"font\": {\"color\": \"#000000\"}, \"showarrow\": false, \"text\": \"72\", \"x\": 3.55, \"xanchor\": \"left\", \"xref\": \"x\", \"y\": 1, \"yref\": \"y\"}, {\"align\": \"left\", \"font\": {\"color\": \"#000000\"}, \"showarrow\": false, \"text\": \"2017-09-02\", \"x\": -0.45, \"xanchor\": \"left\", \"xref\": \"x\", \"y\": 2, \"yref\": \"y\"}, {\"align\": \"left\", \"font\": {\"color\": \"#000000\"}, \"showarrow\": false, \"text\": \"3.9999999999999996\", \"x\": 0.55, \"xanchor\": \"left\", \"xref\": \"x\", \"y\": 2, \"yref\": \"y\"}, {\"align\": \"left\", \"font\": {\"color\": \"#000000\"}, \"showarrow\": false, \"text\": \"45.0\", \"x\": 1.55, \"xanchor\": \"left\", \"xref\": \"x\", \"y\": 2, \"yref\": \"y\"}, {\"align\": \"left\", \"font\": {\"color\": \"#000000\"}, \"showarrow\": false, \"text\": \"25.0\", \"x\": 2.55, \"xanchor\": \"left\", \"xref\": \"x\", \"y\": 2, \"yref\": \"y\"}, {\"align\": \"left\", \"font\": {\"color\": \"#000000\"}, \"showarrow\": false, \"text\": \"74\", \"x\": 3.55, \"xanchor\": \"left\", \"xref\": \"x\", \"y\": 2, \"yref\": \"y\"}, {\"align\": \"left\", \"font\": {\"color\": \"#000000\"}, \"showarrow\": false, \"text\": \"2017-09-03\", \"x\": -0.45, \"xanchor\": \"left\", \"xref\": \"x\", \"y\": 3, \"yref\": \"y\"}, {\"align\": \"left\", \"font\": {\"color\": \"#000000\"}, \"showarrow\": false, \"text\": \"5.0\", \"x\": 0.55, \"xanchor\": \"left\", \"xref\": \"x\", \"y\": 3, \"yref\": \"y\"}, {\"align\": \"left\", \"font\": {\"color\": \"#000000\"}, \"showarrow\": false, \"text\": \"43.0\", \"x\": 1.55, \"xanchor\": \"left\", \"xref\": \"x\", \"y\": 3, \"yref\": \"y\"}, {\"align\": \"left\", \"font\": {\"color\": \"#000000\"}, \"showarrow\": false, \"text\": \"27.0\", \"x\": 2.55, \"xanchor\": \"left\", \"xref\": \"x\", \"y\": 3, \"yref\": \"y\"}, {\"align\": \"left\", \"font\": {\"color\": \"#000000\"}, \"showarrow\": false, \"text\": \"75\", \"x\": 3.55, \"xanchor\": \"left\", \"xref\": \"x\", \"y\": 3, \"yref\": \"y\"}, {\"align\": \"left\", \"font\": {\"color\": \"#000000\"}, \"showarrow\": false, \"text\": \"2017-09-04\", \"x\": -0.45, \"xanchor\": \"left\", \"xref\": \"x\", \"y\": 4, \"yref\": \"y\"}, {\"align\": \"left\", \"font\": {\"color\": \"#000000\"}, \"showarrow\": false, \"text\": \"6.0\", \"x\": 0.55, \"xanchor\": \"left\", \"xref\": \"x\", \"y\": 4, \"yref\": \"y\"}, {\"align\": \"left\", \"font\": {\"color\": \"#000000\"}, \"showarrow\": false, \"text\": \"33.0\", \"x\": 1.55, \"xanchor\": \"left\", \"xref\": \"x\", \"y\": 4, \"yref\": \"y\"}, {\"align\": \"left\", \"font\": {\"color\": \"#000000\"}, \"showarrow\": false, \"text\": \"16.0\", \"x\": 2.55, \"xanchor\": \"left\", \"xref\": \"x\", \"y\": 4, \"yref\": \"y\"}, {\"align\": \"left\", \"font\": {\"color\": \"#000000\"}, \"showarrow\": false, \"text\": \"55\", \"x\": 3.55, \"xanchor\": \"left\", \"xref\": \"x\", \"y\": 4, \"yref\": \"y\"}, {\"align\": \"left\", \"font\": {\"color\": \"#000000\"}, \"showarrow\": false, \"text\": \"2017-09-05\", \"x\": -0.45, \"xanchor\": \"left\", \"xref\": \"x\", \"y\": 5, \"yref\": \"y\"}, {\"align\": \"left\", \"font\": {\"color\": \"#000000\"}, \"showarrow\": false, \"text\": \"0.0\", \"x\": 0.55, \"xanchor\": \"left\", \"xref\": \"x\", \"y\": 5, \"yref\": \"y\"}, {\"align\": \"left\", \"font\": {\"color\": \"#000000\"}, \"showarrow\": false, \"text\": \"13.0\", \"x\": 1.55, \"xanchor\": \"left\", \"xref\": \"x\", \"y\": 5, \"yref\": \"y\"}, {\"align\": \"left\", \"font\": {\"color\": \"#000000\"}, \"showarrow\": false, \"text\": \"11.0\", \"x\": 2.55, \"xanchor\": \"left\", \"xref\": \"x\", \"y\": 5, \"yref\": \"y\"}, {\"align\": \"left\", \"font\": {\"color\": \"#000000\"}, \"showarrow\": false, \"text\": \"24\", \"x\": 3.55, \"xanchor\": \"left\", \"xref\": \"x\", \"y\": 5, \"yref\": \"y\"}, {\"align\": \"left\", \"font\": {\"color\": \"#000000\"}, \"showarrow\": false, \"text\": \"2017-09-06\", \"x\": -0.45, \"xanchor\": \"left\", \"xref\": \"x\", \"y\": 6, \"yref\": \"y\"}, {\"align\": \"left\", \"font\": {\"color\": \"#000000\"}, \"showarrow\": false, \"text\": \"1.0\", \"x\": 0.55, \"xanchor\": \"left\", \"xref\": \"x\", \"y\": 6, \"yref\": \"y\"}, {\"align\": \"left\", \"font\": {\"color\": \"#000000\"}, \"showarrow\": false, \"text\": \"13.0\", \"x\": 1.55, \"xanchor\": \"left\", \"xref\": \"x\", \"y\": 6, \"yref\": \"y\"}, {\"align\": \"left\", \"font\": {\"color\": \"#000000\"}, \"showarrow\": false, \"text\": \"8.0\", \"x\": 2.55, \"xanchor\": \"left\", \"xref\": \"x\", \"y\": 6, \"yref\": \"y\"}, {\"align\": \"left\", \"font\": {\"color\": \"#000000\"}, \"showarrow\": false, \"text\": \"22\", \"x\": 3.55, \"xanchor\": \"left\", \"xref\": \"x\", \"y\": 6, \"yref\": \"y\"}, {\"align\": \"left\", \"font\": {\"color\": \"#000000\"}, \"showarrow\": false, \"text\": \"2017-09-07\", \"x\": -0.45, \"xanchor\": \"left\", \"xref\": \"x\", \"y\": 7, \"yref\": \"y\"}, {\"align\": \"left\", \"font\": {\"color\": \"#000000\"}, \"showarrow\": false, \"text\": \"0.0\", \"x\": 0.55, \"xanchor\": \"left\", \"xref\": \"x\", \"y\": 7, \"yref\": \"y\"}, {\"align\": \"left\", \"font\": {\"color\": \"#000000\"}, \"showarrow\": false, \"text\": \"15.0\", \"x\": 1.55, \"xanchor\": \"left\", \"xref\": \"x\", \"y\": 7, \"yref\": \"y\"}, {\"align\": \"left\", \"font\": {\"color\": \"#000000\"}, \"showarrow\": false, \"text\": \"9.0\", \"x\": 2.55, \"xanchor\": \"left\", \"xref\": \"x\", \"y\": 7, \"yref\": \"y\"}, {\"align\": \"left\", \"font\": {\"color\": \"#000000\"}, \"showarrow\": false, \"text\": \"24\", \"x\": 3.55, \"xanchor\": \"left\", \"xref\": \"x\", \"y\": 7, \"yref\": \"y\"}, {\"align\": \"left\", \"font\": {\"color\": \"#000000\"}, \"showarrow\": false, \"text\": \"2017-09-08\", \"x\": -0.45, \"xanchor\": \"left\", \"xref\": \"x\", \"y\": 8, \"yref\": \"y\"}, {\"align\": \"left\", \"font\": {\"color\": \"#000000\"}, \"showarrow\": false, \"text\": \"1.0\", \"x\": 0.55, \"xanchor\": \"left\", \"xref\": \"x\", \"y\": 8, \"yref\": \"y\"}, {\"align\": \"left\", \"font\": {\"color\": \"#000000\"}, \"showarrow\": false, \"text\": \"14.0\", \"x\": 1.55, \"xanchor\": \"left\", \"xref\": \"x\", \"y\": 8, \"yref\": \"y\"}, {\"align\": \"left\", \"font\": {\"color\": \"#000000\"}, \"showarrow\": false, \"text\": \"9.0\", \"x\": 2.55, \"xanchor\": \"left\", \"xref\": \"x\", \"y\": 8, \"yref\": \"y\"}, {\"align\": \"left\", \"font\": {\"color\": \"#000000\"}, \"showarrow\": false, \"text\": \"24\", \"x\": 3.55, \"xanchor\": \"left\", \"xref\": \"x\", \"y\": 8, \"yref\": \"y\"}, {\"align\": \"left\", \"font\": {\"color\": \"#000000\"}, \"showarrow\": false, \"text\": \"2017-09-09\", \"x\": -0.45, \"xanchor\": \"left\", \"xref\": \"x\", \"y\": 9, \"yref\": \"y\"}, {\"align\": \"left\", \"font\": {\"color\": \"#000000\"}, \"showarrow\": false, \"text\": \"1.0\", \"x\": 0.55, \"xanchor\": \"left\", \"xref\": \"x\", \"y\": 9, \"yref\": \"y\"}, {\"align\": \"left\", \"font\": {\"color\": \"#000000\"}, \"showarrow\": false, \"text\": \"12.000000000000002\", \"x\": 1.55, \"xanchor\": \"left\", \"xref\": \"x\", \"y\": 9, \"yref\": \"y\"}, {\"align\": \"left\", \"font\": {\"color\": \"#000000\"}, \"showarrow\": false, \"text\": \"8.0\", \"x\": 2.55, \"xanchor\": \"left\", \"xref\": \"x\", \"y\": 9, \"yref\": \"y\"}, {\"align\": \"left\", \"font\": {\"color\": \"#000000\"}, \"showarrow\": false, \"text\": \"21\", \"x\": 3.55, \"xanchor\": \"left\", \"xref\": \"x\", \"y\": 9, \"yref\": \"y\"}, {\"align\": \"left\", \"font\": {\"color\": \"#000000\"}, \"showarrow\": false, \"text\": \"2017-09-10\", \"x\": -0.45, \"xanchor\": \"left\", \"xref\": \"x\", \"y\": 10, \"yref\": \"y\"}, {\"align\": \"left\", \"font\": {\"color\": \"#000000\"}, \"showarrow\": false, \"text\": \"2.0\", \"x\": 0.55, \"xanchor\": \"left\", \"xref\": \"x\", \"y\": 10, \"yref\": \"y\"}, {\"align\": \"left\", \"font\": {\"color\": \"#000000\"}, \"showarrow\": false, \"text\": \"8.0\", \"x\": 1.55, \"xanchor\": \"left\", \"xref\": \"x\", \"y\": 10, \"yref\": \"y\"}, {\"align\": \"left\", \"font\": {\"color\": \"#000000\"}, \"showarrow\": false, \"text\": \"12.999999999999998\", \"x\": 2.55, \"xanchor\": \"left\", \"xref\": \"x\", \"y\": 10, \"yref\": \"y\"}, {\"align\": \"left\", \"font\": {\"color\": \"#000000\"}, \"showarrow\": false, \"text\": \"23\", \"x\": 3.55, \"xanchor\": \"left\", \"xref\": \"x\", \"y\": 10, \"yref\": \"y\"}, {\"align\": \"left\", \"font\": {\"color\": \"#000000\"}, \"showarrow\": false, \"text\": \"2017-09-11\", \"x\": -0.45, \"xanchor\": \"left\", \"xref\": \"x\", \"y\": 11, \"yref\": \"y\"}, {\"align\": \"left\", \"font\": {\"color\": \"#000000\"}, \"showarrow\": false, \"text\": \"1.0\", \"x\": 0.55, \"xanchor\": \"left\", \"xref\": \"x\", \"y\": 11, \"yref\": \"y\"}, {\"align\": \"left\", \"font\": {\"color\": \"#000000\"}, \"showarrow\": false, \"text\": \"14.0\", \"x\": 1.55, \"xanchor\": \"left\", \"xref\": \"x\", \"y\": 11, \"yref\": \"y\"}, {\"align\": \"left\", \"font\": {\"color\": \"#000000\"}, \"showarrow\": false, \"text\": \"9.0\", \"x\": 2.55, \"xanchor\": \"left\", \"xref\": \"x\", \"y\": 11, \"yref\": \"y\"}, {\"align\": \"left\", \"font\": {\"color\": \"#000000\"}, \"showarrow\": false, \"text\": \"24\", \"x\": 3.55, \"xanchor\": \"left\", \"xref\": \"x\", \"y\": 11, \"yref\": \"y\"}, {\"align\": \"left\", \"font\": {\"color\": \"#000000\"}, \"showarrow\": false, \"text\": \"2017-09-12\", \"x\": -0.45, \"xanchor\": \"left\", \"xref\": \"x\", \"y\": 12, \"yref\": \"y\"}, {\"align\": \"left\", \"font\": {\"color\": \"#000000\"}, \"showarrow\": false, \"text\": \"1.0\", \"x\": 0.55, \"xanchor\": \"left\", \"xref\": \"x\", \"y\": 12, \"yref\": \"y\"}, {\"align\": \"left\", \"font\": {\"color\": \"#000000\"}, \"showarrow\": false, \"text\": \"14.0\", \"x\": 1.55, \"xanchor\": \"left\", \"xref\": \"x\", \"y\": 12, \"yref\": \"y\"}, {\"align\": \"left\", \"font\": {\"color\": \"#000000\"}, \"showarrow\": false, \"text\": \"7.0\", \"x\": 2.55, \"xanchor\": \"left\", \"xref\": \"x\", \"y\": 12, \"yref\": \"y\"}, {\"align\": \"left\", \"font\": {\"color\": \"#000000\"}, \"showarrow\": false, \"text\": \"22\", \"x\": 3.55, \"xanchor\": \"left\", \"xref\": \"x\", \"y\": 12, \"yref\": \"y\"}, {\"align\": \"left\", \"font\": {\"color\": \"#000000\"}, \"showarrow\": false, \"text\": \"2017-09-13\", \"x\": -0.45, \"xanchor\": \"left\", \"xref\": \"x\", \"y\": 13, \"yref\": \"y\"}, {\"align\": \"left\", \"font\": {\"color\": \"#000000\"}, \"showarrow\": false, \"text\": \"3.0\", \"x\": 0.55, \"xanchor\": \"left\", \"xref\": \"x\", \"y\": 13, \"yref\": \"y\"}, {\"align\": \"left\", \"font\": {\"color\": \"#000000\"}, \"showarrow\": false, \"text\": \"15.0\", \"x\": 1.55, \"xanchor\": \"left\", \"xref\": \"x\", \"y\": 13, \"yref\": \"y\"}, {\"align\": \"left\", \"font\": {\"color\": \"#000000\"}, \"showarrow\": false, \"text\": \"6.0\", \"x\": 2.55, \"xanchor\": \"left\", \"xref\": \"x\", \"y\": 13, \"yref\": \"y\"}, {\"align\": \"left\", \"font\": {\"color\": \"#000000\"}, \"showarrow\": false, \"text\": \"24\", \"x\": 3.55, \"xanchor\": \"left\", \"xref\": \"x\", \"y\": 13, \"yref\": \"y\"}, {\"align\": \"left\", \"font\": {\"color\": \"#000000\"}, \"showarrow\": false, \"text\": \"2017-09-14\", \"x\": -0.45, \"xanchor\": \"left\", \"xref\": \"x\", \"y\": 14, \"yref\": \"y\"}, {\"align\": \"left\", \"font\": {\"color\": \"#000000\"}, \"showarrow\": false, \"text\": \"0.0\", \"x\": 0.55, \"xanchor\": \"left\", \"xref\": \"x\", \"y\": 14, \"yref\": \"y\"}, {\"align\": \"left\", \"font\": {\"color\": \"#000000\"}, \"showarrow\": false, \"text\": \"17.0\", \"x\": 1.55, \"xanchor\": \"left\", \"xref\": \"x\", \"y\": 14, \"yref\": \"y\"}, {\"align\": \"left\", \"font\": {\"color\": \"#000000\"}, \"showarrow\": false, \"text\": \"6.0\", \"x\": 2.55, \"xanchor\": \"left\", \"xref\": \"x\", \"y\": 14, \"yref\": \"y\"}, {\"align\": \"left\", \"font\": {\"color\": \"#000000\"}, \"showarrow\": false, \"text\": \"23\", \"x\": 3.55, \"xanchor\": \"left\", \"xref\": \"x\", \"y\": 14, \"yref\": \"y\"}, {\"align\": \"left\", \"font\": {\"color\": \"#000000\"}, \"showarrow\": false, \"text\": \"2017-09-15\", \"x\": -0.45, \"xanchor\": \"left\", \"xref\": \"x\", \"y\": 15, \"yref\": \"y\"}, {\"align\": \"left\", \"font\": {\"color\": \"#000000\"}, \"showarrow\": false, \"text\": \"1.0\", \"x\": 0.55, \"xanchor\": \"left\", \"xref\": \"x\", \"y\": 15, \"yref\": \"y\"}, {\"align\": \"left\", \"font\": {\"color\": \"#000000\"}, \"showarrow\": false, \"text\": \"12.0\", \"x\": 1.55, \"xanchor\": \"left\", \"xref\": \"x\", \"y\": 15, \"yref\": \"y\"}, {\"align\": \"left\", \"font\": {\"color\": \"#000000\"}, \"showarrow\": false, \"text\": \"9.0\", \"x\": 2.55, \"xanchor\": \"left\", \"xref\": \"x\", \"y\": 15, \"yref\": \"y\"}, {\"align\": \"left\", \"font\": {\"color\": \"#000000\"}, \"showarrow\": false, \"text\": \"22\", \"x\": 3.55, \"xanchor\": \"left\", \"xref\": \"x\", \"y\": 15, \"yref\": \"y\"}, {\"align\": \"left\", \"font\": {\"color\": \"#000000\"}, \"showarrow\": false, \"text\": \"2017-09-16\", \"x\": -0.45, \"xanchor\": \"left\", \"xref\": \"x\", \"y\": 16, \"yref\": \"y\"}, {\"align\": \"left\", \"font\": {\"color\": \"#000000\"}, \"showarrow\": false, \"text\": \"1.0\", \"x\": 0.55, \"xanchor\": \"left\", \"xref\": \"x\", \"y\": 16, \"yref\": \"y\"}, {\"align\": \"left\", \"font\": {\"color\": \"#000000\"}, \"showarrow\": false, \"text\": \"12.0\", \"x\": 1.55, \"xanchor\": \"left\", \"xref\": \"x\", \"y\": 16, \"yref\": \"y\"}, {\"align\": \"left\", \"font\": {\"color\": \"#000000\"}, \"showarrow\": false, \"text\": \"11.0\", \"x\": 2.55, \"xanchor\": \"left\", \"xref\": \"x\", \"y\": 16, \"yref\": \"y\"}, {\"align\": \"left\", \"font\": {\"color\": \"#000000\"}, \"showarrow\": false, \"text\": \"24\", \"x\": 3.55, \"xanchor\": \"left\", \"xref\": \"x\", \"y\": 16, \"yref\": \"y\"}, {\"align\": \"left\", \"font\": {\"color\": \"#000000\"}, \"showarrow\": false, \"text\": \"2017-09-17\", \"x\": -0.45, \"xanchor\": \"left\", \"xref\": \"x\", \"y\": 17, \"yref\": \"y\"}, {\"align\": \"left\", \"font\": {\"color\": \"#000000\"}, \"showarrow\": false, \"text\": \"0.0\", \"x\": 0.55, \"xanchor\": \"left\", \"xref\": \"x\", \"y\": 17, \"yref\": \"y\"}, {\"align\": \"left\", \"font\": {\"color\": \"#000000\"}, \"showarrow\": false, \"text\": \"14.0\", \"x\": 1.55, \"xanchor\": \"left\", \"xref\": \"x\", \"y\": 17, \"yref\": \"y\"}, {\"align\": \"left\", \"font\": {\"color\": \"#000000\"}, \"showarrow\": false, \"text\": \"8.0\", \"x\": 2.55, \"xanchor\": \"left\", \"xref\": \"x\", \"y\": 17, \"yref\": \"y\"}, {\"align\": \"left\", \"font\": {\"color\": \"#000000\"}, \"showarrow\": false, \"text\": \"22\", \"x\": 3.55, \"xanchor\": \"left\", \"xref\": \"x\", \"y\": 17, \"yref\": \"y\"}, {\"align\": \"left\", \"font\": {\"color\": \"#000000\"}, \"showarrow\": false, \"text\": \"2017-09-18\", \"x\": -0.45, \"xanchor\": \"left\", \"xref\": \"x\", \"y\": 18, \"yref\": \"y\"}, {\"align\": \"left\", \"font\": {\"color\": \"#000000\"}, \"showarrow\": false, \"text\": \"0.0\", \"x\": 0.55, \"xanchor\": \"left\", \"xref\": \"x\", \"y\": 18, \"yref\": \"y\"}, {\"align\": \"left\", \"font\": {\"color\": \"#000000\"}, \"showarrow\": false, \"text\": \"11.0\", \"x\": 1.55, \"xanchor\": \"left\", \"xref\": \"x\", \"y\": 18, \"yref\": \"y\"}, {\"align\": \"left\", \"font\": {\"color\": \"#000000\"}, \"showarrow\": false, \"text\": \"11.0\", \"x\": 2.55, \"xanchor\": \"left\", \"xref\": \"x\", \"y\": 18, \"yref\": \"y\"}, {\"align\": \"left\", \"font\": {\"color\": \"#000000\"}, \"showarrow\": false, \"text\": \"22\", \"x\": 3.55, \"xanchor\": \"left\", \"xref\": \"x\", \"y\": 18, \"yref\": \"y\"}, {\"align\": \"left\", \"font\": {\"color\": \"#000000\"}, \"showarrow\": false, \"text\": \"2017-09-19\", \"x\": -0.45, \"xanchor\": \"left\", \"xref\": \"x\", \"y\": 19, \"yref\": \"y\"}, {\"align\": \"left\", \"font\": {\"color\": \"#000000\"}, \"showarrow\": false, \"text\": \"1.0\", \"x\": 0.55, \"xanchor\": \"left\", \"xref\": \"x\", \"y\": 19, \"yref\": \"y\"}, {\"align\": \"left\", \"font\": {\"color\": \"#000000\"}, \"showarrow\": false, \"text\": \"12.0\", \"x\": 1.55, \"xanchor\": \"left\", \"xref\": \"x\", \"y\": 19, \"yref\": \"y\"}, {\"align\": \"left\", \"font\": {\"color\": \"#000000\"}, \"showarrow\": false, \"text\": \"11.0\", \"x\": 2.55, \"xanchor\": \"left\", \"xref\": \"x\", \"y\": 19, \"yref\": \"y\"}, {\"align\": \"left\", \"font\": {\"color\": \"#000000\"}, \"showarrow\": false, \"text\": \"24\", \"x\": 3.55, \"xanchor\": \"left\", \"xref\": \"x\", \"y\": 19, \"yref\": \"y\"}, {\"align\": \"left\", \"font\": {\"color\": \"#000000\"}, \"showarrow\": false, \"text\": \"2017-09-20\", \"x\": -0.45, \"xanchor\": \"left\", \"xref\": \"x\", \"y\": 20, \"yref\": \"y\"}, {\"align\": \"left\", \"font\": {\"color\": \"#000000\"}, \"showarrow\": false, \"text\": \"1.0\", \"x\": 0.55, \"xanchor\": \"left\", \"xref\": \"x\", \"y\": 20, \"yref\": \"y\"}, {\"align\": \"left\", \"font\": {\"color\": \"#000000\"}, \"showarrow\": false, \"text\": \"15.000000000000002\", \"x\": 1.55, \"xanchor\": \"left\", \"xref\": \"x\", \"y\": 20, \"yref\": \"y\"}, {\"align\": \"left\", \"font\": {\"color\": \"#000000\"}, \"showarrow\": false, \"text\": \"6.0\", \"x\": 2.55, \"xanchor\": \"left\", \"xref\": \"x\", \"y\": 20, \"yref\": \"y\"}, {\"align\": \"left\", \"font\": {\"color\": \"#000000\"}, \"showarrow\": false, \"text\": \"22\", \"x\": 3.55, \"xanchor\": \"left\", \"xref\": \"x\", \"y\": 20, \"yref\": \"y\"}, {\"align\": \"left\", \"font\": {\"color\": \"#000000\"}, \"showarrow\": false, \"text\": \"2017-09-21\", \"x\": -0.45, \"xanchor\": \"left\", \"xref\": \"x\", \"y\": 21, \"yref\": \"y\"}, {\"align\": \"left\", \"font\": {\"color\": \"#000000\"}, \"showarrow\": false, \"text\": \"0.0\", \"x\": 0.55, \"xanchor\": \"left\", \"xref\": \"x\", \"y\": 21, \"yref\": \"y\"}, {\"align\": \"left\", \"font\": {\"color\": \"#000000\"}, \"showarrow\": false, \"text\": \"14.0\", \"x\": 1.55, \"xanchor\": \"left\", \"xref\": \"x\", \"y\": 21, \"yref\": \"y\"}, {\"align\": \"left\", \"font\": {\"color\": \"#000000\"}, \"showarrow\": false, \"text\": \"10.0\", \"x\": 2.55, \"xanchor\": \"left\", \"xref\": \"x\", \"y\": 21, \"yref\": \"y\"}, {\"align\": \"left\", \"font\": {\"color\": \"#000000\"}, \"showarrow\": false, \"text\": \"24\", \"x\": 3.55, \"xanchor\": \"left\", \"xref\": \"x\", \"y\": 21, \"yref\": \"y\"}, {\"align\": \"left\", \"font\": {\"color\": \"#000000\"}, \"showarrow\": false, \"text\": \"2017-09-22\", \"x\": -0.45, \"xanchor\": \"left\", \"xref\": \"x\", \"y\": 22, \"yref\": \"y\"}, {\"align\": \"left\", \"font\": {\"color\": \"#000000\"}, \"showarrow\": false, \"text\": \"0.0\", \"x\": 0.55, \"xanchor\": \"left\", \"xref\": \"x\", \"y\": 22, \"yref\": \"y\"}, {\"align\": \"left\", \"font\": {\"color\": \"#000000\"}, \"showarrow\": false, \"text\": \"12.0\", \"x\": 1.55, \"xanchor\": \"left\", \"xref\": \"x\", \"y\": 22, \"yref\": \"y\"}, {\"align\": \"left\", \"font\": {\"color\": \"#000000\"}, \"showarrow\": false, \"text\": \"8.0\", \"x\": 2.55, \"xanchor\": \"left\", \"xref\": \"x\", \"y\": 22, \"yref\": \"y\"}, {\"align\": \"left\", \"font\": {\"color\": \"#000000\"}, \"showarrow\": false, \"text\": \"20\", \"x\": 3.55, \"xanchor\": \"left\", \"xref\": \"x\", \"y\": 22, \"yref\": \"y\"}, {\"align\": \"left\", \"font\": {\"color\": \"#000000\"}, \"showarrow\": false, \"text\": \"2017-09-23\", \"x\": -0.45, \"xanchor\": \"left\", \"xref\": \"x\", \"y\": 23, \"yref\": \"y\"}, {\"align\": \"left\", \"font\": {\"color\": \"#000000\"}, \"showarrow\": false, \"text\": \"2.0\", \"x\": 0.55, \"xanchor\": \"left\", \"xref\": \"x\", \"y\": 23, \"yref\": \"y\"}, {\"align\": \"left\", \"font\": {\"color\": \"#000000\"}, \"showarrow\": false, \"text\": \"14.0\", \"x\": 1.55, \"xanchor\": \"left\", \"xref\": \"x\", \"y\": 23, \"yref\": \"y\"}, {\"align\": \"left\", \"font\": {\"color\": \"#000000\"}, \"showarrow\": false, \"text\": \"8.0\", \"x\": 2.55, \"xanchor\": \"left\", \"xref\": \"x\", \"y\": 23, \"yref\": \"y\"}, {\"align\": \"left\", \"font\": {\"color\": \"#000000\"}, \"showarrow\": false, \"text\": \"24\", \"x\": 3.55, \"xanchor\": \"left\", \"xref\": \"x\", \"y\": 23, \"yref\": \"y\"}, {\"align\": \"left\", \"font\": {\"color\": \"#000000\"}, \"showarrow\": false, \"text\": \"2017-09-24\", \"x\": -0.45, \"xanchor\": \"left\", \"xref\": \"x\", \"y\": 24, \"yref\": \"y\"}, {\"align\": \"left\", \"font\": {\"color\": \"#000000\"}, \"showarrow\": false, \"text\": \"1.0\", \"x\": 0.55, \"xanchor\": \"left\", \"xref\": \"x\", \"y\": 24, \"yref\": \"y\"}, {\"align\": \"left\", \"font\": {\"color\": \"#000000\"}, \"showarrow\": false, \"text\": \"14.000000000000002\", \"x\": 1.55, \"xanchor\": \"left\", \"xref\": \"x\", \"y\": 24, \"yref\": \"y\"}, {\"align\": \"left\", \"font\": {\"color\": \"#000000\"}, \"showarrow\": false, \"text\": \"10.0\", \"x\": 2.55, \"xanchor\": \"left\", \"xref\": \"x\", \"y\": 24, \"yref\": \"y\"}, {\"align\": \"left\", \"font\": {\"color\": \"#000000\"}, \"showarrow\": false, \"text\": \"25\", \"x\": 3.55, \"xanchor\": \"left\", \"xref\": \"x\", \"y\": 24, \"yref\": \"y\"}, {\"align\": \"left\", \"font\": {\"color\": \"#000000\"}, \"showarrow\": false, \"text\": \"2017-09-25\", \"x\": -0.45, \"xanchor\": \"left\", \"xref\": \"x\", \"y\": 25, \"yref\": \"y\"}, {\"align\": \"left\", \"font\": {\"color\": \"#000000\"}, \"showarrow\": false, \"text\": \"1.0\", \"x\": 0.55, \"xanchor\": \"left\", \"xref\": \"x\", \"y\": 25, \"yref\": \"y\"}, {\"align\": \"left\", \"font\": {\"color\": \"#000000\"}, \"showarrow\": false, \"text\": \"14.0\", \"x\": 1.55, \"xanchor\": \"left\", \"xref\": \"x\", \"y\": 25, \"yref\": \"y\"}, {\"align\": \"left\", \"font\": {\"color\": \"#000000\"}, \"showarrow\": false, \"text\": \"7.0\", \"x\": 2.55, \"xanchor\": \"left\", \"xref\": \"x\", \"y\": 25, \"yref\": \"y\"}, {\"align\": \"left\", \"font\": {\"color\": \"#000000\"}, \"showarrow\": false, \"text\": \"22\", \"x\": 3.55, \"xanchor\": \"left\", \"xref\": \"x\", \"y\": 25, \"yref\": \"y\"}, {\"align\": \"left\", \"font\": {\"color\": \"#000000\"}, \"showarrow\": false, \"text\": \"2017-09-26\", \"x\": -0.45, \"xanchor\": \"left\", \"xref\": \"x\", \"y\": 26, \"yref\": \"y\"}, {\"align\": \"left\", \"font\": {\"color\": \"#000000\"}, \"showarrow\": false, \"text\": \"1.0\", \"x\": 0.55, \"xanchor\": \"left\", \"xref\": \"x\", \"y\": 26, \"yref\": \"y\"}, {\"align\": \"left\", \"font\": {\"color\": \"#000000\"}, \"showarrow\": false, \"text\": \"11.0\", \"x\": 1.55, \"xanchor\": \"left\", \"xref\": \"x\", \"y\": 26, \"yref\": \"y\"}, {\"align\": \"left\", \"font\": {\"color\": \"#000000\"}, \"showarrow\": false, \"text\": \"11.0\", \"x\": 2.55, \"xanchor\": \"left\", \"xref\": \"x\", \"y\": 26, \"yref\": \"y\"}, {\"align\": \"left\", \"font\": {\"color\": \"#000000\"}, \"showarrow\": false, \"text\": \"23\", \"x\": 3.55, \"xanchor\": \"left\", \"xref\": \"x\", \"y\": 26, \"yref\": \"y\"}, {\"align\": \"left\", \"font\": {\"color\": \"#000000\"}, \"showarrow\": false, \"text\": \"2017-09-27\", \"x\": -0.45, \"xanchor\": \"left\", \"xref\": \"x\", \"y\": 27, \"yref\": \"y\"}, {\"align\": \"left\", \"font\": {\"color\": \"#000000\"}, \"showarrow\": false, \"text\": \"3.0000000000000004\", \"x\": 0.55, \"xanchor\": \"left\", \"xref\": \"x\", \"y\": 27, \"yref\": \"y\"}, {\"align\": \"left\", \"font\": {\"color\": \"#000000\"}, \"showarrow\": false, \"text\": \"14.000000000000002\", \"x\": 1.55, \"xanchor\": \"left\", \"xref\": \"x\", \"y\": 27, \"yref\": \"y\"}, {\"align\": \"left\", \"font\": {\"color\": \"#000000\"}, \"showarrow\": false, \"text\": \"4.0\", \"x\": 2.55, \"xanchor\": \"left\", \"xref\": \"x\", \"y\": 27, \"yref\": \"y\"}, {\"align\": \"left\", \"font\": {\"color\": \"#000000\"}, \"showarrow\": false, \"text\": \"21\", \"x\": 3.55, \"xanchor\": \"left\", \"xref\": \"x\", \"y\": 27, \"yref\": \"y\"}, {\"align\": \"left\", \"font\": {\"color\": \"#000000\"}, \"showarrow\": false, \"text\": \"2017-09-28\", \"x\": -0.45, \"xanchor\": \"left\", \"xref\": \"x\", \"y\": 28, \"yref\": \"y\"}, {\"align\": \"left\", \"font\": {\"color\": \"#000000\"}, \"showarrow\": false, \"text\": \"2.0\", \"x\": 0.55, \"xanchor\": \"left\", \"xref\": \"x\", \"y\": 28, \"yref\": \"y\"}, {\"align\": \"left\", \"font\": {\"color\": \"#000000\"}, \"showarrow\": false, \"text\": \"14.0\", \"x\": 1.55, \"xanchor\": \"left\", \"xref\": \"x\", \"y\": 28, \"yref\": \"y\"}, {\"align\": \"left\", \"font\": {\"color\": \"#000000\"}, \"showarrow\": false, \"text\": \"8.0\", \"x\": 2.55, \"xanchor\": \"left\", \"xref\": \"x\", \"y\": 28, \"yref\": \"y\"}, {\"align\": \"left\", \"font\": {\"color\": \"#000000\"}, \"showarrow\": false, \"text\": \"24\", \"x\": 3.55, \"xanchor\": \"left\", \"xref\": \"x\", \"y\": 28, \"yref\": \"y\"}, {\"align\": \"left\", \"font\": {\"color\": \"#000000\"}, \"showarrow\": false, \"text\": \"2017-09-29\", \"x\": -0.45, \"xanchor\": \"left\", \"xref\": \"x\", \"y\": 29, \"yref\": \"y\"}, {\"align\": \"left\", \"font\": {\"color\": \"#000000\"}, \"showarrow\": false, \"text\": \"2.0\", \"x\": 0.55, \"xanchor\": \"left\", \"xref\": \"x\", \"y\": 29, \"yref\": \"y\"}, {\"align\": \"left\", \"font\": {\"color\": \"#000000\"}, \"showarrow\": false, \"text\": \"10.0\", \"x\": 1.55, \"xanchor\": \"left\", \"xref\": \"x\", \"y\": 29, \"yref\": \"y\"}, {\"align\": \"left\", \"font\": {\"color\": \"#000000\"}, \"showarrow\": false, \"text\": \"12.0\", \"x\": 2.55, \"xanchor\": \"left\", \"xref\": \"x\", \"y\": 29, \"yref\": \"y\"}, {\"align\": \"left\", \"font\": {\"color\": \"#000000\"}, \"showarrow\": false, \"text\": \"24\", \"x\": 3.55, \"xanchor\": \"left\", \"xref\": \"x\", \"y\": 29, \"yref\": \"y\"}, {\"align\": \"left\", \"font\": {\"color\": \"#000000\"}, \"showarrow\": false, \"text\": \"2017-09-30\", \"x\": -0.45, \"xanchor\": \"left\", \"xref\": \"x\", \"y\": 30, \"yref\": \"y\"}, {\"align\": \"left\", \"font\": {\"color\": \"#000000\"}, \"showarrow\": false, \"text\": \"0.0\", \"x\": 0.55, \"xanchor\": \"left\", \"xref\": \"x\", \"y\": 30, \"yref\": \"y\"}, {\"align\": \"left\", \"font\": {\"color\": \"#000000\"}, \"showarrow\": false, \"text\": \"14.0\", \"x\": 1.55, \"xanchor\": \"left\", \"xref\": \"x\", \"y\": 30, \"yref\": \"y\"}, {\"align\": \"left\", \"font\": {\"color\": \"#000000\"}, \"showarrow\": false, \"text\": \"9.0\", \"x\": 2.55, \"xanchor\": \"left\", \"xref\": \"x\", \"y\": 30, \"yref\": \"y\"}, {\"align\": \"left\", \"font\": {\"color\": \"#000000\"}, \"showarrow\": false, \"text\": \"23\", \"x\": 3.55, \"xanchor\": \"left\", \"xref\": \"x\", \"y\": 30, \"yref\": \"y\"}, {\"align\": \"left\", \"font\": {\"color\": \"#000000\"}, \"showarrow\": false, \"text\": \"2017-10-01\", \"x\": -0.45, \"xanchor\": \"left\", \"xref\": \"x\", \"y\": 31, \"yref\": \"y\"}, {\"align\": \"left\", \"font\": {\"color\": \"#000000\"}, \"showarrow\": false, \"text\": \"0.0\", \"x\": 0.55, \"xanchor\": \"left\", \"xref\": \"x\", \"y\": 31, \"yref\": \"y\"}, {\"align\": \"left\", \"font\": {\"color\": \"#000000\"}, \"showarrow\": false, \"text\": \"12.0\", \"x\": 1.55, \"xanchor\": \"left\", \"xref\": \"x\", \"y\": 31, \"yref\": \"y\"}, {\"align\": \"left\", \"font\": {\"color\": \"#000000\"}, \"showarrow\": false, \"text\": \"10.0\", \"x\": 2.55, \"xanchor\": \"left\", \"xref\": \"x\", \"y\": 31, \"yref\": \"y\"}, {\"align\": \"left\", \"font\": {\"color\": \"#000000\"}, \"showarrow\": false, \"text\": \"22\", \"x\": 3.55, \"xanchor\": \"left\", \"xref\": \"x\", \"y\": 31, \"yref\": \"y\"}, {\"align\": \"left\", \"font\": {\"color\": \"#000000\"}, \"showarrow\": false, \"text\": \"2017-10-02\", \"x\": -0.45, \"xanchor\": \"left\", \"xref\": \"x\", \"y\": 32, \"yref\": \"y\"}, {\"align\": \"left\", \"font\": {\"color\": \"#000000\"}, \"showarrow\": false, \"text\": \"1.0\", \"x\": 0.55, \"xanchor\": \"left\", \"xref\": \"x\", \"y\": 32, \"yref\": \"y\"}, {\"align\": \"left\", \"font\": {\"color\": \"#000000\"}, \"showarrow\": false, \"text\": \"14.0\", \"x\": 1.55, \"xanchor\": \"left\", \"xref\": \"x\", \"y\": 32, \"yref\": \"y\"}, {\"align\": \"left\", \"font\": {\"color\": \"#000000\"}, \"showarrow\": false, \"text\": \"8.0\", \"x\": 2.55, \"xanchor\": \"left\", \"xref\": \"x\", \"y\": 32, \"yref\": \"y\"}, {\"align\": \"left\", \"font\": {\"color\": \"#000000\"}, \"showarrow\": false, \"text\": \"23\", \"x\": 3.55, \"xanchor\": \"left\", \"xref\": \"x\", \"y\": 32, \"yref\": \"y\"}, {\"align\": \"left\", \"font\": {\"color\": \"#000000\"}, \"showarrow\": false, \"text\": \"2017-10-03\", \"x\": -0.45, \"xanchor\": \"left\", \"xref\": \"x\", \"y\": 33, \"yref\": \"y\"}, {\"align\": \"left\", \"font\": {\"color\": \"#000000\"}, \"showarrow\": false, \"text\": \"2.0\", \"x\": 0.55, \"xanchor\": \"left\", \"xref\": \"x\", \"y\": 33, \"yref\": \"y\"}, {\"align\": \"left\", \"font\": {\"color\": \"#000000\"}, \"showarrow\": false, \"text\": \"9.0\", \"x\": 1.55, \"xanchor\": \"left\", \"xref\": \"x\", \"y\": 33, \"yref\": \"y\"}, {\"align\": \"left\", \"font\": {\"color\": \"#000000\"}, \"showarrow\": false, \"text\": \"13.0\", \"x\": 2.55, \"xanchor\": \"left\", \"xref\": \"x\", \"y\": 33, \"yref\": \"y\"}, {\"align\": \"left\", \"font\": {\"color\": \"#000000\"}, \"showarrow\": false, \"text\": \"24\", \"x\": 3.55, \"xanchor\": \"left\", \"xref\": \"x\", \"y\": 33, \"yref\": \"y\"}, {\"align\": \"left\", \"font\": {\"color\": \"#000000\"}, \"showarrow\": false, \"text\": \"2017-10-04\", \"x\": -0.45, \"xanchor\": \"left\", \"xref\": \"x\", \"y\": 34, \"yref\": \"y\"}, {\"align\": \"left\", \"font\": {\"color\": \"#000000\"}, \"showarrow\": false, \"text\": \"1.0\", \"x\": 0.55, \"xanchor\": \"left\", \"xref\": \"x\", \"y\": 34, \"yref\": \"y\"}, {\"align\": \"left\", \"font\": {\"color\": \"#000000\"}, \"showarrow\": false, \"text\": \"11.0\", \"x\": 1.55, \"xanchor\": \"left\", \"xref\": \"x\", \"y\": 34, \"yref\": \"y\"}, {\"align\": \"left\", \"font\": {\"color\": \"#000000\"}, \"showarrow\": false, \"text\": \"11.0\", \"x\": 2.55, \"xanchor\": \"left\", \"xref\": \"x\", \"y\": 34, \"yref\": \"y\"}, {\"align\": \"left\", \"font\": {\"color\": \"#000000\"}, \"showarrow\": false, \"text\": \"23\", \"x\": 3.55, \"xanchor\": \"left\", \"xref\": \"x\", \"y\": 34, \"yref\": \"y\"}, {\"align\": \"left\", \"font\": {\"color\": \"#000000\"}, \"showarrow\": false, \"text\": \"2017-10-05\", \"x\": -0.45, \"xanchor\": \"left\", \"xref\": \"x\", \"y\": 35, \"yref\": \"y\"}, {\"align\": \"left\", \"font\": {\"color\": \"#000000\"}, \"showarrow\": false, \"text\": \"0.0\", \"x\": 0.55, \"xanchor\": \"left\", \"xref\": \"x\", \"y\": 35, \"yref\": \"y\"}, {\"align\": \"left\", \"font\": {\"color\": \"#000000\"}, \"showarrow\": false, \"text\": \"17.0\", \"x\": 1.55, \"xanchor\": \"left\", \"xref\": \"x\", \"y\": 35, \"yref\": \"y\"}, {\"align\": \"left\", \"font\": {\"color\": \"#000000\"}, \"showarrow\": false, \"text\": \"8.0\", \"x\": 2.55, \"xanchor\": \"left\", \"xref\": \"x\", \"y\": 35, \"yref\": \"y\"}, {\"align\": \"left\", \"font\": {\"color\": \"#000000\"}, \"showarrow\": false, \"text\": \"25\", \"x\": 3.55, \"xanchor\": \"left\", \"xref\": \"x\", \"y\": 35, \"yref\": \"y\"}, {\"align\": \"left\", \"font\": {\"color\": \"#000000\"}, \"showarrow\": false, \"text\": \"2017-10-06\", \"x\": -0.45, \"xanchor\": \"left\", \"xref\": \"x\", \"y\": 36, \"yref\": \"y\"}, {\"align\": \"left\", \"font\": {\"color\": \"#000000\"}, \"showarrow\": false, \"text\": \"3.0000000000000004\", \"x\": 0.55, \"xanchor\": \"left\", \"xref\": \"x\", \"y\": 36, \"yref\": \"y\"}, {\"align\": \"left\", \"font\": {\"color\": \"#000000\"}, \"showarrow\": false, \"text\": \"13.0\", \"x\": 1.55, \"xanchor\": \"left\", \"xref\": \"x\", \"y\": 36, \"yref\": \"y\"}, {\"align\": \"left\", \"font\": {\"color\": \"#000000\"}, \"showarrow\": false, \"text\": \"5.0\", \"x\": 2.55, \"xanchor\": \"left\", \"xref\": \"x\", \"y\": 36, \"yref\": \"y\"}, {\"align\": \"left\", \"font\": {\"color\": \"#000000\"}, \"showarrow\": false, \"text\": \"21\", \"x\": 3.55, \"xanchor\": \"left\", \"xref\": \"x\", \"y\": 36, \"yref\": \"y\"}, {\"align\": \"left\", \"font\": {\"color\": \"#000000\"}, \"showarrow\": false, \"text\": \"2017-10-07\", \"x\": -0.45, \"xanchor\": \"left\", \"xref\": \"x\", \"y\": 37, \"yref\": \"y\"}, {\"align\": \"left\", \"font\": {\"color\": \"#000000\"}, \"showarrow\": false, \"text\": \"2.0\", \"x\": 0.55, \"xanchor\": \"left\", \"xref\": \"x\", \"y\": 37, \"yref\": \"y\"}, {\"align\": \"left\", \"font\": {\"color\": \"#000000\"}, \"showarrow\": false, \"text\": \"9.0\", \"x\": 1.55, \"xanchor\": \"left\", \"xref\": \"x\", \"y\": 37, \"yref\": \"y\"}, {\"align\": \"left\", \"font\": {\"color\": \"#000000\"}, \"showarrow\": false, \"text\": \"10.0\", \"x\": 2.55, \"xanchor\": \"left\", \"xref\": \"x\", \"y\": 37, \"yref\": \"y\"}, {\"align\": \"left\", \"font\": {\"color\": \"#000000\"}, \"showarrow\": false, \"text\": \"21\", \"x\": 3.55, \"xanchor\": \"left\", \"xref\": \"x\", \"y\": 37, \"yref\": \"y\"}, {\"align\": \"left\", \"font\": {\"color\": \"#000000\"}, \"showarrow\": false, \"text\": \"2017-10-08\", \"x\": -0.45, \"xanchor\": \"left\", \"xref\": \"x\", \"y\": 38, \"yref\": \"y\"}, {\"align\": \"left\", \"font\": {\"color\": \"#000000\"}, \"showarrow\": false, \"text\": \"1.0\", \"x\": 0.55, \"xanchor\": \"left\", \"xref\": \"x\", \"y\": 38, \"yref\": \"y\"}, {\"align\": \"left\", \"font\": {\"color\": \"#000000\"}, \"showarrow\": false, \"text\": \"14.0\", \"x\": 1.55, \"xanchor\": \"left\", \"xref\": \"x\", \"y\": 38, \"yref\": \"y\"}, {\"align\": \"left\", \"font\": {\"color\": \"#000000\"}, \"showarrow\": false, \"text\": \"7.0\", \"x\": 2.55, \"xanchor\": \"left\", \"xref\": \"x\", \"y\": 38, \"yref\": \"y\"}, {\"align\": \"left\", \"font\": {\"color\": \"#000000\"}, \"showarrow\": false, \"text\": \"22\", \"x\": 3.55, \"xanchor\": \"left\", \"xref\": \"x\", \"y\": 38, \"yref\": \"y\"}, {\"align\": \"left\", \"font\": {\"color\": \"#000000\"}, \"showarrow\": false, \"text\": \"2017-10-09\", \"x\": -0.45, \"xanchor\": \"left\", \"xref\": \"x\", \"y\": 39, \"yref\": \"y\"}, {\"align\": \"left\", \"font\": {\"color\": \"#000000\"}, \"showarrow\": false, \"text\": \"2.0\", \"x\": 0.55, \"xanchor\": \"left\", \"xref\": \"x\", \"y\": 39, \"yref\": \"y\"}, {\"align\": \"left\", \"font\": {\"color\": \"#000000\"}, \"showarrow\": false, \"text\": \"11.0\", \"x\": 1.55, \"xanchor\": \"left\", \"xref\": \"x\", \"y\": 39, \"yref\": \"y\"}, {\"align\": \"left\", \"font\": {\"color\": \"#000000\"}, \"showarrow\": false, \"text\": \"12.0\", \"x\": 2.55, \"xanchor\": \"left\", \"xref\": \"x\", \"y\": 39, \"yref\": \"y\"}, {\"align\": \"left\", \"font\": {\"color\": \"#000000\"}, \"showarrow\": false, \"text\": \"25\", \"x\": 3.55, \"xanchor\": \"left\", \"xref\": \"x\", \"y\": 39, \"yref\": \"y\"}, {\"align\": \"left\", \"font\": {\"color\": \"#000000\"}, \"showarrow\": false, \"text\": \"2017-10-10\", \"x\": -0.45, \"xanchor\": \"left\", \"xref\": \"x\", \"y\": 40, \"yref\": \"y\"}, {\"align\": \"left\", \"font\": {\"color\": \"#000000\"}, \"showarrow\": false, \"text\": \"1.0\", \"x\": 0.55, \"xanchor\": \"left\", \"xref\": \"x\", \"y\": 40, \"yref\": \"y\"}, {\"align\": \"left\", \"font\": {\"color\": \"#000000\"}, \"showarrow\": false, \"text\": \"11.0\", \"x\": 1.55, \"xanchor\": \"left\", \"xref\": \"x\", \"y\": 40, \"yref\": \"y\"}, {\"align\": \"left\", \"font\": {\"color\": \"#000000\"}, \"showarrow\": false, \"text\": \"13.0\", \"x\": 2.55, \"xanchor\": \"left\", \"xref\": \"x\", \"y\": 40, \"yref\": \"y\"}, {\"align\": \"left\", \"font\": {\"color\": \"#000000\"}, \"showarrow\": false, \"text\": \"25\", \"x\": 3.55, \"xanchor\": \"left\", \"xref\": \"x\", \"y\": 40, \"yref\": \"y\"}, {\"align\": \"left\", \"font\": {\"color\": \"#000000\"}, \"showarrow\": false, \"text\": \"2017-10-11\", \"x\": -0.45, \"xanchor\": \"left\", \"xref\": \"x\", \"y\": 41, \"yref\": \"y\"}, {\"align\": \"left\", \"font\": {\"color\": \"#000000\"}, \"showarrow\": false, \"text\": \"0.0\", \"x\": 0.55, \"xanchor\": \"left\", \"xref\": \"x\", \"y\": 41, \"yref\": \"y\"}, {\"align\": \"left\", \"font\": {\"color\": \"#000000\"}, \"showarrow\": false, \"text\": \"12.999999999999998\", \"x\": 1.55, \"xanchor\": \"left\", \"xref\": \"x\", \"y\": 41, \"yref\": \"y\"}, {\"align\": \"left\", \"font\": {\"color\": \"#000000\"}, \"showarrow\": false, \"text\": \"10.0\", \"x\": 2.55, \"xanchor\": \"left\", \"xref\": \"x\", \"y\": 41, \"yref\": \"y\"}, {\"align\": \"left\", \"font\": {\"color\": \"#000000\"}, \"showarrow\": false, \"text\": \"23\", \"x\": 3.55, \"xanchor\": \"left\", \"xref\": \"x\", \"y\": 41, \"yref\": \"y\"}, {\"align\": \"left\", \"font\": {\"color\": \"#000000\"}, \"showarrow\": false, \"text\": \"2017-10-12\", \"x\": -0.45, \"xanchor\": \"left\", \"xref\": \"x\", \"y\": 42, \"yref\": \"y\"}, {\"align\": \"left\", \"font\": {\"color\": \"#000000\"}, \"showarrow\": false, \"text\": \"3.0\", \"x\": 0.55, \"xanchor\": \"left\", \"xref\": \"x\", \"y\": 42, \"yref\": \"y\"}, {\"align\": \"left\", \"font\": {\"color\": \"#000000\"}, \"showarrow\": false, \"text\": \"6.0\", \"x\": 1.55, \"xanchor\": \"left\", \"xref\": \"x\", \"y\": 42, \"yref\": \"y\"}, {\"align\": \"left\", \"font\": {\"color\": \"#000000\"}, \"showarrow\": false, \"text\": \"15.0\", \"x\": 2.55, \"xanchor\": \"left\", \"xref\": \"x\", \"y\": 42, \"yref\": \"y\"}, {\"align\": \"left\", \"font\": {\"color\": \"#000000\"}, \"showarrow\": false, \"text\": \"24\", \"x\": 3.55, \"xanchor\": \"left\", \"xref\": \"x\", \"y\": 42, \"yref\": \"y\"}, {\"align\": \"left\", \"font\": {\"color\": \"#000000\"}, \"showarrow\": false, \"text\": \"2017-10-13\", \"x\": -0.45, \"xanchor\": \"left\", \"xref\": \"x\", \"y\": 43, \"yref\": \"y\"}, {\"align\": \"left\", \"font\": {\"color\": \"#000000\"}, \"showarrow\": false, \"text\": \"3.0\", \"x\": 0.55, \"xanchor\": \"left\", \"xref\": \"x\", \"y\": 43, \"yref\": \"y\"}, {\"align\": \"left\", \"font\": {\"color\": \"#000000\"}, \"showarrow\": false, \"text\": \"22.0\", \"x\": 1.55, \"xanchor\": \"left\", \"xref\": \"x\", \"y\": 43, \"yref\": \"y\"}, {\"align\": \"left\", \"font\": {\"color\": \"#000000\"}, \"showarrow\": false, \"text\": \"2.0\", \"x\": 2.55, \"xanchor\": \"left\", \"xref\": \"x\", \"y\": 43, \"yref\": \"y\"}, {\"align\": \"left\", \"font\": {\"color\": \"#000000\"}, \"showarrow\": false, \"text\": \"27\", \"x\": 3.55, \"xanchor\": \"left\", \"xref\": \"x\", \"y\": 43, \"yref\": \"y\"}, {\"align\": \"left\", \"font\": {\"color\": \"#000000\"}, \"showarrow\": false, \"text\": \"2017-10-14\", \"x\": -0.45, \"xanchor\": \"left\", \"xref\": \"x\", \"y\": 44, \"yref\": \"y\"}, {\"align\": \"left\", \"font\": {\"color\": \"#000000\"}, \"showarrow\": false, \"text\": \"3.0\", \"x\": 0.55, \"xanchor\": \"left\", \"xref\": \"x\", \"y\": 44, \"yref\": \"y\"}, {\"align\": \"left\", \"font\": {\"color\": \"#000000\"}, \"showarrow\": false, \"text\": \"14.000000000000002\", \"x\": 1.55, \"xanchor\": \"left\", \"xref\": \"x\", \"y\": 44, \"yref\": \"y\"}, {\"align\": \"left\", \"font\": {\"color\": \"#000000\"}, \"showarrow\": false, \"text\": \"8.0\", \"x\": 2.55, \"xanchor\": \"left\", \"xref\": \"x\", \"y\": 44, \"yref\": \"y\"}, {\"align\": \"left\", \"font\": {\"color\": \"#000000\"}, \"showarrow\": false, \"text\": \"25\", \"x\": 3.55, \"xanchor\": \"left\", \"xref\": \"x\", \"y\": 44, \"yref\": \"y\"}, {\"align\": \"left\", \"font\": {\"color\": \"#000000\"}, \"showarrow\": false, \"text\": \"2017-10-15\", \"x\": -0.45, \"xanchor\": \"left\", \"xref\": \"x\", \"y\": 45, \"yref\": \"y\"}, {\"align\": \"left\", \"font\": {\"color\": \"#000000\"}, \"showarrow\": false, \"text\": \"2.0\", \"x\": 0.55, \"xanchor\": \"left\", \"xref\": \"x\", \"y\": 45, \"yref\": \"y\"}, {\"align\": \"left\", \"font\": {\"color\": \"#000000\"}, \"showarrow\": false, \"text\": \"12.0\", \"x\": 1.55, \"xanchor\": \"left\", \"xref\": \"x\", \"y\": 45, \"yref\": \"y\"}, {\"align\": \"left\", \"font\": {\"color\": \"#000000\"}, \"showarrow\": false, \"text\": \"10.0\", \"x\": 2.55, \"xanchor\": \"left\", \"xref\": \"x\", \"y\": 45, \"yref\": \"y\"}, {\"align\": \"left\", \"font\": {\"color\": \"#000000\"}, \"showarrow\": false, \"text\": \"24\", \"x\": 3.55, \"xanchor\": \"left\", \"xref\": \"x\", \"y\": 45, \"yref\": \"y\"}, {\"align\": \"left\", \"font\": {\"color\": \"#000000\"}, \"showarrow\": false, \"text\": \"2017-10-16\", \"x\": -0.45, \"xanchor\": \"left\", \"xref\": \"x\", \"y\": 46, \"yref\": \"y\"}, {\"align\": \"left\", \"font\": {\"color\": \"#000000\"}, \"showarrow\": false, \"text\": \"2.0\", \"x\": 0.55, \"xanchor\": \"left\", \"xref\": \"x\", \"y\": 46, \"yref\": \"y\"}, {\"align\": \"left\", \"font\": {\"color\": \"#000000\"}, \"showarrow\": false, \"text\": \"10.0\", \"x\": 1.55, \"xanchor\": \"left\", \"xref\": \"x\", \"y\": 46, \"yref\": \"y\"}, {\"align\": \"left\", \"font\": {\"color\": \"#000000\"}, \"showarrow\": false, \"text\": \"10.0\", \"x\": 2.55, \"xanchor\": \"left\", \"xref\": \"x\", \"y\": 46, \"yref\": \"y\"}, {\"align\": \"left\", \"font\": {\"color\": \"#000000\"}, \"showarrow\": false, \"text\": \"22\", \"x\": 3.55, \"xanchor\": \"left\", \"xref\": \"x\", \"y\": 46, \"yref\": \"y\"}, {\"align\": \"left\", \"font\": {\"color\": \"#000000\"}, \"showarrow\": false, \"text\": \"2017-10-17\", \"x\": -0.45, \"xanchor\": \"left\", \"xref\": \"x\", \"y\": 47, \"yref\": \"y\"}, {\"align\": \"left\", \"font\": {\"color\": \"#000000\"}, \"showarrow\": false, \"text\": \"4.0\", \"x\": 0.55, \"xanchor\": \"left\", \"xref\": \"x\", \"y\": 47, \"yref\": \"y\"}, {\"align\": \"left\", \"font\": {\"color\": \"#000000\"}, \"showarrow\": false, \"text\": \"13.0\", \"x\": 1.55, \"xanchor\": \"left\", \"xref\": \"x\", \"y\": 47, \"yref\": \"y\"}, {\"align\": \"left\", \"font\": {\"color\": \"#000000\"}, \"showarrow\": false, \"text\": \"10.000000000000002\", \"x\": 2.55, \"xanchor\": \"left\", \"xref\": \"x\", \"y\": 47, \"yref\": \"y\"}, {\"align\": \"left\", \"font\": {\"color\": \"#000000\"}, \"showarrow\": false, \"text\": \"27\", \"x\": 3.55, \"xanchor\": \"left\", \"xref\": \"x\", \"y\": 47, \"yref\": \"y\"}, {\"align\": \"left\", \"font\": {\"color\": \"#000000\"}, \"showarrow\": false, \"text\": \"2017-10-18\", \"x\": -0.45, \"xanchor\": \"left\", \"xref\": \"x\", \"y\": 48, \"yref\": \"y\"}, {\"align\": \"left\", \"font\": {\"color\": \"#000000\"}, \"showarrow\": false, \"text\": \"4.0\", \"x\": 0.55, \"xanchor\": \"left\", \"xref\": \"x\", \"y\": 48, \"yref\": \"y\"}, {\"align\": \"left\", \"font\": {\"color\": \"#000000\"}, \"showarrow\": false, \"text\": \"9.0\", \"x\": 1.55, \"xanchor\": \"left\", \"xref\": \"x\", \"y\": 48, \"yref\": \"y\"}, {\"align\": \"left\", \"font\": {\"color\": \"#000000\"}, \"showarrow\": false, \"text\": \"11.0\", \"x\": 2.55, \"xanchor\": \"left\", \"xref\": \"x\", \"y\": 48, \"yref\": \"y\"}, {\"align\": \"left\", \"font\": {\"color\": \"#000000\"}, \"showarrow\": false, \"text\": \"24\", \"x\": 3.55, \"xanchor\": \"left\", \"xref\": \"x\", \"y\": 48, \"yref\": \"y\"}, {\"align\": \"left\", \"font\": {\"color\": \"#000000\"}, \"showarrow\": false, \"text\": \"2017-10-19\", \"x\": -0.45, \"xanchor\": \"left\", \"xref\": \"x\", \"y\": 49, \"yref\": \"y\"}, {\"align\": \"left\", \"font\": {\"color\": \"#000000\"}, \"showarrow\": false, \"text\": \"1.0\", \"x\": 0.55, \"xanchor\": \"left\", \"xref\": \"x\", \"y\": 49, \"yref\": \"y\"}, {\"align\": \"left\", \"font\": {\"color\": \"#000000\"}, \"showarrow\": false, \"text\": \"12.0\", \"x\": 1.55, \"xanchor\": \"left\", \"xref\": \"x\", \"y\": 49, \"yref\": \"y\"}, {\"align\": \"left\", \"font\": {\"color\": \"#000000\"}, \"showarrow\": false, \"text\": \"11.0\", \"x\": 2.55, \"xanchor\": \"left\", \"xref\": \"x\", \"y\": 49, \"yref\": \"y\"}, {\"align\": \"left\", \"font\": {\"color\": \"#000000\"}, \"showarrow\": false, \"text\": \"24\", \"x\": 3.55, \"xanchor\": \"left\", \"xref\": \"x\", \"y\": 49, \"yref\": \"y\"}, {\"align\": \"left\", \"font\": {\"color\": \"#000000\"}, \"showarrow\": false, \"text\": \"2017-10-20\", \"x\": -0.45, \"xanchor\": \"left\", \"xref\": \"x\", \"y\": 50, \"yref\": \"y\"}, {\"align\": \"left\", \"font\": {\"color\": \"#000000\"}, \"showarrow\": false, \"text\": \"2.0\", \"x\": 0.55, \"xanchor\": \"left\", \"xref\": \"x\", \"y\": 50, \"yref\": \"y\"}, {\"align\": \"left\", \"font\": {\"color\": \"#000000\"}, \"showarrow\": false, \"text\": \"11.0\", \"x\": 1.55, \"xanchor\": \"left\", \"xref\": \"x\", \"y\": 50, \"yref\": \"y\"}, {\"align\": \"left\", \"font\": {\"color\": \"#000000\"}, \"showarrow\": false, \"text\": \"12.0\", \"x\": 2.55, \"xanchor\": \"left\", \"xref\": \"x\", \"y\": 50, \"yref\": \"y\"}, {\"align\": \"left\", \"font\": {\"color\": \"#000000\"}, \"showarrow\": false, \"text\": \"25\", \"x\": 3.55, \"xanchor\": \"left\", \"xref\": \"x\", \"y\": 50, \"yref\": \"y\"}, {\"align\": \"left\", \"font\": {\"color\": \"#000000\"}, \"showarrow\": false, \"text\": \"2017-10-21\", \"x\": -0.45, \"xanchor\": \"left\", \"xref\": \"x\", \"y\": 51, \"yref\": \"y\"}, {\"align\": \"left\", \"font\": {\"color\": \"#000000\"}, \"showarrow\": false, \"text\": \"4.0\", \"x\": 0.55, \"xanchor\": \"left\", \"xref\": \"x\", \"y\": 51, \"yref\": \"y\"}, {\"align\": \"left\", \"font\": {\"color\": \"#000000\"}, \"showarrow\": false, \"text\": \"8.0\", \"x\": 1.55, \"xanchor\": \"left\", \"xref\": \"x\", \"y\": 51, \"yref\": \"y\"}, {\"align\": \"left\", \"font\": {\"color\": \"#000000\"}, \"showarrow\": false, \"text\": \"14.0\", \"x\": 2.55, \"xanchor\": \"left\", \"xref\": \"x\", \"y\": 51, \"yref\": \"y\"}, {\"align\": \"left\", \"font\": {\"color\": \"#000000\"}, \"showarrow\": false, \"text\": \"26\", \"x\": 3.55, \"xanchor\": \"left\", \"xref\": \"x\", \"y\": 51, \"yref\": \"y\"}, {\"align\": \"left\", \"font\": {\"color\": \"#000000\"}, \"showarrow\": false, \"text\": \"2017-10-22\", \"x\": -0.45, \"xanchor\": \"left\", \"xref\": \"x\", \"y\": 52, \"yref\": \"y\"}, {\"align\": \"left\", \"font\": {\"color\": \"#000000\"}, \"showarrow\": false, \"text\": \"1.0000000000000002\", \"x\": 0.55, \"xanchor\": \"left\", \"xref\": \"x\", \"y\": 52, \"yref\": \"y\"}, {\"align\": \"left\", \"font\": {\"color\": \"#000000\"}, \"showarrow\": false, \"text\": \"18.0\", \"x\": 1.55, \"xanchor\": \"left\", \"xref\": \"x\", \"y\": 52, \"yref\": \"y\"}, {\"align\": \"left\", \"font\": {\"color\": \"#000000\"}, \"showarrow\": false, \"text\": \"9.0\", \"x\": 2.55, \"xanchor\": \"left\", \"xref\": \"x\", \"y\": 52, \"yref\": \"y\"}, {\"align\": \"left\", \"font\": {\"color\": \"#000000\"}, \"showarrow\": false, \"text\": \"28\", \"x\": 3.55, \"xanchor\": \"left\", \"xref\": \"x\", \"y\": 52, \"yref\": \"y\"}, {\"align\": \"left\", \"font\": {\"color\": \"#000000\"}, \"showarrow\": false, \"text\": \"2017-10-23\", \"x\": -0.45, \"xanchor\": \"left\", \"xref\": \"x\", \"y\": 53, \"yref\": \"y\"}, {\"align\": \"left\", \"font\": {\"color\": \"#000000\"}, \"showarrow\": false, \"text\": \"2.0\", \"x\": 0.55, \"xanchor\": \"left\", \"xref\": \"x\", \"y\": 53, \"yref\": \"y\"}, {\"align\": \"left\", \"font\": {\"color\": \"#000000\"}, \"showarrow\": false, \"text\": \"15.0\", \"x\": 1.55, \"xanchor\": \"left\", \"xref\": \"x\", \"y\": 53, \"yref\": \"y\"}, {\"align\": \"left\", \"font\": {\"color\": \"#000000\"}, \"showarrow\": false, \"text\": \"6.0\", \"x\": 2.55, \"xanchor\": \"left\", \"xref\": \"x\", \"y\": 53, \"yref\": \"y\"}, {\"align\": \"left\", \"font\": {\"color\": \"#000000\"}, \"showarrow\": false, \"text\": \"23\", \"x\": 3.55, \"xanchor\": \"left\", \"xref\": \"x\", \"y\": 53, \"yref\": \"y\"}, {\"align\": \"left\", \"font\": {\"color\": \"#000000\"}, \"showarrow\": false, \"text\": \"2017-10-24\", \"x\": -0.45, \"xanchor\": \"left\", \"xref\": \"x\", \"y\": 54, \"yref\": \"y\"}, {\"align\": \"left\", \"font\": {\"color\": \"#000000\"}, \"showarrow\": false, \"text\": \"3.0\", \"x\": 0.55, \"xanchor\": \"left\", \"xref\": \"x\", \"y\": 54, \"yref\": \"y\"}, {\"align\": \"left\", \"font\": {\"color\": \"#000000\"}, \"showarrow\": false, \"text\": \"11.0\", \"x\": 1.55, \"xanchor\": \"left\", \"xref\": \"x\", \"y\": 54, \"yref\": \"y\"}, {\"align\": \"left\", \"font\": {\"color\": \"#000000\"}, \"showarrow\": false, \"text\": \"9.0\", \"x\": 2.55, \"xanchor\": \"left\", \"xref\": \"x\", \"y\": 54, \"yref\": \"y\"}, {\"align\": \"left\", \"font\": {\"color\": \"#000000\"}, \"showarrow\": false, \"text\": \"23\", \"x\": 3.55, \"xanchor\": \"left\", \"xref\": \"x\", \"y\": 54, \"yref\": \"y\"}, {\"align\": \"left\", \"font\": {\"color\": \"#000000\"}, \"showarrow\": false, \"text\": \"2017-10-25\", \"x\": -0.45, \"xanchor\": \"left\", \"xref\": \"x\", \"y\": 55, \"yref\": \"y\"}, {\"align\": \"left\", \"font\": {\"color\": \"#000000\"}, \"showarrow\": false, \"text\": \"0.0\", \"x\": 0.55, \"xanchor\": \"left\", \"xref\": \"x\", \"y\": 55, \"yref\": \"y\"}, {\"align\": \"left\", \"font\": {\"color\": \"#000000\"}, \"showarrow\": false, \"text\": \"16.0\", \"x\": 1.55, \"xanchor\": \"left\", \"xref\": \"x\", \"y\": 55, \"yref\": \"y\"}, {\"align\": \"left\", \"font\": {\"color\": \"#000000\"}, \"showarrow\": false, \"text\": \"8.0\", \"x\": 2.55, \"xanchor\": \"left\", \"xref\": \"x\", \"y\": 55, \"yref\": \"y\"}, {\"align\": \"left\", \"font\": {\"color\": \"#000000\"}, \"showarrow\": false, \"text\": \"24\", \"x\": 3.55, \"xanchor\": \"left\", \"xref\": \"x\", \"y\": 55, \"yref\": \"y\"}, {\"align\": \"left\", \"font\": {\"color\": \"#000000\"}, \"showarrow\": false, \"text\": \"2017-10-26\", \"x\": -0.45, \"xanchor\": \"left\", \"xref\": \"x\", \"y\": 56, \"yref\": \"y\"}, {\"align\": \"left\", \"font\": {\"color\": \"#000000\"}, \"showarrow\": false, \"text\": \"3.0\", \"x\": 0.55, \"xanchor\": \"left\", \"xref\": \"x\", \"y\": 56, \"yref\": \"y\"}, {\"align\": \"left\", \"font\": {\"color\": \"#000000\"}, \"showarrow\": false, \"text\": \"9.0\", \"x\": 1.55, \"xanchor\": \"left\", \"xref\": \"x\", \"y\": 56, \"yref\": \"y\"}, {\"align\": \"left\", \"font\": {\"color\": \"#000000\"}, \"showarrow\": false, \"text\": \"11.0\", \"x\": 2.55, \"xanchor\": \"left\", \"xref\": \"x\", \"y\": 56, \"yref\": \"y\"}, {\"align\": \"left\", \"font\": {\"color\": \"#000000\"}, \"showarrow\": false, \"text\": \"23\", \"x\": 3.55, \"xanchor\": \"left\", \"xref\": \"x\", \"y\": 56, \"yref\": \"y\"}, {\"align\": \"left\", \"font\": {\"color\": \"#000000\"}, \"showarrow\": false, \"text\": \"2017-10-27\", \"x\": -0.45, \"xanchor\": \"left\", \"xref\": \"x\", \"y\": 57, \"yref\": \"y\"}, {\"align\": \"left\", \"font\": {\"color\": \"#000000\"}, \"showarrow\": false, \"text\": \"0.0\", \"x\": 0.55, \"xanchor\": \"left\", \"xref\": \"x\", \"y\": 57, \"yref\": \"y\"}, {\"align\": \"left\", \"font\": {\"color\": \"#000000\"}, \"showarrow\": false, \"text\": \"13.0\", \"x\": 1.55, \"xanchor\": \"left\", \"xref\": \"x\", \"y\": 57, \"yref\": \"y\"}, {\"align\": \"left\", \"font\": {\"color\": \"#000000\"}, \"showarrow\": false, \"text\": \"13.0\", \"x\": 2.55, \"xanchor\": \"left\", \"xref\": \"x\", \"y\": 57, \"yref\": \"y\"}, {\"align\": \"left\", \"font\": {\"color\": \"#000000\"}, \"showarrow\": false, \"text\": \"26\", \"x\": 3.55, \"xanchor\": \"left\", \"xref\": \"x\", \"y\": 57, \"yref\": \"y\"}, {\"align\": \"left\", \"font\": {\"color\": \"#000000\"}, \"showarrow\": false, \"text\": \"2017-10-28\", \"x\": -0.45, \"xanchor\": \"left\", \"xref\": \"x\", \"y\": 58, \"yref\": \"y\"}, {\"align\": \"left\", \"font\": {\"color\": \"#000000\"}, \"showarrow\": false, \"text\": \"3.0\", \"x\": 0.55, \"xanchor\": \"left\", \"xref\": \"x\", \"y\": 58, \"yref\": \"y\"}, {\"align\": \"left\", \"font\": {\"color\": \"#000000\"}, \"showarrow\": false, \"text\": \"15.0\", \"x\": 1.55, \"xanchor\": \"left\", \"xref\": \"x\", \"y\": 58, \"yref\": \"y\"}, {\"align\": \"left\", \"font\": {\"color\": \"#000000\"}, \"showarrow\": false, \"text\": \"5.0\", \"x\": 2.55, \"xanchor\": \"left\", \"xref\": \"x\", \"y\": 58, \"yref\": \"y\"}, {\"align\": \"left\", \"font\": {\"color\": \"#000000\"}, \"showarrow\": false, \"text\": \"23\", \"x\": 3.55, \"xanchor\": \"left\", \"xref\": \"x\", \"y\": 58, \"yref\": \"y\"}, {\"align\": \"left\", \"font\": {\"color\": \"#000000\"}, \"showarrow\": false, \"text\": \"2017-10-29\", \"x\": -0.45, \"xanchor\": \"left\", \"xref\": \"x\", \"y\": 59, \"yref\": \"y\"}, {\"align\": \"left\", \"font\": {\"color\": \"#000000\"}, \"showarrow\": false, \"text\": \"0.0\", \"x\": 0.55, \"xanchor\": \"left\", \"xref\": \"x\", \"y\": 59, \"yref\": \"y\"}, {\"align\": \"left\", \"font\": {\"color\": \"#000000\"}, \"showarrow\": false, \"text\": \"14.0\", \"x\": 1.55, \"xanchor\": \"left\", \"xref\": \"x\", \"y\": 59, \"yref\": \"y\"}, {\"align\": \"left\", \"font\": {\"color\": \"#000000\"}, \"showarrow\": false, \"text\": \"8.0\", \"x\": 2.55, \"xanchor\": \"left\", \"xref\": \"x\", \"y\": 59, \"yref\": \"y\"}, {\"align\": \"left\", \"font\": {\"color\": \"#000000\"}, \"showarrow\": false, \"text\": \"22\", \"x\": 3.55, \"xanchor\": \"left\", \"xref\": \"x\", \"y\": 59, \"yref\": \"y\"}, {\"align\": \"left\", \"font\": {\"color\": \"#000000\"}, \"showarrow\": false, \"text\": \"2017-10-30\", \"x\": -0.45, \"xanchor\": \"left\", \"xref\": \"x\", \"y\": 60, \"yref\": \"y\"}, {\"align\": \"left\", \"font\": {\"color\": \"#000000\"}, \"showarrow\": false, \"text\": \"1.0\", \"x\": 0.55, \"xanchor\": \"left\", \"xref\": \"x\", \"y\": 60, \"yref\": \"y\"}, {\"align\": \"left\", \"font\": {\"color\": \"#000000\"}, \"showarrow\": false, \"text\": \"18.0\", \"x\": 1.55, \"xanchor\": \"left\", \"xref\": \"x\", \"y\": 60, \"yref\": \"y\"}, {\"align\": \"left\", \"font\": {\"color\": \"#000000\"}, \"showarrow\": false, \"text\": \"6.0\", \"x\": 2.55, \"xanchor\": \"left\", \"xref\": \"x\", \"y\": 60, \"yref\": \"y\"}, {\"align\": \"left\", \"font\": {\"color\": \"#000000\"}, \"showarrow\": false, \"text\": \"25\", \"x\": 3.55, \"xanchor\": \"left\", \"xref\": \"x\", \"y\": 60, \"yref\": \"y\"}, {\"align\": \"left\", \"font\": {\"color\": \"#000000\"}, \"showarrow\": false, \"text\": \"2017-10-31\", \"x\": -0.45, \"xanchor\": \"left\", \"xref\": \"x\", \"y\": 61, \"yref\": \"y\"}, {\"align\": \"left\", \"font\": {\"color\": \"#000000\"}, \"showarrow\": false, \"text\": \"3.0\", \"x\": 0.55, \"xanchor\": \"left\", \"xref\": \"x\", \"y\": 61, \"yref\": \"y\"}, {\"align\": \"left\", \"font\": {\"color\": \"#000000\"}, \"showarrow\": false, \"text\": \"27.0\", \"x\": 1.55, \"xanchor\": \"left\", \"xref\": \"x\", \"y\": 61, \"yref\": \"y\"}, {\"align\": \"left\", \"font\": {\"color\": \"#000000\"}, \"showarrow\": false, \"text\": \"20.0\", \"x\": 2.55, \"xanchor\": \"left\", \"xref\": \"x\", \"y\": 61, \"yref\": \"y\"}, {\"align\": \"left\", \"font\": {\"color\": \"#000000\"}, \"showarrow\": false, \"text\": \"50\", \"x\": 3.55, \"xanchor\": \"left\", \"xref\": \"x\", \"y\": 61, \"yref\": \"y\"}, {\"align\": \"left\", \"font\": {\"color\": \"#000000\"}, \"showarrow\": false, \"text\": \"2017-11-01\", \"x\": -0.45, \"xanchor\": \"left\", \"xref\": \"x\", \"y\": 62, \"yref\": \"y\"}, {\"align\": \"left\", \"font\": {\"color\": \"#000000\"}, \"showarrow\": false, \"text\": \"9.0\", \"x\": 0.55, \"xanchor\": \"left\", \"xref\": \"x\", \"y\": 62, \"yref\": \"y\"}, {\"align\": \"left\", \"font\": {\"color\": \"#000000\"}, \"showarrow\": false, \"text\": \"38.0\", \"x\": 1.55, \"xanchor\": \"left\", \"xref\": \"x\", \"y\": 62, \"yref\": \"y\"}, {\"align\": \"left\", \"font\": {\"color\": \"#000000\"}, \"showarrow\": false, \"text\": \"31.000000000000004\", \"x\": 2.55, \"xanchor\": \"left\", \"xref\": \"x\", \"y\": 62, \"yref\": \"y\"}, {\"align\": \"left\", \"font\": {\"color\": \"#000000\"}, \"showarrow\": false, \"text\": \"78\", \"x\": 3.55, \"xanchor\": \"left\", \"xref\": \"x\", \"y\": 62, \"yref\": \"y\"}, {\"align\": \"left\", \"font\": {\"color\": \"#000000\"}, \"showarrow\": false, \"text\": \"2017-11-02\", \"x\": -0.45, \"xanchor\": \"left\", \"xref\": \"x\", \"y\": 63, \"yref\": \"y\"}, {\"align\": \"left\", \"font\": {\"color\": \"#000000\"}, \"showarrow\": false, \"text\": \"4.0\", \"x\": 0.55, \"xanchor\": \"left\", \"xref\": \"x\", \"y\": 63, \"yref\": \"y\"}, {\"align\": \"left\", \"font\": {\"color\": \"#000000\"}, \"showarrow\": false, \"text\": \"42.00000000000001\", \"x\": 1.55, \"xanchor\": \"left\", \"xref\": \"x\", \"y\": 63, \"yref\": \"y\"}, {\"align\": \"left\", \"font\": {\"color\": \"#000000\"}, \"showarrow\": false, \"text\": \"30.0\", \"x\": 2.55, \"xanchor\": \"left\", \"xref\": \"x\", \"y\": 63, \"yref\": \"y\"}, {\"align\": \"left\", \"font\": {\"color\": \"#000000\"}, \"showarrow\": false, \"text\": \"76\", \"x\": 3.55, \"xanchor\": \"left\", \"xref\": \"x\", \"y\": 63, \"yref\": \"y\"}, {\"align\": \"left\", \"font\": {\"color\": \"#000000\"}, \"showarrow\": false, \"text\": \"2017-11-03\", \"x\": -0.45, \"xanchor\": \"left\", \"xref\": \"x\", \"y\": 64, \"yref\": \"y\"}, {\"align\": \"left\", \"font\": {\"color\": \"#000000\"}, \"showarrow\": false, \"text\": \"13.0\", \"x\": 0.55, \"xanchor\": \"left\", \"xref\": \"x\", \"y\": 64, \"yref\": \"y\"}, {\"align\": \"left\", \"font\": {\"color\": \"#000000\"}, \"showarrow\": false, \"text\": \"39.0\", \"x\": 1.55, \"xanchor\": \"left\", \"xref\": \"x\", \"y\": 64, \"yref\": \"y\"}, {\"align\": \"left\", \"font\": {\"color\": \"#000000\"}, \"showarrow\": false, \"text\": \"34.0\", \"x\": 2.55, \"xanchor\": \"left\", \"xref\": \"x\", \"y\": 64, \"yref\": \"y\"}, {\"align\": \"left\", \"font\": {\"color\": \"#000000\"}, \"showarrow\": false, \"text\": \"86\", \"x\": 3.55, \"xanchor\": \"left\", \"xref\": \"x\", \"y\": 64, \"yref\": \"y\"}, {\"align\": \"left\", \"font\": {\"color\": \"#000000\"}, \"showarrow\": false, \"text\": \"2017-11-04\", \"x\": -0.45, \"xanchor\": \"left\", \"xref\": \"x\", \"y\": 65, \"yref\": \"y\"}, {\"align\": \"left\", \"font\": {\"color\": \"#000000\"}, \"showarrow\": false, \"text\": \"7.999999999999999\", \"x\": 0.55, \"xanchor\": \"left\", \"xref\": \"x\", \"y\": 65, \"yref\": \"y\"}, {\"align\": \"left\", \"font\": {\"color\": \"#000000\"}, \"showarrow\": false, \"text\": \"34.0\", \"x\": 1.55, \"xanchor\": \"left\", \"xref\": \"x\", \"y\": 65, \"yref\": \"y\"}, {\"align\": \"left\", \"font\": {\"color\": \"#000000\"}, \"showarrow\": false, \"text\": \"33.0\", \"x\": 2.55, \"xanchor\": \"left\", \"xref\": \"x\", \"y\": 65, \"yref\": \"y\"}, {\"align\": \"left\", \"font\": {\"color\": \"#000000\"}, \"showarrow\": false, \"text\": \"75\", \"x\": 3.55, \"xanchor\": \"left\", \"xref\": \"x\", \"y\": 65, \"yref\": \"y\"}, {\"align\": \"left\", \"font\": {\"color\": \"#000000\"}, \"showarrow\": false, \"text\": \"2017-11-05\", \"x\": -0.45, \"xanchor\": \"left\", \"xref\": \"x\", \"y\": 66, \"yref\": \"y\"}, {\"align\": \"left\", \"font\": {\"color\": \"#000000\"}, \"showarrow\": false, \"text\": \"7.0\", \"x\": 0.55, \"xanchor\": \"left\", \"xref\": \"x\", \"y\": 66, \"yref\": \"y\"}, {\"align\": \"left\", \"font\": {\"color\": \"#000000\"}, \"showarrow\": false, \"text\": \"33.0\", \"x\": 1.55, \"xanchor\": \"left\", \"xref\": \"x\", \"y\": 66, \"yref\": \"y\"}, {\"align\": \"left\", \"font\": {\"color\": \"#000000\"}, \"showarrow\": false, \"text\": \"40.0\", \"x\": 2.55, \"xanchor\": \"left\", \"xref\": \"x\", \"y\": 66, \"yref\": \"y\"}, {\"align\": \"left\", \"font\": {\"color\": \"#000000\"}, \"showarrow\": false, \"text\": \"80\", \"x\": 3.55, \"xanchor\": \"left\", \"xref\": \"x\", \"y\": 66, \"yref\": \"y\"}, {\"align\": \"left\", \"font\": {\"color\": \"#000000\"}, \"showarrow\": false, \"text\": \"2017-11-06\", \"x\": -0.45, \"xanchor\": \"left\", \"xref\": \"x\", \"y\": 67, \"yref\": \"y\"}, {\"align\": \"left\", \"font\": {\"color\": \"#000000\"}, \"showarrow\": false, \"text\": \"73.0\", \"x\": 0.55, \"xanchor\": \"left\", \"xref\": \"x\", \"y\": 67, \"yref\": \"y\"}, {\"align\": \"left\", \"font\": {\"color\": \"#000000\"}, \"showarrow\": false, \"text\": \"389.00000000000006\", \"x\": 1.55, \"xanchor\": \"left\", \"xref\": \"x\", \"y\": 67, \"yref\": \"y\"}, {\"align\": \"left\", \"font\": {\"color\": \"#000000\"}, \"showarrow\": false, \"text\": \"229.99999999999997\", \"x\": 2.55, \"xanchor\": \"left\", \"xref\": \"x\", \"y\": 67, \"yref\": \"y\"}, {\"align\": \"left\", \"font\": {\"color\": \"#000000\"}, \"showarrow\": false, \"text\": \"692\", \"x\": 3.55, \"xanchor\": \"left\", \"xref\": \"x\", \"y\": 67, \"yref\": \"y\"}, {\"align\": \"left\", \"font\": {\"color\": \"#000000\"}, \"showarrow\": false, \"text\": \"2017-11-07\", \"x\": -0.45, \"xanchor\": \"left\", \"xref\": \"x\", \"y\": 68, \"yref\": \"y\"}, {\"align\": \"left\", \"font\": {\"color\": \"#000000\"}, \"showarrow\": false, \"text\": \"59.00000000000001\", \"x\": 0.55, \"xanchor\": \"left\", \"xref\": \"x\", \"y\": 68, \"yref\": \"y\"}, {\"align\": \"left\", \"font\": {\"color\": \"#000000\"}, \"showarrow\": false, \"text\": \"370.00000000000006\", \"x\": 1.55, \"xanchor\": \"left\", \"xref\": \"x\", \"y\": 68, \"yref\": \"y\"}, {\"align\": \"left\", \"font\": {\"color\": \"#000000\"}, \"showarrow\": false, \"text\": \"230.99999999999997\", \"x\": 2.55, \"xanchor\": \"left\", \"xref\": \"x\", \"y\": 68, \"yref\": \"y\"}, {\"align\": \"left\", \"font\": {\"color\": \"#000000\"}, \"showarrow\": false, \"text\": \"660\", \"x\": 3.55, \"xanchor\": \"left\", \"xref\": \"x\", \"y\": 68, \"yref\": \"y\"}, {\"align\": \"left\", \"font\": {\"color\": \"#000000\"}, \"showarrow\": false, \"text\": \"2017-11-08\", \"x\": -0.45, \"xanchor\": \"left\", \"xref\": \"x\", \"y\": 69, \"yref\": \"y\"}, {\"align\": \"left\", \"font\": {\"color\": \"#000000\"}, \"showarrow\": false, \"text\": \"67.0\", \"x\": 0.55, \"xanchor\": \"left\", \"xref\": \"x\", \"y\": 69, \"yref\": \"y\"}, {\"align\": \"left\", \"font\": {\"color\": \"#000000\"}, \"showarrow\": false, \"text\": \"426.00000000000006\", \"x\": 1.55, \"xanchor\": \"left\", \"xref\": \"x\", \"y\": 69, \"yref\": \"y\"}, {\"align\": \"left\", \"font\": {\"color\": \"#000000\"}, \"showarrow\": false, \"text\": \"353.0\", \"x\": 2.55, \"xanchor\": \"left\", \"xref\": \"x\", \"y\": 69, \"yref\": \"y\"}, {\"align\": \"left\", \"font\": {\"color\": \"#000000\"}, \"showarrow\": false, \"text\": \"846\", \"x\": 3.55, \"xanchor\": \"left\", \"xref\": \"x\", \"y\": 69, \"yref\": \"y\"}, {\"align\": \"left\", \"font\": {\"color\": \"#000000\"}, \"showarrow\": false, \"text\": \"2017-11-09\", \"x\": -0.45, \"xanchor\": \"left\", \"xref\": \"x\", \"y\": 70, \"yref\": \"y\"}, {\"align\": \"left\", \"font\": {\"color\": \"#000000\"}, \"showarrow\": false, \"text\": \"57.99999999999999\", \"x\": 0.55, \"xanchor\": \"left\", \"xref\": \"x\", \"y\": 70, \"yref\": \"y\"}, {\"align\": \"left\", \"font\": {\"color\": \"#000000\"}, \"showarrow\": false, \"text\": \"382.00000000000006\", \"x\": 1.55, \"xanchor\": \"left\", \"xref\": \"x\", \"y\": 70, \"yref\": \"y\"}, {\"align\": \"left\", \"font\": {\"color\": \"#000000\"}, \"showarrow\": false, \"text\": \"253.0\", \"x\": 2.55, \"xanchor\": \"left\", \"xref\": \"x\", \"y\": 70, \"yref\": \"y\"}, {\"align\": \"left\", \"font\": {\"color\": \"#000000\"}, \"showarrow\": false, \"text\": \"693\", \"x\": 3.55, \"xanchor\": \"left\", \"xref\": \"x\", \"y\": 70, \"yref\": \"y\"}, {\"align\": \"left\", \"font\": {\"color\": \"#000000\"}, \"showarrow\": false, \"text\": \"2017-11-10\", \"x\": -0.45, \"xanchor\": \"left\", \"xref\": \"x\", \"y\": 71, \"yref\": \"y\"}, {\"align\": \"left\", \"font\": {\"color\": \"#000000\"}, \"showarrow\": false, \"text\": \"88.0\", \"x\": 0.55, \"xanchor\": \"left\", \"xref\": \"x\", \"y\": 71, \"yref\": \"y\"}, {\"align\": \"left\", \"font\": {\"color\": \"#000000\"}, \"showarrow\": false, \"text\": \"385.0\", \"x\": 1.55, \"xanchor\": \"left\", \"xref\": \"x\", \"y\": 71, \"yref\": \"y\"}, {\"align\": \"left\", \"font\": {\"color\": \"#000000\"}, \"showarrow\": false, \"text\": \"267.0\", \"x\": 2.55, \"xanchor\": \"left\", \"xref\": \"x\", \"y\": 71, \"yref\": \"y\"}, {\"align\": \"left\", \"font\": {\"color\": \"#000000\"}, \"showarrow\": false, \"text\": \"740\", \"x\": 3.55, \"xanchor\": \"left\", \"xref\": \"x\", \"y\": 71, \"yref\": \"y\"}, {\"align\": \"left\", \"font\": {\"color\": \"#000000\"}, \"showarrow\": false, \"text\": \"2017-11-11\", \"x\": -0.45, \"xanchor\": \"left\", \"xref\": \"x\", \"y\": 72, \"yref\": \"y\"}, {\"align\": \"left\", \"font\": {\"color\": \"#000000\"}, \"showarrow\": false, \"text\": \"57.0\", \"x\": 0.55, \"xanchor\": \"left\", \"xref\": \"x\", \"y\": 72, \"yref\": \"y\"}, {\"align\": \"left\", \"font\": {\"color\": \"#000000\"}, \"showarrow\": false, \"text\": \"333.0\", \"x\": 1.55, \"xanchor\": \"left\", \"xref\": \"x\", \"y\": 72, \"yref\": \"y\"}, {\"align\": \"left\", \"font\": {\"color\": \"#000000\"}, \"showarrow\": false, \"text\": \"247.0\", \"x\": 2.55, \"xanchor\": \"left\", \"xref\": \"x\", \"y\": 72, \"yref\": \"y\"}, {\"align\": \"left\", \"font\": {\"color\": \"#000000\"}, \"showarrow\": false, \"text\": \"637\", \"x\": 3.55, \"xanchor\": \"left\", \"xref\": \"x\", \"y\": 72, \"yref\": \"y\"}, {\"align\": \"left\", \"font\": {\"color\": \"#000000\"}, \"showarrow\": false, \"text\": \"2017-11-12\", \"x\": -0.45, \"xanchor\": \"left\", \"xref\": \"x\", \"y\": 73, \"yref\": \"y\"}, {\"align\": \"left\", \"font\": {\"color\": \"#000000\"}, \"showarrow\": false, \"text\": \"85.99999999999999\", \"x\": 0.55, \"xanchor\": \"left\", \"xref\": \"x\", \"y\": 73, \"yref\": \"y\"}, {\"align\": \"left\", \"font\": {\"color\": \"#000000\"}, \"showarrow\": false, \"text\": \"370.0\", \"x\": 1.55, \"xanchor\": \"left\", \"xref\": \"x\", \"y\": 73, \"yref\": \"y\"}, {\"align\": \"left\", \"font\": {\"color\": \"#000000\"}, \"showarrow\": false, \"text\": \"293.0\", \"x\": 2.55, \"xanchor\": \"left\", \"xref\": \"x\", \"y\": 73, \"yref\": \"y\"}, {\"align\": \"left\", \"font\": {\"color\": \"#000000\"}, \"showarrow\": false, \"text\": \"749\", \"x\": 3.55, \"xanchor\": \"left\", \"xref\": \"x\", \"y\": 73, \"yref\": \"y\"}, {\"align\": \"left\", \"font\": {\"color\": \"#000000\"}, \"showarrow\": false, \"text\": \"2017-11-13\", \"x\": -0.45, \"xanchor\": \"left\", \"xref\": \"x\", \"y\": 74, \"yref\": \"y\"}, {\"align\": \"left\", \"font\": {\"color\": \"#000000\"}, \"showarrow\": false, \"text\": \"88.00000000000001\", \"x\": 0.55, \"xanchor\": \"left\", \"xref\": \"x\", \"y\": 74, \"yref\": \"y\"}, {\"align\": \"left\", \"font\": {\"color\": \"#000000\"}, \"showarrow\": false, \"text\": \"438.00000000000006\", \"x\": 1.55, \"xanchor\": \"left\", \"xref\": \"x\", \"y\": 74, \"yref\": \"y\"}, {\"align\": \"left\", \"font\": {\"color\": \"#000000\"}, \"showarrow\": false, \"text\": \"305.0\", \"x\": 2.55, \"xanchor\": \"left\", \"xref\": \"x\", \"y\": 74, \"yref\": \"y\"}, {\"align\": \"left\", \"font\": {\"color\": \"#000000\"}, \"showarrow\": false, \"text\": \"831\", \"x\": 3.55, \"xanchor\": \"left\", \"xref\": \"x\", \"y\": 74, \"yref\": \"y\"}, {\"align\": \"left\", \"font\": {\"color\": \"#000000\"}, \"showarrow\": false, \"text\": \"2017-11-14\", \"x\": -0.45, \"xanchor\": \"left\", \"xref\": \"x\", \"y\": 75, \"yref\": \"y\"}, {\"align\": \"left\", \"font\": {\"color\": \"#000000\"}, \"showarrow\": false, \"text\": \"59.0\", \"x\": 0.55, \"xanchor\": \"left\", \"xref\": \"x\", \"y\": 75, \"yref\": \"y\"}, {\"align\": \"left\", \"font\": {\"color\": \"#000000\"}, \"showarrow\": false, \"text\": \"384.0\", \"x\": 1.55, \"xanchor\": \"left\", \"xref\": \"x\", \"y\": 75, \"yref\": \"y\"}, {\"align\": \"left\", \"font\": {\"color\": \"#000000\"}, \"showarrow\": false, \"text\": \"296.0\", \"x\": 2.55, \"xanchor\": \"left\", \"xref\": \"x\", \"y\": 75, \"yref\": \"y\"}, {\"align\": \"left\", \"font\": {\"color\": \"#000000\"}, \"showarrow\": false, \"text\": \"739\", \"x\": 3.55, \"xanchor\": \"left\", \"xref\": \"x\", \"y\": 75, \"yref\": \"y\"}, {\"align\": \"left\", \"font\": {\"color\": \"#000000\"}, \"showarrow\": false, \"text\": \"2017-11-15\", \"x\": -0.45, \"xanchor\": \"left\", \"xref\": \"x\", \"y\": 76, \"yref\": \"y\"}, {\"align\": \"left\", \"font\": {\"color\": \"#000000\"}, \"showarrow\": false, \"text\": \"53.99999999999999\", \"x\": 0.55, \"xanchor\": \"left\", \"xref\": \"x\", \"y\": 76, \"yref\": \"y\"}, {\"align\": \"left\", \"font\": {\"color\": \"#000000\"}, \"showarrow\": false, \"text\": \"436.0\", \"x\": 1.55, \"xanchor\": \"left\", \"xref\": \"x\", \"y\": 76, \"yref\": \"y\"}, {\"align\": \"left\", \"font\": {\"color\": \"#000000\"}, \"showarrow\": false, \"text\": \"341.00000000000006\", \"x\": 2.55, \"xanchor\": \"left\", \"xref\": \"x\", \"y\": 76, \"yref\": \"y\"}, {\"align\": \"left\", \"font\": {\"color\": \"#000000\"}, \"showarrow\": false, \"text\": \"831\", \"x\": 3.55, \"xanchor\": \"left\", \"xref\": \"x\", \"y\": 76, \"yref\": \"y\"}, {\"align\": \"left\", \"font\": {\"color\": \"#000000\"}, \"showarrow\": false, \"text\": \"2017-11-16\", \"x\": -0.45, \"xanchor\": \"left\", \"xref\": \"x\", \"y\": 77, \"yref\": \"y\"}, {\"align\": \"left\", \"font\": {\"color\": \"#000000\"}, \"showarrow\": false, \"text\": \"55.00000000000001\", \"x\": 0.55, \"xanchor\": \"left\", \"xref\": \"x\", \"y\": 77, \"yref\": \"y\"}, {\"align\": \"left\", \"font\": {\"color\": \"#000000\"}, \"showarrow\": false, \"text\": \"463.0\", \"x\": 1.55, \"xanchor\": \"left\", \"xref\": \"x\", \"y\": 77, \"yref\": \"y\"}, {\"align\": \"left\", \"font\": {\"color\": \"#000000\"}, \"showarrow\": false, \"text\": \"344.00000000000006\", \"x\": 2.55, \"xanchor\": \"left\", \"xref\": \"x\", \"y\": 77, \"yref\": \"y\"}, {\"align\": \"left\", \"font\": {\"color\": \"#000000\"}, \"showarrow\": false, \"text\": \"862\", \"x\": 3.55, \"xanchor\": \"left\", \"xref\": \"x\", \"y\": 77, \"yref\": \"y\"}, {\"align\": \"left\", \"font\": {\"color\": \"#000000\"}, \"showarrow\": false, \"text\": \"2017-11-17\", \"x\": -0.45, \"xanchor\": \"left\", \"xref\": \"x\", \"y\": 78, \"yref\": \"y\"}, {\"align\": \"left\", \"font\": {\"color\": \"#000000\"}, \"showarrow\": false, \"text\": \"68.99999999999999\", \"x\": 0.55, \"xanchor\": \"left\", \"xref\": \"x\", \"y\": 78, \"yref\": \"y\"}, {\"align\": \"left\", \"font\": {\"color\": \"#000000\"}, \"showarrow\": false, \"text\": \"454.00000000000006\", \"x\": 1.55, \"xanchor\": \"left\", \"xref\": \"x\", \"y\": 78, \"yref\": \"y\"}, {\"align\": \"left\", \"font\": {\"color\": \"#000000\"}, \"showarrow\": false, \"text\": \"339.0\", \"x\": 2.55, \"xanchor\": \"left\", \"xref\": \"x\", \"y\": 78, \"yref\": \"y\"}, {\"align\": \"left\", \"font\": {\"color\": \"#000000\"}, \"showarrow\": false, \"text\": \"862\", \"x\": 3.55, \"xanchor\": \"left\", \"xref\": \"x\", \"y\": 78, \"yref\": \"y\"}, {\"align\": \"left\", \"font\": {\"color\": \"#000000\"}, \"showarrow\": false, \"text\": \"2017-11-18\", \"x\": -0.45, \"xanchor\": \"left\", \"xref\": \"x\", \"y\": 79, \"yref\": \"y\"}, {\"align\": \"left\", \"font\": {\"color\": \"#000000\"}, \"showarrow\": false, \"text\": \"54.00000000000001\", \"x\": 0.55, \"xanchor\": \"left\", \"xref\": \"x\", \"y\": 79, \"yref\": \"y\"}, {\"align\": \"left\", \"font\": {\"color\": \"#000000\"}, \"showarrow\": false, \"text\": \"320.00000000000006\", \"x\": 1.55, \"xanchor\": \"left\", \"xref\": \"x\", \"y\": 79, \"yref\": \"y\"}, {\"align\": \"left\", \"font\": {\"color\": \"#000000\"}, \"showarrow\": false, \"text\": \"271.0\", \"x\": 2.55, \"xanchor\": \"left\", \"xref\": \"x\", \"y\": 79, \"yref\": \"y\"}, {\"align\": \"left\", \"font\": {\"color\": \"#000000\"}, \"showarrow\": false, \"text\": \"645\", \"x\": 3.55, \"xanchor\": \"left\", \"xref\": \"x\", \"y\": 79, \"yref\": \"y\"}, {\"align\": \"left\", \"font\": {\"color\": \"#000000\"}, \"showarrow\": false, \"text\": \"2017-11-19\", \"x\": -0.45, \"xanchor\": \"left\", \"xref\": \"x\", \"y\": 80, \"yref\": \"y\"}, {\"align\": \"left\", \"font\": {\"color\": \"#000000\"}, \"showarrow\": false, \"text\": \"42.0\", \"x\": 0.55, \"xanchor\": \"left\", \"xref\": \"x\", \"y\": 80, \"yref\": \"y\"}, {\"align\": \"left\", \"font\": {\"color\": \"#000000\"}, \"showarrow\": false, \"text\": \"340.0\", \"x\": 1.55, \"xanchor\": \"left\", \"xref\": \"x\", \"y\": 80, \"yref\": \"y\"}, {\"align\": \"left\", \"font\": {\"color\": \"#000000\"}, \"showarrow\": false, \"text\": \"239.0\", \"x\": 2.55, \"xanchor\": \"left\", \"xref\": \"x\", \"y\": 80, \"yref\": \"y\"}, {\"align\": \"left\", \"font\": {\"color\": \"#000000\"}, \"showarrow\": false, \"text\": \"621\", \"x\": 3.55, \"xanchor\": \"left\", \"xref\": \"x\", \"y\": 80, \"yref\": \"y\"}, {\"align\": \"left\", \"font\": {\"color\": \"#000000\"}, \"showarrow\": false, \"text\": \"2017-11-20\", \"x\": -0.45, \"xanchor\": \"left\", \"xref\": \"x\", \"y\": 81, \"yref\": \"y\"}, {\"align\": \"left\", \"font\": {\"color\": \"#000000\"}, \"showarrow\": false, \"text\": \"65.0\", \"x\": 0.55, \"xanchor\": \"left\", \"xref\": \"x\", \"y\": 81, \"yref\": \"y\"}, {\"align\": \"left\", \"font\": {\"color\": \"#000000\"}, \"showarrow\": false, \"text\": \"477.0\", \"x\": 1.55, \"xanchor\": \"left\", \"xref\": \"x\", \"y\": 81, \"yref\": \"y\"}, {\"align\": \"left\", \"font\": {\"color\": \"#000000\"}, \"showarrow\": false, \"text\": \"319.0\", \"x\": 2.55, \"xanchor\": \"left\", \"xref\": \"x\", \"y\": 81, \"yref\": \"y\"}, {\"align\": \"left\", \"font\": {\"color\": \"#000000\"}, \"showarrow\": false, \"text\": \"861\", \"x\": 3.55, \"xanchor\": \"left\", \"xref\": \"x\", \"y\": 81, \"yref\": \"y\"}, {\"align\": \"left\", \"font\": {\"color\": \"#000000\"}, \"showarrow\": false, \"text\": \"2017-11-21\", \"x\": -0.45, \"xanchor\": \"left\", \"xref\": \"x\", \"y\": 82, \"yref\": \"y\"}, {\"align\": \"left\", \"font\": {\"color\": \"#000000\"}, \"showarrow\": false, \"text\": \"34.99999999999999\", \"x\": 0.55, \"xanchor\": \"left\", \"xref\": \"x\", \"y\": 82, \"yref\": \"y\"}, {\"align\": \"left\", \"font\": {\"color\": \"#000000\"}, \"showarrow\": false, \"text\": \"154.99999999999997\", \"x\": 1.55, \"xanchor\": \"left\", \"xref\": \"x\", \"y\": 82, \"yref\": \"y\"}, {\"align\": \"left\", \"font\": {\"color\": \"#000000\"}, \"showarrow\": false, \"text\": \"109.99999999999999\", \"x\": 2.55, \"xanchor\": \"left\", \"xref\": \"x\", \"y\": 82, \"yref\": \"y\"}, {\"align\": \"left\", \"font\": {\"color\": \"#000000\"}, \"showarrow\": false, \"text\": \"300\", \"x\": 3.55, \"xanchor\": \"left\", \"xref\": \"x\", \"y\": 82, \"yref\": \"y\"}, {\"align\": \"left\", \"font\": {\"color\": \"#000000\"}, \"showarrow\": false, \"text\": \"2017-11-22\", \"x\": -0.45, \"xanchor\": \"left\", \"xref\": \"x\", \"y\": 83, \"yref\": \"y\"}, {\"align\": \"left\", \"font\": {\"color\": \"#000000\"}, \"showarrow\": false, \"text\": \"72.0\", \"x\": 0.55, \"xanchor\": \"left\", \"xref\": \"x\", \"y\": 83, \"yref\": \"y\"}, {\"align\": \"left\", \"font\": {\"color\": \"#000000\"}, \"showarrow\": false, \"text\": \"439.0\", \"x\": 1.55, \"xanchor\": \"left\", \"xref\": \"x\", \"y\": 83, \"yref\": \"y\"}, {\"align\": \"left\", \"font\": {\"color\": \"#000000\"}, \"showarrow\": false, \"text\": \"377.0\", \"x\": 2.55, \"xanchor\": \"left\", \"xref\": \"x\", \"y\": 83, \"yref\": \"y\"}, {\"align\": \"left\", \"font\": {\"color\": \"#000000\"}, \"showarrow\": false, \"text\": \"888\", \"x\": 3.55, \"xanchor\": \"left\", \"xref\": \"x\", \"y\": 83, \"yref\": \"y\"}, {\"align\": \"left\", \"font\": {\"color\": \"#000000\"}, \"showarrow\": false, \"text\": \"2017-11-23\", \"x\": -0.45, \"xanchor\": \"left\", \"xref\": \"x\", \"y\": 84, \"yref\": \"y\"}, {\"align\": \"left\", \"font\": {\"color\": \"#000000\"}, \"showarrow\": false, \"text\": \"70.0\", \"x\": 0.55, \"xanchor\": \"left\", \"xref\": \"x\", \"y\": 84, \"yref\": \"y\"}, {\"align\": \"left\", \"font\": {\"color\": \"#000000\"}, \"showarrow\": false, \"text\": \"373.0\", \"x\": 1.55, \"xanchor\": \"left\", \"xref\": \"x\", \"y\": 84, \"yref\": \"y\"}, {\"align\": \"left\", \"font\": {\"color\": \"#000000\"}, \"showarrow\": false, \"text\": \"303.0\", \"x\": 2.55, \"xanchor\": \"left\", \"xref\": \"x\", \"y\": 84, \"yref\": \"y\"}, {\"align\": \"left\", \"font\": {\"color\": \"#000000\"}, \"showarrow\": false, \"text\": \"746\", \"x\": 3.55, \"xanchor\": \"left\", \"xref\": \"x\", \"y\": 84, \"yref\": \"y\"}, {\"align\": \"left\", \"font\": {\"color\": \"#000000\"}, \"showarrow\": false, \"text\": \"2017-11-24\", \"x\": -0.45, \"xanchor\": \"left\", \"xref\": \"x\", \"y\": 85, \"yref\": \"y\"}, {\"align\": \"left\", \"font\": {\"color\": \"#000000\"}, \"showarrow\": false, \"text\": \"57.00000000000001\", \"x\": 0.55, \"xanchor\": \"left\", \"xref\": \"x\", \"y\": 85, \"yref\": \"y\"}, {\"align\": \"left\", \"font\": {\"color\": \"#000000\"}, \"showarrow\": false, \"text\": \"350.0\", \"x\": 1.55, \"xanchor\": \"left\", \"xref\": \"x\", \"y\": 85, \"yref\": \"y\"}, {\"align\": \"left\", \"font\": {\"color\": \"#000000\"}, \"showarrow\": false, \"text\": \"298.00000000000006\", \"x\": 2.55, \"xanchor\": \"left\", \"xref\": \"x\", \"y\": 85, \"yref\": \"y\"}, {\"align\": \"left\", \"font\": {\"color\": \"#000000\"}, \"showarrow\": false, \"text\": \"705\", \"x\": 3.55, \"xanchor\": \"left\", \"xref\": \"x\", \"y\": 85, \"yref\": \"y\"}, {\"align\": \"left\", \"font\": {\"color\": \"#000000\"}, \"showarrow\": false, \"text\": \"2017-11-25\", \"x\": -0.45, \"xanchor\": \"left\", \"xref\": \"x\", \"y\": 86, \"yref\": \"y\"}, {\"align\": \"left\", \"font\": {\"color\": \"#000000\"}, \"showarrow\": false, \"text\": \"54.0\", \"x\": 0.55, \"xanchor\": \"left\", \"xref\": \"x\", \"y\": 86, \"yref\": \"y\"}, {\"align\": \"left\", \"font\": {\"color\": \"#000000\"}, \"showarrow\": false, \"text\": \"380.0\", \"x\": 1.55, \"xanchor\": \"left\", \"xref\": \"x\", \"y\": 86, \"yref\": \"y\"}, {\"align\": \"left\", \"font\": {\"color\": \"#000000\"}, \"showarrow\": false, \"text\": \"270.0\", \"x\": 2.55, \"xanchor\": \"left\", \"xref\": \"x\", \"y\": 86, \"yref\": \"y\"}, {\"align\": \"left\", \"font\": {\"color\": \"#000000\"}, \"showarrow\": false, \"text\": \"704\", \"x\": 3.55, \"xanchor\": \"left\", \"xref\": \"x\", \"y\": 86, \"yref\": \"y\"}, {\"align\": \"left\", \"font\": {\"color\": \"#000000\"}, \"showarrow\": false, \"text\": \"2017-11-26\", \"x\": -0.45, \"xanchor\": \"left\", \"xref\": \"x\", \"y\": 87, \"yref\": \"y\"}, {\"align\": \"left\", \"font\": {\"color\": \"#000000\"}, \"showarrow\": false, \"text\": \"69.0\", \"x\": 0.55, \"xanchor\": \"left\", \"xref\": \"x\", \"y\": 87, \"yref\": \"y\"}, {\"align\": \"left\", \"font\": {\"color\": \"#000000\"}, \"showarrow\": false, \"text\": \"446.0\", \"x\": 1.55, \"xanchor\": \"left\", \"xref\": \"x\", \"y\": 87, \"yref\": \"y\"}, {\"align\": \"left\", \"font\": {\"color\": \"#000000\"}, \"showarrow\": false, \"text\": \"362.0\", \"x\": 2.55, \"xanchor\": \"left\", \"xref\": \"x\", \"y\": 87, \"yref\": \"y\"}, {\"align\": \"left\", \"font\": {\"color\": \"#000000\"}, \"showarrow\": false, \"text\": \"877\", \"x\": 3.55, \"xanchor\": \"left\", \"xref\": \"x\", \"y\": 87, \"yref\": \"y\"}, {\"align\": \"left\", \"font\": {\"color\": \"#000000\"}, \"showarrow\": false, \"text\": \"2017-11-27\", \"x\": -0.45, \"xanchor\": \"left\", \"xref\": \"x\", \"y\": 88, \"yref\": \"y\"}, {\"align\": \"left\", \"font\": {\"color\": \"#000000\"}, \"showarrow\": false, \"text\": \"93.0\", \"x\": 0.55, \"xanchor\": \"left\", \"xref\": \"x\", \"y\": 88, \"yref\": \"y\"}, {\"align\": \"left\", \"font\": {\"color\": \"#000000\"}, \"showarrow\": false, \"text\": \"609.0000000000001\", \"x\": 1.55, \"xanchor\": \"left\", \"xref\": \"x\", \"y\": 88, \"yref\": \"y\"}, {\"align\": \"left\", \"font\": {\"color\": \"#000000\"}, \"showarrow\": false, \"text\": \"471.00000000000006\", \"x\": 2.55, \"xanchor\": \"left\", \"xref\": \"x\", \"y\": 88, \"yref\": \"y\"}, {\"align\": \"left\", \"font\": {\"color\": \"#000000\"}, \"showarrow\": false, \"text\": \"1173\", \"x\": 3.55, \"xanchor\": \"left\", \"xref\": \"x\", \"y\": 88, \"yref\": \"y\"}, {\"align\": \"left\", \"font\": {\"color\": \"#000000\"}, \"showarrow\": false, \"text\": \"2017-11-28\", \"x\": -0.45, \"xanchor\": \"left\", \"xref\": \"x\", \"y\": 89, \"yref\": \"y\"}, {\"align\": \"left\", \"font\": {\"color\": \"#000000\"}, \"showarrow\": false, \"text\": \"121.0\", \"x\": 0.55, \"xanchor\": \"left\", \"xref\": \"x\", \"y\": 89, \"yref\": \"y\"}, {\"align\": \"left\", \"font\": {\"color\": \"#000000\"}, \"showarrow\": false, \"text\": \"639.0000000000001\", \"x\": 1.55, \"xanchor\": \"left\", \"xref\": \"x\", \"y\": 89, \"yref\": \"y\"}, {\"align\": \"left\", \"font\": {\"color\": \"#000000\"}, \"showarrow\": false, \"text\": \"477.99999999999994\", \"x\": 2.55, \"xanchor\": \"left\", \"xref\": \"x\", \"y\": 89, \"yref\": \"y\"}, {\"align\": \"left\", \"font\": {\"color\": \"#000000\"}, \"showarrow\": false, \"text\": \"1238\", \"x\": 3.55, \"xanchor\": \"left\", \"xref\": \"x\", \"y\": 89, \"yref\": \"y\"}, {\"align\": \"left\", \"font\": {\"color\": \"#000000\"}, \"showarrow\": false, \"text\": \"2017-11-29\", \"x\": -0.45, \"xanchor\": \"left\", \"xref\": \"x\", \"y\": 90, \"yref\": \"y\"}, {\"align\": \"left\", \"font\": {\"color\": \"#000000\"}, \"showarrow\": false, \"text\": \"195.0\", \"x\": 0.55, \"xanchor\": \"left\", \"xref\": \"x\", \"y\": 90, \"yref\": \"y\"}, {\"align\": \"left\", \"font\": {\"color\": \"#000000\"}, \"showarrow\": false, \"text\": \"987.0000000000001\", \"x\": 1.55, \"xanchor\": \"left\", \"xref\": \"x\", \"y\": 90, \"yref\": \"y\"}, {\"align\": \"left\", \"font\": {\"color\": \"#000000\"}, \"showarrow\": false, \"text\": \"656.0\", \"x\": 2.55, \"xanchor\": \"left\", \"xref\": \"x\", \"y\": 90, \"yref\": \"y\"}, {\"align\": \"left\", \"font\": {\"color\": \"#000000\"}, \"showarrow\": false, \"text\": \"1838\", \"x\": 3.55, \"xanchor\": \"left\", \"xref\": \"x\", \"y\": 90, \"yref\": \"y\"}, {\"align\": \"left\", \"font\": {\"color\": \"#000000\"}, \"showarrow\": false, \"text\": \"2017-11-30\", \"x\": -0.45, \"xanchor\": \"left\", \"xref\": \"x\", \"y\": 91, \"yref\": \"y\"}, {\"align\": \"left\", \"font\": {\"color\": \"#000000\"}, \"showarrow\": false, \"text\": \"139.0\", \"x\": 0.55, \"xanchor\": \"left\", \"xref\": \"x\", \"y\": 91, \"yref\": \"y\"}, {\"align\": \"left\", \"font\": {\"color\": \"#000000\"}, \"showarrow\": false, \"text\": \"660.0000000000001\", \"x\": 1.55, \"xanchor\": \"left\", \"xref\": \"x\", \"y\": 91, \"yref\": \"y\"}, {\"align\": \"left\", \"font\": {\"color\": \"#000000\"}, \"showarrow\": false, \"text\": \"460.0\", \"x\": 2.55, \"xanchor\": \"left\", \"xref\": \"x\", \"y\": 91, \"yref\": \"y\"}, {\"align\": \"left\", \"font\": {\"color\": \"#000000\"}, \"showarrow\": false, \"text\": \"1259\", \"x\": 3.55, \"xanchor\": \"left\", \"xref\": \"x\", \"y\": 91, \"yref\": \"y\"}, {\"align\": \"left\", \"font\": {\"color\": \"#000000\"}, \"showarrow\": false, \"text\": \"2017-11-30\", \"x\": -0.45, \"xanchor\": \"left\", \"xref\": \"x\", \"y\": 92, \"yref\": \"y\"}, {\"align\": \"left\", \"font\": {\"color\": \"#000000\"}, \"showarrow\": false, \"text\": \"139.0\", \"x\": 0.55, \"xanchor\": \"left\", \"xref\": \"x\", \"y\": 92, \"yref\": \"y\"}, {\"align\": \"left\", \"font\": {\"color\": \"#000000\"}, \"showarrow\": false, \"text\": \"661.0\", \"x\": 1.55, \"xanchor\": \"left\", \"xref\": \"x\", \"y\": 92, \"yref\": \"y\"}, {\"align\": \"left\", \"font\": {\"color\": \"#000000\"}, \"showarrow\": false, \"text\": \"459.0\", \"x\": 2.55, \"xanchor\": \"left\", \"xref\": \"x\", \"y\": 92, \"yref\": \"y\"}, {\"align\": \"left\", \"font\": {\"color\": \"#000000\"}, \"showarrow\": false, \"text\": \"1259\", \"x\": 3.55, \"xanchor\": \"left\", \"xref\": \"x\", \"y\": 92, \"yref\": \"y\"}], \"height\": 2840, \"margin\": {\"b\": 0, \"l\": 0, \"r\": 0, \"t\": 0}, \"xaxis\": {\"dtick\": 1, \"gridwidth\": 2, \"showticklabels\": false, \"tick0\": -0.5, \"ticks\": \"\", \"zeroline\": false}, \"yaxis\": {\"autorange\": \"reversed\", \"dtick\": 1, \"gridwidth\": 2, \"showticklabels\": false, \"tick0\": 0.5, \"ticks\": \"\", \"zeroline\": false}}, {\"showLink\": true, \"linkText\": \"Export to plot.ly\"})});</script><script type=\"text/javascript\">window.addEventListener(\"resize\", function(){window._Plotly.Plots.resize(document.getElementById(\"36e79efe-e7b8-4078-9541-0534ed3be51b\"));});</script>"
      ]
     },
     "metadata": {},
     "output_type": "display_data"
    }
   ],
   "source": [
    "import plotly\n",
    "import plotly.figure_factory as ff\n",
    "init_notebook_mode(connected=True)\n",
    "\n",
    "table = ff.create_table(df_noOfTweets)\n",
    "plotly.offline.iplot(table, filename='df_noOfTweets')\n",
    "# =================== #\n",
    "# no_of_tweets TABLE  #\n",
    "# =================== #"
   ]
  },
  {
   "cell_type": "code",
   "execution_count": 59,
   "metadata": {},
   "outputs": [
    {
     "data": {
      "text/html": [
       "<script type=\"text/javascript\">window.PlotlyConfig = {MathJaxConfig: 'local'};</script><script type=\"text/javascript\">if (window.MathJax) {MathJax.Hub.Config({SVG: {font: \"STIX-Web\"}});}</script><script>requirejs.config({paths: { 'plotly': ['https://cdn.plot.ly/plotly-latest.min']},});if(!window._Plotly) {require(['plotly'],function(plotly) {window._Plotly=plotly;});}</script>"
      ],
      "text/vnd.plotly.v1+html": [
       "<script type=\"text/javascript\">window.PlotlyConfig = {MathJaxConfig: 'local'};</script><script type=\"text/javascript\">if (window.MathJax) {MathJax.Hub.Config({SVG: {font: \"STIX-Web\"}});}</script><script>requirejs.config({paths: { 'plotly': ['https://cdn.plot.ly/plotly-latest.min']},});if(!window._Plotly) {require(['plotly'],function(plotly) {window._Plotly=plotly;});}</script>"
      ]
     },
     "metadata": {},
     "output_type": "display_data"
    },
    {
     "data": {
      "application/vnd.plotly.v1+json": {
       "data": [
        {
         "mode": "lines",
         "name": "No. Of Tweets",
         "type": "scatter",
         "uid": "e23cd328-b753-4a53-b2c7-2ef2d74568d5",
         "x": [
          "2017-09-01",
          "2017-09-02",
          "2017-09-03",
          "2017-09-04",
          "2017-09-05",
          "2017-09-06",
          "2017-09-07",
          "2017-09-08",
          "2017-09-09",
          "2017-09-10",
          "2017-09-11",
          "2017-09-12",
          "2017-09-13",
          "2017-09-14",
          "2017-09-15",
          "2017-09-16",
          "2017-09-17",
          "2017-09-18",
          "2017-09-19",
          "2017-09-20",
          "2017-09-21",
          "2017-09-22",
          "2017-09-23",
          "2017-09-24",
          "2017-09-25",
          "2017-09-26",
          "2017-09-27",
          "2017-09-28",
          "2017-09-29",
          "2017-09-30",
          "2017-10-01",
          "2017-10-02",
          "2017-10-03",
          "2017-10-04",
          "2017-10-05",
          "2017-10-06",
          "2017-10-07",
          "2017-10-08",
          "2017-10-09",
          "2017-10-10",
          "2017-10-11",
          "2017-10-12",
          "2017-10-13",
          "2017-10-14",
          "2017-10-15",
          "2017-10-16",
          "2017-10-17",
          "2017-10-18",
          "2017-10-19",
          "2017-10-20",
          "2017-10-21",
          "2017-10-22",
          "2017-10-23",
          "2017-10-24",
          "2017-10-25",
          "2017-10-26",
          "2017-10-27",
          "2017-10-28",
          "2017-10-29",
          "2017-10-30",
          "2017-10-31",
          "2017-11-01",
          "2017-11-02",
          "2017-11-03",
          "2017-11-04",
          "2017-11-05",
          "2017-11-06",
          "2017-11-07",
          "2017-11-08",
          "2017-11-09",
          "2017-11-10",
          "2017-11-11",
          "2017-11-12",
          "2017-11-13",
          "2017-11-14",
          "2017-11-15",
          "2017-11-16",
          "2017-11-17",
          "2017-11-18",
          "2017-11-19",
          "2017-11-20",
          "2017-11-21",
          "2017-11-22",
          "2017-11-23",
          "2017-11-24",
          "2017-11-25",
          "2017-11-26",
          "2017-11-27",
          "2017-11-28",
          "2017-11-29",
          "2017-11-30",
          "2017-11-30"
         ],
         "y": [
          72,
          74,
          75,
          55,
          24,
          22,
          24,
          24,
          21,
          23,
          24,
          22,
          24,
          23,
          22,
          24,
          22,
          22,
          24,
          22,
          24,
          20,
          24,
          25,
          22,
          23,
          21,
          24,
          24,
          23,
          22,
          23,
          24,
          23,
          25,
          21,
          21,
          22,
          25,
          25,
          23,
          24,
          27,
          25,
          24,
          22,
          27,
          24,
          24,
          25,
          26,
          28,
          23,
          23,
          24,
          23,
          26,
          23,
          22,
          25,
          50,
          78,
          76,
          86,
          75,
          80,
          692,
          660,
          846,
          693,
          740,
          637,
          749,
          831,
          739,
          831,
          862,
          862,
          645,
          621,
          861,
          300,
          888,
          746,
          705,
          704,
          877,
          1173,
          1238,
          1838,
          1259,
          1259
         ]
        },
        {
         "mode": "lines",
         "name": "Neutral",
         "type": "scatter",
         "uid": "c5a2bf4f-cfa9-4a49-a70b-b3a696cb1cdb",
         "x": [
          "2017-09-01",
          "2017-09-02",
          "2017-09-03",
          "2017-09-04",
          "2017-09-05",
          "2017-09-06",
          "2017-09-07",
          "2017-09-08",
          "2017-09-09",
          "2017-09-10",
          "2017-09-11",
          "2017-09-12",
          "2017-09-13",
          "2017-09-14",
          "2017-09-15",
          "2017-09-16",
          "2017-09-17",
          "2017-09-18",
          "2017-09-19",
          "2017-09-20",
          "2017-09-21",
          "2017-09-22",
          "2017-09-23",
          "2017-09-24",
          "2017-09-25",
          "2017-09-26",
          "2017-09-27",
          "2017-09-28",
          "2017-09-29",
          "2017-09-30",
          "2017-10-01",
          "2017-10-02",
          "2017-10-03",
          "2017-10-04",
          "2017-10-05",
          "2017-10-06",
          "2017-10-07",
          "2017-10-08",
          "2017-10-09",
          "2017-10-10",
          "2017-10-11",
          "2017-10-12",
          "2017-10-13",
          "2017-10-14",
          "2017-10-15",
          "2017-10-16",
          "2017-10-17",
          "2017-10-18",
          "2017-10-19",
          "2017-10-20",
          "2017-10-21",
          "2017-10-22",
          "2017-10-23",
          "2017-10-24",
          "2017-10-25",
          "2017-10-26",
          "2017-10-27",
          "2017-10-28",
          "2017-10-29",
          "2017-10-30",
          "2017-10-31",
          "2017-11-01",
          "2017-11-02",
          "2017-11-03",
          "2017-11-04",
          "2017-11-05",
          "2017-11-06",
          "2017-11-07",
          "2017-11-08",
          "2017-11-09",
          "2017-11-10",
          "2017-11-11",
          "2017-11-12",
          "2017-11-13",
          "2017-11-14",
          "2017-11-15",
          "2017-11-16",
          "2017-11-17",
          "2017-11-18",
          "2017-11-19",
          "2017-11-20",
          "2017-11-21",
          "2017-11-22",
          "2017-11-23",
          "2017-11-24",
          "2017-11-25",
          "2017-11-26",
          "2017-11-27",
          "2017-11-28",
          "2017-11-29",
          "2017-11-30",
          "2017-11-30"
         ],
         "y": [
          29,
          45,
          43,
          33,
          13,
          13,
          15,
          14,
          12.000000000000002,
          8,
          14,
          14,
          15,
          17,
          12,
          12,
          14,
          11,
          12,
          15.000000000000002,
          14,
          12,
          14,
          14.000000000000002,
          14,
          11,
          14.000000000000002,
          14,
          10,
          14,
          12,
          14,
          9,
          11,
          17,
          13,
          9,
          14,
          11,
          11,
          12.999999999999998,
          6,
          22,
          14.000000000000002,
          12,
          10,
          13,
          9,
          12,
          11,
          8,
          18,
          15,
          11,
          16,
          9,
          13,
          15,
          14,
          18,
          27,
          38,
          42.00000000000001,
          39,
          34,
          33,
          389.00000000000006,
          370.00000000000006,
          426.00000000000006,
          382.00000000000006,
          385,
          333,
          370,
          438.00000000000006,
          384,
          436,
          463,
          454.00000000000006,
          320.00000000000006,
          340,
          477,
          154.99999999999997,
          439,
          373,
          350,
          380,
          446,
          609.0000000000001,
          639.0000000000001,
          987.0000000000001,
          660.0000000000001,
          661
         ]
        },
        {
         "mode": "lines",
         "name": "Positive",
         "type": "scatter",
         "uid": "5895093d-9ef3-4f9a-9537-1c0395e9ac50",
         "x": [
          "2017-09-01",
          "2017-09-02",
          "2017-09-03",
          "2017-09-04",
          "2017-09-05",
          "2017-09-06",
          "2017-09-07",
          "2017-09-08",
          "2017-09-09",
          "2017-09-10",
          "2017-09-11",
          "2017-09-12",
          "2017-09-13",
          "2017-09-14",
          "2017-09-15",
          "2017-09-16",
          "2017-09-17",
          "2017-09-18",
          "2017-09-19",
          "2017-09-20",
          "2017-09-21",
          "2017-09-22",
          "2017-09-23",
          "2017-09-24",
          "2017-09-25",
          "2017-09-26",
          "2017-09-27",
          "2017-09-28",
          "2017-09-29",
          "2017-09-30",
          "2017-10-01",
          "2017-10-02",
          "2017-10-03",
          "2017-10-04",
          "2017-10-05",
          "2017-10-06",
          "2017-10-07",
          "2017-10-08",
          "2017-10-09",
          "2017-10-10",
          "2017-10-11",
          "2017-10-12",
          "2017-10-13",
          "2017-10-14",
          "2017-10-15",
          "2017-10-16",
          "2017-10-17",
          "2017-10-18",
          "2017-10-19",
          "2017-10-20",
          "2017-10-21",
          "2017-10-22",
          "2017-10-23",
          "2017-10-24",
          "2017-10-25",
          "2017-10-26",
          "2017-10-27",
          "2017-10-28",
          "2017-10-29",
          "2017-10-30",
          "2017-10-31",
          "2017-11-01",
          "2017-11-02",
          "2017-11-03",
          "2017-11-04",
          "2017-11-05",
          "2017-11-06",
          "2017-11-07",
          "2017-11-08",
          "2017-11-09",
          "2017-11-10",
          "2017-11-11",
          "2017-11-12",
          "2017-11-13",
          "2017-11-14",
          "2017-11-15",
          "2017-11-16",
          "2017-11-17",
          "2017-11-18",
          "2017-11-19",
          "2017-11-20",
          "2017-11-21",
          "2017-11-22",
          "2017-11-23",
          "2017-11-24",
          "2017-11-25",
          "2017-11-26",
          "2017-11-27",
          "2017-11-28",
          "2017-11-29",
          "2017-11-30",
          "2017-11-30"
         ],
         "y": [
          36,
          25,
          27,
          16,
          11,
          8,
          9,
          9,
          8,
          12.999999999999998,
          9,
          7,
          6,
          6,
          9,
          11,
          8,
          11,
          11,
          6,
          10,
          8,
          8,
          10,
          7,
          11,
          4,
          8,
          12,
          9,
          10,
          8,
          13,
          11,
          8,
          5,
          10,
          7,
          12,
          13,
          10,
          15,
          2,
          8,
          10,
          10,
          10.000000000000002,
          11,
          11,
          12,
          14,
          9,
          6,
          9,
          8,
          11,
          13,
          5,
          8,
          6,
          20,
          31.000000000000004,
          30,
          34,
          33,
          40,
          229.99999999999997,
          230.99999999999997,
          353,
          253,
          267,
          247,
          293,
          305,
          296,
          341.00000000000006,
          344.00000000000006,
          339,
          271,
          239,
          319,
          109.99999999999999,
          377,
          303,
          298.00000000000006,
          270,
          362,
          471.00000000000006,
          477.99999999999994,
          656,
          460,
          459
         ]
        },
        {
         "mode": "lines",
         "name": "Negative",
         "type": "scatter",
         "uid": "27641c5f-af4c-47d7-8b6e-7597448e131e",
         "x": [
          "2017-09-01",
          "2017-09-02",
          "2017-09-03",
          "2017-09-04",
          "2017-09-05",
          "2017-09-06",
          "2017-09-07",
          "2017-09-08",
          "2017-09-09",
          "2017-09-10",
          "2017-09-11",
          "2017-09-12",
          "2017-09-13",
          "2017-09-14",
          "2017-09-15",
          "2017-09-16",
          "2017-09-17",
          "2017-09-18",
          "2017-09-19",
          "2017-09-20",
          "2017-09-21",
          "2017-09-22",
          "2017-09-23",
          "2017-09-24",
          "2017-09-25",
          "2017-09-26",
          "2017-09-27",
          "2017-09-28",
          "2017-09-29",
          "2017-09-30",
          "2017-10-01",
          "2017-10-02",
          "2017-10-03",
          "2017-10-04",
          "2017-10-05",
          "2017-10-06",
          "2017-10-07",
          "2017-10-08",
          "2017-10-09",
          "2017-10-10",
          "2017-10-11",
          "2017-10-12",
          "2017-10-13",
          "2017-10-14",
          "2017-10-15",
          "2017-10-16",
          "2017-10-17",
          "2017-10-18",
          "2017-10-19",
          "2017-10-20",
          "2017-10-21",
          "2017-10-22",
          "2017-10-23",
          "2017-10-24",
          "2017-10-25",
          "2017-10-26",
          "2017-10-27",
          "2017-10-28",
          "2017-10-29",
          "2017-10-30",
          "2017-10-31",
          "2017-11-01",
          "2017-11-02",
          "2017-11-03",
          "2017-11-04",
          "2017-11-05",
          "2017-11-06",
          "2017-11-07",
          "2017-11-08",
          "2017-11-09",
          "2017-11-10",
          "2017-11-11",
          "2017-11-12",
          "2017-11-13",
          "2017-11-14",
          "2017-11-15",
          "2017-11-16",
          "2017-11-17",
          "2017-11-18",
          "2017-11-19",
          "2017-11-20",
          "2017-11-21",
          "2017-11-22",
          "2017-11-23",
          "2017-11-24",
          "2017-11-25",
          "2017-11-26",
          "2017-11-27",
          "2017-11-28",
          "2017-11-29",
          "2017-11-30",
          "2017-11-30"
         ],
         "y": [
          6.999999999999999,
          3.9999999999999996,
          5,
          6,
          0,
          1,
          0,
          1,
          1,
          2,
          1,
          1,
          3,
          0,
          1,
          1,
          0,
          0,
          1,
          1,
          0,
          0,
          2,
          1,
          1,
          1,
          3.0000000000000004,
          2,
          2,
          0,
          0,
          1,
          2,
          1,
          0,
          3.0000000000000004,
          2,
          1,
          2,
          1,
          0,
          3,
          3,
          3,
          2,
          2,
          4,
          4,
          1,
          2,
          4,
          1.0000000000000002,
          2,
          3,
          0,
          3,
          0,
          3,
          0,
          1,
          3,
          9,
          4,
          13,
          7.999999999999999,
          7,
          73,
          59.00000000000001,
          67,
          57.99999999999999,
          88,
          57,
          85.99999999999999,
          88.00000000000001,
          59,
          53.99999999999999,
          55.00000000000001,
          68.99999999999999,
          54.00000000000001,
          42,
          65,
          34.99999999999999,
          72,
          70,
          57.00000000000001,
          54,
          69,
          93,
          121,
          195,
          139,
          139
         ]
        }
       ],
       "layout": {
        "title": "No. of Tweets plot"
       }
      },
      "text/html": [
       "<div id=\"3e341e1e-3794-4f4c-8e57-a27c2aeb5fd5\" style=\"height: 525px; width: 100%;\" class=\"plotly-graph-div\"></div><script type=\"text/javascript\">require([\"plotly\"], function(Plotly) { window.PLOTLYENV=window.PLOTLYENV || {};window.PLOTLYENV.BASE_URL=\"https://plot.ly\";Plotly.newPlot(\"3e341e1e-3794-4f4c-8e57-a27c2aeb5fd5\", [{\"mode\": \"lines\", \"name\": \"No. Of Tweets\", \"x\": [\"2017-09-01\", \"2017-09-02\", \"2017-09-03\", \"2017-09-04\", \"2017-09-05\", \"2017-09-06\", \"2017-09-07\", \"2017-09-08\", \"2017-09-09\", \"2017-09-10\", \"2017-09-11\", \"2017-09-12\", \"2017-09-13\", \"2017-09-14\", \"2017-09-15\", \"2017-09-16\", \"2017-09-17\", \"2017-09-18\", \"2017-09-19\", \"2017-09-20\", \"2017-09-21\", \"2017-09-22\", \"2017-09-23\", \"2017-09-24\", \"2017-09-25\", \"2017-09-26\", \"2017-09-27\", \"2017-09-28\", \"2017-09-29\", \"2017-09-30\", \"2017-10-01\", \"2017-10-02\", \"2017-10-03\", \"2017-10-04\", \"2017-10-05\", \"2017-10-06\", \"2017-10-07\", \"2017-10-08\", \"2017-10-09\", \"2017-10-10\", \"2017-10-11\", \"2017-10-12\", \"2017-10-13\", \"2017-10-14\", \"2017-10-15\", \"2017-10-16\", \"2017-10-17\", \"2017-10-18\", \"2017-10-19\", \"2017-10-20\", \"2017-10-21\", \"2017-10-22\", \"2017-10-23\", \"2017-10-24\", \"2017-10-25\", \"2017-10-26\", \"2017-10-27\", \"2017-10-28\", \"2017-10-29\", \"2017-10-30\", \"2017-10-31\", \"2017-11-01\", \"2017-11-02\", \"2017-11-03\", \"2017-11-04\", \"2017-11-05\", \"2017-11-06\", \"2017-11-07\", \"2017-11-08\", \"2017-11-09\", \"2017-11-10\", \"2017-11-11\", \"2017-11-12\", \"2017-11-13\", \"2017-11-14\", \"2017-11-15\", \"2017-11-16\", \"2017-11-17\", \"2017-11-18\", \"2017-11-19\", \"2017-11-20\", \"2017-11-21\", \"2017-11-22\", \"2017-11-23\", \"2017-11-24\", \"2017-11-25\", \"2017-11-26\", \"2017-11-27\", \"2017-11-28\", \"2017-11-29\", \"2017-11-30\", \"2017-11-30\"], \"y\": [72, 74, 75, 55, 24, 22, 24, 24, 21, 23, 24, 22, 24, 23, 22, 24, 22, 22, 24, 22, 24, 20, 24, 25, 22, 23, 21, 24, 24, 23, 22, 23, 24, 23, 25, 21, 21, 22, 25, 25, 23, 24, 27, 25, 24, 22, 27, 24, 24, 25, 26, 28, 23, 23, 24, 23, 26, 23, 22, 25, 50, 78, 76, 86, 75, 80, 692, 660, 846, 693, 740, 637, 749, 831, 739, 831, 862, 862, 645, 621, 861, 300, 888, 746, 705, 704, 877, 1173, 1238, 1838, 1259, 1259], \"type\": \"scatter\", \"uid\": \"e23cd328-b753-4a53-b2c7-2ef2d74568d5\"}, {\"mode\": \"lines\", \"name\": \"Neutral\", \"x\": [\"2017-09-01\", \"2017-09-02\", \"2017-09-03\", \"2017-09-04\", \"2017-09-05\", \"2017-09-06\", \"2017-09-07\", \"2017-09-08\", \"2017-09-09\", \"2017-09-10\", \"2017-09-11\", \"2017-09-12\", \"2017-09-13\", \"2017-09-14\", \"2017-09-15\", \"2017-09-16\", \"2017-09-17\", \"2017-09-18\", \"2017-09-19\", \"2017-09-20\", \"2017-09-21\", \"2017-09-22\", \"2017-09-23\", \"2017-09-24\", \"2017-09-25\", \"2017-09-26\", \"2017-09-27\", \"2017-09-28\", \"2017-09-29\", \"2017-09-30\", \"2017-10-01\", \"2017-10-02\", \"2017-10-03\", \"2017-10-04\", \"2017-10-05\", \"2017-10-06\", \"2017-10-07\", \"2017-10-08\", \"2017-10-09\", \"2017-10-10\", \"2017-10-11\", \"2017-10-12\", \"2017-10-13\", \"2017-10-14\", \"2017-10-15\", \"2017-10-16\", \"2017-10-17\", \"2017-10-18\", \"2017-10-19\", \"2017-10-20\", \"2017-10-21\", \"2017-10-22\", \"2017-10-23\", \"2017-10-24\", \"2017-10-25\", \"2017-10-26\", \"2017-10-27\", \"2017-10-28\", \"2017-10-29\", \"2017-10-30\", \"2017-10-31\", \"2017-11-01\", \"2017-11-02\", \"2017-11-03\", \"2017-11-04\", \"2017-11-05\", \"2017-11-06\", \"2017-11-07\", \"2017-11-08\", \"2017-11-09\", \"2017-11-10\", \"2017-11-11\", \"2017-11-12\", \"2017-11-13\", \"2017-11-14\", \"2017-11-15\", \"2017-11-16\", \"2017-11-17\", \"2017-11-18\", \"2017-11-19\", \"2017-11-20\", \"2017-11-21\", \"2017-11-22\", \"2017-11-23\", \"2017-11-24\", \"2017-11-25\", \"2017-11-26\", \"2017-11-27\", \"2017-11-28\", \"2017-11-29\", \"2017-11-30\", \"2017-11-30\"], \"y\": [29.0, 45.0, 43.0, 33.0, 13.0, 13.0, 15.0, 14.0, 12.000000000000002, 8.0, 14.0, 14.0, 15.0, 17.0, 12.0, 12.0, 14.0, 11.0, 12.0, 15.000000000000002, 14.0, 12.0, 14.0, 14.000000000000002, 14.0, 11.0, 14.000000000000002, 14.0, 10.0, 14.0, 12.0, 14.0, 9.0, 11.0, 17.0, 13.0, 9.0, 14.0, 11.0, 11.0, 12.999999999999998, 6.0, 22.0, 14.000000000000002, 12.0, 10.0, 13.0, 9.0, 12.0, 11.0, 8.0, 18.0, 15.0, 11.0, 16.0, 9.0, 13.0, 15.0, 14.0, 18.0, 27.0, 38.0, 42.00000000000001, 39.0, 34.0, 33.0, 389.00000000000006, 370.00000000000006, 426.00000000000006, 382.00000000000006, 385.0, 333.0, 370.0, 438.00000000000006, 384.0, 436.0, 463.0, 454.00000000000006, 320.00000000000006, 340.0, 477.0, 154.99999999999997, 439.0, 373.0, 350.0, 380.0, 446.0, 609.0000000000001, 639.0000000000001, 987.0000000000001, 660.0000000000001, 661.0], \"type\": \"scatter\", \"uid\": \"c5a2bf4f-cfa9-4a49-a70b-b3a696cb1cdb\"}, {\"mode\": \"lines\", \"name\": \"Positive\", \"x\": [\"2017-09-01\", \"2017-09-02\", \"2017-09-03\", \"2017-09-04\", \"2017-09-05\", \"2017-09-06\", \"2017-09-07\", \"2017-09-08\", \"2017-09-09\", \"2017-09-10\", \"2017-09-11\", \"2017-09-12\", \"2017-09-13\", \"2017-09-14\", \"2017-09-15\", \"2017-09-16\", \"2017-09-17\", \"2017-09-18\", \"2017-09-19\", \"2017-09-20\", \"2017-09-21\", \"2017-09-22\", \"2017-09-23\", \"2017-09-24\", \"2017-09-25\", \"2017-09-26\", \"2017-09-27\", \"2017-09-28\", \"2017-09-29\", \"2017-09-30\", \"2017-10-01\", \"2017-10-02\", \"2017-10-03\", \"2017-10-04\", \"2017-10-05\", \"2017-10-06\", \"2017-10-07\", \"2017-10-08\", \"2017-10-09\", \"2017-10-10\", \"2017-10-11\", \"2017-10-12\", \"2017-10-13\", \"2017-10-14\", \"2017-10-15\", \"2017-10-16\", \"2017-10-17\", \"2017-10-18\", \"2017-10-19\", \"2017-10-20\", \"2017-10-21\", \"2017-10-22\", \"2017-10-23\", \"2017-10-24\", \"2017-10-25\", \"2017-10-26\", \"2017-10-27\", \"2017-10-28\", \"2017-10-29\", \"2017-10-30\", \"2017-10-31\", \"2017-11-01\", \"2017-11-02\", \"2017-11-03\", \"2017-11-04\", \"2017-11-05\", \"2017-11-06\", \"2017-11-07\", \"2017-11-08\", \"2017-11-09\", \"2017-11-10\", \"2017-11-11\", \"2017-11-12\", \"2017-11-13\", \"2017-11-14\", \"2017-11-15\", \"2017-11-16\", \"2017-11-17\", \"2017-11-18\", \"2017-11-19\", \"2017-11-20\", \"2017-11-21\", \"2017-11-22\", \"2017-11-23\", \"2017-11-24\", \"2017-11-25\", \"2017-11-26\", \"2017-11-27\", \"2017-11-28\", \"2017-11-29\", \"2017-11-30\", \"2017-11-30\"], \"y\": [36.0, 25.0, 27.0, 16.0, 11.0, 8.0, 9.0, 9.0, 8.0, 12.999999999999998, 9.0, 7.0, 6.0, 6.0, 9.0, 11.0, 8.0, 11.0, 11.0, 6.0, 10.0, 8.0, 8.0, 10.0, 7.0, 11.0, 4.0, 8.0, 12.0, 9.0, 10.0, 8.0, 13.0, 11.0, 8.0, 5.0, 10.0, 7.0, 12.0, 13.0, 10.0, 15.0, 2.0, 8.0, 10.0, 10.0, 10.000000000000002, 11.0, 11.0, 12.0, 14.0, 9.0, 6.0, 9.0, 8.0, 11.0, 13.0, 5.0, 8.0, 6.0, 20.0, 31.000000000000004, 30.0, 34.0, 33.0, 40.0, 229.99999999999997, 230.99999999999997, 353.0, 253.0, 267.0, 247.0, 293.0, 305.0, 296.0, 341.00000000000006, 344.00000000000006, 339.0, 271.0, 239.0, 319.0, 109.99999999999999, 377.0, 303.0, 298.00000000000006, 270.0, 362.0, 471.00000000000006, 477.99999999999994, 656.0, 460.0, 459.0], \"type\": \"scatter\", \"uid\": \"5895093d-9ef3-4f9a-9537-1c0395e9ac50\"}, {\"mode\": \"lines\", \"name\": \"Negative\", \"x\": [\"2017-09-01\", \"2017-09-02\", \"2017-09-03\", \"2017-09-04\", \"2017-09-05\", \"2017-09-06\", \"2017-09-07\", \"2017-09-08\", \"2017-09-09\", \"2017-09-10\", \"2017-09-11\", \"2017-09-12\", \"2017-09-13\", \"2017-09-14\", \"2017-09-15\", \"2017-09-16\", \"2017-09-17\", \"2017-09-18\", \"2017-09-19\", \"2017-09-20\", \"2017-09-21\", \"2017-09-22\", \"2017-09-23\", \"2017-09-24\", \"2017-09-25\", \"2017-09-26\", \"2017-09-27\", \"2017-09-28\", \"2017-09-29\", \"2017-09-30\", \"2017-10-01\", \"2017-10-02\", \"2017-10-03\", \"2017-10-04\", \"2017-10-05\", \"2017-10-06\", \"2017-10-07\", \"2017-10-08\", \"2017-10-09\", \"2017-10-10\", \"2017-10-11\", \"2017-10-12\", \"2017-10-13\", \"2017-10-14\", \"2017-10-15\", \"2017-10-16\", \"2017-10-17\", \"2017-10-18\", \"2017-10-19\", \"2017-10-20\", \"2017-10-21\", \"2017-10-22\", \"2017-10-23\", \"2017-10-24\", \"2017-10-25\", \"2017-10-26\", \"2017-10-27\", \"2017-10-28\", \"2017-10-29\", \"2017-10-30\", \"2017-10-31\", \"2017-11-01\", \"2017-11-02\", \"2017-11-03\", \"2017-11-04\", \"2017-11-05\", \"2017-11-06\", \"2017-11-07\", \"2017-11-08\", \"2017-11-09\", \"2017-11-10\", \"2017-11-11\", \"2017-11-12\", \"2017-11-13\", \"2017-11-14\", \"2017-11-15\", \"2017-11-16\", \"2017-11-17\", \"2017-11-18\", \"2017-11-19\", \"2017-11-20\", \"2017-11-21\", \"2017-11-22\", \"2017-11-23\", \"2017-11-24\", \"2017-11-25\", \"2017-11-26\", \"2017-11-27\", \"2017-11-28\", \"2017-11-29\", \"2017-11-30\", \"2017-11-30\"], \"y\": [6.999999999999999, 3.9999999999999996, 5.0, 6.0, 0.0, 1.0, 0.0, 1.0, 1.0, 2.0, 1.0, 1.0, 3.0, 0.0, 1.0, 1.0, 0.0, 0.0, 1.0, 1.0, 0.0, 0.0, 2.0, 1.0, 1.0, 1.0, 3.0000000000000004, 2.0, 2.0, 0.0, 0.0, 1.0, 2.0, 1.0, 0.0, 3.0000000000000004, 2.0, 1.0, 2.0, 1.0, 0.0, 3.0, 3.0, 3.0, 2.0, 2.0, 4.0, 4.0, 1.0, 2.0, 4.0, 1.0000000000000002, 2.0, 3.0, 0.0, 3.0, 0.0, 3.0, 0.0, 1.0, 3.0, 9.0, 4.0, 13.0, 7.999999999999999, 7.0, 73.0, 59.00000000000001, 67.0, 57.99999999999999, 88.0, 57.0, 85.99999999999999, 88.00000000000001, 59.0, 53.99999999999999, 55.00000000000001, 68.99999999999999, 54.00000000000001, 42.0, 65.0, 34.99999999999999, 72.0, 70.0, 57.00000000000001, 54.0, 69.0, 93.0, 121.0, 195.0, 139.0, 139.0], \"type\": \"scatter\", \"uid\": \"27641c5f-af4c-47d7-8b6e-7597448e131e\"}], {\"title\": \"No. of Tweets plot\"}, {\"showLink\": true, \"linkText\": \"Export to plot.ly\"})});</script><script type=\"text/javascript\">window.addEventListener(\"resize\", function(){window._Plotly.Plots.resize(document.getElementById(\"3e341e1e-3794-4f4c-8e57-a27c2aeb5fd5\"));});</script>"
      ],
      "text/vnd.plotly.v1+html": [
       "<div id=\"3e341e1e-3794-4f4c-8e57-a27c2aeb5fd5\" style=\"height: 525px; width: 100%;\" class=\"plotly-graph-div\"></div><script type=\"text/javascript\">require([\"plotly\"], function(Plotly) { window.PLOTLYENV=window.PLOTLYENV || {};window.PLOTLYENV.BASE_URL=\"https://plot.ly\";Plotly.newPlot(\"3e341e1e-3794-4f4c-8e57-a27c2aeb5fd5\", [{\"mode\": \"lines\", \"name\": \"No. Of Tweets\", \"x\": [\"2017-09-01\", \"2017-09-02\", \"2017-09-03\", \"2017-09-04\", \"2017-09-05\", \"2017-09-06\", \"2017-09-07\", \"2017-09-08\", \"2017-09-09\", \"2017-09-10\", \"2017-09-11\", \"2017-09-12\", \"2017-09-13\", \"2017-09-14\", \"2017-09-15\", \"2017-09-16\", \"2017-09-17\", \"2017-09-18\", \"2017-09-19\", \"2017-09-20\", \"2017-09-21\", \"2017-09-22\", \"2017-09-23\", \"2017-09-24\", \"2017-09-25\", \"2017-09-26\", \"2017-09-27\", \"2017-09-28\", \"2017-09-29\", \"2017-09-30\", \"2017-10-01\", \"2017-10-02\", \"2017-10-03\", \"2017-10-04\", \"2017-10-05\", \"2017-10-06\", \"2017-10-07\", \"2017-10-08\", \"2017-10-09\", \"2017-10-10\", \"2017-10-11\", \"2017-10-12\", \"2017-10-13\", \"2017-10-14\", \"2017-10-15\", \"2017-10-16\", \"2017-10-17\", \"2017-10-18\", \"2017-10-19\", \"2017-10-20\", \"2017-10-21\", \"2017-10-22\", \"2017-10-23\", \"2017-10-24\", \"2017-10-25\", \"2017-10-26\", \"2017-10-27\", \"2017-10-28\", \"2017-10-29\", \"2017-10-30\", \"2017-10-31\", \"2017-11-01\", \"2017-11-02\", \"2017-11-03\", \"2017-11-04\", \"2017-11-05\", \"2017-11-06\", \"2017-11-07\", \"2017-11-08\", \"2017-11-09\", \"2017-11-10\", \"2017-11-11\", \"2017-11-12\", \"2017-11-13\", \"2017-11-14\", \"2017-11-15\", \"2017-11-16\", \"2017-11-17\", \"2017-11-18\", \"2017-11-19\", \"2017-11-20\", \"2017-11-21\", \"2017-11-22\", \"2017-11-23\", \"2017-11-24\", \"2017-11-25\", \"2017-11-26\", \"2017-11-27\", \"2017-11-28\", \"2017-11-29\", \"2017-11-30\", \"2017-11-30\"], \"y\": [72, 74, 75, 55, 24, 22, 24, 24, 21, 23, 24, 22, 24, 23, 22, 24, 22, 22, 24, 22, 24, 20, 24, 25, 22, 23, 21, 24, 24, 23, 22, 23, 24, 23, 25, 21, 21, 22, 25, 25, 23, 24, 27, 25, 24, 22, 27, 24, 24, 25, 26, 28, 23, 23, 24, 23, 26, 23, 22, 25, 50, 78, 76, 86, 75, 80, 692, 660, 846, 693, 740, 637, 749, 831, 739, 831, 862, 862, 645, 621, 861, 300, 888, 746, 705, 704, 877, 1173, 1238, 1838, 1259, 1259], \"type\": \"scatter\", \"uid\": \"e23cd328-b753-4a53-b2c7-2ef2d74568d5\"}, {\"mode\": \"lines\", \"name\": \"Neutral\", \"x\": [\"2017-09-01\", \"2017-09-02\", \"2017-09-03\", \"2017-09-04\", \"2017-09-05\", \"2017-09-06\", \"2017-09-07\", \"2017-09-08\", \"2017-09-09\", \"2017-09-10\", \"2017-09-11\", \"2017-09-12\", \"2017-09-13\", \"2017-09-14\", \"2017-09-15\", \"2017-09-16\", \"2017-09-17\", \"2017-09-18\", \"2017-09-19\", \"2017-09-20\", \"2017-09-21\", \"2017-09-22\", \"2017-09-23\", \"2017-09-24\", \"2017-09-25\", \"2017-09-26\", \"2017-09-27\", \"2017-09-28\", \"2017-09-29\", \"2017-09-30\", \"2017-10-01\", \"2017-10-02\", \"2017-10-03\", \"2017-10-04\", \"2017-10-05\", \"2017-10-06\", \"2017-10-07\", \"2017-10-08\", \"2017-10-09\", \"2017-10-10\", \"2017-10-11\", \"2017-10-12\", \"2017-10-13\", \"2017-10-14\", \"2017-10-15\", \"2017-10-16\", \"2017-10-17\", \"2017-10-18\", \"2017-10-19\", \"2017-10-20\", \"2017-10-21\", \"2017-10-22\", \"2017-10-23\", \"2017-10-24\", \"2017-10-25\", \"2017-10-26\", \"2017-10-27\", \"2017-10-28\", \"2017-10-29\", \"2017-10-30\", \"2017-10-31\", \"2017-11-01\", \"2017-11-02\", \"2017-11-03\", \"2017-11-04\", \"2017-11-05\", \"2017-11-06\", \"2017-11-07\", \"2017-11-08\", \"2017-11-09\", \"2017-11-10\", \"2017-11-11\", \"2017-11-12\", \"2017-11-13\", \"2017-11-14\", \"2017-11-15\", \"2017-11-16\", \"2017-11-17\", \"2017-11-18\", \"2017-11-19\", \"2017-11-20\", \"2017-11-21\", \"2017-11-22\", \"2017-11-23\", \"2017-11-24\", \"2017-11-25\", \"2017-11-26\", \"2017-11-27\", \"2017-11-28\", \"2017-11-29\", \"2017-11-30\", \"2017-11-30\"], \"y\": [29.0, 45.0, 43.0, 33.0, 13.0, 13.0, 15.0, 14.0, 12.000000000000002, 8.0, 14.0, 14.0, 15.0, 17.0, 12.0, 12.0, 14.0, 11.0, 12.0, 15.000000000000002, 14.0, 12.0, 14.0, 14.000000000000002, 14.0, 11.0, 14.000000000000002, 14.0, 10.0, 14.0, 12.0, 14.0, 9.0, 11.0, 17.0, 13.0, 9.0, 14.0, 11.0, 11.0, 12.999999999999998, 6.0, 22.0, 14.000000000000002, 12.0, 10.0, 13.0, 9.0, 12.0, 11.0, 8.0, 18.0, 15.0, 11.0, 16.0, 9.0, 13.0, 15.0, 14.0, 18.0, 27.0, 38.0, 42.00000000000001, 39.0, 34.0, 33.0, 389.00000000000006, 370.00000000000006, 426.00000000000006, 382.00000000000006, 385.0, 333.0, 370.0, 438.00000000000006, 384.0, 436.0, 463.0, 454.00000000000006, 320.00000000000006, 340.0, 477.0, 154.99999999999997, 439.0, 373.0, 350.0, 380.0, 446.0, 609.0000000000001, 639.0000000000001, 987.0000000000001, 660.0000000000001, 661.0], \"type\": \"scatter\", \"uid\": \"c5a2bf4f-cfa9-4a49-a70b-b3a696cb1cdb\"}, {\"mode\": \"lines\", \"name\": \"Positive\", \"x\": [\"2017-09-01\", \"2017-09-02\", \"2017-09-03\", \"2017-09-04\", \"2017-09-05\", \"2017-09-06\", \"2017-09-07\", \"2017-09-08\", \"2017-09-09\", \"2017-09-10\", \"2017-09-11\", \"2017-09-12\", \"2017-09-13\", \"2017-09-14\", \"2017-09-15\", \"2017-09-16\", \"2017-09-17\", \"2017-09-18\", \"2017-09-19\", \"2017-09-20\", \"2017-09-21\", \"2017-09-22\", \"2017-09-23\", \"2017-09-24\", \"2017-09-25\", \"2017-09-26\", \"2017-09-27\", \"2017-09-28\", \"2017-09-29\", \"2017-09-30\", \"2017-10-01\", \"2017-10-02\", \"2017-10-03\", \"2017-10-04\", \"2017-10-05\", \"2017-10-06\", \"2017-10-07\", \"2017-10-08\", \"2017-10-09\", \"2017-10-10\", \"2017-10-11\", \"2017-10-12\", \"2017-10-13\", \"2017-10-14\", \"2017-10-15\", \"2017-10-16\", \"2017-10-17\", \"2017-10-18\", \"2017-10-19\", \"2017-10-20\", \"2017-10-21\", \"2017-10-22\", \"2017-10-23\", \"2017-10-24\", \"2017-10-25\", \"2017-10-26\", \"2017-10-27\", \"2017-10-28\", \"2017-10-29\", \"2017-10-30\", \"2017-10-31\", \"2017-11-01\", \"2017-11-02\", \"2017-11-03\", \"2017-11-04\", \"2017-11-05\", \"2017-11-06\", \"2017-11-07\", \"2017-11-08\", \"2017-11-09\", \"2017-11-10\", \"2017-11-11\", \"2017-11-12\", \"2017-11-13\", \"2017-11-14\", \"2017-11-15\", \"2017-11-16\", \"2017-11-17\", \"2017-11-18\", \"2017-11-19\", \"2017-11-20\", \"2017-11-21\", \"2017-11-22\", \"2017-11-23\", \"2017-11-24\", \"2017-11-25\", \"2017-11-26\", \"2017-11-27\", \"2017-11-28\", \"2017-11-29\", \"2017-11-30\", \"2017-11-30\"], \"y\": [36.0, 25.0, 27.0, 16.0, 11.0, 8.0, 9.0, 9.0, 8.0, 12.999999999999998, 9.0, 7.0, 6.0, 6.0, 9.0, 11.0, 8.0, 11.0, 11.0, 6.0, 10.0, 8.0, 8.0, 10.0, 7.0, 11.0, 4.0, 8.0, 12.0, 9.0, 10.0, 8.0, 13.0, 11.0, 8.0, 5.0, 10.0, 7.0, 12.0, 13.0, 10.0, 15.0, 2.0, 8.0, 10.0, 10.0, 10.000000000000002, 11.0, 11.0, 12.0, 14.0, 9.0, 6.0, 9.0, 8.0, 11.0, 13.0, 5.0, 8.0, 6.0, 20.0, 31.000000000000004, 30.0, 34.0, 33.0, 40.0, 229.99999999999997, 230.99999999999997, 353.0, 253.0, 267.0, 247.0, 293.0, 305.0, 296.0, 341.00000000000006, 344.00000000000006, 339.0, 271.0, 239.0, 319.0, 109.99999999999999, 377.0, 303.0, 298.00000000000006, 270.0, 362.0, 471.00000000000006, 477.99999999999994, 656.0, 460.0, 459.0], \"type\": \"scatter\", \"uid\": \"5895093d-9ef3-4f9a-9537-1c0395e9ac50\"}, {\"mode\": \"lines\", \"name\": \"Negative\", \"x\": [\"2017-09-01\", \"2017-09-02\", \"2017-09-03\", \"2017-09-04\", \"2017-09-05\", \"2017-09-06\", \"2017-09-07\", \"2017-09-08\", \"2017-09-09\", \"2017-09-10\", \"2017-09-11\", \"2017-09-12\", \"2017-09-13\", \"2017-09-14\", \"2017-09-15\", \"2017-09-16\", \"2017-09-17\", \"2017-09-18\", \"2017-09-19\", \"2017-09-20\", \"2017-09-21\", \"2017-09-22\", \"2017-09-23\", \"2017-09-24\", \"2017-09-25\", \"2017-09-26\", \"2017-09-27\", \"2017-09-28\", \"2017-09-29\", \"2017-09-30\", \"2017-10-01\", \"2017-10-02\", \"2017-10-03\", \"2017-10-04\", \"2017-10-05\", \"2017-10-06\", \"2017-10-07\", \"2017-10-08\", \"2017-10-09\", \"2017-10-10\", \"2017-10-11\", \"2017-10-12\", \"2017-10-13\", \"2017-10-14\", \"2017-10-15\", \"2017-10-16\", \"2017-10-17\", \"2017-10-18\", \"2017-10-19\", \"2017-10-20\", \"2017-10-21\", \"2017-10-22\", \"2017-10-23\", \"2017-10-24\", \"2017-10-25\", \"2017-10-26\", \"2017-10-27\", \"2017-10-28\", \"2017-10-29\", \"2017-10-30\", \"2017-10-31\", \"2017-11-01\", \"2017-11-02\", \"2017-11-03\", \"2017-11-04\", \"2017-11-05\", \"2017-11-06\", \"2017-11-07\", \"2017-11-08\", \"2017-11-09\", \"2017-11-10\", \"2017-11-11\", \"2017-11-12\", \"2017-11-13\", \"2017-11-14\", \"2017-11-15\", \"2017-11-16\", \"2017-11-17\", \"2017-11-18\", \"2017-11-19\", \"2017-11-20\", \"2017-11-21\", \"2017-11-22\", \"2017-11-23\", \"2017-11-24\", \"2017-11-25\", \"2017-11-26\", \"2017-11-27\", \"2017-11-28\", \"2017-11-29\", \"2017-11-30\", \"2017-11-30\"], \"y\": [6.999999999999999, 3.9999999999999996, 5.0, 6.0, 0.0, 1.0, 0.0, 1.0, 1.0, 2.0, 1.0, 1.0, 3.0, 0.0, 1.0, 1.0, 0.0, 0.0, 1.0, 1.0, 0.0, 0.0, 2.0, 1.0, 1.0, 1.0, 3.0000000000000004, 2.0, 2.0, 0.0, 0.0, 1.0, 2.0, 1.0, 0.0, 3.0000000000000004, 2.0, 1.0, 2.0, 1.0, 0.0, 3.0, 3.0, 3.0, 2.0, 2.0, 4.0, 4.0, 1.0, 2.0, 4.0, 1.0000000000000002, 2.0, 3.0, 0.0, 3.0, 0.0, 3.0, 0.0, 1.0, 3.0, 9.0, 4.0, 13.0, 7.999999999999999, 7.0, 73.0, 59.00000000000001, 67.0, 57.99999999999999, 88.0, 57.0, 85.99999999999999, 88.00000000000001, 59.0, 53.99999999999999, 55.00000000000001, 68.99999999999999, 54.00000000000001, 42.0, 65.0, 34.99999999999999, 72.0, 70.0, 57.00000000000001, 54.0, 69.0, 93.0, 121.0, 195.0, 139.0, 139.0], \"type\": \"scatter\", \"uid\": \"27641c5f-af4c-47d7-8b6e-7597448e131e\"}], {\"title\": \"No. of Tweets plot\"}, {\"showLink\": true, \"linkText\": \"Export to plot.ly\"})});</script><script type=\"text/javascript\">window.addEventListener(\"resize\", function(){window._Plotly.Plots.resize(document.getElementById(\"3e341e1e-3794-4f4c-8e57-a27c2aeb5fd5\"));});</script>"
      ]
     },
     "metadata": {},
     "output_type": "display_data"
    }
   ],
   "source": [
    "import plotly.graph_objs as go\n",
    "from plotly.offline import *\n",
    "# =================== #\n",
    "# Plot No. of Tweets  #\n",
    "# =================== #\n",
    "trace1 = go.Scatter(\n",
    "    x=df_noOfTweets['date'],\n",
    "    y=df_noOfTweets['total'],\n",
    "    mode = 'lines',\n",
    "    name='No. Of Tweets'\n",
    ")\n",
    "trace2 = go.Scatter(\n",
    "    x=df_noOfTweets['date'],\n",
    "    y=df_noOfTweets['neutral'],\n",
    "    mode = 'lines',\n",
    "    name='Neutral'\n",
    ")\n",
    "trace3 = go.Scatter(\n",
    "    x=df_noOfTweets['date'],\n",
    "    y=df_noOfTweets['positive'],\n",
    "    mode = 'lines',\n",
    "    name='Positive'\n",
    ")\n",
    "trace4 = go.Scatter(\n",
    "    x=df_noOfTweets['date'],\n",
    "    y=df_noOfTweets['negative'],\n",
    "    mode = 'lines',\n",
    "    name='Negative'\n",
    ")\n",
    "data = [trace1, trace2, trace3, trace4]\n",
    "layout = go.Layout(\n",
    "    title='No. of Tweets plot'\n",
    ")\n",
    "fig = go.Figure(data=data, layout=layout)\n",
    "plotly.offline.iplot(fig, filename='No_Of_Tweets.html') # Plot No. of Tweets"
   ]
  },
  {
   "cell_type": "code",
   "execution_count": 54,
   "metadata": {},
   "outputs": [
    {
     "data": {
      "application/vnd.plotly.v1+json": {
       "data": [
        {
         "colorscale": [
          [
           0,
           "#00083e"
          ],
          [
           0.5,
           "#ededee"
          ],
          [
           1,
           "#ffffff"
          ]
         ],
         "hoverinfo": "none",
         "opacity": 0.75,
         "showscale": false,
         "type": "heatmap",
         "uid": "915caba4-3b05-4429-92ac-013cdfcbae0d",
         "z": [
          [
           0,
           0,
           0,
           0
          ],
          [
           0.5,
           0.5,
           0.5,
           0.5
          ],
          [
           1,
           1,
           1,
           1
          ],
          [
           0.5,
           0.5,
           0.5,
           0.5
          ],
          [
           1,
           1,
           1,
           1
          ],
          [
           0.5,
           0.5,
           0.5,
           0.5
          ],
          [
           1,
           1,
           1,
           1
          ],
          [
           0.5,
           0.5,
           0.5,
           0.5
          ],
          [
           1,
           1,
           1,
           1
          ],
          [
           0.5,
           0.5,
           0.5,
           0.5
          ],
          [
           1,
           1,
           1,
           1
          ],
          [
           0.5,
           0.5,
           0.5,
           0.5
          ],
          [
           1,
           1,
           1,
           1
          ],
          [
           0.5,
           0.5,
           0.5,
           0.5
          ],
          [
           1,
           1,
           1,
           1
          ],
          [
           0.5,
           0.5,
           0.5,
           0.5
          ],
          [
           1,
           1,
           1,
           1
          ],
          [
           0.5,
           0.5,
           0.5,
           0.5
          ],
          [
           1,
           1,
           1,
           1
          ],
          [
           0.5,
           0.5,
           0.5,
           0.5
          ],
          [
           1,
           1,
           1,
           1
          ],
          [
           0.5,
           0.5,
           0.5,
           0.5
          ],
          [
           1,
           1,
           1,
           1
          ],
          [
           0.5,
           0.5,
           0.5,
           0.5
          ],
          [
           1,
           1,
           1,
           1
          ],
          [
           0.5,
           0.5,
           0.5,
           0.5
          ],
          [
           1,
           1,
           1,
           1
          ],
          [
           0.5,
           0.5,
           0.5,
           0.5
          ],
          [
           1,
           1,
           1,
           1
          ],
          [
           0.5,
           0.5,
           0.5,
           0.5
          ],
          [
           1,
           1,
           1,
           1
          ],
          [
           0.5,
           0.5,
           0.5,
           0.5
          ],
          [
           1,
           1,
           1,
           1
          ],
          [
           0.5,
           0.5,
           0.5,
           0.5
          ],
          [
           1,
           1,
           1,
           1
          ],
          [
           0.5,
           0.5,
           0.5,
           0.5
          ],
          [
           1,
           1,
           1,
           1
          ],
          [
           0.5,
           0.5,
           0.5,
           0.5
          ],
          [
           1,
           1,
           1,
           1
          ],
          [
           0.5,
           0.5,
           0.5,
           0.5
          ],
          [
           1,
           1,
           1,
           1
          ],
          [
           0.5,
           0.5,
           0.5,
           0.5
          ],
          [
           1,
           1,
           1,
           1
          ],
          [
           0.5,
           0.5,
           0.5,
           0.5
          ],
          [
           1,
           1,
           1,
           1
          ],
          [
           0.5,
           0.5,
           0.5,
           0.5
          ],
          [
           1,
           1,
           1,
           1
          ],
          [
           0.5,
           0.5,
           0.5,
           0.5
          ],
          [
           1,
           1,
           1,
           1
          ],
          [
           0.5,
           0.5,
           0.5,
           0.5
          ],
          [
           1,
           1,
           1,
           1
          ],
          [
           0.5,
           0.5,
           0.5,
           0.5
          ],
          [
           1,
           1,
           1,
           1
          ],
          [
           0.5,
           0.5,
           0.5,
           0.5
          ],
          [
           1,
           1,
           1,
           1
          ],
          [
           0.5,
           0.5,
           0.5,
           0.5
          ],
          [
           1,
           1,
           1,
           1
          ],
          [
           0.5,
           0.5,
           0.5,
           0.5
          ],
          [
           1,
           1,
           1,
           1
          ],
          [
           0.5,
           0.5,
           0.5,
           0.5
          ],
          [
           1,
           1,
           1,
           1
          ],
          [
           0.5,
           0.5,
           0.5,
           0.5
          ],
          [
           1,
           1,
           1,
           1
          ],
          [
           0.5,
           0.5,
           0.5,
           0.5
          ],
          [
           1,
           1,
           1,
           1
          ],
          [
           0.5,
           0.5,
           0.5,
           0.5
          ],
          [
           1,
           1,
           1,
           1
          ],
          [
           0.5,
           0.5,
           0.5,
           0.5
          ],
          [
           1,
           1,
           1,
           1
          ],
          [
           0.5,
           0.5,
           0.5,
           0.5
          ],
          [
           1,
           1,
           1,
           1
          ],
          [
           0.5,
           0.5,
           0.5,
           0.5
          ],
          [
           1,
           1,
           1,
           1
          ],
          [
           0.5,
           0.5,
           0.5,
           0.5
          ],
          [
           1,
           1,
           1,
           1
          ],
          [
           0.5,
           0.5,
           0.5,
           0.5
          ],
          [
           1,
           1,
           1,
           1
          ],
          [
           0.5,
           0.5,
           0.5,
           0.5
          ],
          [
           1,
           1,
           1,
           1
          ],
          [
           0.5,
           0.5,
           0.5,
           0.5
          ],
          [
           1,
           1,
           1,
           1
          ],
          [
           0.5,
           0.5,
           0.5,
           0.5
          ],
          [
           1,
           1,
           1,
           1
          ],
          [
           0.5,
           0.5,
           0.5,
           0.5
          ],
          [
           1,
           1,
           1,
           1
          ],
          [
           0.5,
           0.5,
           0.5,
           0.5
          ],
          [
           1,
           1,
           1,
           1
          ],
          [
           0.5,
           0.5,
           0.5,
           0.5
          ],
          [
           1,
           1,
           1,
           1
          ],
          [
           0.5,
           0.5,
           0.5,
           0.5
          ],
          [
           1,
           1,
           1,
           1
          ],
          [
           0.5,
           0.5,
           0.5,
           0.5
          ]
         ]
        }
       ],
       "layout": {
        "annotations": [
         {
          "align": "left",
          "font": {
           "color": "#ffffff"
          },
          "showarrow": false,
          "text": "<b>date</b>",
          "x": -0.45,
          "xanchor": "left",
          "xref": "x",
          "y": 0,
          "yref": "y"
         },
         {
          "align": "left",
          "font": {
           "color": "#ffffff"
          },
          "showarrow": false,
          "text": "<b>polarity</b>",
          "x": 0.55,
          "xanchor": "left",
          "xref": "x",
          "y": 0,
          "yref": "y"
         },
         {
          "align": "left",
          "font": {
           "color": "#ffffff"
          },
          "showarrow": false,
          "text": "<b>volume</b>",
          "x": 1.55,
          "xanchor": "left",
          "xref": "x",
          "y": 0,
          "yref": "y"
         },
         {
          "align": "left",
          "font": {
           "color": "#ffffff"
          },
          "showarrow": false,
          "text": "<b>close</b>",
          "x": 2.55,
          "xanchor": "left",
          "xref": "x",
          "y": 0,
          "yref": "y"
         },
         {
          "align": "left",
          "font": {
           "color": "#000000"
          },
          "showarrow": false,
          "text": "2017-09-01",
          "x": -0.45,
          "xanchor": "left",
          "xref": "x",
          "y": 1,
          "yref": "y"
         },
         {
          "align": "left",
          "font": {
           "color": "#000000"
          },
          "showarrow": false,
          "text": "44.84127886002886",
          "x": 0.55,
          "xanchor": "left",
          "xref": "x",
          "y": 1,
          "yref": "y"
         },
         {
          "align": "left",
          "font": {
           "color": "#000000"
          },
          "showarrow": false,
          "text": "2599079936",
          "x": 1.55,
          "xanchor": "left",
          "xref": "x",
          "y": 1,
          "yref": "y"
         },
         {
          "align": "left",
          "font": {
           "color": "#000000"
          },
          "showarrow": false,
          "text": "4892.01",
          "x": 2.55,
          "xanchor": "left",
          "xref": "x",
          "y": 1,
          "yref": "y"
         },
         {
          "align": "left",
          "font": {
           "color": "#000000"
          },
          "showarrow": false,
          "text": "2017-09-02",
          "x": -0.45,
          "xanchor": "left",
          "xref": "x",
          "y": 2,
          "yref": "y"
         },
         {
          "align": "left",
          "font": {
           "color": "#000000"
          },
          "showarrow": false,
          "text": "34.72393849206349",
          "x": 0.55,
          "xanchor": "left",
          "xref": "x",
          "y": 2,
          "yref": "y"
         },
         {
          "align": "left",
          "font": {
           "color": "#000000"
          },
          "showarrow": false,
          "text": "2722139904",
          "x": 1.55,
          "xanchor": "left",
          "xref": "x",
          "y": 2,
          "yref": "y"
         },
         {
          "align": "left",
          "font": {
           "color": "#000000"
          },
          "showarrow": false,
          "text": "4578.77",
          "x": 2.55,
          "xanchor": "left",
          "xref": "x",
          "y": 2,
          "yref": "y"
         },
         {
          "align": "left",
          "font": {
           "color": "#000000"
          },
          "showarrow": false,
          "text": "2017-09-03",
          "x": -0.45,
          "xanchor": "left",
          "xref": "x",
          "y": 3,
          "yref": "y"
         },
         {
          "align": "left",
          "font": {
           "color": "#000000"
          },
          "showarrow": false,
          "text": "30.12381042568544",
          "x": 0.55,
          "xanchor": "left",
          "xref": "x",
          "y": 3,
          "yref": "y"
         },
         {
          "align": "left",
          "font": {
           "color": "#000000"
          },
          "showarrow": false,
          "text": "1933190016",
          "x": 1.55,
          "xanchor": "left",
          "xref": "x",
          "y": 3,
          "yref": "y"
         },
         {
          "align": "left",
          "font": {
           "color": "#000000"
          },
          "showarrow": false,
          "text": "4582.96",
          "x": 2.55,
          "xanchor": "left",
          "xref": "x",
          "y": 3,
          "yref": "y"
         },
         {
          "align": "left",
          "font": {
           "color": "#000000"
          },
          "showarrow": false,
          "text": "2017-09-04",
          "x": -0.45,
          "xanchor": "left",
          "xref": "x",
          "y": 4,
          "yref": "y"
         },
         {
          "align": "left",
          "font": {
           "color": "#000000"
          },
          "showarrow": false,
          "text": "43.906720628908154",
          "x": 0.55,
          "xanchor": "left",
          "xref": "x",
          "y": 4,
          "yref": "y"
         },
         {
          "align": "left",
          "font": {
           "color": "#000000"
          },
          "showarrow": false,
          "text": "2987330048",
          "x": 1.55,
          "xanchor": "left",
          "xref": "x",
          "y": 4,
          "yref": "y"
         },
         {
          "align": "left",
          "font": {
           "color": "#000000"
          },
          "showarrow": false,
          "text": "4236.31",
          "x": 2.55,
          "xanchor": "left",
          "xref": "x",
          "y": 4,
          "yref": "y"
         },
         {
          "align": "left",
          "font": {
           "color": "#000000"
          },
          "showarrow": false,
          "text": "2017-09-05",
          "x": -0.45,
          "xanchor": "left",
          "xref": "x",
          "y": 5,
          "yref": "y"
         },
         {
          "align": "left",
          "font": {
           "color": "#000000"
          },
          "showarrow": false,
          "text": "51.60989305254931",
          "x": 0.55,
          "xanchor": "left",
          "xref": "x",
          "y": 5,
          "yref": "y"
         },
         {
          "align": "left",
          "font": {
           "color": "#000000"
          },
          "showarrow": false,
          "text": "2697969920",
          "x": 1.55,
          "xanchor": "left",
          "xref": "x",
          "y": 5,
          "yref": "y"
         },
         {
          "align": "left",
          "font": {
           "color": "#000000"
          },
          "showarrow": false,
          "text": "4376.53",
          "x": 2.55,
          "xanchor": "left",
          "xref": "x",
          "y": 5,
          "yref": "y"
         },
         {
          "align": "left",
          "font": {
           "color": "#000000"
          },
          "showarrow": false,
          "text": "2017-09-06",
          "x": -0.45,
          "xanchor": "left",
          "xref": "x",
          "y": 6,
          "yref": "y"
         },
         {
          "align": "left",
          "font": {
           "color": "#000000"
          },
          "showarrow": false,
          "text": "49.39670815295817",
          "x": 0.55,
          "xanchor": "left",
          "xref": "x",
          "y": 6,
          "yref": "y"
         },
         {
          "align": "left",
          "font": {
           "color": "#000000"
          },
          "showarrow": false,
          "text": "2172100096",
          "x": 1.55,
          "xanchor": "left",
          "xref": "x",
          "y": 6,
          "yref": "y"
         },
         {
          "align": "left",
          "font": {
           "color": "#000000"
          },
          "showarrow": false,
          "text": "4597.12",
          "x": 2.55,
          "xanchor": "left",
          "xref": "x",
          "y": 6,
          "yref": "y"
         },
         {
          "align": "left",
          "font": {
           "color": "#000000"
          },
          "showarrow": false,
          "text": "2017-09-07",
          "x": -0.45,
          "xanchor": "left",
          "xref": "x",
          "y": 7,
          "yref": "y"
         },
         {
          "align": "left",
          "font": {
           "color": "#000000"
          },
          "showarrow": false,
          "text": "54.017747884349454",
          "x": 0.55,
          "xanchor": "left",
          "xref": "x",
          "y": 7,
          "yref": "y"
         },
         {
          "align": "left",
          "font": {
           "color": "#000000"
          },
          "showarrow": false,
          "text": "1844620032",
          "x": 1.55,
          "xanchor": "left",
          "xref": "x",
          "y": 7,
          "yref": "y"
         },
         {
          "align": "left",
          "font": {
           "color": "#000000"
          },
          "showarrow": false,
          "text": "4599.88",
          "x": 2.55,
          "xanchor": "left",
          "xref": "x",
          "y": 7,
          "yref": "y"
         },
         {
          "align": "left",
          "font": {
           "color": "#000000"
          },
          "showarrow": false,
          "text": "2017-09-08",
          "x": -0.45,
          "xanchor": "left",
          "xref": "x",
          "y": 8,
          "yref": "y"
         },
         {
          "align": "left",
          "font": {
           "color": "#000000"
          },
          "showarrow": false,
          "text": "45.23649801587301",
          "x": 0.55,
          "xanchor": "left",
          "xref": "x",
          "y": 8,
          "yref": "y"
         },
         {
          "align": "left",
          "font": {
           "color": "#000000"
          },
          "showarrow": false,
          "text": "2700890112",
          "x": 1.55,
          "xanchor": "left",
          "xref": "x",
          "y": 8,
          "yref": "y"
         },
         {
          "align": "left",
          "font": {
           "color": "#000000"
          },
          "showarrow": false,
          "text": "4228.75",
          "x": 2.55,
          "xanchor": "left",
          "xref": "x",
          "y": 8,
          "yref": "y"
         },
         {
          "align": "left",
          "font": {
           "color": "#000000"
          },
          "showarrow": false,
          "text": "2017-09-09",
          "x": -0.45,
          "xanchor": "left",
          "xref": "x",
          "y": 9,
          "yref": "y"
         },
         {
          "align": "left",
          "font": {
           "color": "#000000"
          },
          "showarrow": false,
          "text": "36.867362629268875",
          "x": 0.55,
          "xanchor": "left",
          "xref": "x",
          "y": 9,
          "yref": "y"
         },
         {
          "align": "left",
          "font": {
           "color": "#000000"
          },
          "showarrow": false,
          "text": "1386230016",
          "x": 1.55,
          "xanchor": "left",
          "xref": "x",
          "y": 9,
          "yref": "y"
         },
         {
          "align": "left",
          "font": {
           "color": "#000000"
          },
          "showarrow": false,
          "text": "4226.06",
          "x": 2.55,
          "xanchor": "left",
          "xref": "x",
          "y": 9,
          "yref": "y"
         },
         {
          "align": "left",
          "font": {
           "color": "#000000"
          },
          "showarrow": false,
          "text": "2017-09-10",
          "x": -0.45,
          "xanchor": "left",
          "xref": "x",
          "y": 10,
          "yref": "y"
         },
         {
          "align": "left",
          "font": {
           "color": "#000000"
          },
          "showarrow": false,
          "text": "43.62673601448154",
          "x": 0.55,
          "xanchor": "left",
          "xref": "x",
          "y": 10,
          "yref": "y"
         },
         {
          "align": "left",
          "font": {
           "color": "#000000"
          },
          "showarrow": false,
          "text": "1679090048",
          "x": 1.55,
          "xanchor": "left",
          "xref": "x",
          "y": 10,
          "yref": "y"
         },
         {
          "align": "left",
          "font": {
           "color": "#000000"
          },
          "showarrow": false,
          "text": "4122.94",
          "x": 2.55,
          "xanchor": "left",
          "xref": "x",
          "y": 10,
          "yref": "y"
         },
         {
          "align": "left",
          "font": {
           "color": "#000000"
          },
          "showarrow": false,
          "text": "2017-09-11",
          "x": -0.45,
          "xanchor": "left",
          "xref": "x",
          "y": 11,
          "yref": "y"
         },
         {
          "align": "left",
          "font": {
           "color": "#000000"
          },
          "showarrow": false,
          "text": "45.281234668109654",
          "x": 0.55,
          "xanchor": "left",
          "xref": "x",
          "y": 11,
          "yref": "y"
         },
         {
          "align": "left",
          "font": {
           "color": "#000000"
          },
          "showarrow": false,
          "text": "1557330048",
          "x": 1.55,
          "xanchor": "left",
          "xref": "x",
          "y": 11,
          "yref": "y"
         },
         {
          "align": "left",
          "font": {
           "color": "#000000"
          },
          "showarrow": false,
          "text": "4161.27",
          "x": 2.55,
          "xanchor": "left",
          "xref": "x",
          "y": 11,
          "yref": "y"
         },
         {
          "align": "left",
          "font": {
           "color": "#000000"
          },
          "showarrow": false,
          "text": "2017-09-12",
          "x": -0.45,
          "xanchor": "left",
          "xref": "x",
          "y": 12,
          "yref": "y"
         },
         {
          "align": "left",
          "font": {
           "color": "#000000"
          },
          "showarrow": false,
          "text": "38.138232804115376",
          "x": 0.55,
          "xanchor": "left",
          "xref": "x",
          "y": 12,
          "yref": "y"
         },
         {
          "align": "left",
          "font": {
           "color": "#000000"
          },
          "showarrow": false,
          "text": "1864530048",
          "x": 1.55,
          "xanchor": "left",
          "xref": "x",
          "y": 12,
          "yref": "y"
         },
         {
          "align": "left",
          "font": {
           "color": "#000000"
          },
          "showarrow": false,
          "text": "4130.81",
          "x": 2.55,
          "xanchor": "left",
          "xref": "x",
          "y": 12,
          "yref": "y"
         },
         {
          "align": "left",
          "font": {
           "color": "#000000"
          },
          "showarrow": false,
          "text": "2017-09-13",
          "x": -0.45,
          "xanchor": "left",
          "xref": "x",
          "y": 13,
          "yref": "y"
         },
         {
          "align": "left",
          "font": {
           "color": "#000000"
          },
          "showarrow": false,
          "text": "56.79393598184227",
          "x": 0.55,
          "xanchor": "left",
          "xref": "x",
          "y": 13,
          "yref": "y"
         },
         {
          "align": "left",
          "font": {
           "color": "#000000"
          },
          "showarrow": false,
          "text": "2219409920",
          "x": 1.55,
          "xanchor": "left",
          "xref": "x",
          "y": 13,
          "yref": "y"
         },
         {
          "align": "left",
          "font": {
           "color": "#000000"
          },
          "showarrow": false,
          "text": "3882.59",
          "x": 2.55,
          "xanchor": "left",
          "xref": "x",
          "y": 13,
          "yref": "y"
         },
         {
          "align": "left",
          "font": {
           "color": "#000000"
          },
          "showarrow": false,
          "text": "2017-09-14",
          "x": -0.45,
          "xanchor": "left",
          "xref": "x",
          "y": 14,
          "yref": "y"
         },
         {
          "align": "left",
          "font": {
           "color": "#000000"
          },
          "showarrow": false,
          "text": "56.14570337395531",
          "x": 0.55,
          "xanchor": "left",
          "xref": "x",
          "y": 14,
          "yref": "y"
         },
         {
          "align": "left",
          "font": {
           "color": "#000000"
          },
          "showarrow": false,
          "text": "2716310016",
          "x": 1.55,
          "xanchor": "left",
          "xref": "x",
          "y": 14,
          "yref": "y"
         },
         {
          "align": "left",
          "font": {
           "color": "#000000"
          },
          "showarrow": false,
          "text": "3154.95",
          "x": 2.55,
          "xanchor": "left",
          "xref": "x",
          "y": 14,
          "yref": "y"
         },
         {
          "align": "left",
          "font": {
           "color": "#000000"
          },
          "showarrow": false,
          "text": "2017-09-15",
          "x": -0.45,
          "xanchor": "left",
          "xref": "x",
          "y": 15,
          "yref": "y"
         },
         {
          "align": "left",
          "font": {
           "color": "#000000"
          },
          "showarrow": false,
          "text": "59.89907314213567",
          "x": 0.55,
          "xanchor": "left",
          "xref": "x",
          "y": 15,
          "yref": "y"
         },
         {
          "align": "left",
          "font": {
           "color": "#000000"
          },
          "showarrow": false,
          "text": "4148069888",
          "x": 1.55,
          "xanchor": "left",
          "xref": "x",
          "y": 15,
          "yref": "y"
         },
         {
          "align": "left",
          "font": {
           "color": "#000000"
          },
          "showarrow": false,
          "text": "3637.52",
          "x": 2.55,
          "xanchor": "left",
          "xref": "x",
          "y": 15,
          "yref": "y"
         },
         {
          "align": "left",
          "font": {
           "color": "#000000"
          },
          "showarrow": false,
          "text": "2017-09-16",
          "x": -0.45,
          "xanchor": "left",
          "xref": "x",
          "y": 16,
          "yref": "y"
         },
         {
          "align": "left",
          "font": {
           "color": "#000000"
          },
          "showarrow": false,
          "text": "9.883154461279464",
          "x": 0.55,
          "xanchor": "left",
          "xref": "x",
          "y": 16,
          "yref": "y"
         },
         {
          "align": "left",
          "font": {
           "color": "#000000"
          },
          "showarrow": false,
          "text": "1818400000",
          "x": 1.55,
          "xanchor": "left",
          "xref": "x",
          "y": 16,
          "yref": "y"
         },
         {
          "align": "left",
          "font": {
           "color": "#000000"
          },
          "showarrow": false,
          "text": "3625.04",
          "x": 2.55,
          "xanchor": "left",
          "xref": "x",
          "y": 16,
          "yref": "y"
         },
         {
          "align": "left",
          "font": {
           "color": "#000000"
          },
          "showarrow": false,
          "text": "2017-09-17",
          "x": -0.45,
          "xanchor": "left",
          "xref": "x",
          "y": 17,
          "yref": "y"
         },
         {
          "align": "left",
          "font": {
           "color": "#000000"
          },
          "showarrow": false,
          "text": "49.61875174033869",
          "x": 0.55,
          "xanchor": "left",
          "xref": "x",
          "y": 17,
          "yref": "y"
         },
         {
          "align": "left",
          "font": {
           "color": "#000000"
          },
          "showarrow": false,
          "text": "1239149952",
          "x": 1.55,
          "xanchor": "left",
          "xref": "x",
          "y": 17,
          "yref": "y"
         },
         {
          "align": "left",
          "font": {
           "color": "#000000"
          },
          "showarrow": false,
          "text": "3582.88",
          "x": 2.55,
          "xanchor": "left",
          "xref": "x",
          "y": 17,
          "yref": "y"
         },
         {
          "align": "left",
          "font": {
           "color": "#000000"
          },
          "showarrow": false,
          "text": "2017-09-18",
          "x": -0.45,
          "xanchor": "left",
          "xref": "x",
          "y": 18,
          "yref": "y"
         },
         {
          "align": "left",
          "font": {
           "color": "#000000"
          },
          "showarrow": false,
          "text": "49.05703698283776",
          "x": 0.55,
          "xanchor": "left",
          "xref": "x",
          "y": 18,
          "yref": "y"
         },
         {
          "align": "left",
          "font": {
           "color": "#000000"
          },
          "showarrow": false,
          "text": "1943209984",
          "x": 1.55,
          "xanchor": "left",
          "xref": "x",
          "y": 18,
          "yref": "y"
         },
         {
          "align": "left",
          "font": {
           "color": "#000000"
          },
          "showarrow": false,
          "text": "4065.20",
          "x": 2.55,
          "xanchor": "left",
          "xref": "x",
          "y": 18,
          "yref": "y"
         },
         {
          "align": "left",
          "font": {
           "color": "#000000"
          },
          "showarrow": false,
          "text": "2017-09-19",
          "x": -0.45,
          "xanchor": "left",
          "xref": "x",
          "y": 19,
          "yref": "y"
         },
         {
          "align": "left",
          "font": {
           "color": "#000000"
          },
          "showarrow": false,
          "text": "49.648816305222574",
          "x": 0.55,
          "xanchor": "left",
          "xref": "x",
          "y": 19,
          "yref": "y"
         },
         {
          "align": "left",
          "font": {
           "color": "#000000"
          },
          "showarrow": false,
          "text": "1563980032",
          "x": 1.55,
          "xanchor": "left",
          "xref": "x",
          "y": 19,
          "yref": "y"
         },
         {
          "align": "left",
          "font": {
           "color": "#000000"
          },
          "showarrow": false,
          "text": "3924.97",
          "x": 2.55,
          "xanchor": "left",
          "xref": "x",
          "y": 19,
          "yref": "y"
         },
         {
          "align": "left",
          "font": {
           "color": "#000000"
          },
          "showarrow": false,
          "text": "2017-09-20",
          "x": -0.45,
          "xanchor": "left",
          "xref": "x",
          "y": 20,
          "yref": "y"
         },
         {
          "align": "left",
          "font": {
           "color": "#000000"
          },
          "showarrow": false,
          "text": "44.84952994181024",
          "x": 0.55,
          "xanchor": "left",
          "xref": "x",
          "y": 20,
          "yref": "y"
         },
         {
          "align": "left",
          "font": {
           "color": "#000000"
          },
          "showarrow": false,
          "text": "1213830016",
          "x": 1.55,
          "xanchor": "left",
          "xref": "x",
          "y": 20,
          "yref": "y"
         },
         {
          "align": "left",
          "font": {
           "color": "#000000"
          },
          "showarrow": false,
          "text": "3905.95",
          "x": 2.55,
          "xanchor": "left",
          "xref": "x",
          "y": 20,
          "yref": "y"
         },
         {
          "align": "left",
          "font": {
           "color": "#000000"
          },
          "showarrow": false,
          "text": "2017-09-21",
          "x": -0.45,
          "xanchor": "left",
          "xref": "x",
          "y": 21,
          "yref": "y"
         },
         {
          "align": "left",
          "font": {
           "color": "#000000"
          },
          "showarrow": false,
          "text": "36.79902311808565",
          "x": 0.55,
          "xanchor": "left",
          "xref": "x",
          "y": 21,
          "yref": "y"
         },
         {
          "align": "left",
          "font": {
           "color": "#000000"
          },
          "showarrow": false,
          "text": "1411480064",
          "x": 1.55,
          "xanchor": "left",
          "xref": "x",
          "y": 21,
          "yref": "y"
         },
         {
          "align": "left",
          "font": {
           "color": "#000000"
          },
          "showarrow": false,
          "text": "3631.04",
          "x": 2.55,
          "xanchor": "left",
          "xref": "x",
          "y": 21,
          "yref": "y"
         },
         {
          "align": "left",
          "font": {
           "color": "#000000"
          },
          "showarrow": false,
          "text": "2017-09-22",
          "x": -0.45,
          "xanchor": "left",
          "xref": "x",
          "y": 22,
          "yref": "y"
         },
         {
          "align": "left",
          "font": {
           "color": "#000000"
          },
          "showarrow": false,
          "text": "46.762610113410915",
          "x": 0.55,
          "xanchor": "left",
          "xref": "x",
          "y": 22,
          "yref": "y"
         },
         {
          "align": "left",
          "font": {
           "color": "#000000"
          },
          "showarrow": false,
          "text": "1194829952",
          "x": 1.55,
          "xanchor": "left",
          "xref": "x",
          "y": 22,
          "yref": "y"
         },
         {
          "align": "left",
          "font": {
           "color": "#000000"
          },
          "showarrow": false,
          "text": "3630.70",
          "x": 2.55,
          "xanchor": "left",
          "xref": "x",
          "y": 22,
          "yref": "y"
         },
         {
          "align": "left",
          "font": {
           "color": "#000000"
          },
          "showarrow": false,
          "text": "2017-09-23",
          "x": -0.45,
          "xanchor": "left",
          "xref": "x",
          "y": 23,
          "yref": "y"
         },
         {
          "align": "left",
          "font": {
           "color": "#000000"
          },
          "showarrow": false,
          "text": "37.00751833814336",
          "x": 0.55,
          "xanchor": "left",
          "xref": "x",
          "y": 23,
          "yref": "y"
         },
         {
          "align": "left",
          "font": {
           "color": "#000000"
          },
          "showarrow": false,
          "text": "928113984",
          "x": 1.55,
          "xanchor": "left",
          "xref": "x",
          "y": 23,
          "yref": "y"
         },
         {
          "align": "left",
          "font": {
           "color": "#000000"
          },
          "showarrow": false,
          "text": "3792.40",
          "x": 2.55,
          "xanchor": "left",
          "xref": "x",
          "y": 23,
          "yref": "y"
         },
         {
          "align": "left",
          "font": {
           "color": "#000000"
          },
          "showarrow": false,
          "text": "2017-09-24",
          "x": -0.45,
          "xanchor": "left",
          "xref": "x",
          "y": 24,
          "yref": "y"
         },
         {
          "align": "left",
          "font": {
           "color": "#000000"
          },
          "showarrow": false,
          "text": "40.71855782527657",
          "x": 0.55,
          "xanchor": "left",
          "xref": "x",
          "y": 24,
          "yref": "y"
         },
         {
          "align": "left",
          "font": {
           "color": "#000000"
          },
          "showarrow": false,
          "text": "768014976",
          "x": 1.55,
          "xanchor": "left",
          "xref": "x",
          "y": 24,
          "yref": "y"
         },
         {
          "align": "left",
          "font": {
           "color": "#000000"
          },
          "showarrow": false,
          "text": "3682.84",
          "x": 2.55,
          "xanchor": "left",
          "xref": "x",
          "y": 24,
          "yref": "y"
         },
         {
          "align": "left",
          "font": {
           "color": "#000000"
          },
          "showarrow": false,
          "text": "2017-09-25",
          "x": -0.45,
          "xanchor": "left",
          "xref": "x",
          "y": 25,
          "yref": "y"
         },
         {
          "align": "left",
          "font": {
           "color": "#000000"
          },
          "showarrow": false,
          "text": "47.90088936237374",
          "x": 0.55,
          "xanchor": "left",
          "xref": "x",
          "y": 25,
          "yref": "y"
         },
         {
          "align": "left",
          "font": {
           "color": "#000000"
          },
          "showarrow": false,
          "text": "1374210048",
          "x": 1.55,
          "xanchor": "left",
          "xref": "x",
          "y": 25,
          "yref": "y"
         },
         {
          "align": "left",
          "font": {
           "color": "#000000"
          },
          "showarrow": false,
          "text": "3926.07",
          "x": 2.55,
          "xanchor": "left",
          "xref": "x",
          "y": 25,
          "yref": "y"
         },
         {
          "align": "left",
          "font": {
           "color": "#000000"
          },
          "showarrow": false,
          "text": "2017-09-26",
          "x": -0.45,
          "xanchor": "left",
          "xref": "x",
          "y": 26,
          "yref": "y"
         },
         {
          "align": "left",
          "font": {
           "color": "#000000"
          },
          "showarrow": false,
          "text": "44.5973292824074",
          "x": 0.55,
          "xanchor": "left",
          "xref": "x",
          "y": 26,
          "yref": "y"
         },
         {
          "align": "left",
          "font": {
           "color": "#000000"
          },
          "showarrow": false,
          "text": "1043740032",
          "x": 1.55,
          "xanchor": "left",
          "xref": "x",
          "y": 26,
          "yref": "y"
         },
         {
          "align": "left",
          "font": {
           "color": "#000000"
          },
          "showarrow": false,
          "text": "3892.35",
          "x": 2.55,
          "xanchor": "left",
          "xref": "x",
          "y": 26,
          "yref": "y"
         },
         {
          "align": "left",
          "font": {
           "color": "#000000"
          },
          "showarrow": false,
          "text": "2017-09-27",
          "x": -0.45,
          "xanchor": "left",
          "xref": "x",
          "y": 27,
          "yref": "y"
         },
         {
          "align": "left",
          "font": {
           "color": "#000000"
          },
          "showarrow": false,
          "text": "50.33652717652716",
          "x": 0.55,
          "xanchor": "left",
          "xref": "x",
          "y": 27,
          "yref": "y"
         },
         {
          "align": "left",
          "font": {
           "color": "#000000"
          },
          "showarrow": false,
          "text": "1686880000",
          "x": 1.55,
          "xanchor": "left",
          "xref": "x",
          "y": 27,
          "yref": "y"
         },
         {
          "align": "left",
          "font": {
           "color": "#000000"
          },
          "showarrow": false,
          "text": "4200.67",
          "x": 2.55,
          "xanchor": "left",
          "xref": "x",
          "y": 27,
          "yref": "y"
         },
         {
          "align": "left",
          "font": {
           "color": "#000000"
          },
          "showarrow": false,
          "text": "2017-09-28",
          "x": -0.45,
          "xanchor": "left",
          "xref": "x",
          "y": 28,
          "yref": "y"
         },
         {
          "align": "left",
          "font": {
           "color": "#000000"
          },
          "showarrow": false,
          "text": "46.36906472247988",
          "x": 0.55,
          "xanchor": "left",
          "xref": "x",
          "y": 28,
          "yref": "y"
         },
         {
          "align": "left",
          "font": {
           "color": "#000000"
          },
          "showarrow": false,
          "text": "1712320000",
          "x": 1.55,
          "xanchor": "left",
          "xref": "x",
          "y": 28,
          "yref": "y"
         },
         {
          "align": "left",
          "font": {
           "color": "#000000"
          },
          "showarrow": false,
          "text": "4174.73",
          "x": 2.55,
          "xanchor": "left",
          "xref": "x",
          "y": 28,
          "yref": "y"
         },
         {
          "align": "left",
          "font": {
           "color": "#000000"
          },
          "showarrow": false,
          "text": "2017-09-29",
          "x": -0.45,
          "xanchor": "left",
          "xref": "x",
          "y": 29,
          "yref": "y"
         },
         {
          "align": "left",
          "font": {
           "color": "#000000"
          },
          "showarrow": false,
          "text": "54.04768668831172",
          "x": 0.55,
          "xanchor": "left",
          "xref": "x",
          "y": 29,
          "yref": "y"
         },
         {
          "align": "left",
          "font": {
           "color": "#000000"
          },
          "showarrow": false,
          "text": "1367049984",
          "x": 1.55,
          "xanchor": "left",
          "xref": "x",
          "y": 29,
          "yref": "y"
         },
         {
          "align": "left",
          "font": {
           "color": "#000000"
          },
          "showarrow": false,
          "text": "4163.07",
          "x": 2.55,
          "xanchor": "left",
          "xref": "x",
          "y": 29,
          "yref": "y"
         },
         {
          "align": "left",
          "font": {
           "color": "#000000"
          },
          "showarrow": false,
          "text": "2017-09-30",
          "x": -0.45,
          "xanchor": "left",
          "xref": "x",
          "y": 30,
          "yref": "y"
         },
         {
          "align": "left",
          "font": {
           "color": "#000000"
          },
          "showarrow": false,
          "text": "33.32747925685426",
          "x": 0.55,
          "xanchor": "left",
          "xref": "x",
          "y": 30,
          "yref": "y"
         },
         {
          "align": "left",
          "font": {
           "color": "#000000"
          },
          "showarrow": false,
          "text": "1207449984",
          "x": 1.55,
          "xanchor": "left",
          "xref": "x",
          "y": 30,
          "yref": "y"
         },
         {
          "align": "left",
          "font": {
           "color": "#000000"
          },
          "showarrow": false,
          "text": "4338.71",
          "x": 2.55,
          "xanchor": "left",
          "xref": "x",
          "y": 30,
          "yref": "y"
         },
         {
          "align": "left",
          "font": {
           "color": "#000000"
          },
          "showarrow": false,
          "text": "2017-10-01",
          "x": -0.45,
          "xanchor": "left",
          "xref": "x",
          "y": 31,
          "yref": "y"
         },
         {
          "align": "left",
          "font": {
           "color": "#000000"
          },
          "showarrow": false,
          "text": "47.53804800234494",
          "x": 0.55,
          "xanchor": "left",
          "xref": "x",
          "y": 31,
          "yref": "y"
         },
         {
          "align": "left",
          "font": {
           "color": "#000000"
          },
          "showarrow": false,
          "text": "1208210048",
          "x": 1.55,
          "xanchor": "left",
          "xref": "x",
          "y": 31,
          "yref": "y"
         },
         {
          "align": "left",
          "font": {
           "color": "#000000"
          },
          "showarrow": false,
          "text": "4403.74",
          "x": 2.55,
          "xanchor": "left",
          "xref": "x",
          "y": 31,
          "yref": "y"
         },
         {
          "align": "left",
          "font": {
           "color": "#000000"
          },
          "showarrow": false,
          "text": "2017-10-02",
          "x": -0.45,
          "xanchor": "left",
          "xref": "x",
          "y": 32,
          "yref": "y"
         },
         {
          "align": "left",
          "font": {
           "color": "#000000"
          },
          "showarrow": false,
          "text": "53.303671762265516",
          "x": 0.55,
          "xanchor": "left",
          "xref": "x",
          "y": 32,
          "yref": "y"
         },
         {
          "align": "left",
          "font": {
           "color": "#000000"
          },
          "showarrow": false,
          "text": "1431730048",
          "x": 1.55,
          "xanchor": "left",
          "xref": "x",
          "y": 32,
          "yref": "y"
         },
         {
          "align": "left",
          "font": {
           "color": "#000000"
          },
          "showarrow": false,
          "text": "4409.32",
          "x": 2.55,
          "xanchor": "left",
          "xref": "x",
          "y": 32,
          "yref": "y"
         },
         {
          "align": "left",
          "font": {
           "color": "#000000"
          },
          "showarrow": false,
          "text": "2017-10-03",
          "x": -0.45,
          "xanchor": "left",
          "xref": "x",
          "y": 33,
          "yref": "y"
         },
         {
          "align": "left",
          "font": {
           "color": "#000000"
          },
          "showarrow": false,
          "text": "44.61395399305555",
          "x": 0.55,
          "xanchor": "left",
          "xref": "x",
          "y": 33,
          "yref": "y"
         },
         {
          "align": "left",
          "font": {
           "color": "#000000"
          },
          "showarrow": false,
          "text": "1288019968",
          "x": 1.55,
          "xanchor": "left",
          "xref": "x",
          "y": 33,
          "yref": "y"
         },
         {
          "align": "left",
          "font": {
           "color": "#000000"
          },
          "showarrow": false,
          "text": "4317.48",
          "x": 2.55,
          "xanchor": "left",
          "xref": "x",
          "y": 33,
          "yref": "y"
         },
         {
          "align": "left",
          "font": {
           "color": "#000000"
          },
          "showarrow": false,
          "text": "2017-10-04",
          "x": -0.45,
          "xanchor": "left",
          "xref": "x",
          "y": 34,
          "yref": "y"
         },
         {
          "align": "left",
          "font": {
           "color": "#000000"
          },
          "showarrow": false,
          "text": "46.99523922258297",
          "x": 0.55,
          "xanchor": "left",
          "xref": "x",
          "y": 34,
          "yref": "y"
         },
         {
          "align": "left",
          "font": {
           "color": "#000000"
          },
          "showarrow": false,
          "text": "1116770048",
          "x": 1.55,
          "xanchor": "left",
          "xref": "x",
          "y": 34,
          "yref": "y"
         },
         {
          "align": "left",
          "font": {
           "color": "#000000"
          },
          "showarrow": false,
          "text": "4229.36",
          "x": 2.55,
          "xanchor": "left",
          "xref": "x",
          "y": 34,
          "yref": "y"
         },
         {
          "align": "left",
          "font": {
           "color": "#000000"
          },
          "showarrow": false,
          "text": "2017-10-05",
          "x": -0.45,
          "xanchor": "left",
          "xref": "x",
          "y": 35,
          "yref": "y"
         },
         {
          "align": "left",
          "font": {
           "color": "#000000"
          },
          "showarrow": false,
          "text": "52.85774779040402",
          "x": 0.55,
          "xanchor": "left",
          "xref": "x",
          "y": 35,
          "yref": "y"
         },
         {
          "align": "left",
          "font": {
           "color": "#000000"
          },
          "showarrow": false,
          "text": "1161769984",
          "x": 1.55,
          "xanchor": "left",
          "xref": "x",
          "y": 35,
          "yref": "y"
         },
         {
          "align": "left",
          "font": {
           "color": "#000000"
          },
          "showarrow": false,
          "text": "4328.41",
          "x": 2.55,
          "xanchor": "left",
          "xref": "x",
          "y": 35,
          "yref": "y"
         },
         {
          "align": "left",
          "font": {
           "color": "#000000"
          },
          "showarrow": false,
          "text": "2017-10-06",
          "x": -0.45,
          "xanchor": "left",
          "xref": "x",
          "y": 36,
          "yref": "y"
         },
         {
          "align": "left",
          "font": {
           "color": "#000000"
          },
          "showarrow": false,
          "text": "49.65176775943964",
          "x": 0.55,
          "xanchor": "left",
          "xref": "x",
          "y": 36,
          "yref": "y"
         },
         {
          "align": "left",
          "font": {
           "color": "#000000"
          },
          "showarrow": false,
          "text": "1069939968",
          "x": 1.55,
          "xanchor": "left",
          "xref": "x",
          "y": 36,
          "yref": "y"
         },
         {
          "align": "left",
          "font": {
           "color": "#000000"
          },
          "showarrow": false,
          "text": "4370.81",
          "x": 2.55,
          "xanchor": "left",
          "xref": "x",
          "y": 36,
          "yref": "y"
         },
         {
          "align": "left",
          "font": {
           "color": "#000000"
          },
          "showarrow": false,
          "text": "2017-10-07",
          "x": -0.45,
          "xanchor": "left",
          "xref": "x",
          "y": 37,
          "yref": "y"
         },
         {
          "align": "left",
          "font": {
           "color": "#000000"
          },
          "showarrow": false,
          "text": "39.233273245851386",
          "x": 0.55,
          "xanchor": "left",
          "xref": "x",
          "y": 37,
          "yref": "y"
         },
         {
          "align": "left",
          "font": {
           "color": "#000000"
          },
          "showarrow": false,
          "text": "906928000",
          "x": 1.55,
          "xanchor": "left",
          "xref": "x",
          "y": 37,
          "yref": "y"
         },
         {
          "align": "left",
          "font": {
           "color": "#000000"
          },
          "showarrow": false,
          "text": "4426.89",
          "x": 2.55,
          "xanchor": "left",
          "xref": "x",
          "y": 37,
          "yref": "y"
         },
         {
          "align": "left",
          "font": {
           "color": "#000000"
          },
          "showarrow": false,
          "text": "2017-10-08",
          "x": -0.45,
          "xanchor": "left",
          "xref": "x",
          "y": 38,
          "yref": "y"
         },
         {
          "align": "left",
          "font": {
           "color": "#000000"
          },
          "showarrow": false,
          "text": "45.06565479008838",
          "x": 0.55,
          "xanchor": "left",
          "xref": "x",
          "y": 38,
          "yref": "y"
         },
         {
          "align": "left",
          "font": {
           "color": "#000000"
          },
          "showarrow": false,
          "text": "1313869952",
          "x": 1.55,
          "xanchor": "left",
          "xref": "x",
          "y": 38,
          "yref": "y"
         },
         {
          "align": "left",
          "font": {
           "color": "#000000"
          },
          "showarrow": false,
          "text": "4610.48",
          "x": 2.55,
          "xanchor": "left",
          "xref": "x",
          "y": 38,
          "yref": "y"
         },
         {
          "align": "left",
          "font": {
           "color": "#000000"
          },
          "showarrow": false,
          "text": "2017-10-09",
          "x": -0.45,
          "xanchor": "left",
          "xref": "x",
          "y": 39,
          "yref": "y"
         },
         {
          "align": "left",
          "font": {
           "color": "#000000"
          },
          "showarrow": false,
          "text": "64.45839601370854",
          "x": 0.55,
          "xanchor": "left",
          "xref": "x",
          "y": 39,
          "yref": "y"
         },
         {
          "align": "left",
          "font": {
           "color": "#000000"
          },
          "showarrow": false,
          "text": "1968739968",
          "x": 1.55,
          "xanchor": "left",
          "xref": "x",
          "y": 39,
          "yref": "y"
         },
         {
          "align": "left",
          "font": {
           "color": "#000000"
          },
          "showarrow": false,
          "text": "4772.02",
          "x": 2.55,
          "xanchor": "left",
          "xref": "x",
          "y": 39,
          "yref": "y"
         },
         {
          "align": "left",
          "font": {
           "color": "#000000"
          },
          "showarrow": false,
          "text": "2017-10-10",
          "x": -0.45,
          "xanchor": "left",
          "xref": "x",
          "y": 40,
          "yref": "y"
         },
         {
          "align": "left",
          "font": {
           "color": "#000000"
          },
          "showarrow": false,
          "text": "64.05344494047618",
          "x": 0.55,
          "xanchor": "left",
          "xref": "x",
          "y": 40,
          "yref": "y"
         },
         {
          "align": "left",
          "font": {
           "color": "#000000"
          },
          "showarrow": false,
          "text": "1597139968",
          "x": 1.55,
          "xanchor": "left",
          "xref": "x",
          "y": 40,
          "yref": "y"
         },
         {
          "align": "left",
          "font": {
           "color": "#000000"
          },
          "showarrow": false,
          "text": "4781.99",
          "x": 2.55,
          "xanchor": "left",
          "xref": "x",
          "y": 40,
          "yref": "y"
         },
         {
          "align": "left",
          "font": {
           "color": "#000000"
          },
          "showarrow": false,
          "text": "2017-10-11",
          "x": -0.45,
          "xanchor": "left",
          "xref": "x",
          "y": 41,
          "yref": "y"
         },
         {
          "align": "left",
          "font": {
           "color": "#000000"
          },
          "showarrow": false,
          "text": "49.029935966810974",
          "x": 0.55,
          "xanchor": "left",
          "xref": "x",
          "y": 41,
          "yref": "y"
         },
         {
          "align": "left",
          "font": {
           "color": "#000000"
          },
          "showarrow": false,
          "text": "1222279936",
          "x": 1.55,
          "xanchor": "left",
          "xref": "x",
          "y": 41,
          "yref": "y"
         },
         {
          "align": "left",
          "font": {
           "color": "#000000"
          },
          "showarrow": false,
          "text": "4826.48",
          "x": 2.55,
          "xanchor": "left",
          "xref": "x",
          "y": 41,
          "yref": "y"
         },
         {
          "align": "left",
          "font": {
           "color": "#000000"
          },
          "showarrow": false,
          "text": "2017-10-12",
          "x": -0.45,
          "xanchor": "left",
          "xref": "x",
          "y": 42,
          "yref": "y"
         },
         {
          "align": "left",
          "font": {
           "color": "#000000"
          },
          "showarrow": false,
          "text": "69.14563292899224",
          "x": 0.55,
          "xanchor": "left",
          "xref": "x",
          "y": 42,
          "yref": "y"
         },
         {
          "align": "left",
          "font": {
           "color": "#000000"
          },
          "showarrow": false,
          "text": "2791610112",
          "x": 1.55,
          "xanchor": "left",
          "xref": "x",
          "y": 42,
          "yref": "y"
         },
         {
          "align": "left",
          "font": {
           "color": "#000000"
          },
          "showarrow": false,
          "text": "5446.91",
          "x": 2.55,
          "xanchor": "left",
          "xref": "x",
          "y": 42,
          "yref": "y"
         },
         {
          "align": "left",
          "font": {
           "color": "#000000"
          },
          "showarrow": false,
          "text": "2017-10-13",
          "x": -0.45,
          "xanchor": "left",
          "xref": "x",
          "y": 43,
          "yref": "y"
         },
         {
          "align": "left",
          "font": {
           "color": "#000000"
          },
          "showarrow": false,
          "text": "67.38291578213448",
          "x": 0.55,
          "xanchor": "left",
          "xref": "x",
          "y": 43,
          "yref": "y"
         },
         {
          "align": "left",
          "font": {
           "color": "#000000"
          },
          "showarrow": false,
          "text": "3615480064",
          "x": 1.55,
          "xanchor": "left",
          "xref": "x",
          "y": 43,
          "yref": "y"
         },
         {
          "align": "left",
          "font": {
           "color": "#000000"
          },
          "showarrow": false,
          "text": "5647.21",
          "x": 2.55,
          "xanchor": "left",
          "xref": "x",
          "y": 43,
          "yref": "y"
         },
         {
          "align": "left",
          "font": {
           "color": "#000000"
          },
          "showarrow": false,
          "text": "2017-10-14",
          "x": -0.45,
          "xanchor": "left",
          "xref": "x",
          "y": 44,
          "yref": "y"
         },
         {
          "align": "left",
          "font": {
           "color": "#000000"
          },
          "showarrow": false,
          "text": "40.39778632680975",
          "x": 0.55,
          "xanchor": "left",
          "xref": "x",
          "y": 44,
          "yref": "y"
         },
         {
          "align": "left",
          "font": {
           "color": "#000000"
          },
          "showarrow": false,
          "text": "1669030016",
          "x": 1.55,
          "xanchor": "left",
          "xref": "x",
          "y": 44,
          "yref": "y"
         },
         {
          "align": "left",
          "font": {
           "color": "#000000"
          },
          "showarrow": false,
          "text": "5831.79",
          "x": 2.55,
          "xanchor": "left",
          "xref": "x",
          "y": 44,
          "yref": "y"
         },
         {
          "align": "left",
          "font": {
           "color": "#000000"
          },
          "showarrow": false,
          "text": "2017-10-15",
          "x": -0.45,
          "xanchor": "left",
          "xref": "x",
          "y": 45,
          "yref": "y"
         },
         {
          "align": "left",
          "font": {
           "color": "#000000"
          },
          "showarrow": false,
          "text": "42.93939138407888",
          "x": 0.55,
          "xanchor": "left",
          "xref": "x",
          "y": 45,
          "yref": "y"
         },
         {
          "align": "left",
          "font": {
           "color": "#000000"
          },
          "showarrow": false,
          "text": "1976039936",
          "x": 1.55,
          "xanchor": "left",
          "xref": "x",
          "y": 45,
          "yref": "y"
         },
         {
          "align": "left",
          "font": {
           "color": "#000000"
          },
          "showarrow": false,
          "text": "5678.19",
          "x": 2.55,
          "xanchor": "left",
          "xref": "x",
          "y": 45,
          "yref": "y"
         },
         {
          "align": "left",
          "font": {
           "color": "#000000"
          },
          "showarrow": false,
          "text": "2017-10-16",
          "x": -0.45,
          "xanchor": "left",
          "xref": "x",
          "y": 46,
          "yref": "y"
         },
         {
          "align": "left",
          "font": {
           "color": "#000000"
          },
          "showarrow": false,
          "text": "61.87198006854253",
          "x": 0.55,
          "xanchor": "left",
          "xref": "x",
          "y": 46,
          "yref": "y"
         },
         {
          "align": "left",
          "font": {
           "color": "#000000"
          },
          "showarrow": false,
          "text": "2008070016",
          "x": 1.55,
          "xanchor": "left",
          "xref": "x",
          "y": 46,
          "yref": "y"
         },
         {
          "align": "left",
          "font": {
           "color": "#000000"
          },
          "showarrow": false,
          "text": "5725.59",
          "x": 2.55,
          "xanchor": "left",
          "xref": "x",
          "y": 46,
          "yref": "y"
         },
         {
          "align": "left",
          "font": {
           "color": "#000000"
          },
          "showarrow": false,
          "text": "2017-10-17",
          "x": -0.45,
          "xanchor": "left",
          "xref": "x",
          "y": 47,
          "yref": "y"
         },
         {
          "align": "left",
          "font": {
           "color": "#000000"
          },
          "showarrow": false,
          "text": "57.585856782106816",
          "x": 0.55,
          "xanchor": "left",
          "xref": "x",
          "y": 47,
          "yref": "y"
         },
         {
          "align": "left",
          "font": {
           "color": "#000000"
          },
          "showarrow": false,
          "text": "1821570048",
          "x": 1.55,
          "xanchor": "left",
          "xref": "x",
          "y": 47,
          "yref": "y"
         },
         {
          "align": "left",
          "font": {
           "color": "#000000"
          },
          "showarrow": false,
          "text": "5605.51",
          "x": 2.55,
          "xanchor": "left",
          "xref": "x",
          "y": 47,
          "yref": "y"
         },
         {
          "align": "left",
          "font": {
           "color": "#000000"
          },
          "showarrow": false,
          "text": "2017-10-18",
          "x": -0.45,
          "xanchor": "left",
          "xref": "x",
          "y": 48,
          "yref": "y"
         },
         {
          "align": "left",
          "font": {
           "color": "#000000"
          },
          "showarrow": false,
          "text": "61.17085682532166",
          "x": 0.55,
          "xanchor": "left",
          "xref": "x",
          "y": 48,
          "yref": "y"
         },
         {
          "align": "left",
          "font": {
           "color": "#000000"
          },
          "showarrow": false,
          "text": "2399269888",
          "x": 1.55,
          "xanchor": "left",
          "xref": "x",
          "y": 48,
          "yref": "y"
         },
         {
          "align": "left",
          "font": {
           "color": "#000000"
          },
          "showarrow": false,
          "text": "5590.69",
          "x": 2.55,
          "xanchor": "left",
          "xref": "x",
          "y": 48,
          "yref": "y"
         },
         {
          "align": "left",
          "font": {
           "color": "#000000"
          },
          "showarrow": false,
          "text": "2017-10-19",
          "x": -0.45,
          "xanchor": "left",
          "xref": "x",
          "y": 49,
          "yref": "y"
         },
         {
          "align": "left",
          "font": {
           "color": "#000000"
          },
          "showarrow": false,
          "text": "64.9031809163059",
          "x": 0.55,
          "xanchor": "left",
          "xref": "x",
          "y": 49,
          "yref": "y"
         },
         {
          "align": "left",
          "font": {
           "color": "#000000"
          },
          "showarrow": false,
          "text": "1780540032",
          "x": 1.55,
          "xanchor": "left",
          "xref": "x",
          "y": 49,
          "yref": "y"
         },
         {
          "align": "left",
          "font": {
           "color": "#000000"
          },
          "showarrow": false,
          "text": "5708.52",
          "x": 2.55,
          "xanchor": "left",
          "xref": "x",
          "y": 49,
          "yref": "y"
         },
         {
          "align": "left",
          "font": {
           "color": "#000000"
          },
          "showarrow": false,
          "text": "2017-10-20",
          "x": -0.45,
          "xanchor": "left",
          "xref": "x",
          "y": 50,
          "yref": "y"
         },
         {
          "align": "left",
          "font": {
           "color": "#000000"
          },
          "showarrow": false,
          "text": "61.83325431397312",
          "x": 0.55,
          "xanchor": "left",
          "xref": "x",
          "y": 50,
          "yref": "y"
         },
         {
          "align": "left",
          "font": {
           "color": "#000000"
          },
          "showarrow": false,
          "text": "2354429952",
          "x": 1.55,
          "xanchor": "left",
          "xref": "x",
          "y": 50,
          "yref": "y"
         },
         {
          "align": "left",
          "font": {
           "color": "#000000"
          },
          "showarrow": false,
          "text": "6011.45",
          "x": 2.55,
          "xanchor": "left",
          "xref": "x",
          "y": 50,
          "yref": "y"
         },
         {
          "align": "left",
          "font": {
           "color": "#000000"
          },
          "showarrow": false,
          "text": "2017-10-21",
          "x": -0.45,
          "xanchor": "left",
          "xref": "x",
          "y": 51,
          "yref": "y"
         },
         {
          "align": "left",
          "font": {
           "color": "#000000"
          },
          "showarrow": false,
          "text": "62.9805841149591",
          "x": 0.55,
          "xanchor": "left",
          "xref": "x",
          "y": 51,
          "yref": "y"
         },
         {
          "align": "left",
          "font": {
           "color": "#000000"
          },
          "showarrow": false,
          "text": "2207099904",
          "x": 1.55,
          "xanchor": "left",
          "xref": "x",
          "y": 51,
          "yref": "y"
         },
         {
          "align": "left",
          "font": {
           "color": "#000000"
          },
          "showarrow": false,
          "text": "6031.60",
          "x": 2.55,
          "xanchor": "left",
          "xref": "x",
          "y": 51,
          "yref": "y"
         },
         {
          "align": "left",
          "font": {
           "color": "#000000"
          },
          "showarrow": false,
          "text": "2017-10-22",
          "x": -0.45,
          "xanchor": "left",
          "xref": "x",
          "y": 52,
          "yref": "y"
         },
         {
          "align": "left",
          "font": {
           "color": "#000000"
          },
          "showarrow": false,
          "text": "41.22259750593734",
          "x": 0.55,
          "xanchor": "left",
          "xref": "x",
          "y": 52,
          "yref": "y"
         },
         {
          "align": "left",
          "font": {
           "color": "#000000"
          },
          "showarrow": false,
          "text": "2034630016",
          "x": 1.55,
          "xanchor": "left",
          "xref": "x",
          "y": 52,
          "yref": "y"
         },
         {
          "align": "left",
          "font": {
           "color": "#000000"
          },
          "showarrow": false,
          "text": "6008.42",
          "x": 2.55,
          "xanchor": "left",
          "xref": "x",
          "y": 52,
          "yref": "y"
         },
         {
          "align": "left",
          "font": {
           "color": "#000000"
          },
          "showarrow": false,
          "text": "2017-10-23",
          "x": -0.45,
          "xanchor": "left",
          "xref": "x",
          "y": 53,
          "yref": "y"
         },
         {
          "align": "left",
          "font": {
           "color": "#000000"
          },
          "showarrow": false,
          "text": "57.8168929623617",
          "x": 0.55,
          "xanchor": "left",
          "xref": "x",
          "y": 53,
          "yref": "y"
         },
         {
          "align": "left",
          "font": {
           "color": "#000000"
          },
          "showarrow": false,
          "text": "2401840128",
          "x": 1.55,
          "xanchor": "left",
          "xref": "x",
          "y": 53,
          "yref": "y"
         },
         {
          "align": "left",
          "font": {
           "color": "#000000"
          },
          "showarrow": false,
          "text": "5930.32",
          "x": 2.55,
          "xanchor": "left",
          "xref": "x",
          "y": 53,
          "yref": "y"
         },
         {
          "align": "left",
          "font": {
           "color": "#000000"
          },
          "showarrow": false,
          "text": "2017-10-24",
          "x": -0.45,
          "xanchor": "left",
          "xref": "x",
          "y": 54,
          "yref": "y"
         },
         {
          "align": "left",
          "font": {
           "color": "#000000"
          },
          "showarrow": false,
          "text": "70.14401393458658",
          "x": 0.55,
          "xanchor": "left",
          "xref": "x",
          "y": 54,
          "yref": "y"
         },
         {
          "align": "left",
          "font": {
           "color": "#000000"
          },
          "showarrow": false,
          "text": "2735699968",
          "x": 1.55,
          "xanchor": "left",
          "xref": "x",
          "y": 54,
          "yref": "y"
         },
         {
          "align": "left",
          "font": {
           "color": "#000000"
          },
          "showarrow": false,
          "text": "5526.64",
          "x": 2.55,
          "xanchor": "left",
          "xref": "x",
          "y": 54,
          "yref": "y"
         },
         {
          "align": "left",
          "font": {
           "color": "#000000"
          },
          "showarrow": false,
          "text": "2017-10-25",
          "x": -0.45,
          "xanchor": "left",
          "xref": "x",
          "y": 55,
          "yref": "y"
         },
         {
          "align": "left",
          "font": {
           "color": "#000000"
          },
          "showarrow": false,
          "text": "68.57515346921599",
          "x": 0.55,
          "xanchor": "left",
          "xref": "x",
          "y": 55,
          "yref": "y"
         },
         {
          "align": "left",
          "font": {
           "color": "#000000"
          },
          "showarrow": false,
          "text": "1966989952",
          "x": 1.55,
          "xanchor": "left",
          "xref": "x",
          "y": 55,
          "yref": "y"
         },
         {
          "align": "left",
          "font": {
           "color": "#000000"
          },
          "showarrow": false,
          "text": "5750.80",
          "x": 2.55,
          "xanchor": "left",
          "xref": "x",
          "y": 55,
          "yref": "y"
         },
         {
          "align": "left",
          "font": {
           "color": "#000000"
          },
          "showarrow": false,
          "text": "2017-10-26",
          "x": -0.45,
          "xanchor": "left",
          "xref": "x",
          "y": 56,
          "yref": "y"
         },
         {
          "align": "left",
          "font": {
           "color": "#000000"
          },
          "showarrow": false,
          "text": "65.96972327441078",
          "x": 0.55,
          "xanchor": "left",
          "xref": "x",
          "y": 56,
          "yref": "y"
         },
         {
          "align": "left",
          "font": {
           "color": "#000000"
          },
          "showarrow": false,
          "text": "1905040000",
          "x": 1.55,
          "xanchor": "left",
          "xref": "x",
          "y": 56,
          "yref": "y"
         },
         {
          "align": "left",
          "font": {
           "color": "#000000"
          },
          "showarrow": false,
          "text": "5904.83",
          "x": 2.55,
          "xanchor": "left",
          "xref": "x",
          "y": 56,
          "yref": "y"
         },
         {
          "align": "left",
          "font": {
           "color": "#000000"
          },
          "showarrow": false,
          "text": "2017-10-27",
          "x": -0.45,
          "xanchor": "left",
          "xref": "x",
          "y": 57,
          "yref": "y"
         },
         {
          "align": "left",
          "font": {
           "color": "#000000"
          },
          "showarrow": false,
          "text": "53.58439078282832",
          "x": 0.55,
          "xanchor": "left",
          "xref": "x",
          "y": 57,
          "yref": "y"
         },
         {
          "align": "left",
          "font": {
           "color": "#000000"
          },
          "showarrow": false,
          "text": "1710130048",
          "x": 1.55,
          "xanchor": "left",
          "xref": "x",
          "y": 57,
          "yref": "y"
         },
         {
          "align": "left",
          "font": {
           "color": "#000000"
          },
          "showarrow": false,
          "text": "5780.90",
          "x": 2.55,
          "xanchor": "left",
          "xref": "x",
          "y": 57,
          "yref": "y"
         },
         {
          "align": "left",
          "font": {
           "color": "#000000"
          },
          "showarrow": false,
          "text": "2017-10-28",
          "x": -0.45,
          "xanchor": "left",
          "xref": "x",
          "y": 58,
          "yref": "y"
         },
         {
          "align": "left",
          "font": {
           "color": "#000000"
          },
          "showarrow": false,
          "text": "40.44496268488456",
          "x": 0.55,
          "xanchor": "left",
          "xref": "x",
          "y": 58,
          "yref": "y"
         },
         {
          "align": "left",
          "font": {
           "color": "#000000"
          },
          "showarrow": false,
          "text": "1403920000",
          "x": 1.55,
          "xanchor": "left",
          "xref": "x",
          "y": 58,
          "yref": "y"
         },
         {
          "align": "left",
          "font": {
           "color": "#000000"
          },
          "showarrow": false,
          "text": "5753.09",
          "x": 2.55,
          "xanchor": "left",
          "xref": "x",
          "y": 58,
          "yref": "y"
         },
         {
          "align": "left",
          "font": {
           "color": "#000000"
          },
          "showarrow": false,
          "text": "2017-10-29",
          "x": -0.45,
          "xanchor": "left",
          "xref": "x",
          "y": 59,
          "yref": "y"
         },
         {
          "align": "left",
          "font": {
           "color": "#000000"
          },
          "showarrow": false,
          "text": "48.928504537129534",
          "x": 0.55,
          "xanchor": "left",
          "xref": "x",
          "y": 59,
          "yref": "y"
         },
         {
          "align": "left",
          "font": {
           "color": "#000000"
          },
          "showarrow": false,
          "text": "2859040000",
          "x": 1.55,
          "xanchor": "left",
          "xref": "x",
          "y": 59,
          "yref": "y"
         },
         {
          "align": "left",
          "font": {
           "color": "#000000"
          },
          "showarrow": false,
          "text": "6153.85",
          "x": 2.55,
          "xanchor": "left",
          "xref": "x",
          "y": 59,
          "yref": "y"
         },
         {
          "align": "left",
          "font": {
           "color": "#000000"
          },
          "showarrow": false,
          "text": "2017-10-30",
          "x": -0.45,
          "xanchor": "left",
          "xref": "x",
          "y": 60,
          "yref": "y"
         },
         {
          "align": "left",
          "font": {
           "color": "#000000"
          },
          "showarrow": false,
          "text": "62.66725360750357",
          "x": 0.55,
          "xanchor": "left",
          "xref": "x",
          "y": 60,
          "yref": "y"
         },
         {
          "align": "left",
          "font": {
           "color": "#000000"
          },
          "showarrow": false,
          "text": "1772150016",
          "x": 1.55,
          "xanchor": "left",
          "xref": "x",
          "y": 60,
          "yref": "y"
         },
         {
          "align": "left",
          "font": {
           "color": "#000000"
          },
          "showarrow": false,
          "text": "6130.53",
          "x": 2.55,
          "xanchor": "left",
          "xref": "x",
          "y": 60,
          "yref": "y"
         },
         {
          "align": "left",
          "font": {
           "color": "#000000"
          },
          "showarrow": false,
          "text": "2017-10-31",
          "x": -0.45,
          "xanchor": "left",
          "xref": "x",
          "y": 61,
          "yref": "y"
         },
         {
          "align": "left",
          "font": {
           "color": "#000000"
          },
          "showarrow": false,
          "text": "76.58504479316979",
          "x": 0.55,
          "xanchor": "left",
          "xref": "x",
          "y": 61,
          "yref": "y"
         },
         {
          "align": "left",
          "font": {
           "color": "#000000"
          },
          "showarrow": false,
          "text": "2311379968",
          "x": 1.55,
          "xanchor": "left",
          "xref": "x",
          "y": 61,
          "yref": "y"
         },
         {
          "align": "left",
          "font": {
           "color": "#000000"
          },
          "showarrow": false,
          "text": "6468.40",
          "x": 2.55,
          "xanchor": "left",
          "xref": "x",
          "y": 61,
          "yref": "y"
         },
         {
          "align": "left",
          "font": {
           "color": "#000000"
          },
          "showarrow": false,
          "text": "2017-11-01",
          "x": -0.45,
          "xanchor": "left",
          "xref": "x",
          "y": 62,
          "yref": "y"
         },
         {
          "align": "left",
          "font": {
           "color": "#000000"
          },
          "showarrow": false,
          "text": "68.9412382756132",
          "x": 0.55,
          "xanchor": "left",
          "xref": "x",
          "y": 62,
          "yref": "y"
         },
         {
          "align": "left",
          "font": {
           "color": "#000000"
          },
          "showarrow": false,
          "text": "2870320128",
          "x": 1.55,
          "xanchor": "left",
          "xref": "x",
          "y": 62,
          "yref": "y"
         },
         {
          "align": "left",
          "font": {
           "color": "#000000"
          },
          "showarrow": false,
          "text": "6767.31",
          "x": 2.55,
          "xanchor": "left",
          "xref": "x",
          "y": 62,
          "yref": "y"
         },
         {
          "align": "left",
          "font": {
           "color": "#000000"
          },
          "showarrow": false,
          "text": "2017-11-02",
          "x": -0.45,
          "xanchor": "left",
          "xref": "x",
          "y": 63,
          "yref": "y"
         },
         {
          "align": "left",
          "font": {
           "color": "#000000"
          },
          "showarrow": false,
          "text": "66.62065593434349",
          "x": 0.55,
          "xanchor": "left",
          "xref": "x",
          "y": 63,
          "yref": "y"
         },
         {
          "align": "left",
          "font": {
           "color": "#000000"
          },
          "showarrow": false,
          "text": "4653770240",
          "x": 1.55,
          "xanchor": "left",
          "xref": "x",
          "y": 63,
          "yref": "y"
         },
         {
          "align": "left",
          "font": {
           "color": "#000000"
          },
          "showarrow": false,
          "text": "7078.50",
          "x": 2.55,
          "xanchor": "left",
          "xref": "x",
          "y": 63,
          "yref": "y"
         },
         {
          "align": "left",
          "font": {
           "color": "#000000"
          },
          "showarrow": false,
          "text": "2017-11-03",
          "x": -0.45,
          "xanchor": "left",
          "xref": "x",
          "y": 64,
          "yref": "y"
         },
         {
          "align": "left",
          "font": {
           "color": "#000000"
          },
          "showarrow": false,
          "text": "80.82874253956035",
          "x": 0.55,
          "xanchor": "left",
          "xref": "x",
          "y": 64,
          "yref": "y"
         },
         {
          "align": "left",
          "font": {
           "color": "#000000"
          },
          "showarrow": false,
          "text": "3369860096",
          "x": 1.55,
          "xanchor": "left",
          "xref": "x",
          "y": 64,
          "yref": "y"
         },
         {
          "align": "left",
          "font": {
           "color": "#000000"
          },
          "showarrow": false,
          "text": "7207.76",
          "x": 2.55,
          "xanchor": "left",
          "xref": "x",
          "y": 64,
          "yref": "y"
         },
         {
          "align": "left",
          "font": {
           "color": "#000000"
          },
          "showarrow": false,
          "text": "2017-11-04",
          "x": -0.45,
          "xanchor": "left",
          "xref": "x",
          "y": 65,
          "yref": "y"
         },
         {
          "align": "left",
          "font": {
           "color": "#000000"
          },
          "showarrow": false,
          "text": "56.06653724747473",
          "x": 0.55,
          "xanchor": "left",
          "xref": "x",
          "y": 65,
          "yref": "y"
         },
         {
          "align": "left",
          "font": {
           "color": "#000000"
          },
          "showarrow": false,
          "text": "2483800064",
          "x": 1.55,
          "xanchor": "left",
          "xref": "x",
          "y": 65,
          "yref": "y"
         },
         {
          "align": "left",
          "font": {
           "color": "#000000"
          },
          "showarrow": false,
          "text": "7379.95",
          "x": 2.55,
          "xanchor": "left",
          "xref": "x",
          "y": 65,
          "yref": "y"
         },
         {
          "align": "left",
          "font": {
           "color": "#000000"
          },
          "showarrow": false,
          "text": "2017-11-05",
          "x": -0.45,
          "xanchor": "left",
          "xref": "x",
          "y": 66,
          "yref": "y"
         },
         {
          "align": "left",
          "font": {
           "color": "#000000"
          },
          "showarrow": false,
          "text": "50.97287406806151",
          "x": 0.55,
          "xanchor": "left",
          "xref": "x",
          "y": 66,
          "yref": "y"
         },
         {
          "align": "left",
          "font": {
           "color": "#000000"
          },
          "showarrow": false,
          "text": "2380410112",
          "x": 1.55,
          "xanchor": "left",
          "xref": "x",
          "y": 66,
          "yref": "y"
         },
         {
          "align": "left",
          "font": {
           "color": "#000000"
          },
          "showarrow": false,
          "text": "7407.41",
          "x": 2.55,
          "xanchor": "left",
          "xref": "x",
          "y": 66,
          "yref": "y"
         },
         {
          "align": "left",
          "font": {
           "color": "#000000"
          },
          "showarrow": false,
          "text": "2017-11-06",
          "x": -0.45,
          "xanchor": "left",
          "xref": "x",
          "y": 67,
          "yref": "y"
         },
         {
          "align": "left",
          "font": {
           "color": "#000000"
          },
          "showarrow": false,
          "text": "55.187238413041996",
          "x": 0.55,
          "xanchor": "left",
          "xref": "x",
          "y": 67,
          "yref": "y"
         },
         {
          "align": "left",
          "font": {
           "color": "#000000"
          },
          "showarrow": false,
          "text": "3111899904",
          "x": 1.55,
          "xanchor": "left",
          "xref": "x",
          "y": 67,
          "yref": "y"
         },
         {
          "align": "left",
          "font": {
           "color": "#000000"
          },
          "showarrow": false,
          "text": "7022.76",
          "x": 2.55,
          "xanchor": "left",
          "xref": "x",
          "y": 67,
          "yref": "y"
         },
         {
          "align": "left",
          "font": {
           "color": "#000000"
          },
          "showarrow": false,
          "text": "2017-11-07",
          "x": -0.45,
          "xanchor": "left",
          "xref": "x",
          "y": 68,
          "yref": "y"
         },
         {
          "align": "left",
          "font": {
           "color": "#000000"
          },
          "showarrow": false,
          "text": "66.26171888903922",
          "x": 0.55,
          "xanchor": "left",
          "xref": "x",
          "y": 68,
          "yref": "y"
         },
         {
          "align": "left",
          "font": {
           "color": "#000000"
          },
          "showarrow": false,
          "text": "2326340096",
          "x": 1.55,
          "xanchor": "left",
          "xref": "x",
          "y": 68,
          "yref": "y"
         },
         {
          "align": "left",
          "font": {
           "color": "#000000"
          },
          "showarrow": false,
          "text": "7144.38",
          "x": 2.55,
          "xanchor": "left",
          "xref": "x",
          "y": 68,
          "yref": "y"
         },
         {
          "align": "left",
          "font": {
           "color": "#000000"
          },
          "showarrow": false,
          "text": "2017-11-08",
          "x": -0.45,
          "xanchor": "left",
          "xref": "x",
          "y": 69,
          "yref": "y"
         },
         {
          "align": "left",
          "font": {
           "color": "#000000"
          },
          "showarrow": false,
          "text": "101.87834161866388",
          "x": 0.55,
          "xanchor": "left",
          "xref": "x",
          "y": 69,
          "yref": "y"
         },
         {
          "align": "left",
          "font": {
           "color": "#000000"
          },
          "showarrow": false,
          "text": "4602200064",
          "x": 1.55,
          "xanchor": "left",
          "xref": "x",
          "y": 69,
          "yref": "y"
         },
         {
          "align": "left",
          "font": {
           "color": "#000000"
          },
          "showarrow": false,
          "text": "7459.69",
          "x": 2.55,
          "xanchor": "left",
          "xref": "x",
          "y": 69,
          "yref": "y"
         },
         {
          "align": "left",
          "font": {
           "color": "#000000"
          },
          "showarrow": false,
          "text": "2017-11-09",
          "x": -0.45,
          "xanchor": "left",
          "xref": "x",
          "y": 70,
          "yref": "y"
         },
         {
          "align": "left",
          "font": {
           "color": "#000000"
          },
          "showarrow": false,
          "text": "68.17436293105042",
          "x": 0.55,
          "xanchor": "left",
          "xref": "x",
          "y": 70,
          "yref": "y"
         },
         {
          "align": "left",
          "font": {
           "color": "#000000"
          },
          "showarrow": false,
          "text": "3226249984",
          "x": 1.55,
          "xanchor": "left",
          "xref": "x",
          "y": 70,
          "yref": "y"
         },
         {
          "align": "left",
          "font": {
           "color": "#000000"
          },
          "showarrow": false,
          "text": "7143.58",
          "x": 2.55,
          "xanchor": "left",
          "xref": "x",
          "y": 70,
          "yref": "y"
         },
         {
          "align": "left",
          "font": {
           "color": "#000000"
          },
          "showarrow": false,
          "text": "2017-11-10",
          "x": -0.45,
          "xanchor": "left",
          "xref": "x",
          "y": 71,
          "yref": "y"
         },
         {
          "align": "left",
          "font": {
           "color": "#000000"
          },
          "showarrow": false,
          "text": "75.20613068181805",
          "x": 0.55,
          "xanchor": "left",
          "xref": "x",
          "y": 71,
          "yref": "y"
         },
         {
          "align": "left",
          "font": {
           "color": "#000000"
          },
          "showarrow": false,
          "text": "5208249856",
          "x": 1.55,
          "xanchor": "left",
          "xref": "x",
          "y": 71,
          "yref": "y"
         },
         {
          "align": "left",
          "font": {
           "color": "#000000"
          },
          "showarrow": false,
          "text": "6618.14",
          "x": 2.55,
          "xanchor": "left",
          "xref": "x",
          "y": 71,
          "yref": "y"
         },
         {
          "align": "left",
          "font": {
           "color": "#000000"
          },
          "showarrow": false,
          "text": "2017-11-11",
          "x": -0.45,
          "xanchor": "left",
          "xref": "x",
          "y": 72,
          "yref": "y"
         },
         {
          "align": "left",
          "font": {
           "color": "#000000"
          },
          "showarrow": false,
          "text": "65.08762490310195",
          "x": 0.55,
          "xanchor": "left",
          "xref": "x",
          "y": 72,
          "yref": "y"
         },
         {
          "align": "left",
          "font": {
           "color": "#000000"
          },
          "showarrow": false,
          "text": "4908680192",
          "x": 1.55,
          "xanchor": "left",
          "xref": "x",
          "y": 72,
          "yref": "y"
         },
         {
          "align": "left",
          "font": {
           "color": "#000000"
          },
          "showarrow": false,
          "text": "6357.60",
          "x": 2.55,
          "xanchor": "left",
          "xref": "x",
          "y": 72,
          "yref": "y"
         },
         {
          "align": "left",
          "font": {
           "color": "#000000"
          },
          "showarrow": false,
          "text": "2017-11-12",
          "x": -0.45,
          "xanchor": "left",
          "xref": "x",
          "y": 73,
          "yref": "y"
         },
         {
          "align": "left",
          "font": {
           "color": "#000000"
          },
          "showarrow": false,
          "text": "69.47252675730356",
          "x": 0.55,
          "xanchor": "left",
          "xref": "x",
          "y": 73,
          "yref": "y"
         },
         {
          "align": "left",
          "font": {
           "color": "#000000"
          },
          "showarrow": false,
          "text": "8957349888",
          "x": 1.55,
          "xanchor": "left",
          "xref": "x",
          "y": 73,
          "yref": "y"
         },
         {
          "align": "left",
          "font": {
           "color": "#000000"
          },
          "showarrow": false,
          "text": "5950.07",
          "x": 2.55,
          "xanchor": "left",
          "xref": "x",
          "y": 73,
          "yref": "y"
         },
         {
          "align": "left",
          "font": {
           "color": "#000000"
          },
          "showarrow": false,
          "text": "2017-11-13",
          "x": -0.45,
          "xanchor": "left",
          "xref": "x",
          "y": 74,
          "yref": "y"
         },
         {
          "align": "left",
          "font": {
           "color": "#000000"
          },
          "showarrow": false,
          "text": "70.9659491041366",
          "x": 0.55,
          "xanchor": "left",
          "xref": "x",
          "y": 74,
          "yref": "y"
         },
         {
          "align": "left",
          "font": {
           "color": "#000000"
          },
          "showarrow": false,
          "text": "6263249920",
          "x": 1.55,
          "xanchor": "left",
          "xref": "x",
          "y": 74,
          "yref": "y"
         },
         {
          "align": "left",
          "font": {
           "color": "#000000"
          },
          "showarrow": false,
          "text": "6559.49",
          "x": 2.55,
          "xanchor": "left",
          "xref": "x",
          "y": 74,
          "yref": "y"
         },
         {
          "align": "left",
          "font": {
           "color": "#000000"
          },
          "showarrow": false,
          "text": "2017-11-14",
          "x": -0.45,
          "xanchor": "left",
          "xref": "x",
          "y": 75,
          "yref": "y"
         },
         {
          "align": "left",
          "font": {
           "color": "#000000"
          },
          "showarrow": false,
          "text": "84.93580048840873",
          "x": 0.55,
          "xanchor": "left",
          "xref": "x",
          "y": 75,
          "yref": "y"
         },
         {
          "align": "left",
          "font": {
           "color": "#000000"
          },
          "showarrow": false,
          "text": "3197110016",
          "x": 1.55,
          "xanchor": "left",
          "xref": "x",
          "y": 75,
          "yref": "y"
         },
         {
          "align": "left",
          "font": {
           "color": "#000000"
          },
          "showarrow": false,
          "text": "6635.75",
          "x": 2.55,
          "xanchor": "left",
          "xref": "x",
          "y": 75,
          "yref": "y"
         },
         {
          "align": "left",
          "font": {
           "color": "#000000"
          },
          "showarrow": false,
          "text": "2017-11-15",
          "x": -0.45,
          "xanchor": "left",
          "xref": "x",
          "y": 76,
          "yref": "y"
         },
         {
          "align": "left",
          "font": {
           "color": "#000000"
          },
          "showarrow": false,
          "text": "93.5920690488001",
          "x": 0.55,
          "xanchor": "left",
          "xref": "x",
          "y": 76,
          "yref": "y"
         },
         {
          "align": "left",
          "font": {
           "color": "#000000"
          },
          "showarrow": false,
          "text": "4200880128",
          "x": 1.55,
          "xanchor": "left",
          "xref": "x",
          "y": 76,
          "yref": "y"
         },
         {
          "align": "left",
          "font": {
           "color": "#000000"
          },
          "showarrow": false,
          "text": "7315.54",
          "x": 2.55,
          "xanchor": "left",
          "xref": "x",
          "y": 76,
          "yref": "y"
         },
         {
          "align": "left",
          "font": {
           "color": "#000000"
          },
          "showarrow": false,
          "text": "2017-11-16",
          "x": -0.45,
          "xanchor": "left",
          "xref": "x",
          "y": 77,
          "yref": "y"
         },
         {
          "align": "left",
          "font": {
           "color": "#000000"
          },
          "showarrow": false,
          "text": "95.94134783756459",
          "x": 0.55,
          "xanchor": "left",
          "xref": "x",
          "y": 77,
          "yref": "y"
         },
         {
          "align": "left",
          "font": {
           "color": "#000000"
          },
          "showarrow": false,
          "text": "5123809792",
          "x": 1.55,
          "xanchor": "left",
          "xref": "x",
          "y": 77,
          "yref": "y"
         },
         {
          "align": "left",
          "font": {
           "color": "#000000"
          },
          "showarrow": false,
          "text": "7871.69",
          "x": 2.55,
          "xanchor": "left",
          "xref": "x",
          "y": 77,
          "yref": "y"
         },
         {
          "align": "left",
          "font": {
           "color": "#000000"
          },
          "showarrow": false,
          "text": "2017-11-17",
          "x": -0.45,
          "xanchor": "left",
          "xref": "x",
          "y": 78,
          "yref": "y"
         },
         {
          "align": "left",
          "font": {
           "color": "#000000"
          },
          "showarrow": false,
          "text": "97.8746565547247",
          "x": 0.55,
          "xanchor": "left",
          "xref": "x",
          "y": 78,
          "yref": "y"
         },
         {
          "align": "left",
          "font": {
           "color": "#000000"
          },
          "showarrow": false,
          "text": "4651670016",
          "x": 1.55,
          "xanchor": "left",
          "xref": "x",
          "y": 78,
          "yref": "y"
         },
         {
          "align": "left",
          "font": {
           "color": "#000000"
          },
          "showarrow": false,
          "text": "7708.99",
          "x": 2.55,
          "xanchor": "left",
          "xref": "x",
          "y": 78,
          "yref": "y"
         },
         {
          "align": "left",
          "font": {
           "color": "#000000"
          },
          "showarrow": false,
          "text": "2017-11-18",
          "x": -0.45,
          "xanchor": "left",
          "xref": "x",
          "y": 79,
          "yref": "y"
         },
         {
          "align": "left",
          "font": {
           "color": "#000000"
          },
          "showarrow": false,
          "text": "77.56095560265358",
          "x": 0.55,
          "xanchor": "left",
          "xref": "x",
          "y": 79,
          "yref": "y"
         },
         {
          "align": "left",
          "font": {
           "color": "#000000"
          },
          "showarrow": false,
          "text": "3667190016",
          "x": 1.55,
          "xanchor": "left",
          "xref": "x",
          "y": 79,
          "yref": "y"
         },
         {
          "align": "left",
          "font": {
           "color": "#000000"
          },
          "showarrow": false,
          "text": "7790.15",
          "x": 2.55,
          "xanchor": "left",
          "xref": "x",
          "y": 79,
          "yref": "y"
         },
         {
          "align": "left",
          "font": {
           "color": "#000000"
          },
          "showarrow": false,
          "text": "2017-11-19",
          "x": -0.45,
          "xanchor": "left",
          "xref": "x",
          "y": 80,
          "yref": "y"
         },
         {
          "align": "left",
          "font": {
           "color": "#000000"
          },
          "showarrow": false,
          "text": "79.85877472750465",
          "x": 0.55,
          "xanchor": "left",
          "xref": "x",
          "y": 80,
          "yref": "y"
         },
         {
          "align": "left",
          "font": {
           "color": "#000000"
          },
          "showarrow": false,
          "text": "3149319936",
          "x": 1.55,
          "xanchor": "left",
          "xref": "x",
          "y": 80,
          "yref": "y"
         },
         {
          "align": "left",
          "font": {
           "color": "#000000"
          },
          "showarrow": false,
          "text": "8036.49",
          "x": 2.55,
          "xanchor": "left",
          "xref": "x",
          "y": 80,
          "yref": "y"
         },
         {
          "align": "left",
          "font": {
           "color": "#000000"
          },
          "showarrow": false,
          "text": "2017-11-20",
          "x": -0.45,
          "xanchor": "left",
          "xref": "x",
          "y": 81,
          "yref": "y"
         },
         {
          "align": "left",
          "font": {
           "color": "#000000"
          },
          "showarrow": false,
          "text": "64.63633352634466",
          "x": 0.55,
          "xanchor": "left",
          "xref": "x",
          "y": 81,
          "yref": "y"
         },
         {
          "align": "left",
          "font": {
           "color": "#000000"
          },
          "showarrow": false,
          "text": "3488450048",
          "x": 1.55,
          "xanchor": "left",
          "xref": "x",
          "y": 81,
          "yref": "y"
         },
         {
          "align": "left",
          "font": {
           "color": "#000000"
          },
          "showarrow": false,
          "text": "8200.64",
          "x": 2.55,
          "xanchor": "left",
          "xref": "x",
          "y": 81,
          "yref": "y"
         },
         {
          "align": "left",
          "font": {
           "color": "#000000"
          },
          "showarrow": false,
          "text": "2017-11-21",
          "x": -0.45,
          "xanchor": "left",
          "xref": "x",
          "y": 82,
          "yref": "y"
         },
         {
          "align": "left",
          "font": {
           "color": "#000000"
          },
          "showarrow": false,
          "text": "88.84891132305194",
          "x": 0.55,
          "xanchor": "left",
          "xref": "x",
          "y": 82,
          "yref": "y"
         },
         {
          "align": "left",
          "font": {
           "color": "#000000"
          },
          "showarrow": false,
          "text": "4277609984",
          "x": 1.55,
          "xanchor": "left",
          "xref": "x",
          "y": 82,
          "yref": "y"
         },
         {
          "align": "left",
          "font": {
           "color": "#000000"
          },
          "showarrow": false,
          "text": "8071.26",
          "x": 2.55,
          "xanchor": "left",
          "xref": "x",
          "y": 82,
          "yref": "y"
         },
         {
          "align": "left",
          "font": {
           "color": "#000000"
          },
          "showarrow": false,
          "text": "2017-11-22",
          "x": -0.45,
          "xanchor": "left",
          "xref": "x",
          "y": 83,
          "yref": "y"
         },
         {
          "align": "left",
          "font": {
           "color": "#000000"
          },
          "showarrow": false,
          "text": "110.26343371212111",
          "x": 0.55,
          "xanchor": "left",
          "xref": "x",
          "y": 83,
          "yref": "y"
         },
         {
          "align": "left",
          "font": {
           "color": "#000000"
          },
          "showarrow": false,
          "text": "3633530112",
          "x": 1.55,
          "xanchor": "left",
          "xref": "x",
          "y": 83,
          "yref": "y"
         },
         {
          "align": "left",
          "font": {
           "color": "#000000"
          },
          "showarrow": false,
          "text": "8253.55",
          "x": 2.55,
          "xanchor": "left",
          "xref": "x",
          "y": 83,
          "yref": "y"
         },
         {
          "align": "left",
          "font": {
           "color": "#000000"
          },
          "showarrow": false,
          "text": "2017-11-23",
          "x": -0.45,
          "xanchor": "left",
          "xref": "x",
          "y": 84,
          "yref": "y"
         },
         {
          "align": "left",
          "font": {
           "color": "#000000"
          },
          "showarrow": false,
          "text": "87.35194385554097",
          "x": 0.55,
          "xanchor": "left",
          "xref": "x",
          "y": 84,
          "yref": "y"
         },
         {
          "align": "left",
          "font": {
           "color": "#000000"
          },
          "showarrow": false,
          "text": "4225179904",
          "x": 1.55,
          "xanchor": "left",
          "xref": "x",
          "y": 84,
          "yref": "y"
         },
         {
          "align": "left",
          "font": {
           "color": "#000000"
          },
          "showarrow": false,
          "text": "8038.77",
          "x": 2.55,
          "xanchor": "left",
          "xref": "x",
          "y": 84,
          "yref": "y"
         },
         {
          "align": "left",
          "font": {
           "color": "#000000"
          },
          "showarrow": false,
          "text": "2017-11-24",
          "x": -0.45,
          "xanchor": "left",
          "xref": "x",
          "y": 85,
          "yref": "y"
         },
         {
          "align": "left",
          "font": {
           "color": "#000000"
          },
          "showarrow": false,
          "text": "89.90354034661327",
          "x": 0.55,
          "xanchor": "left",
          "xref": "x",
          "y": 85,
          "yref": "y"
         },
         {
          "align": "left",
          "font": {
           "color": "#000000"
          },
          "showarrow": false,
          "text": "5058610176",
          "x": 1.55,
          "xanchor": "left",
          "xref": "x",
          "y": 85,
          "yref": "y"
         },
         {
          "align": "left",
          "font": {
           "color": "#000000"
          },
          "showarrow": false,
          "text": "8253.69",
          "x": 2.55,
          "xanchor": "left",
          "xref": "x",
          "y": 85,
          "yref": "y"
         },
         {
          "align": "left",
          "font": {
           "color": "#000000"
          },
          "showarrow": false,
          "text": "2017-11-25",
          "x": -0.45,
          "xanchor": "left",
          "xref": "x",
          "y": 86,
          "yref": "y"
         },
         {
          "align": "left",
          "font": {
           "color": "#000000"
          },
          "showarrow": false,
          "text": "76.17952306654975",
          "x": 0.55,
          "xanchor": "left",
          "xref": "x",
          "y": 86,
          "yref": "y"
         },
         {
          "align": "left",
          "font": {
           "color": "#000000"
          },
          "showarrow": false,
          "text": "4342060032",
          "x": 1.55,
          "xanchor": "left",
          "xref": "x",
          "y": 86,
          "yref": "y"
         },
         {
          "align": "left",
          "font": {
           "color": "#000000"
          },
          "showarrow": false,
          "text": "8790.92",
          "x": 2.55,
          "xanchor": "left",
          "xref": "x",
          "y": 86,
          "yref": "y"
         },
         {
          "align": "left",
          "font": {
           "color": "#000000"
          },
          "showarrow": false,
          "text": "2017-11-26",
          "x": -0.45,
          "xanchor": "left",
          "xref": "x",
          "y": 87,
          "yref": "y"
         },
         {
          "align": "left",
          "font": {
           "color": "#000000"
          },
          "showarrow": false,
          "text": "102.0800786174081",
          "x": 0.55,
          "xanchor": "left",
          "xref": "x",
          "y": 87,
          "yref": "y"
         },
         {
          "align": "left",
          "font": {
           "color": "#000000"
          },
          "showarrow": false,
          "text": "5475579904",
          "x": 1.55,
          "xanchor": "left",
          "xref": "x",
          "y": 87,
          "yref": "y"
         },
         {
          "align": "left",
          "font": {
           "color": "#000000"
          },
          "showarrow": false,
          "text": "9330.55",
          "x": 2.55,
          "xanchor": "left",
          "xref": "x",
          "y": 87,
          "yref": "y"
         },
         {
          "align": "left",
          "font": {
           "color": "#000000"
          },
          "showarrow": false,
          "text": "2017-11-27",
          "x": -0.45,
          "xanchor": "left",
          "xref": "x",
          "y": 88,
          "yref": "y"
         },
         {
          "align": "left",
          "font": {
           "color": "#000000"
          },
          "showarrow": false,
          "text": "135.68944123908972",
          "x": 0.55,
          "xanchor": "left",
          "xref": "x",
          "y": 88,
          "yref": "y"
         },
         {
          "align": "left",
          "font": {
           "color": "#000000"
          },
          "showarrow": false,
          "text": "5653320192",
          "x": 1.55,
          "xanchor": "left",
          "xref": "x",
          "y": 88,
          "yref": "y"
         },
         {
          "align": "left",
          "font": {
           "color": "#000000"
          },
          "showarrow": false,
          "text": "9818.35",
          "x": 2.55,
          "xanchor": "left",
          "xref": "x",
          "y": 88,
          "yref": "y"
         },
         {
          "align": "left",
          "font": {
           "color": "#000000"
          },
          "showarrow": false,
          "text": "2017-11-28",
          "x": -0.45,
          "xanchor": "left",
          "xref": "x",
          "y": 89,
          "yref": "y"
         },
         {
          "align": "left",
          "font": {
           "color": "#000000"
          },
          "showarrow": false,
          "text": "126.73609075935641",
          "x": 0.55,
          "xanchor": "left",
          "xref": "x",
          "y": 89,
          "yref": "y"
         },
         {
          "align": "left",
          "font": {
           "color": "#000000"
          },
          "showarrow": false,
          "text": "6348819968",
          "x": 1.55,
          "xanchor": "left",
          "xref": "x",
          "y": 89,
          "yref": "y"
         },
         {
          "align": "left",
          "font": {
           "color": "#000000"
          },
          "showarrow": false,
          "text": "10058.80",
          "x": 2.55,
          "xanchor": "left",
          "xref": "x",
          "y": 89,
          "yref": "y"
         },
         {
          "align": "left",
          "font": {
           "color": "#000000"
          },
          "showarrow": false,
          "text": "2017-11-29",
          "x": -0.45,
          "xanchor": "left",
          "xref": "x",
          "y": 90,
          "yref": "y"
         },
         {
          "align": "left",
          "font": {
           "color": "#000000"
          },
          "showarrow": false,
          "text": "171.53002591249177",
          "x": 0.55,
          "xanchor": "left",
          "xref": "x",
          "y": 90,
          "yref": "y"
         },
         {
          "align": "left",
          "font": {
           "color": "#000000"
          },
          "showarrow": false,
          "text": "11568799744",
          "x": 1.55,
          "xanchor": "left",
          "xref": "x",
          "y": 90,
          "yref": "y"
         },
         {
          "align": "left",
          "font": {
           "color": "#000000"
          },
          "showarrow": false,
          "text": "9888.61",
          "x": 2.55,
          "xanchor": "left",
          "xref": "x",
          "y": 90,
          "yref": "y"
         },
         {
          "align": "left",
          "font": {
           "color": "#000000"
          },
          "showarrow": false,
          "text": "2017-11-30",
          "x": -0.45,
          "xanchor": "left",
          "xref": "x",
          "y": 91,
          "yref": "y"
         },
         {
          "align": "left",
          "font": {
           "color": "#000000"
          },
          "showarrow": false,
          "text": "119.28993525399588",
          "x": 0.55,
          "xanchor": "left",
          "xref": "x",
          "y": 91,
          "yref": "y"
         },
         {
          "align": "left",
          "font": {
           "color": "#000000"
          },
          "showarrow": false,
          "text": "8310689792",
          "x": 1.55,
          "xanchor": "left",
          "xref": "x",
          "y": 91,
          "yref": "y"
         },
         {
          "align": "left",
          "font": {
           "color": "#000000"
          },
          "showarrow": false,
          "text": "10233.60",
          "x": 2.55,
          "xanchor": "left",
          "xref": "x",
          "y": 91,
          "yref": "y"
         }
        ],
        "height": 2810,
        "margin": {
         "b": 0,
         "l": 0,
         "r": 0,
         "t": 0
        },
        "xaxis": {
         "dtick": 1,
         "gridwidth": 2,
         "showticklabels": false,
         "tick0": -0.5,
         "ticks": "",
         "zeroline": false
        },
        "yaxis": {
         "autorange": "reversed",
         "dtick": 1,
         "gridwidth": 2,
         "showticklabels": false,
         "tick0": 0.5,
         "ticks": "",
         "zeroline": false
        }
       }
      },
      "text/html": [
       "<div id=\"44b00526-13c7-4eb7-ae97-24500323e28f\" style=\"height: 2810px; width: 100%;\" class=\"plotly-graph-div\"></div><script type=\"text/javascript\">require([\"plotly\"], function(Plotly) { window.PLOTLYENV=window.PLOTLYENV || {};window.PLOTLYENV.BASE_URL=\"https://plot.ly\";Plotly.newPlot(\"44b00526-13c7-4eb7-ae97-24500323e28f\", [{\"colorscale\": [[0, \"#00083e\"], [0.5, \"#ededee\"], [1, \"#ffffff\"]], \"hoverinfo\": \"none\", \"opacity\": 0.75, \"showscale\": false, \"z\": [[0, 0, 0, 0], [0.5, 0.5, 0.5, 0.5], [1, 1, 1, 1], [0.5, 0.5, 0.5, 0.5], [1, 1, 1, 1], [0.5, 0.5, 0.5, 0.5], [1, 1, 1, 1], [0.5, 0.5, 0.5, 0.5], [1, 1, 1, 1], [0.5, 0.5, 0.5, 0.5], [1, 1, 1, 1], [0.5, 0.5, 0.5, 0.5], [1, 1, 1, 1], [0.5, 0.5, 0.5, 0.5], [1, 1, 1, 1], [0.5, 0.5, 0.5, 0.5], [1, 1, 1, 1], [0.5, 0.5, 0.5, 0.5], [1, 1, 1, 1], [0.5, 0.5, 0.5, 0.5], [1, 1, 1, 1], [0.5, 0.5, 0.5, 0.5], [1, 1, 1, 1], [0.5, 0.5, 0.5, 0.5], [1, 1, 1, 1], [0.5, 0.5, 0.5, 0.5], [1, 1, 1, 1], [0.5, 0.5, 0.5, 0.5], [1, 1, 1, 1], [0.5, 0.5, 0.5, 0.5], [1, 1, 1, 1], [0.5, 0.5, 0.5, 0.5], [1, 1, 1, 1], [0.5, 0.5, 0.5, 0.5], [1, 1, 1, 1], [0.5, 0.5, 0.5, 0.5], [1, 1, 1, 1], [0.5, 0.5, 0.5, 0.5], [1, 1, 1, 1], [0.5, 0.5, 0.5, 0.5], [1, 1, 1, 1], [0.5, 0.5, 0.5, 0.5], [1, 1, 1, 1], [0.5, 0.5, 0.5, 0.5], [1, 1, 1, 1], [0.5, 0.5, 0.5, 0.5], [1, 1, 1, 1], [0.5, 0.5, 0.5, 0.5], [1, 1, 1, 1], [0.5, 0.5, 0.5, 0.5], [1, 1, 1, 1], [0.5, 0.5, 0.5, 0.5], [1, 1, 1, 1], [0.5, 0.5, 0.5, 0.5], [1, 1, 1, 1], [0.5, 0.5, 0.5, 0.5], [1, 1, 1, 1], [0.5, 0.5, 0.5, 0.5], [1, 1, 1, 1], [0.5, 0.5, 0.5, 0.5], [1, 1, 1, 1], [0.5, 0.5, 0.5, 0.5], [1, 1, 1, 1], [0.5, 0.5, 0.5, 0.5], [1, 1, 1, 1], [0.5, 0.5, 0.5, 0.5], [1, 1, 1, 1], [0.5, 0.5, 0.5, 0.5], [1, 1, 1, 1], [0.5, 0.5, 0.5, 0.5], [1, 1, 1, 1], [0.5, 0.5, 0.5, 0.5], [1, 1, 1, 1], [0.5, 0.5, 0.5, 0.5], [1, 1, 1, 1], [0.5, 0.5, 0.5, 0.5], [1, 1, 1, 1], [0.5, 0.5, 0.5, 0.5], [1, 1, 1, 1], [0.5, 0.5, 0.5, 0.5], [1, 1, 1, 1], [0.5, 0.5, 0.5, 0.5], [1, 1, 1, 1], [0.5, 0.5, 0.5, 0.5], [1, 1, 1, 1], [0.5, 0.5, 0.5, 0.5], [1, 1, 1, 1], [0.5, 0.5, 0.5, 0.5], [1, 1, 1, 1], [0.5, 0.5, 0.5, 0.5], [1, 1, 1, 1], [0.5, 0.5, 0.5, 0.5]], \"type\": \"heatmap\", \"uid\": \"915caba4-3b05-4429-92ac-013cdfcbae0d\"}], {\"annotations\": [{\"align\": \"left\", \"font\": {\"color\": \"#ffffff\"}, \"showarrow\": false, \"text\": \"<b>date</b>\", \"x\": -0.45, \"xanchor\": \"left\", \"xref\": \"x\", \"y\": 0, \"yref\": \"y\"}, {\"align\": \"left\", \"font\": {\"color\": \"#ffffff\"}, \"showarrow\": false, \"text\": \"<b>polarity</b>\", \"x\": 0.55, \"xanchor\": \"left\", \"xref\": \"x\", \"y\": 0, \"yref\": \"y\"}, {\"align\": \"left\", \"font\": {\"color\": \"#ffffff\"}, \"showarrow\": false, \"text\": \"<b>volume</b>\", \"x\": 1.55, \"xanchor\": \"left\", \"xref\": \"x\", \"y\": 0, \"yref\": \"y\"}, {\"align\": \"left\", \"font\": {\"color\": \"#ffffff\"}, \"showarrow\": false, \"text\": \"<b>close</b>\", \"x\": 2.55, \"xanchor\": \"left\", \"xref\": \"x\", \"y\": 0, \"yref\": \"y\"}, {\"align\": \"left\", \"font\": {\"color\": \"#000000\"}, \"showarrow\": false, \"text\": \"2017-09-01\", \"x\": -0.45, \"xanchor\": \"left\", \"xref\": \"x\", \"y\": 1, \"yref\": \"y\"}, {\"align\": \"left\", \"font\": {\"color\": \"#000000\"}, \"showarrow\": false, \"text\": \"44.84127886002886\", \"x\": 0.55, \"xanchor\": \"left\", \"xref\": \"x\", \"y\": 1, \"yref\": \"y\"}, {\"align\": \"left\", \"font\": {\"color\": \"#000000\"}, \"showarrow\": false, \"text\": \"2599079936\", \"x\": 1.55, \"xanchor\": \"left\", \"xref\": \"x\", \"y\": 1, \"yref\": \"y\"}, {\"align\": \"left\", \"font\": {\"color\": \"#000000\"}, \"showarrow\": false, \"text\": \"4892.01\", \"x\": 2.55, \"xanchor\": \"left\", \"xref\": \"x\", \"y\": 1, \"yref\": \"y\"}, {\"align\": \"left\", \"font\": {\"color\": \"#000000\"}, \"showarrow\": false, \"text\": \"2017-09-02\", \"x\": -0.45, \"xanchor\": \"left\", \"xref\": \"x\", \"y\": 2, \"yref\": \"y\"}, {\"align\": \"left\", \"font\": {\"color\": \"#000000\"}, \"showarrow\": false, \"text\": \"34.72393849206349\", \"x\": 0.55, \"xanchor\": \"left\", \"xref\": \"x\", \"y\": 2, \"yref\": \"y\"}, {\"align\": \"left\", \"font\": {\"color\": \"#000000\"}, \"showarrow\": false, \"text\": \"2722139904\", \"x\": 1.55, \"xanchor\": \"left\", \"xref\": \"x\", \"y\": 2, \"yref\": \"y\"}, {\"align\": \"left\", \"font\": {\"color\": \"#000000\"}, \"showarrow\": false, \"text\": \"4578.77\", \"x\": 2.55, \"xanchor\": \"left\", \"xref\": \"x\", \"y\": 2, \"yref\": \"y\"}, {\"align\": \"left\", \"font\": {\"color\": \"#000000\"}, \"showarrow\": false, \"text\": \"2017-09-03\", \"x\": -0.45, \"xanchor\": \"left\", \"xref\": \"x\", \"y\": 3, \"yref\": \"y\"}, {\"align\": \"left\", \"font\": {\"color\": \"#000000\"}, \"showarrow\": false, \"text\": \"30.12381042568544\", \"x\": 0.55, \"xanchor\": \"left\", \"xref\": \"x\", \"y\": 3, \"yref\": \"y\"}, {\"align\": \"left\", \"font\": {\"color\": \"#000000\"}, \"showarrow\": false, \"text\": \"1933190016\", \"x\": 1.55, \"xanchor\": \"left\", \"xref\": \"x\", \"y\": 3, \"yref\": \"y\"}, {\"align\": \"left\", \"font\": {\"color\": \"#000000\"}, \"showarrow\": false, \"text\": \"4582.96\", \"x\": 2.55, \"xanchor\": \"left\", \"xref\": \"x\", \"y\": 3, \"yref\": \"y\"}, {\"align\": \"left\", \"font\": {\"color\": \"#000000\"}, \"showarrow\": false, \"text\": \"2017-09-04\", \"x\": -0.45, \"xanchor\": \"left\", \"xref\": \"x\", \"y\": 4, \"yref\": \"y\"}, {\"align\": \"left\", \"font\": {\"color\": \"#000000\"}, \"showarrow\": false, \"text\": \"43.906720628908154\", \"x\": 0.55, \"xanchor\": \"left\", \"xref\": \"x\", \"y\": 4, \"yref\": \"y\"}, {\"align\": \"left\", \"font\": {\"color\": \"#000000\"}, \"showarrow\": false, \"text\": \"2987330048\", \"x\": 1.55, \"xanchor\": \"left\", \"xref\": \"x\", \"y\": 4, \"yref\": \"y\"}, {\"align\": \"left\", \"font\": {\"color\": \"#000000\"}, \"showarrow\": false, \"text\": \"4236.31\", \"x\": 2.55, \"xanchor\": \"left\", \"xref\": \"x\", \"y\": 4, \"yref\": \"y\"}, {\"align\": \"left\", \"font\": {\"color\": \"#000000\"}, \"showarrow\": false, \"text\": \"2017-09-05\", \"x\": -0.45, \"xanchor\": \"left\", \"xref\": \"x\", \"y\": 5, \"yref\": \"y\"}, {\"align\": \"left\", \"font\": {\"color\": \"#000000\"}, \"showarrow\": false, \"text\": \"51.60989305254931\", \"x\": 0.55, \"xanchor\": \"left\", \"xref\": \"x\", \"y\": 5, \"yref\": \"y\"}, {\"align\": \"left\", \"font\": {\"color\": \"#000000\"}, \"showarrow\": false, \"text\": \"2697969920\", \"x\": 1.55, \"xanchor\": \"left\", \"xref\": \"x\", \"y\": 5, \"yref\": \"y\"}, {\"align\": \"left\", \"font\": {\"color\": \"#000000\"}, \"showarrow\": false, \"text\": \"4376.53\", \"x\": 2.55, \"xanchor\": \"left\", \"xref\": \"x\", \"y\": 5, \"yref\": \"y\"}, {\"align\": \"left\", \"font\": {\"color\": \"#000000\"}, \"showarrow\": false, \"text\": \"2017-09-06\", \"x\": -0.45, \"xanchor\": \"left\", \"xref\": \"x\", \"y\": 6, \"yref\": \"y\"}, {\"align\": \"left\", \"font\": {\"color\": \"#000000\"}, \"showarrow\": false, \"text\": \"49.39670815295817\", \"x\": 0.55, \"xanchor\": \"left\", \"xref\": \"x\", \"y\": 6, \"yref\": \"y\"}, {\"align\": \"left\", \"font\": {\"color\": \"#000000\"}, \"showarrow\": false, \"text\": \"2172100096\", \"x\": 1.55, \"xanchor\": \"left\", \"xref\": \"x\", \"y\": 6, \"yref\": \"y\"}, {\"align\": \"left\", \"font\": {\"color\": \"#000000\"}, \"showarrow\": false, \"text\": \"4597.12\", \"x\": 2.55, \"xanchor\": \"left\", \"xref\": \"x\", \"y\": 6, \"yref\": \"y\"}, {\"align\": \"left\", \"font\": {\"color\": \"#000000\"}, \"showarrow\": false, \"text\": \"2017-09-07\", \"x\": -0.45, \"xanchor\": \"left\", \"xref\": \"x\", \"y\": 7, \"yref\": \"y\"}, {\"align\": \"left\", \"font\": {\"color\": \"#000000\"}, \"showarrow\": false, \"text\": \"54.017747884349454\", \"x\": 0.55, \"xanchor\": \"left\", \"xref\": \"x\", \"y\": 7, \"yref\": \"y\"}, {\"align\": \"left\", \"font\": {\"color\": \"#000000\"}, \"showarrow\": false, \"text\": \"1844620032\", \"x\": 1.55, \"xanchor\": \"left\", \"xref\": \"x\", \"y\": 7, \"yref\": \"y\"}, {\"align\": \"left\", \"font\": {\"color\": \"#000000\"}, \"showarrow\": false, \"text\": \"4599.88\", \"x\": 2.55, \"xanchor\": \"left\", \"xref\": \"x\", \"y\": 7, \"yref\": \"y\"}, {\"align\": \"left\", \"font\": {\"color\": \"#000000\"}, \"showarrow\": false, \"text\": \"2017-09-08\", \"x\": -0.45, \"xanchor\": \"left\", \"xref\": \"x\", \"y\": 8, \"yref\": \"y\"}, {\"align\": \"left\", \"font\": {\"color\": \"#000000\"}, \"showarrow\": false, \"text\": \"45.23649801587301\", \"x\": 0.55, \"xanchor\": \"left\", \"xref\": \"x\", \"y\": 8, \"yref\": \"y\"}, {\"align\": \"left\", \"font\": {\"color\": \"#000000\"}, \"showarrow\": false, \"text\": \"2700890112\", \"x\": 1.55, \"xanchor\": \"left\", \"xref\": \"x\", \"y\": 8, \"yref\": \"y\"}, {\"align\": \"left\", \"font\": {\"color\": \"#000000\"}, \"showarrow\": false, \"text\": \"4228.75\", \"x\": 2.55, \"xanchor\": \"left\", \"xref\": \"x\", \"y\": 8, \"yref\": \"y\"}, {\"align\": \"left\", \"font\": {\"color\": \"#000000\"}, \"showarrow\": false, \"text\": \"2017-09-09\", \"x\": -0.45, \"xanchor\": \"left\", \"xref\": \"x\", \"y\": 9, \"yref\": \"y\"}, {\"align\": \"left\", \"font\": {\"color\": \"#000000\"}, \"showarrow\": false, \"text\": \"36.867362629268875\", \"x\": 0.55, \"xanchor\": \"left\", \"xref\": \"x\", \"y\": 9, \"yref\": \"y\"}, {\"align\": \"left\", \"font\": {\"color\": \"#000000\"}, \"showarrow\": false, \"text\": \"1386230016\", \"x\": 1.55, \"xanchor\": \"left\", \"xref\": \"x\", \"y\": 9, \"yref\": \"y\"}, {\"align\": \"left\", \"font\": {\"color\": \"#000000\"}, \"showarrow\": false, \"text\": \"4226.06\", \"x\": 2.55, \"xanchor\": \"left\", \"xref\": \"x\", \"y\": 9, \"yref\": \"y\"}, {\"align\": \"left\", \"font\": {\"color\": \"#000000\"}, \"showarrow\": false, \"text\": \"2017-09-10\", \"x\": -0.45, \"xanchor\": \"left\", \"xref\": \"x\", \"y\": 10, \"yref\": \"y\"}, {\"align\": \"left\", \"font\": {\"color\": \"#000000\"}, \"showarrow\": false, \"text\": \"43.62673601448154\", \"x\": 0.55, \"xanchor\": \"left\", \"xref\": \"x\", \"y\": 10, \"yref\": \"y\"}, {\"align\": \"left\", \"font\": {\"color\": \"#000000\"}, \"showarrow\": false, \"text\": \"1679090048\", \"x\": 1.55, \"xanchor\": \"left\", \"xref\": \"x\", \"y\": 10, \"yref\": \"y\"}, {\"align\": \"left\", \"font\": {\"color\": \"#000000\"}, \"showarrow\": false, \"text\": \"4122.94\", \"x\": 2.55, \"xanchor\": \"left\", \"xref\": \"x\", \"y\": 10, \"yref\": \"y\"}, {\"align\": \"left\", \"font\": {\"color\": \"#000000\"}, \"showarrow\": false, \"text\": \"2017-09-11\", \"x\": -0.45, \"xanchor\": \"left\", \"xref\": \"x\", \"y\": 11, \"yref\": \"y\"}, {\"align\": \"left\", \"font\": {\"color\": \"#000000\"}, \"showarrow\": false, \"text\": \"45.281234668109654\", \"x\": 0.55, \"xanchor\": \"left\", \"xref\": \"x\", \"y\": 11, \"yref\": \"y\"}, {\"align\": \"left\", \"font\": {\"color\": \"#000000\"}, \"showarrow\": false, \"text\": \"1557330048\", \"x\": 1.55, \"xanchor\": \"left\", \"xref\": \"x\", \"y\": 11, \"yref\": \"y\"}, {\"align\": \"left\", \"font\": {\"color\": \"#000000\"}, \"showarrow\": false, \"text\": \"4161.27\", \"x\": 2.55, \"xanchor\": \"left\", \"xref\": \"x\", \"y\": 11, \"yref\": \"y\"}, {\"align\": \"left\", \"font\": {\"color\": \"#000000\"}, \"showarrow\": false, \"text\": \"2017-09-12\", \"x\": -0.45, \"xanchor\": \"left\", \"xref\": \"x\", \"y\": 12, \"yref\": \"y\"}, {\"align\": \"left\", \"font\": {\"color\": \"#000000\"}, \"showarrow\": false, \"text\": \"38.138232804115376\", \"x\": 0.55, \"xanchor\": \"left\", \"xref\": \"x\", \"y\": 12, \"yref\": \"y\"}, {\"align\": \"left\", \"font\": {\"color\": \"#000000\"}, \"showarrow\": false, \"text\": \"1864530048\", \"x\": 1.55, \"xanchor\": \"left\", \"xref\": \"x\", \"y\": 12, \"yref\": \"y\"}, {\"align\": \"left\", \"font\": {\"color\": \"#000000\"}, \"showarrow\": false, \"text\": \"4130.81\", \"x\": 2.55, \"xanchor\": \"left\", \"xref\": \"x\", \"y\": 12, \"yref\": \"y\"}, {\"align\": \"left\", \"font\": {\"color\": \"#000000\"}, \"showarrow\": false, \"text\": \"2017-09-13\", \"x\": -0.45, \"xanchor\": \"left\", \"xref\": \"x\", \"y\": 13, \"yref\": \"y\"}, {\"align\": \"left\", \"font\": {\"color\": \"#000000\"}, \"showarrow\": false, \"text\": \"56.79393598184227\", \"x\": 0.55, \"xanchor\": \"left\", \"xref\": \"x\", \"y\": 13, \"yref\": \"y\"}, {\"align\": \"left\", \"font\": {\"color\": \"#000000\"}, \"showarrow\": false, \"text\": \"2219409920\", \"x\": 1.55, \"xanchor\": \"left\", \"xref\": \"x\", \"y\": 13, \"yref\": \"y\"}, {\"align\": \"left\", \"font\": {\"color\": \"#000000\"}, \"showarrow\": false, \"text\": \"3882.59\", \"x\": 2.55, \"xanchor\": \"left\", \"xref\": \"x\", \"y\": 13, \"yref\": \"y\"}, {\"align\": \"left\", \"font\": {\"color\": \"#000000\"}, \"showarrow\": false, \"text\": \"2017-09-14\", \"x\": -0.45, \"xanchor\": \"left\", \"xref\": \"x\", \"y\": 14, \"yref\": \"y\"}, {\"align\": \"left\", \"font\": {\"color\": \"#000000\"}, \"showarrow\": false, \"text\": \"56.14570337395531\", \"x\": 0.55, \"xanchor\": \"left\", \"xref\": \"x\", \"y\": 14, \"yref\": \"y\"}, {\"align\": \"left\", \"font\": {\"color\": \"#000000\"}, \"showarrow\": false, \"text\": \"2716310016\", \"x\": 1.55, \"xanchor\": \"left\", \"xref\": \"x\", \"y\": 14, \"yref\": \"y\"}, {\"align\": \"left\", \"font\": {\"color\": \"#000000\"}, \"showarrow\": false, \"text\": \"3154.95\", \"x\": 2.55, \"xanchor\": \"left\", \"xref\": \"x\", \"y\": 14, \"yref\": \"y\"}, {\"align\": \"left\", \"font\": {\"color\": \"#000000\"}, \"showarrow\": false, \"text\": \"2017-09-15\", \"x\": -0.45, \"xanchor\": \"left\", \"xref\": \"x\", \"y\": 15, \"yref\": \"y\"}, {\"align\": \"left\", \"font\": {\"color\": \"#000000\"}, \"showarrow\": false, \"text\": \"59.89907314213567\", \"x\": 0.55, \"xanchor\": \"left\", \"xref\": \"x\", \"y\": 15, \"yref\": \"y\"}, {\"align\": \"left\", \"font\": {\"color\": \"#000000\"}, \"showarrow\": false, \"text\": \"4148069888\", \"x\": 1.55, \"xanchor\": \"left\", \"xref\": \"x\", \"y\": 15, \"yref\": \"y\"}, {\"align\": \"left\", \"font\": {\"color\": \"#000000\"}, \"showarrow\": false, \"text\": \"3637.52\", \"x\": 2.55, \"xanchor\": \"left\", \"xref\": \"x\", \"y\": 15, \"yref\": \"y\"}, {\"align\": \"left\", \"font\": {\"color\": \"#000000\"}, \"showarrow\": false, \"text\": \"2017-09-16\", \"x\": -0.45, \"xanchor\": \"left\", \"xref\": \"x\", \"y\": 16, \"yref\": \"y\"}, {\"align\": \"left\", \"font\": {\"color\": \"#000000\"}, \"showarrow\": false, \"text\": \"9.883154461279464\", \"x\": 0.55, \"xanchor\": \"left\", \"xref\": \"x\", \"y\": 16, \"yref\": \"y\"}, {\"align\": \"left\", \"font\": {\"color\": \"#000000\"}, \"showarrow\": false, \"text\": \"1818400000\", \"x\": 1.55, \"xanchor\": \"left\", \"xref\": \"x\", \"y\": 16, \"yref\": \"y\"}, {\"align\": \"left\", \"font\": {\"color\": \"#000000\"}, \"showarrow\": false, \"text\": \"3625.04\", \"x\": 2.55, \"xanchor\": \"left\", \"xref\": \"x\", \"y\": 16, \"yref\": \"y\"}, {\"align\": \"left\", \"font\": {\"color\": \"#000000\"}, \"showarrow\": false, \"text\": \"2017-09-17\", \"x\": -0.45, \"xanchor\": \"left\", \"xref\": \"x\", \"y\": 17, \"yref\": \"y\"}, {\"align\": \"left\", \"font\": {\"color\": \"#000000\"}, \"showarrow\": false, \"text\": \"49.61875174033869\", \"x\": 0.55, \"xanchor\": \"left\", \"xref\": \"x\", \"y\": 17, \"yref\": \"y\"}, {\"align\": \"left\", \"font\": {\"color\": \"#000000\"}, \"showarrow\": false, \"text\": \"1239149952\", \"x\": 1.55, \"xanchor\": \"left\", \"xref\": \"x\", \"y\": 17, \"yref\": \"y\"}, {\"align\": \"left\", \"font\": {\"color\": \"#000000\"}, \"showarrow\": false, \"text\": \"3582.88\", \"x\": 2.55, \"xanchor\": \"left\", \"xref\": \"x\", \"y\": 17, \"yref\": \"y\"}, {\"align\": \"left\", \"font\": {\"color\": \"#000000\"}, \"showarrow\": false, \"text\": \"2017-09-18\", \"x\": -0.45, \"xanchor\": \"left\", \"xref\": \"x\", \"y\": 18, \"yref\": \"y\"}, {\"align\": \"left\", \"font\": {\"color\": \"#000000\"}, \"showarrow\": false, \"text\": \"49.05703698283776\", \"x\": 0.55, \"xanchor\": \"left\", \"xref\": \"x\", \"y\": 18, \"yref\": \"y\"}, {\"align\": \"left\", \"font\": {\"color\": \"#000000\"}, \"showarrow\": false, \"text\": \"1943209984\", \"x\": 1.55, \"xanchor\": \"left\", \"xref\": \"x\", \"y\": 18, \"yref\": \"y\"}, {\"align\": \"left\", \"font\": {\"color\": \"#000000\"}, \"showarrow\": false, \"text\": \"4065.20\", \"x\": 2.55, \"xanchor\": \"left\", \"xref\": \"x\", \"y\": 18, \"yref\": \"y\"}, {\"align\": \"left\", \"font\": {\"color\": \"#000000\"}, \"showarrow\": false, \"text\": \"2017-09-19\", \"x\": -0.45, \"xanchor\": \"left\", \"xref\": \"x\", \"y\": 19, \"yref\": \"y\"}, {\"align\": \"left\", \"font\": {\"color\": \"#000000\"}, \"showarrow\": false, \"text\": \"49.648816305222574\", \"x\": 0.55, \"xanchor\": \"left\", \"xref\": \"x\", \"y\": 19, \"yref\": \"y\"}, {\"align\": \"left\", \"font\": {\"color\": \"#000000\"}, \"showarrow\": false, \"text\": \"1563980032\", \"x\": 1.55, \"xanchor\": \"left\", \"xref\": \"x\", \"y\": 19, \"yref\": \"y\"}, {\"align\": \"left\", \"font\": {\"color\": \"#000000\"}, \"showarrow\": false, \"text\": \"3924.97\", \"x\": 2.55, \"xanchor\": \"left\", \"xref\": \"x\", \"y\": 19, \"yref\": \"y\"}, {\"align\": \"left\", \"font\": {\"color\": \"#000000\"}, \"showarrow\": false, \"text\": \"2017-09-20\", \"x\": -0.45, \"xanchor\": \"left\", \"xref\": \"x\", \"y\": 20, \"yref\": \"y\"}, {\"align\": \"left\", \"font\": {\"color\": \"#000000\"}, \"showarrow\": false, \"text\": \"44.84952994181024\", \"x\": 0.55, \"xanchor\": \"left\", \"xref\": \"x\", \"y\": 20, \"yref\": \"y\"}, {\"align\": \"left\", \"font\": {\"color\": \"#000000\"}, \"showarrow\": false, \"text\": \"1213830016\", \"x\": 1.55, \"xanchor\": \"left\", \"xref\": \"x\", \"y\": 20, \"yref\": \"y\"}, {\"align\": \"left\", \"font\": {\"color\": \"#000000\"}, \"showarrow\": false, \"text\": \"3905.95\", \"x\": 2.55, \"xanchor\": \"left\", \"xref\": \"x\", \"y\": 20, \"yref\": \"y\"}, {\"align\": \"left\", \"font\": {\"color\": \"#000000\"}, \"showarrow\": false, \"text\": \"2017-09-21\", \"x\": -0.45, \"xanchor\": \"left\", \"xref\": \"x\", \"y\": 21, \"yref\": \"y\"}, {\"align\": \"left\", \"font\": {\"color\": \"#000000\"}, \"showarrow\": false, \"text\": \"36.79902311808565\", \"x\": 0.55, \"xanchor\": \"left\", \"xref\": \"x\", \"y\": 21, \"yref\": \"y\"}, {\"align\": \"left\", \"font\": {\"color\": \"#000000\"}, \"showarrow\": false, \"text\": \"1411480064\", \"x\": 1.55, \"xanchor\": \"left\", \"xref\": \"x\", \"y\": 21, \"yref\": \"y\"}, {\"align\": \"left\", \"font\": {\"color\": \"#000000\"}, \"showarrow\": false, \"text\": \"3631.04\", \"x\": 2.55, \"xanchor\": \"left\", \"xref\": \"x\", \"y\": 21, \"yref\": \"y\"}, {\"align\": \"left\", \"font\": {\"color\": \"#000000\"}, \"showarrow\": false, \"text\": \"2017-09-22\", \"x\": -0.45, \"xanchor\": \"left\", \"xref\": \"x\", \"y\": 22, \"yref\": \"y\"}, {\"align\": \"left\", \"font\": {\"color\": \"#000000\"}, \"showarrow\": false, \"text\": \"46.762610113410915\", \"x\": 0.55, \"xanchor\": \"left\", \"xref\": \"x\", \"y\": 22, \"yref\": \"y\"}, {\"align\": \"left\", \"font\": {\"color\": \"#000000\"}, \"showarrow\": false, \"text\": \"1194829952\", \"x\": 1.55, \"xanchor\": \"left\", \"xref\": \"x\", \"y\": 22, \"yref\": \"y\"}, {\"align\": \"left\", \"font\": {\"color\": \"#000000\"}, \"showarrow\": false, \"text\": \"3630.70\", \"x\": 2.55, \"xanchor\": \"left\", \"xref\": \"x\", \"y\": 22, \"yref\": \"y\"}, {\"align\": \"left\", \"font\": {\"color\": \"#000000\"}, \"showarrow\": false, \"text\": \"2017-09-23\", \"x\": -0.45, \"xanchor\": \"left\", \"xref\": \"x\", \"y\": 23, \"yref\": \"y\"}, {\"align\": \"left\", \"font\": {\"color\": \"#000000\"}, \"showarrow\": false, \"text\": \"37.00751833814336\", \"x\": 0.55, \"xanchor\": \"left\", \"xref\": \"x\", \"y\": 23, \"yref\": \"y\"}, {\"align\": \"left\", \"font\": {\"color\": \"#000000\"}, \"showarrow\": false, \"text\": \"928113984\", \"x\": 1.55, \"xanchor\": \"left\", \"xref\": \"x\", \"y\": 23, \"yref\": \"y\"}, {\"align\": \"left\", \"font\": {\"color\": \"#000000\"}, \"showarrow\": false, \"text\": \"3792.40\", \"x\": 2.55, \"xanchor\": \"left\", \"xref\": \"x\", \"y\": 23, \"yref\": \"y\"}, {\"align\": \"left\", \"font\": {\"color\": \"#000000\"}, \"showarrow\": false, \"text\": \"2017-09-24\", \"x\": -0.45, \"xanchor\": \"left\", \"xref\": \"x\", \"y\": 24, \"yref\": \"y\"}, {\"align\": \"left\", \"font\": {\"color\": \"#000000\"}, \"showarrow\": false, \"text\": \"40.71855782527657\", \"x\": 0.55, \"xanchor\": \"left\", \"xref\": \"x\", \"y\": 24, \"yref\": \"y\"}, {\"align\": \"left\", \"font\": {\"color\": \"#000000\"}, \"showarrow\": false, \"text\": \"768014976\", \"x\": 1.55, \"xanchor\": \"left\", \"xref\": \"x\", \"y\": 24, \"yref\": \"y\"}, {\"align\": \"left\", \"font\": {\"color\": \"#000000\"}, \"showarrow\": false, \"text\": \"3682.84\", \"x\": 2.55, \"xanchor\": \"left\", \"xref\": \"x\", \"y\": 24, \"yref\": \"y\"}, {\"align\": \"left\", \"font\": {\"color\": \"#000000\"}, \"showarrow\": false, \"text\": \"2017-09-25\", \"x\": -0.45, \"xanchor\": \"left\", \"xref\": \"x\", \"y\": 25, \"yref\": \"y\"}, {\"align\": \"left\", \"font\": {\"color\": \"#000000\"}, \"showarrow\": false, \"text\": \"47.90088936237374\", \"x\": 0.55, \"xanchor\": \"left\", \"xref\": \"x\", \"y\": 25, \"yref\": \"y\"}, {\"align\": \"left\", \"font\": {\"color\": \"#000000\"}, \"showarrow\": false, \"text\": \"1374210048\", \"x\": 1.55, \"xanchor\": \"left\", \"xref\": \"x\", \"y\": 25, \"yref\": \"y\"}, {\"align\": \"left\", \"font\": {\"color\": \"#000000\"}, \"showarrow\": false, \"text\": \"3926.07\", \"x\": 2.55, \"xanchor\": \"left\", \"xref\": \"x\", \"y\": 25, \"yref\": \"y\"}, {\"align\": \"left\", \"font\": {\"color\": \"#000000\"}, \"showarrow\": false, \"text\": \"2017-09-26\", \"x\": -0.45, \"xanchor\": \"left\", \"xref\": \"x\", \"y\": 26, \"yref\": \"y\"}, {\"align\": \"left\", \"font\": {\"color\": \"#000000\"}, \"showarrow\": false, \"text\": \"44.5973292824074\", \"x\": 0.55, \"xanchor\": \"left\", \"xref\": \"x\", \"y\": 26, \"yref\": \"y\"}, {\"align\": \"left\", \"font\": {\"color\": \"#000000\"}, \"showarrow\": false, \"text\": \"1043740032\", \"x\": 1.55, \"xanchor\": \"left\", \"xref\": \"x\", \"y\": 26, \"yref\": \"y\"}, {\"align\": \"left\", \"font\": {\"color\": \"#000000\"}, \"showarrow\": false, \"text\": \"3892.35\", \"x\": 2.55, \"xanchor\": \"left\", \"xref\": \"x\", \"y\": 26, \"yref\": \"y\"}, {\"align\": \"left\", \"font\": {\"color\": \"#000000\"}, \"showarrow\": false, \"text\": \"2017-09-27\", \"x\": -0.45, \"xanchor\": \"left\", \"xref\": \"x\", \"y\": 27, \"yref\": \"y\"}, {\"align\": \"left\", \"font\": {\"color\": \"#000000\"}, \"showarrow\": false, \"text\": \"50.33652717652716\", \"x\": 0.55, \"xanchor\": \"left\", \"xref\": \"x\", \"y\": 27, \"yref\": \"y\"}, {\"align\": \"left\", \"font\": {\"color\": \"#000000\"}, \"showarrow\": false, \"text\": \"1686880000\", \"x\": 1.55, \"xanchor\": \"left\", \"xref\": \"x\", \"y\": 27, \"yref\": \"y\"}, {\"align\": \"left\", \"font\": {\"color\": \"#000000\"}, \"showarrow\": false, \"text\": \"4200.67\", \"x\": 2.55, \"xanchor\": \"left\", \"xref\": \"x\", \"y\": 27, \"yref\": \"y\"}, {\"align\": \"left\", \"font\": {\"color\": \"#000000\"}, \"showarrow\": false, \"text\": \"2017-09-28\", \"x\": -0.45, \"xanchor\": \"left\", \"xref\": \"x\", \"y\": 28, \"yref\": \"y\"}, {\"align\": \"left\", \"font\": {\"color\": \"#000000\"}, \"showarrow\": false, \"text\": \"46.36906472247988\", \"x\": 0.55, \"xanchor\": \"left\", \"xref\": \"x\", \"y\": 28, \"yref\": \"y\"}, {\"align\": \"left\", \"font\": {\"color\": \"#000000\"}, \"showarrow\": false, \"text\": \"1712320000\", \"x\": 1.55, \"xanchor\": \"left\", \"xref\": \"x\", \"y\": 28, \"yref\": \"y\"}, {\"align\": \"left\", \"font\": {\"color\": \"#000000\"}, \"showarrow\": false, \"text\": \"4174.73\", \"x\": 2.55, \"xanchor\": \"left\", \"xref\": \"x\", \"y\": 28, \"yref\": \"y\"}, {\"align\": \"left\", \"font\": {\"color\": \"#000000\"}, \"showarrow\": false, \"text\": \"2017-09-29\", \"x\": -0.45, \"xanchor\": \"left\", \"xref\": \"x\", \"y\": 29, \"yref\": \"y\"}, {\"align\": \"left\", \"font\": {\"color\": \"#000000\"}, \"showarrow\": false, \"text\": \"54.04768668831172\", \"x\": 0.55, \"xanchor\": \"left\", \"xref\": \"x\", \"y\": 29, \"yref\": \"y\"}, {\"align\": \"left\", \"font\": {\"color\": \"#000000\"}, \"showarrow\": false, \"text\": \"1367049984\", \"x\": 1.55, \"xanchor\": \"left\", \"xref\": \"x\", \"y\": 29, \"yref\": \"y\"}, {\"align\": \"left\", \"font\": {\"color\": \"#000000\"}, \"showarrow\": false, \"text\": \"4163.07\", \"x\": 2.55, \"xanchor\": \"left\", \"xref\": \"x\", \"y\": 29, \"yref\": \"y\"}, {\"align\": \"left\", \"font\": {\"color\": \"#000000\"}, \"showarrow\": false, \"text\": \"2017-09-30\", \"x\": -0.45, \"xanchor\": \"left\", \"xref\": \"x\", \"y\": 30, \"yref\": \"y\"}, {\"align\": \"left\", \"font\": {\"color\": \"#000000\"}, \"showarrow\": false, \"text\": \"33.32747925685426\", \"x\": 0.55, \"xanchor\": \"left\", \"xref\": \"x\", \"y\": 30, \"yref\": \"y\"}, {\"align\": \"left\", \"font\": {\"color\": \"#000000\"}, \"showarrow\": false, \"text\": \"1207449984\", \"x\": 1.55, \"xanchor\": \"left\", \"xref\": \"x\", \"y\": 30, \"yref\": \"y\"}, {\"align\": \"left\", \"font\": {\"color\": \"#000000\"}, \"showarrow\": false, \"text\": \"4338.71\", \"x\": 2.55, \"xanchor\": \"left\", \"xref\": \"x\", \"y\": 30, \"yref\": \"y\"}, {\"align\": \"left\", \"font\": {\"color\": \"#000000\"}, \"showarrow\": false, \"text\": \"2017-10-01\", \"x\": -0.45, \"xanchor\": \"left\", \"xref\": \"x\", \"y\": 31, \"yref\": \"y\"}, {\"align\": \"left\", \"font\": {\"color\": \"#000000\"}, \"showarrow\": false, \"text\": \"47.53804800234494\", \"x\": 0.55, \"xanchor\": \"left\", \"xref\": \"x\", \"y\": 31, \"yref\": \"y\"}, {\"align\": \"left\", \"font\": {\"color\": \"#000000\"}, \"showarrow\": false, \"text\": \"1208210048\", \"x\": 1.55, \"xanchor\": \"left\", \"xref\": \"x\", \"y\": 31, \"yref\": \"y\"}, {\"align\": \"left\", \"font\": {\"color\": \"#000000\"}, \"showarrow\": false, \"text\": \"4403.74\", \"x\": 2.55, \"xanchor\": \"left\", \"xref\": \"x\", \"y\": 31, \"yref\": \"y\"}, {\"align\": \"left\", \"font\": {\"color\": \"#000000\"}, \"showarrow\": false, \"text\": \"2017-10-02\", \"x\": -0.45, \"xanchor\": \"left\", \"xref\": \"x\", \"y\": 32, \"yref\": \"y\"}, {\"align\": \"left\", \"font\": {\"color\": \"#000000\"}, \"showarrow\": false, \"text\": \"53.303671762265516\", \"x\": 0.55, \"xanchor\": \"left\", \"xref\": \"x\", \"y\": 32, \"yref\": \"y\"}, {\"align\": \"left\", \"font\": {\"color\": \"#000000\"}, \"showarrow\": false, \"text\": \"1431730048\", \"x\": 1.55, \"xanchor\": \"left\", \"xref\": \"x\", \"y\": 32, \"yref\": \"y\"}, {\"align\": \"left\", \"font\": {\"color\": \"#000000\"}, \"showarrow\": false, \"text\": \"4409.32\", \"x\": 2.55, \"xanchor\": \"left\", \"xref\": \"x\", \"y\": 32, \"yref\": \"y\"}, {\"align\": \"left\", \"font\": {\"color\": \"#000000\"}, \"showarrow\": false, \"text\": \"2017-10-03\", \"x\": -0.45, \"xanchor\": \"left\", \"xref\": \"x\", \"y\": 33, \"yref\": \"y\"}, {\"align\": \"left\", \"font\": {\"color\": \"#000000\"}, \"showarrow\": false, \"text\": \"44.61395399305555\", \"x\": 0.55, \"xanchor\": \"left\", \"xref\": \"x\", \"y\": 33, \"yref\": \"y\"}, {\"align\": \"left\", \"font\": {\"color\": \"#000000\"}, \"showarrow\": false, \"text\": \"1288019968\", \"x\": 1.55, \"xanchor\": \"left\", \"xref\": \"x\", \"y\": 33, \"yref\": \"y\"}, {\"align\": \"left\", \"font\": {\"color\": \"#000000\"}, \"showarrow\": false, \"text\": \"4317.48\", \"x\": 2.55, \"xanchor\": \"left\", \"xref\": \"x\", \"y\": 33, \"yref\": \"y\"}, {\"align\": \"left\", \"font\": {\"color\": \"#000000\"}, \"showarrow\": false, \"text\": \"2017-10-04\", \"x\": -0.45, \"xanchor\": \"left\", \"xref\": \"x\", \"y\": 34, \"yref\": \"y\"}, {\"align\": \"left\", \"font\": {\"color\": \"#000000\"}, \"showarrow\": false, \"text\": \"46.99523922258297\", \"x\": 0.55, \"xanchor\": \"left\", \"xref\": \"x\", \"y\": 34, \"yref\": \"y\"}, {\"align\": \"left\", \"font\": {\"color\": \"#000000\"}, \"showarrow\": false, \"text\": \"1116770048\", \"x\": 1.55, \"xanchor\": \"left\", \"xref\": \"x\", \"y\": 34, \"yref\": \"y\"}, {\"align\": \"left\", \"font\": {\"color\": \"#000000\"}, \"showarrow\": false, \"text\": \"4229.36\", \"x\": 2.55, \"xanchor\": \"left\", \"xref\": \"x\", \"y\": 34, \"yref\": \"y\"}, {\"align\": \"left\", \"font\": {\"color\": \"#000000\"}, \"showarrow\": false, \"text\": \"2017-10-05\", \"x\": -0.45, \"xanchor\": \"left\", \"xref\": \"x\", \"y\": 35, \"yref\": \"y\"}, {\"align\": \"left\", \"font\": {\"color\": \"#000000\"}, \"showarrow\": false, \"text\": \"52.85774779040402\", \"x\": 0.55, \"xanchor\": \"left\", \"xref\": \"x\", \"y\": 35, \"yref\": \"y\"}, {\"align\": \"left\", \"font\": {\"color\": \"#000000\"}, \"showarrow\": false, \"text\": \"1161769984\", \"x\": 1.55, \"xanchor\": \"left\", \"xref\": \"x\", \"y\": 35, \"yref\": \"y\"}, {\"align\": \"left\", \"font\": {\"color\": \"#000000\"}, \"showarrow\": false, \"text\": \"4328.41\", \"x\": 2.55, \"xanchor\": \"left\", \"xref\": \"x\", \"y\": 35, \"yref\": \"y\"}, {\"align\": \"left\", \"font\": {\"color\": \"#000000\"}, \"showarrow\": false, \"text\": \"2017-10-06\", \"x\": -0.45, \"xanchor\": \"left\", \"xref\": \"x\", \"y\": 36, \"yref\": \"y\"}, {\"align\": \"left\", \"font\": {\"color\": \"#000000\"}, \"showarrow\": false, \"text\": \"49.65176775943964\", \"x\": 0.55, \"xanchor\": \"left\", \"xref\": \"x\", \"y\": 36, \"yref\": \"y\"}, {\"align\": \"left\", \"font\": {\"color\": \"#000000\"}, \"showarrow\": false, \"text\": \"1069939968\", \"x\": 1.55, \"xanchor\": \"left\", \"xref\": \"x\", \"y\": 36, \"yref\": \"y\"}, {\"align\": \"left\", \"font\": {\"color\": \"#000000\"}, \"showarrow\": false, \"text\": \"4370.81\", \"x\": 2.55, \"xanchor\": \"left\", \"xref\": \"x\", \"y\": 36, \"yref\": \"y\"}, {\"align\": \"left\", \"font\": {\"color\": \"#000000\"}, \"showarrow\": false, \"text\": \"2017-10-07\", \"x\": -0.45, \"xanchor\": \"left\", \"xref\": \"x\", \"y\": 37, \"yref\": \"y\"}, {\"align\": \"left\", \"font\": {\"color\": \"#000000\"}, \"showarrow\": false, \"text\": \"39.233273245851386\", \"x\": 0.55, \"xanchor\": \"left\", \"xref\": \"x\", \"y\": 37, \"yref\": \"y\"}, {\"align\": \"left\", \"font\": {\"color\": \"#000000\"}, \"showarrow\": false, \"text\": \"906928000\", \"x\": 1.55, \"xanchor\": \"left\", \"xref\": \"x\", \"y\": 37, \"yref\": \"y\"}, {\"align\": \"left\", \"font\": {\"color\": \"#000000\"}, \"showarrow\": false, \"text\": \"4426.89\", \"x\": 2.55, \"xanchor\": \"left\", \"xref\": \"x\", \"y\": 37, \"yref\": \"y\"}, {\"align\": \"left\", \"font\": {\"color\": \"#000000\"}, \"showarrow\": false, \"text\": \"2017-10-08\", \"x\": -0.45, \"xanchor\": \"left\", \"xref\": \"x\", \"y\": 38, \"yref\": \"y\"}, {\"align\": \"left\", \"font\": {\"color\": \"#000000\"}, \"showarrow\": false, \"text\": \"45.06565479008838\", \"x\": 0.55, \"xanchor\": \"left\", \"xref\": \"x\", \"y\": 38, \"yref\": \"y\"}, {\"align\": \"left\", \"font\": {\"color\": \"#000000\"}, \"showarrow\": false, \"text\": \"1313869952\", \"x\": 1.55, \"xanchor\": \"left\", \"xref\": \"x\", \"y\": 38, \"yref\": \"y\"}, {\"align\": \"left\", \"font\": {\"color\": \"#000000\"}, \"showarrow\": false, \"text\": \"4610.48\", \"x\": 2.55, \"xanchor\": \"left\", \"xref\": \"x\", \"y\": 38, \"yref\": \"y\"}, {\"align\": \"left\", \"font\": {\"color\": \"#000000\"}, \"showarrow\": false, \"text\": \"2017-10-09\", \"x\": -0.45, \"xanchor\": \"left\", \"xref\": \"x\", \"y\": 39, \"yref\": \"y\"}, {\"align\": \"left\", \"font\": {\"color\": \"#000000\"}, \"showarrow\": false, \"text\": \"64.45839601370854\", \"x\": 0.55, \"xanchor\": \"left\", \"xref\": \"x\", \"y\": 39, \"yref\": \"y\"}, {\"align\": \"left\", \"font\": {\"color\": \"#000000\"}, \"showarrow\": false, \"text\": \"1968739968\", \"x\": 1.55, \"xanchor\": \"left\", \"xref\": \"x\", \"y\": 39, \"yref\": \"y\"}, {\"align\": \"left\", \"font\": {\"color\": \"#000000\"}, \"showarrow\": false, \"text\": \"4772.02\", \"x\": 2.55, \"xanchor\": \"left\", \"xref\": \"x\", \"y\": 39, \"yref\": \"y\"}, {\"align\": \"left\", \"font\": {\"color\": \"#000000\"}, \"showarrow\": false, \"text\": \"2017-10-10\", \"x\": -0.45, \"xanchor\": \"left\", \"xref\": \"x\", \"y\": 40, \"yref\": \"y\"}, {\"align\": \"left\", \"font\": {\"color\": \"#000000\"}, \"showarrow\": false, \"text\": \"64.05344494047618\", \"x\": 0.55, \"xanchor\": \"left\", \"xref\": \"x\", \"y\": 40, \"yref\": \"y\"}, {\"align\": \"left\", \"font\": {\"color\": \"#000000\"}, \"showarrow\": false, \"text\": \"1597139968\", \"x\": 1.55, \"xanchor\": \"left\", \"xref\": \"x\", \"y\": 40, \"yref\": \"y\"}, {\"align\": \"left\", \"font\": {\"color\": \"#000000\"}, \"showarrow\": false, \"text\": \"4781.99\", \"x\": 2.55, \"xanchor\": \"left\", \"xref\": \"x\", \"y\": 40, \"yref\": \"y\"}, {\"align\": \"left\", \"font\": {\"color\": \"#000000\"}, \"showarrow\": false, \"text\": \"2017-10-11\", \"x\": -0.45, \"xanchor\": \"left\", \"xref\": \"x\", \"y\": 41, \"yref\": \"y\"}, {\"align\": \"left\", \"font\": {\"color\": \"#000000\"}, \"showarrow\": false, \"text\": \"49.029935966810974\", \"x\": 0.55, \"xanchor\": \"left\", \"xref\": \"x\", \"y\": 41, \"yref\": \"y\"}, {\"align\": \"left\", \"font\": {\"color\": \"#000000\"}, \"showarrow\": false, \"text\": \"1222279936\", \"x\": 1.55, \"xanchor\": \"left\", \"xref\": \"x\", \"y\": 41, \"yref\": \"y\"}, {\"align\": \"left\", \"font\": {\"color\": \"#000000\"}, \"showarrow\": false, \"text\": \"4826.48\", \"x\": 2.55, \"xanchor\": \"left\", \"xref\": \"x\", \"y\": 41, \"yref\": \"y\"}, {\"align\": \"left\", \"font\": {\"color\": \"#000000\"}, \"showarrow\": false, \"text\": \"2017-10-12\", \"x\": -0.45, \"xanchor\": \"left\", \"xref\": \"x\", \"y\": 42, \"yref\": \"y\"}, {\"align\": \"left\", \"font\": {\"color\": \"#000000\"}, \"showarrow\": false, \"text\": \"69.14563292899224\", \"x\": 0.55, \"xanchor\": \"left\", \"xref\": \"x\", \"y\": 42, \"yref\": \"y\"}, {\"align\": \"left\", \"font\": {\"color\": \"#000000\"}, \"showarrow\": false, \"text\": \"2791610112\", \"x\": 1.55, \"xanchor\": \"left\", \"xref\": \"x\", \"y\": 42, \"yref\": \"y\"}, {\"align\": \"left\", \"font\": {\"color\": \"#000000\"}, \"showarrow\": false, \"text\": \"5446.91\", \"x\": 2.55, \"xanchor\": \"left\", \"xref\": \"x\", \"y\": 42, \"yref\": \"y\"}, {\"align\": \"left\", \"font\": {\"color\": \"#000000\"}, \"showarrow\": false, \"text\": \"2017-10-13\", \"x\": -0.45, \"xanchor\": \"left\", \"xref\": \"x\", \"y\": 43, \"yref\": \"y\"}, {\"align\": \"left\", \"font\": {\"color\": \"#000000\"}, \"showarrow\": false, \"text\": \"67.38291578213448\", \"x\": 0.55, \"xanchor\": \"left\", \"xref\": \"x\", \"y\": 43, \"yref\": \"y\"}, {\"align\": \"left\", \"font\": {\"color\": \"#000000\"}, \"showarrow\": false, \"text\": \"3615480064\", \"x\": 1.55, \"xanchor\": \"left\", \"xref\": \"x\", \"y\": 43, \"yref\": \"y\"}, {\"align\": \"left\", \"font\": {\"color\": \"#000000\"}, \"showarrow\": false, \"text\": \"5647.21\", \"x\": 2.55, \"xanchor\": \"left\", \"xref\": \"x\", \"y\": 43, \"yref\": \"y\"}, {\"align\": \"left\", \"font\": {\"color\": \"#000000\"}, \"showarrow\": false, \"text\": \"2017-10-14\", \"x\": -0.45, \"xanchor\": \"left\", \"xref\": \"x\", \"y\": 44, \"yref\": \"y\"}, {\"align\": \"left\", \"font\": {\"color\": \"#000000\"}, \"showarrow\": false, \"text\": \"40.39778632680975\", \"x\": 0.55, \"xanchor\": \"left\", \"xref\": \"x\", \"y\": 44, \"yref\": \"y\"}, {\"align\": \"left\", \"font\": {\"color\": \"#000000\"}, \"showarrow\": false, \"text\": \"1669030016\", \"x\": 1.55, \"xanchor\": \"left\", \"xref\": \"x\", \"y\": 44, \"yref\": \"y\"}, {\"align\": \"left\", \"font\": {\"color\": \"#000000\"}, \"showarrow\": false, \"text\": \"5831.79\", \"x\": 2.55, \"xanchor\": \"left\", \"xref\": \"x\", \"y\": 44, \"yref\": \"y\"}, {\"align\": \"left\", \"font\": {\"color\": \"#000000\"}, \"showarrow\": false, \"text\": \"2017-10-15\", \"x\": -0.45, \"xanchor\": \"left\", \"xref\": \"x\", \"y\": 45, \"yref\": \"y\"}, {\"align\": \"left\", \"font\": {\"color\": \"#000000\"}, \"showarrow\": false, \"text\": \"42.93939138407888\", \"x\": 0.55, \"xanchor\": \"left\", \"xref\": \"x\", \"y\": 45, \"yref\": \"y\"}, {\"align\": \"left\", \"font\": {\"color\": \"#000000\"}, \"showarrow\": false, \"text\": \"1976039936\", \"x\": 1.55, \"xanchor\": \"left\", \"xref\": \"x\", \"y\": 45, \"yref\": \"y\"}, {\"align\": \"left\", \"font\": {\"color\": \"#000000\"}, \"showarrow\": false, \"text\": \"5678.19\", \"x\": 2.55, \"xanchor\": \"left\", \"xref\": \"x\", \"y\": 45, \"yref\": \"y\"}, {\"align\": \"left\", \"font\": {\"color\": \"#000000\"}, \"showarrow\": false, \"text\": \"2017-10-16\", \"x\": -0.45, \"xanchor\": \"left\", \"xref\": \"x\", \"y\": 46, \"yref\": \"y\"}, {\"align\": \"left\", \"font\": {\"color\": \"#000000\"}, \"showarrow\": false, \"text\": \"61.87198006854253\", \"x\": 0.55, \"xanchor\": \"left\", \"xref\": \"x\", \"y\": 46, \"yref\": \"y\"}, {\"align\": \"left\", \"font\": {\"color\": \"#000000\"}, \"showarrow\": false, \"text\": \"2008070016\", \"x\": 1.55, \"xanchor\": \"left\", \"xref\": \"x\", \"y\": 46, \"yref\": \"y\"}, {\"align\": \"left\", \"font\": {\"color\": \"#000000\"}, \"showarrow\": false, \"text\": \"5725.59\", \"x\": 2.55, \"xanchor\": \"left\", \"xref\": \"x\", \"y\": 46, \"yref\": \"y\"}, {\"align\": \"left\", \"font\": {\"color\": \"#000000\"}, \"showarrow\": false, \"text\": \"2017-10-17\", \"x\": -0.45, \"xanchor\": \"left\", \"xref\": \"x\", \"y\": 47, \"yref\": \"y\"}, {\"align\": \"left\", \"font\": {\"color\": \"#000000\"}, \"showarrow\": false, \"text\": \"57.585856782106816\", \"x\": 0.55, \"xanchor\": \"left\", \"xref\": \"x\", \"y\": 47, \"yref\": \"y\"}, {\"align\": \"left\", \"font\": {\"color\": \"#000000\"}, \"showarrow\": false, \"text\": \"1821570048\", \"x\": 1.55, \"xanchor\": \"left\", \"xref\": \"x\", \"y\": 47, \"yref\": \"y\"}, {\"align\": \"left\", \"font\": {\"color\": \"#000000\"}, \"showarrow\": false, \"text\": \"5605.51\", \"x\": 2.55, \"xanchor\": \"left\", \"xref\": \"x\", \"y\": 47, \"yref\": \"y\"}, {\"align\": \"left\", \"font\": {\"color\": \"#000000\"}, \"showarrow\": false, \"text\": \"2017-10-18\", \"x\": -0.45, \"xanchor\": \"left\", \"xref\": \"x\", \"y\": 48, \"yref\": \"y\"}, {\"align\": \"left\", \"font\": {\"color\": \"#000000\"}, \"showarrow\": false, \"text\": \"61.17085682532166\", \"x\": 0.55, \"xanchor\": \"left\", \"xref\": \"x\", \"y\": 48, \"yref\": \"y\"}, {\"align\": \"left\", \"font\": {\"color\": \"#000000\"}, \"showarrow\": false, \"text\": \"2399269888\", \"x\": 1.55, \"xanchor\": \"left\", \"xref\": \"x\", \"y\": 48, \"yref\": \"y\"}, {\"align\": \"left\", \"font\": {\"color\": \"#000000\"}, \"showarrow\": false, \"text\": \"5590.69\", \"x\": 2.55, \"xanchor\": \"left\", \"xref\": \"x\", \"y\": 48, \"yref\": \"y\"}, {\"align\": \"left\", \"font\": {\"color\": \"#000000\"}, \"showarrow\": false, \"text\": \"2017-10-19\", \"x\": -0.45, \"xanchor\": \"left\", \"xref\": \"x\", \"y\": 49, \"yref\": \"y\"}, {\"align\": \"left\", \"font\": {\"color\": \"#000000\"}, \"showarrow\": false, \"text\": \"64.9031809163059\", \"x\": 0.55, \"xanchor\": \"left\", \"xref\": \"x\", \"y\": 49, \"yref\": \"y\"}, {\"align\": \"left\", \"font\": {\"color\": \"#000000\"}, \"showarrow\": false, \"text\": \"1780540032\", \"x\": 1.55, \"xanchor\": \"left\", \"xref\": \"x\", \"y\": 49, \"yref\": \"y\"}, {\"align\": \"left\", \"font\": {\"color\": \"#000000\"}, \"showarrow\": false, \"text\": \"5708.52\", \"x\": 2.55, \"xanchor\": \"left\", \"xref\": \"x\", \"y\": 49, \"yref\": \"y\"}, {\"align\": \"left\", \"font\": {\"color\": \"#000000\"}, \"showarrow\": false, \"text\": \"2017-10-20\", \"x\": -0.45, \"xanchor\": \"left\", \"xref\": \"x\", \"y\": 50, \"yref\": \"y\"}, {\"align\": \"left\", \"font\": {\"color\": \"#000000\"}, \"showarrow\": false, \"text\": \"61.83325431397312\", \"x\": 0.55, \"xanchor\": \"left\", \"xref\": \"x\", \"y\": 50, \"yref\": \"y\"}, {\"align\": \"left\", \"font\": {\"color\": \"#000000\"}, \"showarrow\": false, \"text\": \"2354429952\", \"x\": 1.55, \"xanchor\": \"left\", \"xref\": \"x\", \"y\": 50, \"yref\": \"y\"}, {\"align\": \"left\", \"font\": {\"color\": \"#000000\"}, \"showarrow\": false, \"text\": \"6011.45\", \"x\": 2.55, \"xanchor\": \"left\", \"xref\": \"x\", \"y\": 50, \"yref\": \"y\"}, {\"align\": \"left\", \"font\": {\"color\": \"#000000\"}, \"showarrow\": false, \"text\": \"2017-10-21\", \"x\": -0.45, \"xanchor\": \"left\", \"xref\": \"x\", \"y\": 51, \"yref\": \"y\"}, {\"align\": \"left\", \"font\": {\"color\": \"#000000\"}, \"showarrow\": false, \"text\": \"62.9805841149591\", \"x\": 0.55, \"xanchor\": \"left\", \"xref\": \"x\", \"y\": 51, \"yref\": \"y\"}, {\"align\": \"left\", \"font\": {\"color\": \"#000000\"}, \"showarrow\": false, \"text\": \"2207099904\", \"x\": 1.55, \"xanchor\": \"left\", \"xref\": \"x\", \"y\": 51, \"yref\": \"y\"}, {\"align\": \"left\", \"font\": {\"color\": \"#000000\"}, \"showarrow\": false, \"text\": \"6031.60\", \"x\": 2.55, \"xanchor\": \"left\", \"xref\": \"x\", \"y\": 51, \"yref\": \"y\"}, {\"align\": \"left\", \"font\": {\"color\": \"#000000\"}, \"showarrow\": false, \"text\": \"2017-10-22\", \"x\": -0.45, \"xanchor\": \"left\", \"xref\": \"x\", \"y\": 52, \"yref\": \"y\"}, {\"align\": \"left\", \"font\": {\"color\": \"#000000\"}, \"showarrow\": false, \"text\": \"41.22259750593734\", \"x\": 0.55, \"xanchor\": \"left\", \"xref\": \"x\", \"y\": 52, \"yref\": \"y\"}, {\"align\": \"left\", \"font\": {\"color\": \"#000000\"}, \"showarrow\": false, \"text\": \"2034630016\", \"x\": 1.55, \"xanchor\": \"left\", \"xref\": \"x\", \"y\": 52, \"yref\": \"y\"}, {\"align\": \"left\", \"font\": {\"color\": \"#000000\"}, \"showarrow\": false, \"text\": \"6008.42\", \"x\": 2.55, \"xanchor\": \"left\", \"xref\": \"x\", \"y\": 52, \"yref\": \"y\"}, {\"align\": \"left\", \"font\": {\"color\": \"#000000\"}, \"showarrow\": false, \"text\": \"2017-10-23\", \"x\": -0.45, \"xanchor\": \"left\", \"xref\": \"x\", \"y\": 53, \"yref\": \"y\"}, {\"align\": \"left\", \"font\": {\"color\": \"#000000\"}, \"showarrow\": false, \"text\": \"57.8168929623617\", \"x\": 0.55, \"xanchor\": \"left\", \"xref\": \"x\", \"y\": 53, \"yref\": \"y\"}, {\"align\": \"left\", \"font\": {\"color\": \"#000000\"}, \"showarrow\": false, \"text\": \"2401840128\", \"x\": 1.55, \"xanchor\": \"left\", \"xref\": \"x\", \"y\": 53, \"yref\": \"y\"}, {\"align\": \"left\", \"font\": {\"color\": \"#000000\"}, \"showarrow\": false, \"text\": \"5930.32\", \"x\": 2.55, \"xanchor\": \"left\", \"xref\": \"x\", \"y\": 53, \"yref\": \"y\"}, {\"align\": \"left\", \"font\": {\"color\": \"#000000\"}, \"showarrow\": false, \"text\": \"2017-10-24\", \"x\": -0.45, \"xanchor\": \"left\", \"xref\": \"x\", \"y\": 54, \"yref\": \"y\"}, {\"align\": \"left\", \"font\": {\"color\": \"#000000\"}, \"showarrow\": false, \"text\": \"70.14401393458658\", \"x\": 0.55, \"xanchor\": \"left\", \"xref\": \"x\", \"y\": 54, \"yref\": \"y\"}, {\"align\": \"left\", \"font\": {\"color\": \"#000000\"}, \"showarrow\": false, \"text\": \"2735699968\", \"x\": 1.55, \"xanchor\": \"left\", \"xref\": \"x\", \"y\": 54, \"yref\": \"y\"}, {\"align\": \"left\", \"font\": {\"color\": \"#000000\"}, \"showarrow\": false, \"text\": \"5526.64\", \"x\": 2.55, \"xanchor\": \"left\", \"xref\": \"x\", \"y\": 54, \"yref\": \"y\"}, {\"align\": \"left\", \"font\": {\"color\": \"#000000\"}, \"showarrow\": false, \"text\": \"2017-10-25\", \"x\": -0.45, \"xanchor\": \"left\", \"xref\": \"x\", \"y\": 55, \"yref\": \"y\"}, {\"align\": \"left\", \"font\": {\"color\": \"#000000\"}, \"showarrow\": false, \"text\": \"68.57515346921599\", \"x\": 0.55, \"xanchor\": \"left\", \"xref\": \"x\", \"y\": 55, \"yref\": \"y\"}, {\"align\": \"left\", \"font\": {\"color\": \"#000000\"}, \"showarrow\": false, \"text\": \"1966989952\", \"x\": 1.55, \"xanchor\": \"left\", \"xref\": \"x\", \"y\": 55, \"yref\": \"y\"}, {\"align\": \"left\", \"font\": {\"color\": \"#000000\"}, \"showarrow\": false, \"text\": \"5750.80\", \"x\": 2.55, \"xanchor\": \"left\", \"xref\": \"x\", \"y\": 55, \"yref\": \"y\"}, {\"align\": \"left\", \"font\": {\"color\": \"#000000\"}, \"showarrow\": false, \"text\": \"2017-10-26\", \"x\": -0.45, \"xanchor\": \"left\", \"xref\": \"x\", \"y\": 56, \"yref\": \"y\"}, {\"align\": \"left\", \"font\": {\"color\": \"#000000\"}, \"showarrow\": false, \"text\": \"65.96972327441078\", \"x\": 0.55, \"xanchor\": \"left\", \"xref\": \"x\", \"y\": 56, \"yref\": \"y\"}, {\"align\": \"left\", \"font\": {\"color\": \"#000000\"}, \"showarrow\": false, \"text\": \"1905040000\", \"x\": 1.55, \"xanchor\": \"left\", \"xref\": \"x\", \"y\": 56, \"yref\": \"y\"}, {\"align\": \"left\", \"font\": {\"color\": \"#000000\"}, \"showarrow\": false, \"text\": \"5904.83\", \"x\": 2.55, \"xanchor\": \"left\", \"xref\": \"x\", \"y\": 56, \"yref\": \"y\"}, {\"align\": \"left\", \"font\": {\"color\": \"#000000\"}, \"showarrow\": false, \"text\": \"2017-10-27\", \"x\": -0.45, \"xanchor\": \"left\", \"xref\": \"x\", \"y\": 57, \"yref\": \"y\"}, {\"align\": \"left\", \"font\": {\"color\": \"#000000\"}, \"showarrow\": false, \"text\": \"53.58439078282832\", \"x\": 0.55, \"xanchor\": \"left\", \"xref\": \"x\", \"y\": 57, \"yref\": \"y\"}, {\"align\": \"left\", \"font\": {\"color\": \"#000000\"}, \"showarrow\": false, \"text\": \"1710130048\", \"x\": 1.55, \"xanchor\": \"left\", \"xref\": \"x\", \"y\": 57, \"yref\": \"y\"}, {\"align\": \"left\", \"font\": {\"color\": \"#000000\"}, \"showarrow\": false, \"text\": \"5780.90\", \"x\": 2.55, \"xanchor\": \"left\", \"xref\": \"x\", \"y\": 57, \"yref\": \"y\"}, {\"align\": \"left\", \"font\": {\"color\": \"#000000\"}, \"showarrow\": false, \"text\": \"2017-10-28\", \"x\": -0.45, \"xanchor\": \"left\", \"xref\": \"x\", \"y\": 58, \"yref\": \"y\"}, {\"align\": \"left\", \"font\": {\"color\": \"#000000\"}, \"showarrow\": false, \"text\": \"40.44496268488456\", \"x\": 0.55, \"xanchor\": \"left\", \"xref\": \"x\", \"y\": 58, \"yref\": \"y\"}, {\"align\": \"left\", \"font\": {\"color\": \"#000000\"}, \"showarrow\": false, \"text\": \"1403920000\", \"x\": 1.55, \"xanchor\": \"left\", \"xref\": \"x\", \"y\": 58, \"yref\": \"y\"}, {\"align\": \"left\", \"font\": {\"color\": \"#000000\"}, \"showarrow\": false, \"text\": \"5753.09\", \"x\": 2.55, \"xanchor\": \"left\", \"xref\": \"x\", \"y\": 58, \"yref\": \"y\"}, {\"align\": \"left\", \"font\": {\"color\": \"#000000\"}, \"showarrow\": false, \"text\": \"2017-10-29\", \"x\": -0.45, \"xanchor\": \"left\", \"xref\": \"x\", \"y\": 59, \"yref\": \"y\"}, {\"align\": \"left\", \"font\": {\"color\": \"#000000\"}, \"showarrow\": false, \"text\": \"48.928504537129534\", \"x\": 0.55, \"xanchor\": \"left\", \"xref\": \"x\", \"y\": 59, \"yref\": \"y\"}, {\"align\": \"left\", \"font\": {\"color\": \"#000000\"}, \"showarrow\": false, \"text\": \"2859040000\", \"x\": 1.55, \"xanchor\": \"left\", \"xref\": \"x\", \"y\": 59, \"yref\": \"y\"}, {\"align\": \"left\", \"font\": {\"color\": \"#000000\"}, \"showarrow\": false, \"text\": \"6153.85\", \"x\": 2.55, \"xanchor\": \"left\", \"xref\": \"x\", \"y\": 59, \"yref\": \"y\"}, {\"align\": \"left\", \"font\": {\"color\": \"#000000\"}, \"showarrow\": false, \"text\": \"2017-10-30\", \"x\": -0.45, \"xanchor\": \"left\", \"xref\": \"x\", \"y\": 60, \"yref\": \"y\"}, {\"align\": \"left\", \"font\": {\"color\": \"#000000\"}, \"showarrow\": false, \"text\": \"62.66725360750357\", \"x\": 0.55, \"xanchor\": \"left\", \"xref\": \"x\", \"y\": 60, \"yref\": \"y\"}, {\"align\": \"left\", \"font\": {\"color\": \"#000000\"}, \"showarrow\": false, \"text\": \"1772150016\", \"x\": 1.55, \"xanchor\": \"left\", \"xref\": \"x\", \"y\": 60, \"yref\": \"y\"}, {\"align\": \"left\", \"font\": {\"color\": \"#000000\"}, \"showarrow\": false, \"text\": \"6130.53\", \"x\": 2.55, \"xanchor\": \"left\", \"xref\": \"x\", \"y\": 60, \"yref\": \"y\"}, {\"align\": \"left\", \"font\": {\"color\": \"#000000\"}, \"showarrow\": false, \"text\": \"2017-10-31\", \"x\": -0.45, \"xanchor\": \"left\", \"xref\": \"x\", \"y\": 61, \"yref\": \"y\"}, {\"align\": \"left\", \"font\": {\"color\": \"#000000\"}, \"showarrow\": false, \"text\": \"76.58504479316979\", \"x\": 0.55, \"xanchor\": \"left\", \"xref\": \"x\", \"y\": 61, \"yref\": \"y\"}, {\"align\": \"left\", \"font\": {\"color\": \"#000000\"}, \"showarrow\": false, \"text\": \"2311379968\", \"x\": 1.55, \"xanchor\": \"left\", \"xref\": \"x\", \"y\": 61, \"yref\": \"y\"}, {\"align\": \"left\", \"font\": {\"color\": \"#000000\"}, \"showarrow\": false, \"text\": \"6468.40\", \"x\": 2.55, \"xanchor\": \"left\", \"xref\": \"x\", \"y\": 61, \"yref\": \"y\"}, {\"align\": \"left\", \"font\": {\"color\": \"#000000\"}, \"showarrow\": false, \"text\": \"2017-11-01\", \"x\": -0.45, \"xanchor\": \"left\", \"xref\": \"x\", \"y\": 62, \"yref\": \"y\"}, {\"align\": \"left\", \"font\": {\"color\": \"#000000\"}, \"showarrow\": false, \"text\": \"68.9412382756132\", \"x\": 0.55, \"xanchor\": \"left\", \"xref\": \"x\", \"y\": 62, \"yref\": \"y\"}, {\"align\": \"left\", \"font\": {\"color\": \"#000000\"}, \"showarrow\": false, \"text\": \"2870320128\", \"x\": 1.55, \"xanchor\": \"left\", \"xref\": \"x\", \"y\": 62, \"yref\": \"y\"}, {\"align\": \"left\", \"font\": {\"color\": \"#000000\"}, \"showarrow\": false, \"text\": \"6767.31\", \"x\": 2.55, \"xanchor\": \"left\", \"xref\": \"x\", \"y\": 62, \"yref\": \"y\"}, {\"align\": \"left\", \"font\": {\"color\": \"#000000\"}, \"showarrow\": false, \"text\": \"2017-11-02\", \"x\": -0.45, \"xanchor\": \"left\", \"xref\": \"x\", \"y\": 63, \"yref\": \"y\"}, {\"align\": \"left\", \"font\": {\"color\": \"#000000\"}, \"showarrow\": false, \"text\": \"66.62065593434349\", \"x\": 0.55, \"xanchor\": \"left\", \"xref\": \"x\", \"y\": 63, \"yref\": \"y\"}, {\"align\": \"left\", \"font\": {\"color\": \"#000000\"}, \"showarrow\": false, \"text\": \"4653770240\", \"x\": 1.55, \"xanchor\": \"left\", \"xref\": \"x\", \"y\": 63, \"yref\": \"y\"}, {\"align\": \"left\", \"font\": {\"color\": \"#000000\"}, \"showarrow\": false, \"text\": \"7078.50\", \"x\": 2.55, \"xanchor\": \"left\", \"xref\": \"x\", \"y\": 63, \"yref\": \"y\"}, {\"align\": \"left\", \"font\": {\"color\": \"#000000\"}, \"showarrow\": false, \"text\": \"2017-11-03\", \"x\": -0.45, \"xanchor\": \"left\", \"xref\": \"x\", \"y\": 64, \"yref\": \"y\"}, {\"align\": \"left\", \"font\": {\"color\": \"#000000\"}, \"showarrow\": false, \"text\": \"80.82874253956035\", \"x\": 0.55, \"xanchor\": \"left\", \"xref\": \"x\", \"y\": 64, \"yref\": \"y\"}, {\"align\": \"left\", \"font\": {\"color\": \"#000000\"}, \"showarrow\": false, \"text\": \"3369860096\", \"x\": 1.55, \"xanchor\": \"left\", \"xref\": \"x\", \"y\": 64, \"yref\": \"y\"}, {\"align\": \"left\", \"font\": {\"color\": \"#000000\"}, \"showarrow\": false, \"text\": \"7207.76\", \"x\": 2.55, \"xanchor\": \"left\", \"xref\": \"x\", \"y\": 64, \"yref\": \"y\"}, {\"align\": \"left\", \"font\": {\"color\": \"#000000\"}, \"showarrow\": false, \"text\": \"2017-11-04\", \"x\": -0.45, \"xanchor\": \"left\", \"xref\": \"x\", \"y\": 65, \"yref\": \"y\"}, {\"align\": \"left\", \"font\": {\"color\": \"#000000\"}, \"showarrow\": false, \"text\": \"56.06653724747473\", \"x\": 0.55, \"xanchor\": \"left\", \"xref\": \"x\", \"y\": 65, \"yref\": \"y\"}, {\"align\": \"left\", \"font\": {\"color\": \"#000000\"}, \"showarrow\": false, \"text\": \"2483800064\", \"x\": 1.55, \"xanchor\": \"left\", \"xref\": \"x\", \"y\": 65, \"yref\": \"y\"}, {\"align\": \"left\", \"font\": {\"color\": \"#000000\"}, \"showarrow\": false, \"text\": \"7379.95\", \"x\": 2.55, \"xanchor\": \"left\", \"xref\": \"x\", \"y\": 65, \"yref\": \"y\"}, {\"align\": \"left\", \"font\": {\"color\": \"#000000\"}, \"showarrow\": false, \"text\": \"2017-11-05\", \"x\": -0.45, \"xanchor\": \"left\", \"xref\": \"x\", \"y\": 66, \"yref\": \"y\"}, {\"align\": \"left\", \"font\": {\"color\": \"#000000\"}, \"showarrow\": false, \"text\": \"50.97287406806151\", \"x\": 0.55, \"xanchor\": \"left\", \"xref\": \"x\", \"y\": 66, \"yref\": \"y\"}, {\"align\": \"left\", \"font\": {\"color\": \"#000000\"}, \"showarrow\": false, \"text\": \"2380410112\", \"x\": 1.55, \"xanchor\": \"left\", \"xref\": \"x\", \"y\": 66, \"yref\": \"y\"}, {\"align\": \"left\", \"font\": {\"color\": \"#000000\"}, \"showarrow\": false, \"text\": \"7407.41\", \"x\": 2.55, \"xanchor\": \"left\", \"xref\": \"x\", \"y\": 66, \"yref\": \"y\"}, {\"align\": \"left\", \"font\": {\"color\": \"#000000\"}, \"showarrow\": false, \"text\": \"2017-11-06\", \"x\": -0.45, \"xanchor\": \"left\", \"xref\": \"x\", \"y\": 67, \"yref\": \"y\"}, {\"align\": \"left\", \"font\": {\"color\": \"#000000\"}, \"showarrow\": false, \"text\": \"55.187238413041996\", \"x\": 0.55, \"xanchor\": \"left\", \"xref\": \"x\", \"y\": 67, \"yref\": \"y\"}, {\"align\": \"left\", \"font\": {\"color\": \"#000000\"}, \"showarrow\": false, \"text\": \"3111899904\", \"x\": 1.55, \"xanchor\": \"left\", \"xref\": \"x\", \"y\": 67, \"yref\": \"y\"}, {\"align\": \"left\", \"font\": {\"color\": \"#000000\"}, \"showarrow\": false, \"text\": \"7022.76\", \"x\": 2.55, \"xanchor\": \"left\", \"xref\": \"x\", \"y\": 67, \"yref\": \"y\"}, {\"align\": \"left\", \"font\": {\"color\": \"#000000\"}, \"showarrow\": false, \"text\": \"2017-11-07\", \"x\": -0.45, \"xanchor\": \"left\", \"xref\": \"x\", \"y\": 68, \"yref\": \"y\"}, {\"align\": \"left\", \"font\": {\"color\": \"#000000\"}, \"showarrow\": false, \"text\": \"66.26171888903922\", \"x\": 0.55, \"xanchor\": \"left\", \"xref\": \"x\", \"y\": 68, \"yref\": \"y\"}, {\"align\": \"left\", \"font\": {\"color\": \"#000000\"}, \"showarrow\": false, \"text\": \"2326340096\", \"x\": 1.55, \"xanchor\": \"left\", \"xref\": \"x\", \"y\": 68, \"yref\": \"y\"}, {\"align\": \"left\", \"font\": {\"color\": \"#000000\"}, \"showarrow\": false, \"text\": \"7144.38\", \"x\": 2.55, \"xanchor\": \"left\", \"xref\": \"x\", \"y\": 68, \"yref\": \"y\"}, {\"align\": \"left\", \"font\": {\"color\": \"#000000\"}, \"showarrow\": false, \"text\": \"2017-11-08\", \"x\": -0.45, \"xanchor\": \"left\", \"xref\": \"x\", \"y\": 69, \"yref\": \"y\"}, {\"align\": \"left\", \"font\": {\"color\": \"#000000\"}, \"showarrow\": false, \"text\": \"101.87834161866388\", \"x\": 0.55, \"xanchor\": \"left\", \"xref\": \"x\", \"y\": 69, \"yref\": \"y\"}, {\"align\": \"left\", \"font\": {\"color\": \"#000000\"}, \"showarrow\": false, \"text\": \"4602200064\", \"x\": 1.55, \"xanchor\": \"left\", \"xref\": \"x\", \"y\": 69, \"yref\": \"y\"}, {\"align\": \"left\", \"font\": {\"color\": \"#000000\"}, \"showarrow\": false, \"text\": \"7459.69\", \"x\": 2.55, \"xanchor\": \"left\", \"xref\": \"x\", \"y\": 69, \"yref\": \"y\"}, {\"align\": \"left\", \"font\": {\"color\": \"#000000\"}, \"showarrow\": false, \"text\": \"2017-11-09\", \"x\": -0.45, \"xanchor\": \"left\", \"xref\": \"x\", \"y\": 70, \"yref\": \"y\"}, {\"align\": \"left\", \"font\": {\"color\": \"#000000\"}, \"showarrow\": false, \"text\": \"68.17436293105042\", \"x\": 0.55, \"xanchor\": \"left\", \"xref\": \"x\", \"y\": 70, \"yref\": \"y\"}, {\"align\": \"left\", \"font\": {\"color\": \"#000000\"}, \"showarrow\": false, \"text\": \"3226249984\", \"x\": 1.55, \"xanchor\": \"left\", \"xref\": \"x\", \"y\": 70, \"yref\": \"y\"}, {\"align\": \"left\", \"font\": {\"color\": \"#000000\"}, \"showarrow\": false, \"text\": \"7143.58\", \"x\": 2.55, \"xanchor\": \"left\", \"xref\": \"x\", \"y\": 70, \"yref\": \"y\"}, {\"align\": \"left\", \"font\": {\"color\": \"#000000\"}, \"showarrow\": false, \"text\": \"2017-11-10\", \"x\": -0.45, \"xanchor\": \"left\", \"xref\": \"x\", \"y\": 71, \"yref\": \"y\"}, {\"align\": \"left\", \"font\": {\"color\": \"#000000\"}, \"showarrow\": false, \"text\": \"75.20613068181805\", \"x\": 0.55, \"xanchor\": \"left\", \"xref\": \"x\", \"y\": 71, \"yref\": \"y\"}, {\"align\": \"left\", \"font\": {\"color\": \"#000000\"}, \"showarrow\": false, \"text\": \"5208249856\", \"x\": 1.55, \"xanchor\": \"left\", \"xref\": \"x\", \"y\": 71, \"yref\": \"y\"}, {\"align\": \"left\", \"font\": {\"color\": \"#000000\"}, \"showarrow\": false, \"text\": \"6618.14\", \"x\": 2.55, \"xanchor\": \"left\", \"xref\": \"x\", \"y\": 71, \"yref\": \"y\"}, {\"align\": \"left\", \"font\": {\"color\": \"#000000\"}, \"showarrow\": false, \"text\": \"2017-11-11\", \"x\": -0.45, \"xanchor\": \"left\", \"xref\": \"x\", \"y\": 72, \"yref\": \"y\"}, {\"align\": \"left\", \"font\": {\"color\": \"#000000\"}, \"showarrow\": false, \"text\": \"65.08762490310195\", \"x\": 0.55, \"xanchor\": \"left\", \"xref\": \"x\", \"y\": 72, \"yref\": \"y\"}, {\"align\": \"left\", \"font\": {\"color\": \"#000000\"}, \"showarrow\": false, \"text\": \"4908680192\", \"x\": 1.55, \"xanchor\": \"left\", \"xref\": \"x\", \"y\": 72, \"yref\": \"y\"}, {\"align\": \"left\", \"font\": {\"color\": \"#000000\"}, \"showarrow\": false, \"text\": \"6357.60\", \"x\": 2.55, \"xanchor\": \"left\", \"xref\": \"x\", \"y\": 72, \"yref\": \"y\"}, {\"align\": \"left\", \"font\": {\"color\": \"#000000\"}, \"showarrow\": false, \"text\": \"2017-11-12\", \"x\": -0.45, \"xanchor\": \"left\", \"xref\": \"x\", \"y\": 73, \"yref\": \"y\"}, {\"align\": \"left\", \"font\": {\"color\": \"#000000\"}, \"showarrow\": false, \"text\": \"69.47252675730356\", \"x\": 0.55, \"xanchor\": \"left\", \"xref\": \"x\", \"y\": 73, \"yref\": \"y\"}, {\"align\": \"left\", \"font\": {\"color\": \"#000000\"}, \"showarrow\": false, \"text\": \"8957349888\", \"x\": 1.55, \"xanchor\": \"left\", \"xref\": \"x\", \"y\": 73, \"yref\": \"y\"}, {\"align\": \"left\", \"font\": {\"color\": \"#000000\"}, \"showarrow\": false, \"text\": \"5950.07\", \"x\": 2.55, \"xanchor\": \"left\", \"xref\": \"x\", \"y\": 73, \"yref\": \"y\"}, {\"align\": \"left\", \"font\": {\"color\": \"#000000\"}, \"showarrow\": false, \"text\": \"2017-11-13\", \"x\": -0.45, \"xanchor\": \"left\", \"xref\": \"x\", \"y\": 74, \"yref\": \"y\"}, {\"align\": \"left\", \"font\": {\"color\": \"#000000\"}, \"showarrow\": false, \"text\": \"70.9659491041366\", \"x\": 0.55, \"xanchor\": \"left\", \"xref\": \"x\", \"y\": 74, \"yref\": \"y\"}, {\"align\": \"left\", \"font\": {\"color\": \"#000000\"}, \"showarrow\": false, \"text\": \"6263249920\", \"x\": 1.55, \"xanchor\": \"left\", \"xref\": \"x\", \"y\": 74, \"yref\": \"y\"}, {\"align\": \"left\", \"font\": {\"color\": \"#000000\"}, \"showarrow\": false, \"text\": \"6559.49\", \"x\": 2.55, \"xanchor\": \"left\", \"xref\": \"x\", \"y\": 74, \"yref\": \"y\"}, {\"align\": \"left\", \"font\": {\"color\": \"#000000\"}, \"showarrow\": false, \"text\": \"2017-11-14\", \"x\": -0.45, \"xanchor\": \"left\", \"xref\": \"x\", \"y\": 75, \"yref\": \"y\"}, {\"align\": \"left\", \"font\": {\"color\": \"#000000\"}, \"showarrow\": false, \"text\": \"84.93580048840873\", \"x\": 0.55, \"xanchor\": \"left\", \"xref\": \"x\", \"y\": 75, \"yref\": \"y\"}, {\"align\": \"left\", \"font\": {\"color\": \"#000000\"}, \"showarrow\": false, \"text\": \"3197110016\", \"x\": 1.55, \"xanchor\": \"left\", \"xref\": \"x\", \"y\": 75, \"yref\": \"y\"}, {\"align\": \"left\", \"font\": {\"color\": \"#000000\"}, \"showarrow\": false, \"text\": \"6635.75\", \"x\": 2.55, \"xanchor\": \"left\", \"xref\": \"x\", \"y\": 75, \"yref\": \"y\"}, {\"align\": \"left\", \"font\": {\"color\": \"#000000\"}, \"showarrow\": false, \"text\": \"2017-11-15\", \"x\": -0.45, \"xanchor\": \"left\", \"xref\": \"x\", \"y\": 76, \"yref\": \"y\"}, {\"align\": \"left\", \"font\": {\"color\": \"#000000\"}, \"showarrow\": false, \"text\": \"93.5920690488001\", \"x\": 0.55, \"xanchor\": \"left\", \"xref\": \"x\", \"y\": 76, \"yref\": \"y\"}, {\"align\": \"left\", \"font\": {\"color\": \"#000000\"}, \"showarrow\": false, \"text\": \"4200880128\", \"x\": 1.55, \"xanchor\": \"left\", \"xref\": \"x\", \"y\": 76, \"yref\": \"y\"}, {\"align\": \"left\", \"font\": {\"color\": \"#000000\"}, \"showarrow\": false, \"text\": \"7315.54\", \"x\": 2.55, \"xanchor\": \"left\", \"xref\": \"x\", \"y\": 76, \"yref\": \"y\"}, {\"align\": \"left\", \"font\": {\"color\": \"#000000\"}, \"showarrow\": false, \"text\": \"2017-11-16\", \"x\": -0.45, \"xanchor\": \"left\", \"xref\": \"x\", \"y\": 77, \"yref\": \"y\"}, {\"align\": \"left\", \"font\": {\"color\": \"#000000\"}, \"showarrow\": false, \"text\": \"95.94134783756459\", \"x\": 0.55, \"xanchor\": \"left\", \"xref\": \"x\", \"y\": 77, \"yref\": \"y\"}, {\"align\": \"left\", \"font\": {\"color\": \"#000000\"}, \"showarrow\": false, \"text\": \"5123809792\", \"x\": 1.55, \"xanchor\": \"left\", \"xref\": \"x\", \"y\": 77, \"yref\": \"y\"}, {\"align\": \"left\", \"font\": {\"color\": \"#000000\"}, \"showarrow\": false, \"text\": \"7871.69\", \"x\": 2.55, \"xanchor\": \"left\", \"xref\": \"x\", \"y\": 77, \"yref\": \"y\"}, {\"align\": \"left\", \"font\": {\"color\": \"#000000\"}, \"showarrow\": false, \"text\": \"2017-11-17\", \"x\": -0.45, \"xanchor\": \"left\", \"xref\": \"x\", \"y\": 78, \"yref\": \"y\"}, {\"align\": \"left\", \"font\": {\"color\": \"#000000\"}, \"showarrow\": false, \"text\": \"97.8746565547247\", \"x\": 0.55, \"xanchor\": \"left\", \"xref\": \"x\", \"y\": 78, \"yref\": \"y\"}, {\"align\": \"left\", \"font\": {\"color\": \"#000000\"}, \"showarrow\": false, \"text\": \"4651670016\", \"x\": 1.55, \"xanchor\": \"left\", \"xref\": \"x\", \"y\": 78, \"yref\": \"y\"}, {\"align\": \"left\", \"font\": {\"color\": \"#000000\"}, \"showarrow\": false, \"text\": \"7708.99\", \"x\": 2.55, \"xanchor\": \"left\", \"xref\": \"x\", \"y\": 78, \"yref\": \"y\"}, {\"align\": \"left\", \"font\": {\"color\": \"#000000\"}, \"showarrow\": false, \"text\": \"2017-11-18\", \"x\": -0.45, \"xanchor\": \"left\", \"xref\": \"x\", \"y\": 79, \"yref\": \"y\"}, {\"align\": \"left\", \"font\": {\"color\": \"#000000\"}, \"showarrow\": false, \"text\": \"77.56095560265358\", \"x\": 0.55, \"xanchor\": \"left\", \"xref\": \"x\", \"y\": 79, \"yref\": \"y\"}, {\"align\": \"left\", \"font\": {\"color\": \"#000000\"}, \"showarrow\": false, \"text\": \"3667190016\", \"x\": 1.55, \"xanchor\": \"left\", \"xref\": \"x\", \"y\": 79, \"yref\": \"y\"}, {\"align\": \"left\", \"font\": {\"color\": \"#000000\"}, \"showarrow\": false, \"text\": \"7790.15\", \"x\": 2.55, \"xanchor\": \"left\", \"xref\": \"x\", \"y\": 79, \"yref\": \"y\"}, {\"align\": \"left\", \"font\": {\"color\": \"#000000\"}, \"showarrow\": false, \"text\": \"2017-11-19\", \"x\": -0.45, \"xanchor\": \"left\", \"xref\": \"x\", \"y\": 80, \"yref\": \"y\"}, {\"align\": \"left\", \"font\": {\"color\": \"#000000\"}, \"showarrow\": false, \"text\": \"79.85877472750465\", \"x\": 0.55, \"xanchor\": \"left\", \"xref\": \"x\", \"y\": 80, \"yref\": \"y\"}, {\"align\": \"left\", \"font\": {\"color\": \"#000000\"}, \"showarrow\": false, \"text\": \"3149319936\", \"x\": 1.55, \"xanchor\": \"left\", \"xref\": \"x\", \"y\": 80, \"yref\": \"y\"}, {\"align\": \"left\", \"font\": {\"color\": \"#000000\"}, \"showarrow\": false, \"text\": \"8036.49\", \"x\": 2.55, \"xanchor\": \"left\", \"xref\": \"x\", \"y\": 80, \"yref\": \"y\"}, {\"align\": \"left\", \"font\": {\"color\": \"#000000\"}, \"showarrow\": false, \"text\": \"2017-11-20\", \"x\": -0.45, \"xanchor\": \"left\", \"xref\": \"x\", \"y\": 81, \"yref\": \"y\"}, {\"align\": \"left\", \"font\": {\"color\": \"#000000\"}, \"showarrow\": false, \"text\": \"64.63633352634466\", \"x\": 0.55, \"xanchor\": \"left\", \"xref\": \"x\", \"y\": 81, \"yref\": \"y\"}, {\"align\": \"left\", \"font\": {\"color\": \"#000000\"}, \"showarrow\": false, \"text\": \"3488450048\", \"x\": 1.55, \"xanchor\": \"left\", \"xref\": \"x\", \"y\": 81, \"yref\": \"y\"}, {\"align\": \"left\", \"font\": {\"color\": \"#000000\"}, \"showarrow\": false, \"text\": \"8200.64\", \"x\": 2.55, \"xanchor\": \"left\", \"xref\": \"x\", \"y\": 81, \"yref\": \"y\"}, {\"align\": \"left\", \"font\": {\"color\": \"#000000\"}, \"showarrow\": false, \"text\": \"2017-11-21\", \"x\": -0.45, \"xanchor\": \"left\", \"xref\": \"x\", \"y\": 82, \"yref\": \"y\"}, {\"align\": \"left\", \"font\": {\"color\": \"#000000\"}, \"showarrow\": false, \"text\": \"88.84891132305194\", \"x\": 0.55, \"xanchor\": \"left\", \"xref\": \"x\", \"y\": 82, \"yref\": \"y\"}, {\"align\": \"left\", \"font\": {\"color\": \"#000000\"}, \"showarrow\": false, \"text\": \"4277609984\", \"x\": 1.55, \"xanchor\": \"left\", \"xref\": \"x\", \"y\": 82, \"yref\": \"y\"}, {\"align\": \"left\", \"font\": {\"color\": \"#000000\"}, \"showarrow\": false, \"text\": \"8071.26\", \"x\": 2.55, \"xanchor\": \"left\", \"xref\": \"x\", \"y\": 82, \"yref\": \"y\"}, {\"align\": \"left\", \"font\": {\"color\": \"#000000\"}, \"showarrow\": false, \"text\": \"2017-11-22\", \"x\": -0.45, \"xanchor\": \"left\", \"xref\": \"x\", \"y\": 83, \"yref\": \"y\"}, {\"align\": \"left\", \"font\": {\"color\": \"#000000\"}, \"showarrow\": false, \"text\": \"110.26343371212111\", \"x\": 0.55, \"xanchor\": \"left\", \"xref\": \"x\", \"y\": 83, \"yref\": \"y\"}, {\"align\": \"left\", \"font\": {\"color\": \"#000000\"}, \"showarrow\": false, \"text\": \"3633530112\", \"x\": 1.55, \"xanchor\": \"left\", \"xref\": \"x\", \"y\": 83, \"yref\": \"y\"}, {\"align\": \"left\", \"font\": {\"color\": \"#000000\"}, \"showarrow\": false, \"text\": \"8253.55\", \"x\": 2.55, \"xanchor\": \"left\", \"xref\": \"x\", \"y\": 83, \"yref\": \"y\"}, {\"align\": \"left\", \"font\": {\"color\": \"#000000\"}, \"showarrow\": false, \"text\": \"2017-11-23\", \"x\": -0.45, \"xanchor\": \"left\", \"xref\": \"x\", \"y\": 84, \"yref\": \"y\"}, {\"align\": \"left\", \"font\": {\"color\": \"#000000\"}, \"showarrow\": false, \"text\": \"87.35194385554097\", \"x\": 0.55, \"xanchor\": \"left\", \"xref\": \"x\", \"y\": 84, \"yref\": \"y\"}, {\"align\": \"left\", \"font\": {\"color\": \"#000000\"}, \"showarrow\": false, \"text\": \"4225179904\", \"x\": 1.55, \"xanchor\": \"left\", \"xref\": \"x\", \"y\": 84, \"yref\": \"y\"}, {\"align\": \"left\", \"font\": {\"color\": \"#000000\"}, \"showarrow\": false, \"text\": \"8038.77\", \"x\": 2.55, \"xanchor\": \"left\", \"xref\": \"x\", \"y\": 84, \"yref\": \"y\"}, {\"align\": \"left\", \"font\": {\"color\": \"#000000\"}, \"showarrow\": false, \"text\": \"2017-11-24\", \"x\": -0.45, \"xanchor\": \"left\", \"xref\": \"x\", \"y\": 85, \"yref\": \"y\"}, {\"align\": \"left\", \"font\": {\"color\": \"#000000\"}, \"showarrow\": false, \"text\": \"89.90354034661327\", \"x\": 0.55, \"xanchor\": \"left\", \"xref\": \"x\", \"y\": 85, \"yref\": \"y\"}, {\"align\": \"left\", \"font\": {\"color\": \"#000000\"}, \"showarrow\": false, \"text\": \"5058610176\", \"x\": 1.55, \"xanchor\": \"left\", \"xref\": \"x\", \"y\": 85, \"yref\": \"y\"}, {\"align\": \"left\", \"font\": {\"color\": \"#000000\"}, \"showarrow\": false, \"text\": \"8253.69\", \"x\": 2.55, \"xanchor\": \"left\", \"xref\": \"x\", \"y\": 85, \"yref\": \"y\"}, {\"align\": \"left\", \"font\": {\"color\": \"#000000\"}, \"showarrow\": false, \"text\": \"2017-11-25\", \"x\": -0.45, \"xanchor\": \"left\", \"xref\": \"x\", \"y\": 86, \"yref\": \"y\"}, {\"align\": \"left\", \"font\": {\"color\": \"#000000\"}, \"showarrow\": false, \"text\": \"76.17952306654975\", \"x\": 0.55, \"xanchor\": \"left\", \"xref\": \"x\", \"y\": 86, \"yref\": \"y\"}, {\"align\": \"left\", \"font\": {\"color\": \"#000000\"}, \"showarrow\": false, \"text\": \"4342060032\", \"x\": 1.55, \"xanchor\": \"left\", \"xref\": \"x\", \"y\": 86, \"yref\": \"y\"}, {\"align\": \"left\", \"font\": {\"color\": \"#000000\"}, \"showarrow\": false, \"text\": \"8790.92\", \"x\": 2.55, \"xanchor\": \"left\", \"xref\": \"x\", \"y\": 86, \"yref\": \"y\"}, {\"align\": \"left\", \"font\": {\"color\": \"#000000\"}, \"showarrow\": false, \"text\": \"2017-11-26\", \"x\": -0.45, \"xanchor\": \"left\", \"xref\": \"x\", \"y\": 87, \"yref\": \"y\"}, {\"align\": \"left\", \"font\": {\"color\": \"#000000\"}, \"showarrow\": false, \"text\": \"102.0800786174081\", \"x\": 0.55, \"xanchor\": \"left\", \"xref\": \"x\", \"y\": 87, \"yref\": \"y\"}, {\"align\": \"left\", \"font\": {\"color\": \"#000000\"}, \"showarrow\": false, \"text\": \"5475579904\", \"x\": 1.55, \"xanchor\": \"left\", \"xref\": \"x\", \"y\": 87, \"yref\": \"y\"}, {\"align\": \"left\", \"font\": {\"color\": \"#000000\"}, \"showarrow\": false, \"text\": \"9330.55\", \"x\": 2.55, \"xanchor\": \"left\", \"xref\": \"x\", \"y\": 87, \"yref\": \"y\"}, {\"align\": \"left\", \"font\": {\"color\": \"#000000\"}, \"showarrow\": false, \"text\": \"2017-11-27\", \"x\": -0.45, \"xanchor\": \"left\", \"xref\": \"x\", \"y\": 88, \"yref\": \"y\"}, {\"align\": \"left\", \"font\": {\"color\": \"#000000\"}, \"showarrow\": false, \"text\": \"135.68944123908972\", \"x\": 0.55, \"xanchor\": \"left\", \"xref\": \"x\", \"y\": 88, \"yref\": \"y\"}, {\"align\": \"left\", \"font\": {\"color\": \"#000000\"}, \"showarrow\": false, \"text\": \"5653320192\", \"x\": 1.55, \"xanchor\": \"left\", \"xref\": \"x\", \"y\": 88, \"yref\": \"y\"}, {\"align\": \"left\", \"font\": {\"color\": \"#000000\"}, \"showarrow\": false, \"text\": \"9818.35\", \"x\": 2.55, \"xanchor\": \"left\", \"xref\": \"x\", \"y\": 88, \"yref\": \"y\"}, {\"align\": \"left\", \"font\": {\"color\": \"#000000\"}, \"showarrow\": false, \"text\": \"2017-11-28\", \"x\": -0.45, \"xanchor\": \"left\", \"xref\": \"x\", \"y\": 89, \"yref\": \"y\"}, {\"align\": \"left\", \"font\": {\"color\": \"#000000\"}, \"showarrow\": false, \"text\": \"126.73609075935641\", \"x\": 0.55, \"xanchor\": \"left\", \"xref\": \"x\", \"y\": 89, \"yref\": \"y\"}, {\"align\": \"left\", \"font\": {\"color\": \"#000000\"}, \"showarrow\": false, \"text\": \"6348819968\", \"x\": 1.55, \"xanchor\": \"left\", \"xref\": \"x\", \"y\": 89, \"yref\": \"y\"}, {\"align\": \"left\", \"font\": {\"color\": \"#000000\"}, \"showarrow\": false, \"text\": \"10058.80\", \"x\": 2.55, \"xanchor\": \"left\", \"xref\": \"x\", \"y\": 89, \"yref\": \"y\"}, {\"align\": \"left\", \"font\": {\"color\": \"#000000\"}, \"showarrow\": false, \"text\": \"2017-11-29\", \"x\": -0.45, \"xanchor\": \"left\", \"xref\": \"x\", \"y\": 90, \"yref\": \"y\"}, {\"align\": \"left\", \"font\": {\"color\": \"#000000\"}, \"showarrow\": false, \"text\": \"171.53002591249177\", \"x\": 0.55, \"xanchor\": \"left\", \"xref\": \"x\", \"y\": 90, \"yref\": \"y\"}, {\"align\": \"left\", \"font\": {\"color\": \"#000000\"}, \"showarrow\": false, \"text\": \"11568799744\", \"x\": 1.55, \"xanchor\": \"left\", \"xref\": \"x\", \"y\": 90, \"yref\": \"y\"}, {\"align\": \"left\", \"font\": {\"color\": \"#000000\"}, \"showarrow\": false, \"text\": \"9888.61\", \"x\": 2.55, \"xanchor\": \"left\", \"xref\": \"x\", \"y\": 90, \"yref\": \"y\"}, {\"align\": \"left\", \"font\": {\"color\": \"#000000\"}, \"showarrow\": false, \"text\": \"2017-11-30\", \"x\": -0.45, \"xanchor\": \"left\", \"xref\": \"x\", \"y\": 91, \"yref\": \"y\"}, {\"align\": \"left\", \"font\": {\"color\": \"#000000\"}, \"showarrow\": false, \"text\": \"119.28993525399588\", \"x\": 0.55, \"xanchor\": \"left\", \"xref\": \"x\", \"y\": 91, \"yref\": \"y\"}, {\"align\": \"left\", \"font\": {\"color\": \"#000000\"}, \"showarrow\": false, \"text\": \"8310689792\", \"x\": 1.55, \"xanchor\": \"left\", \"xref\": \"x\", \"y\": 91, \"yref\": \"y\"}, {\"align\": \"left\", \"font\": {\"color\": \"#000000\"}, \"showarrow\": false, \"text\": \"10233.60\", \"x\": 2.55, \"xanchor\": \"left\", \"xref\": \"x\", \"y\": 91, \"yref\": \"y\"}], \"height\": 2810, \"margin\": {\"b\": 0, \"l\": 0, \"r\": 0, \"t\": 0}, \"xaxis\": {\"dtick\": 1, \"gridwidth\": 2, \"showticklabels\": false, \"tick0\": -0.5, \"ticks\": \"\", \"zeroline\": false}, \"yaxis\": {\"autorange\": \"reversed\", \"dtick\": 1, \"gridwidth\": 2, \"showticklabels\": false, \"tick0\": 0.5, \"ticks\": \"\", \"zeroline\": false}}, {\"showLink\": true, \"linkText\": \"Export to plot.ly\"})});</script><script type=\"text/javascript\">window.addEventListener(\"resize\", function(){window._Plotly.Plots.resize(document.getElementById(\"44b00526-13c7-4eb7-ae97-24500323e28f\"));});</script>"
      ],
      "text/vnd.plotly.v1+html": [
       "<div id=\"44b00526-13c7-4eb7-ae97-24500323e28f\" style=\"height: 2810px; width: 100%;\" class=\"plotly-graph-div\"></div><script type=\"text/javascript\">require([\"plotly\"], function(Plotly) { window.PLOTLYENV=window.PLOTLYENV || {};window.PLOTLYENV.BASE_URL=\"https://plot.ly\";Plotly.newPlot(\"44b00526-13c7-4eb7-ae97-24500323e28f\", [{\"colorscale\": [[0, \"#00083e\"], [0.5, \"#ededee\"], [1, \"#ffffff\"]], \"hoverinfo\": \"none\", \"opacity\": 0.75, \"showscale\": false, \"z\": [[0, 0, 0, 0], [0.5, 0.5, 0.5, 0.5], [1, 1, 1, 1], [0.5, 0.5, 0.5, 0.5], [1, 1, 1, 1], [0.5, 0.5, 0.5, 0.5], [1, 1, 1, 1], [0.5, 0.5, 0.5, 0.5], [1, 1, 1, 1], [0.5, 0.5, 0.5, 0.5], [1, 1, 1, 1], [0.5, 0.5, 0.5, 0.5], [1, 1, 1, 1], [0.5, 0.5, 0.5, 0.5], [1, 1, 1, 1], [0.5, 0.5, 0.5, 0.5], [1, 1, 1, 1], [0.5, 0.5, 0.5, 0.5], [1, 1, 1, 1], [0.5, 0.5, 0.5, 0.5], [1, 1, 1, 1], [0.5, 0.5, 0.5, 0.5], [1, 1, 1, 1], [0.5, 0.5, 0.5, 0.5], [1, 1, 1, 1], [0.5, 0.5, 0.5, 0.5], [1, 1, 1, 1], [0.5, 0.5, 0.5, 0.5], [1, 1, 1, 1], [0.5, 0.5, 0.5, 0.5], [1, 1, 1, 1], [0.5, 0.5, 0.5, 0.5], [1, 1, 1, 1], [0.5, 0.5, 0.5, 0.5], [1, 1, 1, 1], [0.5, 0.5, 0.5, 0.5], [1, 1, 1, 1], [0.5, 0.5, 0.5, 0.5], [1, 1, 1, 1], [0.5, 0.5, 0.5, 0.5], [1, 1, 1, 1], [0.5, 0.5, 0.5, 0.5], [1, 1, 1, 1], [0.5, 0.5, 0.5, 0.5], [1, 1, 1, 1], [0.5, 0.5, 0.5, 0.5], [1, 1, 1, 1], [0.5, 0.5, 0.5, 0.5], [1, 1, 1, 1], [0.5, 0.5, 0.5, 0.5], [1, 1, 1, 1], [0.5, 0.5, 0.5, 0.5], [1, 1, 1, 1], [0.5, 0.5, 0.5, 0.5], [1, 1, 1, 1], [0.5, 0.5, 0.5, 0.5], [1, 1, 1, 1], [0.5, 0.5, 0.5, 0.5], [1, 1, 1, 1], [0.5, 0.5, 0.5, 0.5], [1, 1, 1, 1], [0.5, 0.5, 0.5, 0.5], [1, 1, 1, 1], [0.5, 0.5, 0.5, 0.5], [1, 1, 1, 1], [0.5, 0.5, 0.5, 0.5], [1, 1, 1, 1], [0.5, 0.5, 0.5, 0.5], [1, 1, 1, 1], [0.5, 0.5, 0.5, 0.5], [1, 1, 1, 1], [0.5, 0.5, 0.5, 0.5], [1, 1, 1, 1], [0.5, 0.5, 0.5, 0.5], [1, 1, 1, 1], [0.5, 0.5, 0.5, 0.5], [1, 1, 1, 1], [0.5, 0.5, 0.5, 0.5], [1, 1, 1, 1], [0.5, 0.5, 0.5, 0.5], [1, 1, 1, 1], [0.5, 0.5, 0.5, 0.5], [1, 1, 1, 1], [0.5, 0.5, 0.5, 0.5], [1, 1, 1, 1], [0.5, 0.5, 0.5, 0.5], [1, 1, 1, 1], [0.5, 0.5, 0.5, 0.5], [1, 1, 1, 1], [0.5, 0.5, 0.5, 0.5], [1, 1, 1, 1], [0.5, 0.5, 0.5, 0.5]], \"type\": \"heatmap\", \"uid\": \"915caba4-3b05-4429-92ac-013cdfcbae0d\"}], {\"annotations\": [{\"align\": \"left\", \"font\": {\"color\": \"#ffffff\"}, \"showarrow\": false, \"text\": \"<b>date</b>\", \"x\": -0.45, \"xanchor\": \"left\", \"xref\": \"x\", \"y\": 0, \"yref\": \"y\"}, {\"align\": \"left\", \"font\": {\"color\": \"#ffffff\"}, \"showarrow\": false, \"text\": \"<b>polarity</b>\", \"x\": 0.55, \"xanchor\": \"left\", \"xref\": \"x\", \"y\": 0, \"yref\": \"y\"}, {\"align\": \"left\", \"font\": {\"color\": \"#ffffff\"}, \"showarrow\": false, \"text\": \"<b>volume</b>\", \"x\": 1.55, \"xanchor\": \"left\", \"xref\": \"x\", \"y\": 0, \"yref\": \"y\"}, {\"align\": \"left\", \"font\": {\"color\": \"#ffffff\"}, \"showarrow\": false, \"text\": \"<b>close</b>\", \"x\": 2.55, \"xanchor\": \"left\", \"xref\": \"x\", \"y\": 0, \"yref\": \"y\"}, {\"align\": \"left\", \"font\": {\"color\": \"#000000\"}, \"showarrow\": false, \"text\": \"2017-09-01\", \"x\": -0.45, \"xanchor\": \"left\", \"xref\": \"x\", \"y\": 1, \"yref\": \"y\"}, {\"align\": \"left\", \"font\": {\"color\": \"#000000\"}, \"showarrow\": false, \"text\": \"44.84127886002886\", \"x\": 0.55, \"xanchor\": \"left\", \"xref\": \"x\", \"y\": 1, \"yref\": \"y\"}, {\"align\": \"left\", \"font\": {\"color\": \"#000000\"}, \"showarrow\": false, \"text\": \"2599079936\", \"x\": 1.55, \"xanchor\": \"left\", \"xref\": \"x\", \"y\": 1, \"yref\": \"y\"}, {\"align\": \"left\", \"font\": {\"color\": \"#000000\"}, \"showarrow\": false, \"text\": \"4892.01\", \"x\": 2.55, \"xanchor\": \"left\", \"xref\": \"x\", \"y\": 1, \"yref\": \"y\"}, {\"align\": \"left\", \"font\": {\"color\": \"#000000\"}, \"showarrow\": false, \"text\": \"2017-09-02\", \"x\": -0.45, \"xanchor\": \"left\", \"xref\": \"x\", \"y\": 2, \"yref\": \"y\"}, {\"align\": \"left\", \"font\": {\"color\": \"#000000\"}, \"showarrow\": false, \"text\": \"34.72393849206349\", \"x\": 0.55, \"xanchor\": \"left\", \"xref\": \"x\", \"y\": 2, \"yref\": \"y\"}, {\"align\": \"left\", \"font\": {\"color\": \"#000000\"}, \"showarrow\": false, \"text\": \"2722139904\", \"x\": 1.55, \"xanchor\": \"left\", \"xref\": \"x\", \"y\": 2, \"yref\": \"y\"}, {\"align\": \"left\", \"font\": {\"color\": \"#000000\"}, \"showarrow\": false, \"text\": \"4578.77\", \"x\": 2.55, \"xanchor\": \"left\", \"xref\": \"x\", \"y\": 2, \"yref\": \"y\"}, {\"align\": \"left\", \"font\": {\"color\": \"#000000\"}, \"showarrow\": false, \"text\": \"2017-09-03\", \"x\": -0.45, \"xanchor\": \"left\", \"xref\": \"x\", \"y\": 3, \"yref\": \"y\"}, {\"align\": \"left\", \"font\": {\"color\": \"#000000\"}, \"showarrow\": false, \"text\": \"30.12381042568544\", \"x\": 0.55, \"xanchor\": \"left\", \"xref\": \"x\", \"y\": 3, \"yref\": \"y\"}, {\"align\": \"left\", \"font\": {\"color\": \"#000000\"}, \"showarrow\": false, \"text\": \"1933190016\", \"x\": 1.55, \"xanchor\": \"left\", \"xref\": \"x\", \"y\": 3, \"yref\": \"y\"}, {\"align\": \"left\", \"font\": {\"color\": \"#000000\"}, \"showarrow\": false, \"text\": \"4582.96\", \"x\": 2.55, \"xanchor\": \"left\", \"xref\": \"x\", \"y\": 3, \"yref\": \"y\"}, {\"align\": \"left\", \"font\": {\"color\": \"#000000\"}, \"showarrow\": false, \"text\": \"2017-09-04\", \"x\": -0.45, \"xanchor\": \"left\", \"xref\": \"x\", \"y\": 4, \"yref\": \"y\"}, {\"align\": \"left\", \"font\": {\"color\": \"#000000\"}, \"showarrow\": false, \"text\": \"43.906720628908154\", \"x\": 0.55, \"xanchor\": \"left\", \"xref\": \"x\", \"y\": 4, \"yref\": \"y\"}, {\"align\": \"left\", \"font\": {\"color\": \"#000000\"}, \"showarrow\": false, \"text\": \"2987330048\", \"x\": 1.55, \"xanchor\": \"left\", \"xref\": \"x\", \"y\": 4, \"yref\": \"y\"}, {\"align\": \"left\", \"font\": {\"color\": \"#000000\"}, \"showarrow\": false, \"text\": \"4236.31\", \"x\": 2.55, \"xanchor\": \"left\", \"xref\": \"x\", \"y\": 4, \"yref\": \"y\"}, {\"align\": \"left\", \"font\": {\"color\": \"#000000\"}, \"showarrow\": false, \"text\": \"2017-09-05\", \"x\": -0.45, \"xanchor\": \"left\", \"xref\": \"x\", \"y\": 5, \"yref\": \"y\"}, {\"align\": \"left\", \"font\": {\"color\": \"#000000\"}, \"showarrow\": false, \"text\": \"51.60989305254931\", \"x\": 0.55, \"xanchor\": \"left\", \"xref\": \"x\", \"y\": 5, \"yref\": \"y\"}, {\"align\": \"left\", \"font\": {\"color\": \"#000000\"}, \"showarrow\": false, \"text\": \"2697969920\", \"x\": 1.55, \"xanchor\": \"left\", \"xref\": \"x\", \"y\": 5, \"yref\": \"y\"}, {\"align\": \"left\", \"font\": {\"color\": \"#000000\"}, \"showarrow\": false, \"text\": \"4376.53\", \"x\": 2.55, \"xanchor\": \"left\", \"xref\": \"x\", \"y\": 5, \"yref\": \"y\"}, {\"align\": \"left\", \"font\": {\"color\": \"#000000\"}, \"showarrow\": false, \"text\": \"2017-09-06\", \"x\": -0.45, \"xanchor\": \"left\", \"xref\": \"x\", \"y\": 6, \"yref\": \"y\"}, {\"align\": \"left\", \"font\": {\"color\": \"#000000\"}, \"showarrow\": false, \"text\": \"49.39670815295817\", \"x\": 0.55, \"xanchor\": \"left\", \"xref\": \"x\", \"y\": 6, \"yref\": \"y\"}, {\"align\": \"left\", \"font\": {\"color\": \"#000000\"}, \"showarrow\": false, \"text\": \"2172100096\", \"x\": 1.55, \"xanchor\": \"left\", \"xref\": \"x\", \"y\": 6, \"yref\": \"y\"}, {\"align\": \"left\", \"font\": {\"color\": \"#000000\"}, \"showarrow\": false, \"text\": \"4597.12\", \"x\": 2.55, \"xanchor\": \"left\", \"xref\": \"x\", \"y\": 6, \"yref\": \"y\"}, {\"align\": \"left\", \"font\": {\"color\": \"#000000\"}, \"showarrow\": false, \"text\": \"2017-09-07\", \"x\": -0.45, \"xanchor\": \"left\", \"xref\": \"x\", \"y\": 7, \"yref\": \"y\"}, {\"align\": \"left\", \"font\": {\"color\": \"#000000\"}, \"showarrow\": false, \"text\": \"54.017747884349454\", \"x\": 0.55, \"xanchor\": \"left\", \"xref\": \"x\", \"y\": 7, \"yref\": \"y\"}, {\"align\": \"left\", \"font\": {\"color\": \"#000000\"}, \"showarrow\": false, \"text\": \"1844620032\", \"x\": 1.55, \"xanchor\": \"left\", \"xref\": \"x\", \"y\": 7, \"yref\": \"y\"}, {\"align\": \"left\", \"font\": {\"color\": \"#000000\"}, \"showarrow\": false, \"text\": \"4599.88\", \"x\": 2.55, \"xanchor\": \"left\", \"xref\": \"x\", \"y\": 7, \"yref\": \"y\"}, {\"align\": \"left\", \"font\": {\"color\": \"#000000\"}, \"showarrow\": false, \"text\": \"2017-09-08\", \"x\": -0.45, \"xanchor\": \"left\", \"xref\": \"x\", \"y\": 8, \"yref\": \"y\"}, {\"align\": \"left\", \"font\": {\"color\": \"#000000\"}, \"showarrow\": false, \"text\": \"45.23649801587301\", \"x\": 0.55, \"xanchor\": \"left\", \"xref\": \"x\", \"y\": 8, \"yref\": \"y\"}, {\"align\": \"left\", \"font\": {\"color\": \"#000000\"}, \"showarrow\": false, \"text\": \"2700890112\", \"x\": 1.55, \"xanchor\": \"left\", \"xref\": \"x\", \"y\": 8, \"yref\": \"y\"}, {\"align\": \"left\", \"font\": {\"color\": \"#000000\"}, \"showarrow\": false, \"text\": \"4228.75\", \"x\": 2.55, \"xanchor\": \"left\", \"xref\": \"x\", \"y\": 8, \"yref\": \"y\"}, {\"align\": \"left\", \"font\": {\"color\": \"#000000\"}, \"showarrow\": false, \"text\": \"2017-09-09\", \"x\": -0.45, \"xanchor\": \"left\", \"xref\": \"x\", \"y\": 9, \"yref\": \"y\"}, {\"align\": \"left\", \"font\": {\"color\": \"#000000\"}, \"showarrow\": false, \"text\": \"36.867362629268875\", \"x\": 0.55, \"xanchor\": \"left\", \"xref\": \"x\", \"y\": 9, \"yref\": \"y\"}, {\"align\": \"left\", \"font\": {\"color\": \"#000000\"}, \"showarrow\": false, \"text\": \"1386230016\", \"x\": 1.55, \"xanchor\": \"left\", \"xref\": \"x\", \"y\": 9, \"yref\": \"y\"}, {\"align\": \"left\", \"font\": {\"color\": \"#000000\"}, \"showarrow\": false, \"text\": \"4226.06\", \"x\": 2.55, \"xanchor\": \"left\", \"xref\": \"x\", \"y\": 9, \"yref\": \"y\"}, {\"align\": \"left\", \"font\": {\"color\": \"#000000\"}, \"showarrow\": false, \"text\": \"2017-09-10\", \"x\": -0.45, \"xanchor\": \"left\", \"xref\": \"x\", \"y\": 10, \"yref\": \"y\"}, {\"align\": \"left\", \"font\": {\"color\": \"#000000\"}, \"showarrow\": false, \"text\": \"43.62673601448154\", \"x\": 0.55, \"xanchor\": \"left\", \"xref\": \"x\", \"y\": 10, \"yref\": \"y\"}, {\"align\": \"left\", \"font\": {\"color\": \"#000000\"}, \"showarrow\": false, \"text\": \"1679090048\", \"x\": 1.55, \"xanchor\": \"left\", \"xref\": \"x\", \"y\": 10, \"yref\": \"y\"}, {\"align\": \"left\", \"font\": {\"color\": \"#000000\"}, \"showarrow\": false, \"text\": \"4122.94\", \"x\": 2.55, \"xanchor\": \"left\", \"xref\": \"x\", \"y\": 10, \"yref\": \"y\"}, {\"align\": \"left\", \"font\": {\"color\": \"#000000\"}, \"showarrow\": false, \"text\": \"2017-09-11\", \"x\": -0.45, \"xanchor\": \"left\", \"xref\": \"x\", \"y\": 11, \"yref\": \"y\"}, {\"align\": \"left\", \"font\": {\"color\": \"#000000\"}, \"showarrow\": false, \"text\": \"45.281234668109654\", \"x\": 0.55, \"xanchor\": \"left\", \"xref\": \"x\", \"y\": 11, \"yref\": \"y\"}, {\"align\": \"left\", \"font\": {\"color\": \"#000000\"}, \"showarrow\": false, \"text\": \"1557330048\", \"x\": 1.55, \"xanchor\": \"left\", \"xref\": \"x\", \"y\": 11, \"yref\": \"y\"}, {\"align\": \"left\", \"font\": {\"color\": \"#000000\"}, \"showarrow\": false, \"text\": \"4161.27\", \"x\": 2.55, \"xanchor\": \"left\", \"xref\": \"x\", \"y\": 11, \"yref\": \"y\"}, {\"align\": \"left\", \"font\": {\"color\": \"#000000\"}, \"showarrow\": false, \"text\": \"2017-09-12\", \"x\": -0.45, \"xanchor\": \"left\", \"xref\": \"x\", \"y\": 12, \"yref\": \"y\"}, {\"align\": \"left\", \"font\": {\"color\": \"#000000\"}, \"showarrow\": false, \"text\": \"38.138232804115376\", \"x\": 0.55, \"xanchor\": \"left\", \"xref\": \"x\", \"y\": 12, \"yref\": \"y\"}, {\"align\": \"left\", \"font\": {\"color\": \"#000000\"}, \"showarrow\": false, \"text\": \"1864530048\", \"x\": 1.55, \"xanchor\": \"left\", \"xref\": \"x\", \"y\": 12, \"yref\": \"y\"}, {\"align\": \"left\", \"font\": {\"color\": \"#000000\"}, \"showarrow\": false, \"text\": \"4130.81\", \"x\": 2.55, \"xanchor\": \"left\", \"xref\": \"x\", \"y\": 12, \"yref\": \"y\"}, {\"align\": \"left\", \"font\": {\"color\": \"#000000\"}, \"showarrow\": false, \"text\": \"2017-09-13\", \"x\": -0.45, \"xanchor\": \"left\", \"xref\": \"x\", \"y\": 13, \"yref\": \"y\"}, {\"align\": \"left\", \"font\": {\"color\": \"#000000\"}, \"showarrow\": false, \"text\": \"56.79393598184227\", \"x\": 0.55, \"xanchor\": \"left\", \"xref\": \"x\", \"y\": 13, \"yref\": \"y\"}, {\"align\": \"left\", \"font\": {\"color\": \"#000000\"}, \"showarrow\": false, \"text\": \"2219409920\", \"x\": 1.55, \"xanchor\": \"left\", \"xref\": \"x\", \"y\": 13, \"yref\": \"y\"}, {\"align\": \"left\", \"font\": {\"color\": \"#000000\"}, \"showarrow\": false, \"text\": \"3882.59\", \"x\": 2.55, \"xanchor\": \"left\", \"xref\": \"x\", \"y\": 13, \"yref\": \"y\"}, {\"align\": \"left\", \"font\": {\"color\": \"#000000\"}, \"showarrow\": false, \"text\": \"2017-09-14\", \"x\": -0.45, \"xanchor\": \"left\", \"xref\": \"x\", \"y\": 14, \"yref\": \"y\"}, {\"align\": \"left\", \"font\": {\"color\": \"#000000\"}, \"showarrow\": false, \"text\": \"56.14570337395531\", \"x\": 0.55, \"xanchor\": \"left\", \"xref\": \"x\", \"y\": 14, \"yref\": \"y\"}, {\"align\": \"left\", \"font\": {\"color\": \"#000000\"}, \"showarrow\": false, \"text\": \"2716310016\", \"x\": 1.55, \"xanchor\": \"left\", \"xref\": \"x\", \"y\": 14, \"yref\": \"y\"}, {\"align\": \"left\", \"font\": {\"color\": \"#000000\"}, \"showarrow\": false, \"text\": \"3154.95\", \"x\": 2.55, \"xanchor\": \"left\", \"xref\": \"x\", \"y\": 14, \"yref\": \"y\"}, {\"align\": \"left\", \"font\": {\"color\": \"#000000\"}, \"showarrow\": false, \"text\": \"2017-09-15\", \"x\": -0.45, \"xanchor\": \"left\", \"xref\": \"x\", \"y\": 15, \"yref\": \"y\"}, {\"align\": \"left\", \"font\": {\"color\": \"#000000\"}, \"showarrow\": false, \"text\": \"59.89907314213567\", \"x\": 0.55, \"xanchor\": \"left\", \"xref\": \"x\", \"y\": 15, \"yref\": \"y\"}, {\"align\": \"left\", \"font\": {\"color\": \"#000000\"}, \"showarrow\": false, \"text\": \"4148069888\", \"x\": 1.55, \"xanchor\": \"left\", \"xref\": \"x\", \"y\": 15, \"yref\": \"y\"}, {\"align\": \"left\", \"font\": {\"color\": \"#000000\"}, \"showarrow\": false, \"text\": \"3637.52\", \"x\": 2.55, \"xanchor\": \"left\", \"xref\": \"x\", \"y\": 15, \"yref\": \"y\"}, {\"align\": \"left\", \"font\": {\"color\": \"#000000\"}, \"showarrow\": false, \"text\": \"2017-09-16\", \"x\": -0.45, \"xanchor\": \"left\", \"xref\": \"x\", \"y\": 16, \"yref\": \"y\"}, {\"align\": \"left\", \"font\": {\"color\": \"#000000\"}, \"showarrow\": false, \"text\": \"9.883154461279464\", \"x\": 0.55, \"xanchor\": \"left\", \"xref\": \"x\", \"y\": 16, \"yref\": \"y\"}, {\"align\": \"left\", \"font\": {\"color\": \"#000000\"}, \"showarrow\": false, \"text\": \"1818400000\", \"x\": 1.55, \"xanchor\": \"left\", \"xref\": \"x\", \"y\": 16, \"yref\": \"y\"}, {\"align\": \"left\", \"font\": {\"color\": \"#000000\"}, \"showarrow\": false, \"text\": \"3625.04\", \"x\": 2.55, \"xanchor\": \"left\", \"xref\": \"x\", \"y\": 16, \"yref\": \"y\"}, {\"align\": \"left\", \"font\": {\"color\": \"#000000\"}, \"showarrow\": false, \"text\": \"2017-09-17\", \"x\": -0.45, \"xanchor\": \"left\", \"xref\": \"x\", \"y\": 17, \"yref\": \"y\"}, {\"align\": \"left\", \"font\": {\"color\": \"#000000\"}, \"showarrow\": false, \"text\": \"49.61875174033869\", \"x\": 0.55, \"xanchor\": \"left\", \"xref\": \"x\", \"y\": 17, \"yref\": \"y\"}, {\"align\": \"left\", \"font\": {\"color\": \"#000000\"}, \"showarrow\": false, \"text\": \"1239149952\", \"x\": 1.55, \"xanchor\": \"left\", \"xref\": \"x\", \"y\": 17, \"yref\": \"y\"}, {\"align\": \"left\", \"font\": {\"color\": \"#000000\"}, \"showarrow\": false, \"text\": \"3582.88\", \"x\": 2.55, \"xanchor\": \"left\", \"xref\": \"x\", \"y\": 17, \"yref\": \"y\"}, {\"align\": \"left\", \"font\": {\"color\": \"#000000\"}, \"showarrow\": false, \"text\": \"2017-09-18\", \"x\": -0.45, \"xanchor\": \"left\", \"xref\": \"x\", \"y\": 18, \"yref\": \"y\"}, {\"align\": \"left\", \"font\": {\"color\": \"#000000\"}, \"showarrow\": false, \"text\": \"49.05703698283776\", \"x\": 0.55, \"xanchor\": \"left\", \"xref\": \"x\", \"y\": 18, \"yref\": \"y\"}, {\"align\": \"left\", \"font\": {\"color\": \"#000000\"}, \"showarrow\": false, \"text\": \"1943209984\", \"x\": 1.55, \"xanchor\": \"left\", \"xref\": \"x\", \"y\": 18, \"yref\": \"y\"}, {\"align\": \"left\", \"font\": {\"color\": \"#000000\"}, \"showarrow\": false, \"text\": \"4065.20\", \"x\": 2.55, \"xanchor\": \"left\", \"xref\": \"x\", \"y\": 18, \"yref\": \"y\"}, {\"align\": \"left\", \"font\": {\"color\": \"#000000\"}, \"showarrow\": false, \"text\": \"2017-09-19\", \"x\": -0.45, \"xanchor\": \"left\", \"xref\": \"x\", \"y\": 19, \"yref\": \"y\"}, {\"align\": \"left\", \"font\": {\"color\": \"#000000\"}, \"showarrow\": false, \"text\": \"49.648816305222574\", \"x\": 0.55, \"xanchor\": \"left\", \"xref\": \"x\", \"y\": 19, \"yref\": \"y\"}, {\"align\": \"left\", \"font\": {\"color\": \"#000000\"}, \"showarrow\": false, \"text\": \"1563980032\", \"x\": 1.55, \"xanchor\": \"left\", \"xref\": \"x\", \"y\": 19, \"yref\": \"y\"}, {\"align\": \"left\", \"font\": {\"color\": \"#000000\"}, \"showarrow\": false, \"text\": \"3924.97\", \"x\": 2.55, \"xanchor\": \"left\", \"xref\": \"x\", \"y\": 19, \"yref\": \"y\"}, {\"align\": \"left\", \"font\": {\"color\": \"#000000\"}, \"showarrow\": false, \"text\": \"2017-09-20\", \"x\": -0.45, \"xanchor\": \"left\", \"xref\": \"x\", \"y\": 20, \"yref\": \"y\"}, {\"align\": \"left\", \"font\": {\"color\": \"#000000\"}, \"showarrow\": false, \"text\": \"44.84952994181024\", \"x\": 0.55, \"xanchor\": \"left\", \"xref\": \"x\", \"y\": 20, \"yref\": \"y\"}, {\"align\": \"left\", \"font\": {\"color\": \"#000000\"}, \"showarrow\": false, \"text\": \"1213830016\", \"x\": 1.55, \"xanchor\": \"left\", \"xref\": \"x\", \"y\": 20, \"yref\": \"y\"}, {\"align\": \"left\", \"font\": {\"color\": \"#000000\"}, \"showarrow\": false, \"text\": \"3905.95\", \"x\": 2.55, \"xanchor\": \"left\", \"xref\": \"x\", \"y\": 20, \"yref\": \"y\"}, {\"align\": \"left\", \"font\": {\"color\": \"#000000\"}, \"showarrow\": false, \"text\": \"2017-09-21\", \"x\": -0.45, \"xanchor\": \"left\", \"xref\": \"x\", \"y\": 21, \"yref\": \"y\"}, {\"align\": \"left\", \"font\": {\"color\": \"#000000\"}, \"showarrow\": false, \"text\": \"36.79902311808565\", \"x\": 0.55, \"xanchor\": \"left\", \"xref\": \"x\", \"y\": 21, \"yref\": \"y\"}, {\"align\": \"left\", \"font\": {\"color\": \"#000000\"}, \"showarrow\": false, \"text\": \"1411480064\", \"x\": 1.55, \"xanchor\": \"left\", \"xref\": \"x\", \"y\": 21, \"yref\": \"y\"}, {\"align\": \"left\", \"font\": {\"color\": \"#000000\"}, \"showarrow\": false, \"text\": \"3631.04\", \"x\": 2.55, \"xanchor\": \"left\", \"xref\": \"x\", \"y\": 21, \"yref\": \"y\"}, {\"align\": \"left\", \"font\": {\"color\": \"#000000\"}, \"showarrow\": false, \"text\": \"2017-09-22\", \"x\": -0.45, \"xanchor\": \"left\", \"xref\": \"x\", \"y\": 22, \"yref\": \"y\"}, {\"align\": \"left\", \"font\": {\"color\": \"#000000\"}, \"showarrow\": false, \"text\": \"46.762610113410915\", \"x\": 0.55, \"xanchor\": \"left\", \"xref\": \"x\", \"y\": 22, \"yref\": \"y\"}, {\"align\": \"left\", \"font\": {\"color\": \"#000000\"}, \"showarrow\": false, \"text\": \"1194829952\", \"x\": 1.55, \"xanchor\": \"left\", \"xref\": \"x\", \"y\": 22, \"yref\": \"y\"}, {\"align\": \"left\", \"font\": {\"color\": \"#000000\"}, \"showarrow\": false, \"text\": \"3630.70\", \"x\": 2.55, \"xanchor\": \"left\", \"xref\": \"x\", \"y\": 22, \"yref\": \"y\"}, {\"align\": \"left\", \"font\": {\"color\": \"#000000\"}, \"showarrow\": false, \"text\": \"2017-09-23\", \"x\": -0.45, \"xanchor\": \"left\", \"xref\": \"x\", \"y\": 23, \"yref\": \"y\"}, {\"align\": \"left\", \"font\": {\"color\": \"#000000\"}, \"showarrow\": false, \"text\": \"37.00751833814336\", \"x\": 0.55, \"xanchor\": \"left\", \"xref\": \"x\", \"y\": 23, \"yref\": \"y\"}, {\"align\": \"left\", \"font\": {\"color\": \"#000000\"}, \"showarrow\": false, \"text\": \"928113984\", \"x\": 1.55, \"xanchor\": \"left\", \"xref\": \"x\", \"y\": 23, \"yref\": \"y\"}, {\"align\": \"left\", \"font\": {\"color\": \"#000000\"}, \"showarrow\": false, \"text\": \"3792.40\", \"x\": 2.55, \"xanchor\": \"left\", \"xref\": \"x\", \"y\": 23, \"yref\": \"y\"}, {\"align\": \"left\", \"font\": {\"color\": \"#000000\"}, \"showarrow\": false, \"text\": \"2017-09-24\", \"x\": -0.45, \"xanchor\": \"left\", \"xref\": \"x\", \"y\": 24, \"yref\": \"y\"}, {\"align\": \"left\", \"font\": {\"color\": \"#000000\"}, \"showarrow\": false, \"text\": \"40.71855782527657\", \"x\": 0.55, \"xanchor\": \"left\", \"xref\": \"x\", \"y\": 24, \"yref\": \"y\"}, {\"align\": \"left\", \"font\": {\"color\": \"#000000\"}, \"showarrow\": false, \"text\": \"768014976\", \"x\": 1.55, \"xanchor\": \"left\", \"xref\": \"x\", \"y\": 24, \"yref\": \"y\"}, {\"align\": \"left\", \"font\": {\"color\": \"#000000\"}, \"showarrow\": false, \"text\": \"3682.84\", \"x\": 2.55, \"xanchor\": \"left\", \"xref\": \"x\", \"y\": 24, \"yref\": \"y\"}, {\"align\": \"left\", \"font\": {\"color\": \"#000000\"}, \"showarrow\": false, \"text\": \"2017-09-25\", \"x\": -0.45, \"xanchor\": \"left\", \"xref\": \"x\", \"y\": 25, \"yref\": \"y\"}, {\"align\": \"left\", \"font\": {\"color\": \"#000000\"}, \"showarrow\": false, \"text\": \"47.90088936237374\", \"x\": 0.55, \"xanchor\": \"left\", \"xref\": \"x\", \"y\": 25, \"yref\": \"y\"}, {\"align\": \"left\", \"font\": {\"color\": \"#000000\"}, \"showarrow\": false, \"text\": \"1374210048\", \"x\": 1.55, \"xanchor\": \"left\", \"xref\": \"x\", \"y\": 25, \"yref\": \"y\"}, {\"align\": \"left\", \"font\": {\"color\": \"#000000\"}, \"showarrow\": false, \"text\": \"3926.07\", \"x\": 2.55, \"xanchor\": \"left\", \"xref\": \"x\", \"y\": 25, \"yref\": \"y\"}, {\"align\": \"left\", \"font\": {\"color\": \"#000000\"}, \"showarrow\": false, \"text\": \"2017-09-26\", \"x\": -0.45, \"xanchor\": \"left\", \"xref\": \"x\", \"y\": 26, \"yref\": \"y\"}, {\"align\": \"left\", \"font\": {\"color\": \"#000000\"}, \"showarrow\": false, \"text\": \"44.5973292824074\", \"x\": 0.55, \"xanchor\": \"left\", \"xref\": \"x\", \"y\": 26, \"yref\": \"y\"}, {\"align\": \"left\", \"font\": {\"color\": \"#000000\"}, \"showarrow\": false, \"text\": \"1043740032\", \"x\": 1.55, \"xanchor\": \"left\", \"xref\": \"x\", \"y\": 26, \"yref\": \"y\"}, {\"align\": \"left\", \"font\": {\"color\": \"#000000\"}, \"showarrow\": false, \"text\": \"3892.35\", \"x\": 2.55, \"xanchor\": \"left\", \"xref\": \"x\", \"y\": 26, \"yref\": \"y\"}, {\"align\": \"left\", \"font\": {\"color\": \"#000000\"}, \"showarrow\": false, \"text\": \"2017-09-27\", \"x\": -0.45, \"xanchor\": \"left\", \"xref\": \"x\", \"y\": 27, \"yref\": \"y\"}, {\"align\": \"left\", \"font\": {\"color\": \"#000000\"}, \"showarrow\": false, \"text\": \"50.33652717652716\", \"x\": 0.55, \"xanchor\": \"left\", \"xref\": \"x\", \"y\": 27, \"yref\": \"y\"}, {\"align\": \"left\", \"font\": {\"color\": \"#000000\"}, \"showarrow\": false, \"text\": \"1686880000\", \"x\": 1.55, \"xanchor\": \"left\", \"xref\": \"x\", \"y\": 27, \"yref\": \"y\"}, {\"align\": \"left\", \"font\": {\"color\": \"#000000\"}, \"showarrow\": false, \"text\": \"4200.67\", \"x\": 2.55, \"xanchor\": \"left\", \"xref\": \"x\", \"y\": 27, \"yref\": \"y\"}, {\"align\": \"left\", \"font\": {\"color\": \"#000000\"}, \"showarrow\": false, \"text\": \"2017-09-28\", \"x\": -0.45, \"xanchor\": \"left\", \"xref\": \"x\", \"y\": 28, \"yref\": \"y\"}, {\"align\": \"left\", \"font\": {\"color\": \"#000000\"}, \"showarrow\": false, \"text\": \"46.36906472247988\", \"x\": 0.55, \"xanchor\": \"left\", \"xref\": \"x\", \"y\": 28, \"yref\": \"y\"}, {\"align\": \"left\", \"font\": {\"color\": \"#000000\"}, \"showarrow\": false, \"text\": \"1712320000\", \"x\": 1.55, \"xanchor\": \"left\", \"xref\": \"x\", \"y\": 28, \"yref\": \"y\"}, {\"align\": \"left\", \"font\": {\"color\": \"#000000\"}, \"showarrow\": false, \"text\": \"4174.73\", \"x\": 2.55, \"xanchor\": \"left\", \"xref\": \"x\", \"y\": 28, \"yref\": \"y\"}, {\"align\": \"left\", \"font\": {\"color\": \"#000000\"}, \"showarrow\": false, \"text\": \"2017-09-29\", \"x\": -0.45, \"xanchor\": \"left\", \"xref\": \"x\", \"y\": 29, \"yref\": \"y\"}, {\"align\": \"left\", \"font\": {\"color\": \"#000000\"}, \"showarrow\": false, \"text\": \"54.04768668831172\", \"x\": 0.55, \"xanchor\": \"left\", \"xref\": \"x\", \"y\": 29, \"yref\": \"y\"}, {\"align\": \"left\", \"font\": {\"color\": \"#000000\"}, \"showarrow\": false, \"text\": \"1367049984\", \"x\": 1.55, \"xanchor\": \"left\", \"xref\": \"x\", \"y\": 29, \"yref\": \"y\"}, {\"align\": \"left\", \"font\": {\"color\": \"#000000\"}, \"showarrow\": false, \"text\": \"4163.07\", \"x\": 2.55, \"xanchor\": \"left\", \"xref\": \"x\", \"y\": 29, \"yref\": \"y\"}, {\"align\": \"left\", \"font\": {\"color\": \"#000000\"}, \"showarrow\": false, \"text\": \"2017-09-30\", \"x\": -0.45, \"xanchor\": \"left\", \"xref\": \"x\", \"y\": 30, \"yref\": \"y\"}, {\"align\": \"left\", \"font\": {\"color\": \"#000000\"}, \"showarrow\": false, \"text\": \"33.32747925685426\", \"x\": 0.55, \"xanchor\": \"left\", \"xref\": \"x\", \"y\": 30, \"yref\": \"y\"}, {\"align\": \"left\", \"font\": {\"color\": \"#000000\"}, \"showarrow\": false, \"text\": \"1207449984\", \"x\": 1.55, \"xanchor\": \"left\", \"xref\": \"x\", \"y\": 30, \"yref\": \"y\"}, {\"align\": \"left\", \"font\": {\"color\": \"#000000\"}, \"showarrow\": false, \"text\": \"4338.71\", \"x\": 2.55, \"xanchor\": \"left\", \"xref\": \"x\", \"y\": 30, \"yref\": \"y\"}, {\"align\": \"left\", \"font\": {\"color\": \"#000000\"}, \"showarrow\": false, \"text\": \"2017-10-01\", \"x\": -0.45, \"xanchor\": \"left\", \"xref\": \"x\", \"y\": 31, \"yref\": \"y\"}, {\"align\": \"left\", \"font\": {\"color\": \"#000000\"}, \"showarrow\": false, \"text\": \"47.53804800234494\", \"x\": 0.55, \"xanchor\": \"left\", \"xref\": \"x\", \"y\": 31, \"yref\": \"y\"}, {\"align\": \"left\", \"font\": {\"color\": \"#000000\"}, \"showarrow\": false, \"text\": \"1208210048\", \"x\": 1.55, \"xanchor\": \"left\", \"xref\": \"x\", \"y\": 31, \"yref\": \"y\"}, {\"align\": \"left\", \"font\": {\"color\": \"#000000\"}, \"showarrow\": false, \"text\": \"4403.74\", \"x\": 2.55, \"xanchor\": \"left\", \"xref\": \"x\", \"y\": 31, \"yref\": \"y\"}, {\"align\": \"left\", \"font\": {\"color\": \"#000000\"}, \"showarrow\": false, \"text\": \"2017-10-02\", \"x\": -0.45, \"xanchor\": \"left\", \"xref\": \"x\", \"y\": 32, \"yref\": \"y\"}, {\"align\": \"left\", \"font\": {\"color\": \"#000000\"}, \"showarrow\": false, \"text\": \"53.303671762265516\", \"x\": 0.55, \"xanchor\": \"left\", \"xref\": \"x\", \"y\": 32, \"yref\": \"y\"}, {\"align\": \"left\", \"font\": {\"color\": \"#000000\"}, \"showarrow\": false, \"text\": \"1431730048\", \"x\": 1.55, \"xanchor\": \"left\", \"xref\": \"x\", \"y\": 32, \"yref\": \"y\"}, {\"align\": \"left\", \"font\": {\"color\": \"#000000\"}, \"showarrow\": false, \"text\": \"4409.32\", \"x\": 2.55, \"xanchor\": \"left\", \"xref\": \"x\", \"y\": 32, \"yref\": \"y\"}, {\"align\": \"left\", \"font\": {\"color\": \"#000000\"}, \"showarrow\": false, \"text\": \"2017-10-03\", \"x\": -0.45, \"xanchor\": \"left\", \"xref\": \"x\", \"y\": 33, \"yref\": \"y\"}, {\"align\": \"left\", \"font\": {\"color\": \"#000000\"}, \"showarrow\": false, \"text\": \"44.61395399305555\", \"x\": 0.55, \"xanchor\": \"left\", \"xref\": \"x\", \"y\": 33, \"yref\": \"y\"}, {\"align\": \"left\", \"font\": {\"color\": \"#000000\"}, \"showarrow\": false, \"text\": \"1288019968\", \"x\": 1.55, \"xanchor\": \"left\", \"xref\": \"x\", \"y\": 33, \"yref\": \"y\"}, {\"align\": \"left\", \"font\": {\"color\": \"#000000\"}, \"showarrow\": false, \"text\": \"4317.48\", \"x\": 2.55, \"xanchor\": \"left\", \"xref\": \"x\", \"y\": 33, \"yref\": \"y\"}, {\"align\": \"left\", \"font\": {\"color\": \"#000000\"}, \"showarrow\": false, \"text\": \"2017-10-04\", \"x\": -0.45, \"xanchor\": \"left\", \"xref\": \"x\", \"y\": 34, \"yref\": \"y\"}, {\"align\": \"left\", \"font\": {\"color\": \"#000000\"}, \"showarrow\": false, \"text\": \"46.99523922258297\", \"x\": 0.55, \"xanchor\": \"left\", \"xref\": \"x\", \"y\": 34, \"yref\": \"y\"}, {\"align\": \"left\", \"font\": {\"color\": \"#000000\"}, \"showarrow\": false, \"text\": \"1116770048\", \"x\": 1.55, \"xanchor\": \"left\", \"xref\": \"x\", \"y\": 34, \"yref\": \"y\"}, {\"align\": \"left\", \"font\": {\"color\": \"#000000\"}, \"showarrow\": false, \"text\": \"4229.36\", \"x\": 2.55, \"xanchor\": \"left\", \"xref\": \"x\", \"y\": 34, \"yref\": \"y\"}, {\"align\": \"left\", \"font\": {\"color\": \"#000000\"}, \"showarrow\": false, \"text\": \"2017-10-05\", \"x\": -0.45, \"xanchor\": \"left\", \"xref\": \"x\", \"y\": 35, \"yref\": \"y\"}, {\"align\": \"left\", \"font\": {\"color\": \"#000000\"}, \"showarrow\": false, \"text\": \"52.85774779040402\", \"x\": 0.55, \"xanchor\": \"left\", \"xref\": \"x\", \"y\": 35, \"yref\": \"y\"}, {\"align\": \"left\", \"font\": {\"color\": \"#000000\"}, \"showarrow\": false, \"text\": \"1161769984\", \"x\": 1.55, \"xanchor\": \"left\", \"xref\": \"x\", \"y\": 35, \"yref\": \"y\"}, {\"align\": \"left\", \"font\": {\"color\": \"#000000\"}, \"showarrow\": false, \"text\": \"4328.41\", \"x\": 2.55, \"xanchor\": \"left\", \"xref\": \"x\", \"y\": 35, \"yref\": \"y\"}, {\"align\": \"left\", \"font\": {\"color\": \"#000000\"}, \"showarrow\": false, \"text\": \"2017-10-06\", \"x\": -0.45, \"xanchor\": \"left\", \"xref\": \"x\", \"y\": 36, \"yref\": \"y\"}, {\"align\": \"left\", \"font\": {\"color\": \"#000000\"}, \"showarrow\": false, \"text\": \"49.65176775943964\", \"x\": 0.55, \"xanchor\": \"left\", \"xref\": \"x\", \"y\": 36, \"yref\": \"y\"}, {\"align\": \"left\", \"font\": {\"color\": \"#000000\"}, \"showarrow\": false, \"text\": \"1069939968\", \"x\": 1.55, \"xanchor\": \"left\", \"xref\": \"x\", \"y\": 36, \"yref\": \"y\"}, {\"align\": \"left\", \"font\": {\"color\": \"#000000\"}, \"showarrow\": false, \"text\": \"4370.81\", \"x\": 2.55, \"xanchor\": \"left\", \"xref\": \"x\", \"y\": 36, \"yref\": \"y\"}, {\"align\": \"left\", \"font\": {\"color\": \"#000000\"}, \"showarrow\": false, \"text\": \"2017-10-07\", \"x\": -0.45, \"xanchor\": \"left\", \"xref\": \"x\", \"y\": 37, \"yref\": \"y\"}, {\"align\": \"left\", \"font\": {\"color\": \"#000000\"}, \"showarrow\": false, \"text\": \"39.233273245851386\", \"x\": 0.55, \"xanchor\": \"left\", \"xref\": \"x\", \"y\": 37, \"yref\": \"y\"}, {\"align\": \"left\", \"font\": {\"color\": \"#000000\"}, \"showarrow\": false, \"text\": \"906928000\", \"x\": 1.55, \"xanchor\": \"left\", \"xref\": \"x\", \"y\": 37, \"yref\": \"y\"}, {\"align\": \"left\", \"font\": {\"color\": \"#000000\"}, \"showarrow\": false, \"text\": \"4426.89\", \"x\": 2.55, \"xanchor\": \"left\", \"xref\": \"x\", \"y\": 37, \"yref\": \"y\"}, {\"align\": \"left\", \"font\": {\"color\": \"#000000\"}, \"showarrow\": false, \"text\": \"2017-10-08\", \"x\": -0.45, \"xanchor\": \"left\", \"xref\": \"x\", \"y\": 38, \"yref\": \"y\"}, {\"align\": \"left\", \"font\": {\"color\": \"#000000\"}, \"showarrow\": false, \"text\": \"45.06565479008838\", \"x\": 0.55, \"xanchor\": \"left\", \"xref\": \"x\", \"y\": 38, \"yref\": \"y\"}, {\"align\": \"left\", \"font\": {\"color\": \"#000000\"}, \"showarrow\": false, \"text\": \"1313869952\", \"x\": 1.55, \"xanchor\": \"left\", \"xref\": \"x\", \"y\": 38, \"yref\": \"y\"}, {\"align\": \"left\", \"font\": {\"color\": \"#000000\"}, \"showarrow\": false, \"text\": \"4610.48\", \"x\": 2.55, \"xanchor\": \"left\", \"xref\": \"x\", \"y\": 38, \"yref\": \"y\"}, {\"align\": \"left\", \"font\": {\"color\": \"#000000\"}, \"showarrow\": false, \"text\": \"2017-10-09\", \"x\": -0.45, \"xanchor\": \"left\", \"xref\": \"x\", \"y\": 39, \"yref\": \"y\"}, {\"align\": \"left\", \"font\": {\"color\": \"#000000\"}, \"showarrow\": false, \"text\": \"64.45839601370854\", \"x\": 0.55, \"xanchor\": \"left\", \"xref\": \"x\", \"y\": 39, \"yref\": \"y\"}, {\"align\": \"left\", \"font\": {\"color\": \"#000000\"}, \"showarrow\": false, \"text\": \"1968739968\", \"x\": 1.55, \"xanchor\": \"left\", \"xref\": \"x\", \"y\": 39, \"yref\": \"y\"}, {\"align\": \"left\", \"font\": {\"color\": \"#000000\"}, \"showarrow\": false, \"text\": \"4772.02\", \"x\": 2.55, \"xanchor\": \"left\", \"xref\": \"x\", \"y\": 39, \"yref\": \"y\"}, {\"align\": \"left\", \"font\": {\"color\": \"#000000\"}, \"showarrow\": false, \"text\": \"2017-10-10\", \"x\": -0.45, \"xanchor\": \"left\", \"xref\": \"x\", \"y\": 40, \"yref\": \"y\"}, {\"align\": \"left\", \"font\": {\"color\": \"#000000\"}, \"showarrow\": false, \"text\": \"64.05344494047618\", \"x\": 0.55, \"xanchor\": \"left\", \"xref\": \"x\", \"y\": 40, \"yref\": \"y\"}, {\"align\": \"left\", \"font\": {\"color\": \"#000000\"}, \"showarrow\": false, \"text\": \"1597139968\", \"x\": 1.55, \"xanchor\": \"left\", \"xref\": \"x\", \"y\": 40, \"yref\": \"y\"}, {\"align\": \"left\", \"font\": {\"color\": \"#000000\"}, \"showarrow\": false, \"text\": \"4781.99\", \"x\": 2.55, \"xanchor\": \"left\", \"xref\": \"x\", \"y\": 40, \"yref\": \"y\"}, {\"align\": \"left\", \"font\": {\"color\": \"#000000\"}, \"showarrow\": false, \"text\": \"2017-10-11\", \"x\": -0.45, \"xanchor\": \"left\", \"xref\": \"x\", \"y\": 41, \"yref\": \"y\"}, {\"align\": \"left\", \"font\": {\"color\": \"#000000\"}, \"showarrow\": false, \"text\": \"49.029935966810974\", \"x\": 0.55, \"xanchor\": \"left\", \"xref\": \"x\", \"y\": 41, \"yref\": \"y\"}, {\"align\": \"left\", \"font\": {\"color\": \"#000000\"}, \"showarrow\": false, \"text\": \"1222279936\", \"x\": 1.55, \"xanchor\": \"left\", \"xref\": \"x\", \"y\": 41, \"yref\": \"y\"}, {\"align\": \"left\", \"font\": {\"color\": \"#000000\"}, \"showarrow\": false, \"text\": \"4826.48\", \"x\": 2.55, \"xanchor\": \"left\", \"xref\": \"x\", \"y\": 41, \"yref\": \"y\"}, {\"align\": \"left\", \"font\": {\"color\": \"#000000\"}, \"showarrow\": false, \"text\": \"2017-10-12\", \"x\": -0.45, \"xanchor\": \"left\", \"xref\": \"x\", \"y\": 42, \"yref\": \"y\"}, {\"align\": \"left\", \"font\": {\"color\": \"#000000\"}, \"showarrow\": false, \"text\": \"69.14563292899224\", \"x\": 0.55, \"xanchor\": \"left\", \"xref\": \"x\", \"y\": 42, \"yref\": \"y\"}, {\"align\": \"left\", \"font\": {\"color\": \"#000000\"}, \"showarrow\": false, \"text\": \"2791610112\", \"x\": 1.55, \"xanchor\": \"left\", \"xref\": \"x\", \"y\": 42, \"yref\": \"y\"}, {\"align\": \"left\", \"font\": {\"color\": \"#000000\"}, \"showarrow\": false, \"text\": \"5446.91\", \"x\": 2.55, \"xanchor\": \"left\", \"xref\": \"x\", \"y\": 42, \"yref\": \"y\"}, {\"align\": \"left\", \"font\": {\"color\": \"#000000\"}, \"showarrow\": false, \"text\": \"2017-10-13\", \"x\": -0.45, \"xanchor\": \"left\", \"xref\": \"x\", \"y\": 43, \"yref\": \"y\"}, {\"align\": \"left\", \"font\": {\"color\": \"#000000\"}, \"showarrow\": false, \"text\": \"67.38291578213448\", \"x\": 0.55, \"xanchor\": \"left\", \"xref\": \"x\", \"y\": 43, \"yref\": \"y\"}, {\"align\": \"left\", \"font\": {\"color\": \"#000000\"}, \"showarrow\": false, \"text\": \"3615480064\", \"x\": 1.55, \"xanchor\": \"left\", \"xref\": \"x\", \"y\": 43, \"yref\": \"y\"}, {\"align\": \"left\", \"font\": {\"color\": \"#000000\"}, \"showarrow\": false, \"text\": \"5647.21\", \"x\": 2.55, \"xanchor\": \"left\", \"xref\": \"x\", \"y\": 43, \"yref\": \"y\"}, {\"align\": \"left\", \"font\": {\"color\": \"#000000\"}, \"showarrow\": false, \"text\": \"2017-10-14\", \"x\": -0.45, \"xanchor\": \"left\", \"xref\": \"x\", \"y\": 44, \"yref\": \"y\"}, {\"align\": \"left\", \"font\": {\"color\": \"#000000\"}, \"showarrow\": false, \"text\": \"40.39778632680975\", \"x\": 0.55, \"xanchor\": \"left\", \"xref\": \"x\", \"y\": 44, \"yref\": \"y\"}, {\"align\": \"left\", \"font\": {\"color\": \"#000000\"}, \"showarrow\": false, \"text\": \"1669030016\", \"x\": 1.55, \"xanchor\": \"left\", \"xref\": \"x\", \"y\": 44, \"yref\": \"y\"}, {\"align\": \"left\", \"font\": {\"color\": \"#000000\"}, \"showarrow\": false, \"text\": \"5831.79\", \"x\": 2.55, \"xanchor\": \"left\", \"xref\": \"x\", \"y\": 44, \"yref\": \"y\"}, {\"align\": \"left\", \"font\": {\"color\": \"#000000\"}, \"showarrow\": false, \"text\": \"2017-10-15\", \"x\": -0.45, \"xanchor\": \"left\", \"xref\": \"x\", \"y\": 45, \"yref\": \"y\"}, {\"align\": \"left\", \"font\": {\"color\": \"#000000\"}, \"showarrow\": false, \"text\": \"42.93939138407888\", \"x\": 0.55, \"xanchor\": \"left\", \"xref\": \"x\", \"y\": 45, \"yref\": \"y\"}, {\"align\": \"left\", \"font\": {\"color\": \"#000000\"}, \"showarrow\": false, \"text\": \"1976039936\", \"x\": 1.55, \"xanchor\": \"left\", \"xref\": \"x\", \"y\": 45, \"yref\": \"y\"}, {\"align\": \"left\", \"font\": {\"color\": \"#000000\"}, \"showarrow\": false, \"text\": \"5678.19\", \"x\": 2.55, \"xanchor\": \"left\", \"xref\": \"x\", \"y\": 45, \"yref\": \"y\"}, {\"align\": \"left\", \"font\": {\"color\": \"#000000\"}, \"showarrow\": false, \"text\": \"2017-10-16\", \"x\": -0.45, \"xanchor\": \"left\", \"xref\": \"x\", \"y\": 46, \"yref\": \"y\"}, {\"align\": \"left\", \"font\": {\"color\": \"#000000\"}, \"showarrow\": false, \"text\": \"61.87198006854253\", \"x\": 0.55, \"xanchor\": \"left\", \"xref\": \"x\", \"y\": 46, \"yref\": \"y\"}, {\"align\": \"left\", \"font\": {\"color\": \"#000000\"}, \"showarrow\": false, \"text\": \"2008070016\", \"x\": 1.55, \"xanchor\": \"left\", \"xref\": \"x\", \"y\": 46, \"yref\": \"y\"}, {\"align\": \"left\", \"font\": {\"color\": \"#000000\"}, \"showarrow\": false, \"text\": \"5725.59\", \"x\": 2.55, \"xanchor\": \"left\", \"xref\": \"x\", \"y\": 46, \"yref\": \"y\"}, {\"align\": \"left\", \"font\": {\"color\": \"#000000\"}, \"showarrow\": false, \"text\": \"2017-10-17\", \"x\": -0.45, \"xanchor\": \"left\", \"xref\": \"x\", \"y\": 47, \"yref\": \"y\"}, {\"align\": \"left\", \"font\": {\"color\": \"#000000\"}, \"showarrow\": false, \"text\": \"57.585856782106816\", \"x\": 0.55, \"xanchor\": \"left\", \"xref\": \"x\", \"y\": 47, \"yref\": \"y\"}, {\"align\": \"left\", \"font\": {\"color\": \"#000000\"}, \"showarrow\": false, \"text\": \"1821570048\", \"x\": 1.55, \"xanchor\": \"left\", \"xref\": \"x\", \"y\": 47, \"yref\": \"y\"}, {\"align\": \"left\", \"font\": {\"color\": \"#000000\"}, \"showarrow\": false, \"text\": \"5605.51\", \"x\": 2.55, \"xanchor\": \"left\", \"xref\": \"x\", \"y\": 47, \"yref\": \"y\"}, {\"align\": \"left\", \"font\": {\"color\": \"#000000\"}, \"showarrow\": false, \"text\": \"2017-10-18\", \"x\": -0.45, \"xanchor\": \"left\", \"xref\": \"x\", \"y\": 48, \"yref\": \"y\"}, {\"align\": \"left\", \"font\": {\"color\": \"#000000\"}, \"showarrow\": false, \"text\": \"61.17085682532166\", \"x\": 0.55, \"xanchor\": \"left\", \"xref\": \"x\", \"y\": 48, \"yref\": \"y\"}, {\"align\": \"left\", \"font\": {\"color\": \"#000000\"}, \"showarrow\": false, \"text\": \"2399269888\", \"x\": 1.55, \"xanchor\": \"left\", \"xref\": \"x\", \"y\": 48, \"yref\": \"y\"}, {\"align\": \"left\", \"font\": {\"color\": \"#000000\"}, \"showarrow\": false, \"text\": \"5590.69\", \"x\": 2.55, \"xanchor\": \"left\", \"xref\": \"x\", \"y\": 48, \"yref\": \"y\"}, {\"align\": \"left\", \"font\": {\"color\": \"#000000\"}, \"showarrow\": false, \"text\": \"2017-10-19\", \"x\": -0.45, \"xanchor\": \"left\", \"xref\": \"x\", \"y\": 49, \"yref\": \"y\"}, {\"align\": \"left\", \"font\": {\"color\": \"#000000\"}, \"showarrow\": false, \"text\": \"64.9031809163059\", \"x\": 0.55, \"xanchor\": \"left\", \"xref\": \"x\", \"y\": 49, \"yref\": \"y\"}, {\"align\": \"left\", \"font\": {\"color\": \"#000000\"}, \"showarrow\": false, \"text\": \"1780540032\", \"x\": 1.55, \"xanchor\": \"left\", \"xref\": \"x\", \"y\": 49, \"yref\": \"y\"}, {\"align\": \"left\", \"font\": {\"color\": \"#000000\"}, \"showarrow\": false, \"text\": \"5708.52\", \"x\": 2.55, \"xanchor\": \"left\", \"xref\": \"x\", \"y\": 49, \"yref\": \"y\"}, {\"align\": \"left\", \"font\": {\"color\": \"#000000\"}, \"showarrow\": false, \"text\": \"2017-10-20\", \"x\": -0.45, \"xanchor\": \"left\", \"xref\": \"x\", \"y\": 50, \"yref\": \"y\"}, {\"align\": \"left\", \"font\": {\"color\": \"#000000\"}, \"showarrow\": false, \"text\": \"61.83325431397312\", \"x\": 0.55, \"xanchor\": \"left\", \"xref\": \"x\", \"y\": 50, \"yref\": \"y\"}, {\"align\": \"left\", \"font\": {\"color\": \"#000000\"}, \"showarrow\": false, \"text\": \"2354429952\", \"x\": 1.55, \"xanchor\": \"left\", \"xref\": \"x\", \"y\": 50, \"yref\": \"y\"}, {\"align\": \"left\", \"font\": {\"color\": \"#000000\"}, \"showarrow\": false, \"text\": \"6011.45\", \"x\": 2.55, \"xanchor\": \"left\", \"xref\": \"x\", \"y\": 50, \"yref\": \"y\"}, {\"align\": \"left\", \"font\": {\"color\": \"#000000\"}, \"showarrow\": false, \"text\": \"2017-10-21\", \"x\": -0.45, \"xanchor\": \"left\", \"xref\": \"x\", \"y\": 51, \"yref\": \"y\"}, {\"align\": \"left\", \"font\": {\"color\": \"#000000\"}, \"showarrow\": false, \"text\": \"62.9805841149591\", \"x\": 0.55, \"xanchor\": \"left\", \"xref\": \"x\", \"y\": 51, \"yref\": \"y\"}, {\"align\": \"left\", \"font\": {\"color\": \"#000000\"}, \"showarrow\": false, \"text\": \"2207099904\", \"x\": 1.55, \"xanchor\": \"left\", \"xref\": \"x\", \"y\": 51, \"yref\": \"y\"}, {\"align\": \"left\", \"font\": {\"color\": \"#000000\"}, \"showarrow\": false, \"text\": \"6031.60\", \"x\": 2.55, \"xanchor\": \"left\", \"xref\": \"x\", \"y\": 51, \"yref\": \"y\"}, {\"align\": \"left\", \"font\": {\"color\": \"#000000\"}, \"showarrow\": false, \"text\": \"2017-10-22\", \"x\": -0.45, \"xanchor\": \"left\", \"xref\": \"x\", \"y\": 52, \"yref\": \"y\"}, {\"align\": \"left\", \"font\": {\"color\": \"#000000\"}, \"showarrow\": false, \"text\": \"41.22259750593734\", \"x\": 0.55, \"xanchor\": \"left\", \"xref\": \"x\", \"y\": 52, \"yref\": \"y\"}, {\"align\": \"left\", \"font\": {\"color\": \"#000000\"}, \"showarrow\": false, \"text\": \"2034630016\", \"x\": 1.55, \"xanchor\": \"left\", \"xref\": \"x\", \"y\": 52, \"yref\": \"y\"}, {\"align\": \"left\", \"font\": {\"color\": \"#000000\"}, \"showarrow\": false, \"text\": \"6008.42\", \"x\": 2.55, \"xanchor\": \"left\", \"xref\": \"x\", \"y\": 52, \"yref\": \"y\"}, {\"align\": \"left\", \"font\": {\"color\": \"#000000\"}, \"showarrow\": false, \"text\": \"2017-10-23\", \"x\": -0.45, \"xanchor\": \"left\", \"xref\": \"x\", \"y\": 53, \"yref\": \"y\"}, {\"align\": \"left\", \"font\": {\"color\": \"#000000\"}, \"showarrow\": false, \"text\": \"57.8168929623617\", \"x\": 0.55, \"xanchor\": \"left\", \"xref\": \"x\", \"y\": 53, \"yref\": \"y\"}, {\"align\": \"left\", \"font\": {\"color\": \"#000000\"}, \"showarrow\": false, \"text\": \"2401840128\", \"x\": 1.55, \"xanchor\": \"left\", \"xref\": \"x\", \"y\": 53, \"yref\": \"y\"}, {\"align\": \"left\", \"font\": {\"color\": \"#000000\"}, \"showarrow\": false, \"text\": \"5930.32\", \"x\": 2.55, \"xanchor\": \"left\", \"xref\": \"x\", \"y\": 53, \"yref\": \"y\"}, {\"align\": \"left\", \"font\": {\"color\": \"#000000\"}, \"showarrow\": false, \"text\": \"2017-10-24\", \"x\": -0.45, \"xanchor\": \"left\", \"xref\": \"x\", \"y\": 54, \"yref\": \"y\"}, {\"align\": \"left\", \"font\": {\"color\": \"#000000\"}, \"showarrow\": false, \"text\": \"70.14401393458658\", \"x\": 0.55, \"xanchor\": \"left\", \"xref\": \"x\", \"y\": 54, \"yref\": \"y\"}, {\"align\": \"left\", \"font\": {\"color\": \"#000000\"}, \"showarrow\": false, \"text\": \"2735699968\", \"x\": 1.55, \"xanchor\": \"left\", \"xref\": \"x\", \"y\": 54, \"yref\": \"y\"}, {\"align\": \"left\", \"font\": {\"color\": \"#000000\"}, \"showarrow\": false, \"text\": \"5526.64\", \"x\": 2.55, \"xanchor\": \"left\", \"xref\": \"x\", \"y\": 54, \"yref\": \"y\"}, {\"align\": \"left\", \"font\": {\"color\": \"#000000\"}, \"showarrow\": false, \"text\": \"2017-10-25\", \"x\": -0.45, \"xanchor\": \"left\", \"xref\": \"x\", \"y\": 55, \"yref\": \"y\"}, {\"align\": \"left\", \"font\": {\"color\": \"#000000\"}, \"showarrow\": false, \"text\": \"68.57515346921599\", \"x\": 0.55, \"xanchor\": \"left\", \"xref\": \"x\", \"y\": 55, \"yref\": \"y\"}, {\"align\": \"left\", \"font\": {\"color\": \"#000000\"}, \"showarrow\": false, \"text\": \"1966989952\", \"x\": 1.55, \"xanchor\": \"left\", \"xref\": \"x\", \"y\": 55, \"yref\": \"y\"}, {\"align\": \"left\", \"font\": {\"color\": \"#000000\"}, \"showarrow\": false, \"text\": \"5750.80\", \"x\": 2.55, \"xanchor\": \"left\", \"xref\": \"x\", \"y\": 55, \"yref\": \"y\"}, {\"align\": \"left\", \"font\": {\"color\": \"#000000\"}, \"showarrow\": false, \"text\": \"2017-10-26\", \"x\": -0.45, \"xanchor\": \"left\", \"xref\": \"x\", \"y\": 56, \"yref\": \"y\"}, {\"align\": \"left\", \"font\": {\"color\": \"#000000\"}, \"showarrow\": false, \"text\": \"65.96972327441078\", \"x\": 0.55, \"xanchor\": \"left\", \"xref\": \"x\", \"y\": 56, \"yref\": \"y\"}, {\"align\": \"left\", \"font\": {\"color\": \"#000000\"}, \"showarrow\": false, \"text\": \"1905040000\", \"x\": 1.55, \"xanchor\": \"left\", \"xref\": \"x\", \"y\": 56, \"yref\": \"y\"}, {\"align\": \"left\", \"font\": {\"color\": \"#000000\"}, \"showarrow\": false, \"text\": \"5904.83\", \"x\": 2.55, \"xanchor\": \"left\", \"xref\": \"x\", \"y\": 56, \"yref\": \"y\"}, {\"align\": \"left\", \"font\": {\"color\": \"#000000\"}, \"showarrow\": false, \"text\": \"2017-10-27\", \"x\": -0.45, \"xanchor\": \"left\", \"xref\": \"x\", \"y\": 57, \"yref\": \"y\"}, {\"align\": \"left\", \"font\": {\"color\": \"#000000\"}, \"showarrow\": false, \"text\": \"53.58439078282832\", \"x\": 0.55, \"xanchor\": \"left\", \"xref\": \"x\", \"y\": 57, \"yref\": \"y\"}, {\"align\": \"left\", \"font\": {\"color\": \"#000000\"}, \"showarrow\": false, \"text\": \"1710130048\", \"x\": 1.55, \"xanchor\": \"left\", \"xref\": \"x\", \"y\": 57, \"yref\": \"y\"}, {\"align\": \"left\", \"font\": {\"color\": \"#000000\"}, \"showarrow\": false, \"text\": \"5780.90\", \"x\": 2.55, \"xanchor\": \"left\", \"xref\": \"x\", \"y\": 57, \"yref\": \"y\"}, {\"align\": \"left\", \"font\": {\"color\": \"#000000\"}, \"showarrow\": false, \"text\": \"2017-10-28\", \"x\": -0.45, \"xanchor\": \"left\", \"xref\": \"x\", \"y\": 58, \"yref\": \"y\"}, {\"align\": \"left\", \"font\": {\"color\": \"#000000\"}, \"showarrow\": false, \"text\": \"40.44496268488456\", \"x\": 0.55, \"xanchor\": \"left\", \"xref\": \"x\", \"y\": 58, \"yref\": \"y\"}, {\"align\": \"left\", \"font\": {\"color\": \"#000000\"}, \"showarrow\": false, \"text\": \"1403920000\", \"x\": 1.55, \"xanchor\": \"left\", \"xref\": \"x\", \"y\": 58, \"yref\": \"y\"}, {\"align\": \"left\", \"font\": {\"color\": \"#000000\"}, \"showarrow\": false, \"text\": \"5753.09\", \"x\": 2.55, \"xanchor\": \"left\", \"xref\": \"x\", \"y\": 58, \"yref\": \"y\"}, {\"align\": \"left\", \"font\": {\"color\": \"#000000\"}, \"showarrow\": false, \"text\": \"2017-10-29\", \"x\": -0.45, \"xanchor\": \"left\", \"xref\": \"x\", \"y\": 59, \"yref\": \"y\"}, {\"align\": \"left\", \"font\": {\"color\": \"#000000\"}, \"showarrow\": false, \"text\": \"48.928504537129534\", \"x\": 0.55, \"xanchor\": \"left\", \"xref\": \"x\", \"y\": 59, \"yref\": \"y\"}, {\"align\": \"left\", \"font\": {\"color\": \"#000000\"}, \"showarrow\": false, \"text\": \"2859040000\", \"x\": 1.55, \"xanchor\": \"left\", \"xref\": \"x\", \"y\": 59, \"yref\": \"y\"}, {\"align\": \"left\", \"font\": {\"color\": \"#000000\"}, \"showarrow\": false, \"text\": \"6153.85\", \"x\": 2.55, \"xanchor\": \"left\", \"xref\": \"x\", \"y\": 59, \"yref\": \"y\"}, {\"align\": \"left\", \"font\": {\"color\": \"#000000\"}, \"showarrow\": false, \"text\": \"2017-10-30\", \"x\": -0.45, \"xanchor\": \"left\", \"xref\": \"x\", \"y\": 60, \"yref\": \"y\"}, {\"align\": \"left\", \"font\": {\"color\": \"#000000\"}, \"showarrow\": false, \"text\": \"62.66725360750357\", \"x\": 0.55, \"xanchor\": \"left\", \"xref\": \"x\", \"y\": 60, \"yref\": \"y\"}, {\"align\": \"left\", \"font\": {\"color\": \"#000000\"}, \"showarrow\": false, \"text\": \"1772150016\", \"x\": 1.55, \"xanchor\": \"left\", \"xref\": \"x\", \"y\": 60, \"yref\": \"y\"}, {\"align\": \"left\", \"font\": {\"color\": \"#000000\"}, \"showarrow\": false, \"text\": \"6130.53\", \"x\": 2.55, \"xanchor\": \"left\", \"xref\": \"x\", \"y\": 60, \"yref\": \"y\"}, {\"align\": \"left\", \"font\": {\"color\": \"#000000\"}, \"showarrow\": false, \"text\": \"2017-10-31\", \"x\": -0.45, \"xanchor\": \"left\", \"xref\": \"x\", \"y\": 61, \"yref\": \"y\"}, {\"align\": \"left\", \"font\": {\"color\": \"#000000\"}, \"showarrow\": false, \"text\": \"76.58504479316979\", \"x\": 0.55, \"xanchor\": \"left\", \"xref\": \"x\", \"y\": 61, \"yref\": \"y\"}, {\"align\": \"left\", \"font\": {\"color\": \"#000000\"}, \"showarrow\": false, \"text\": \"2311379968\", \"x\": 1.55, \"xanchor\": \"left\", \"xref\": \"x\", \"y\": 61, \"yref\": \"y\"}, {\"align\": \"left\", \"font\": {\"color\": \"#000000\"}, \"showarrow\": false, \"text\": \"6468.40\", \"x\": 2.55, \"xanchor\": \"left\", \"xref\": \"x\", \"y\": 61, \"yref\": \"y\"}, {\"align\": \"left\", \"font\": {\"color\": \"#000000\"}, \"showarrow\": false, \"text\": \"2017-11-01\", \"x\": -0.45, \"xanchor\": \"left\", \"xref\": \"x\", \"y\": 62, \"yref\": \"y\"}, {\"align\": \"left\", \"font\": {\"color\": \"#000000\"}, \"showarrow\": false, \"text\": \"68.9412382756132\", \"x\": 0.55, \"xanchor\": \"left\", \"xref\": \"x\", \"y\": 62, \"yref\": \"y\"}, {\"align\": \"left\", \"font\": {\"color\": \"#000000\"}, \"showarrow\": false, \"text\": \"2870320128\", \"x\": 1.55, \"xanchor\": \"left\", \"xref\": \"x\", \"y\": 62, \"yref\": \"y\"}, {\"align\": \"left\", \"font\": {\"color\": \"#000000\"}, \"showarrow\": false, \"text\": \"6767.31\", \"x\": 2.55, \"xanchor\": \"left\", \"xref\": \"x\", \"y\": 62, \"yref\": \"y\"}, {\"align\": \"left\", \"font\": {\"color\": \"#000000\"}, \"showarrow\": false, \"text\": \"2017-11-02\", \"x\": -0.45, \"xanchor\": \"left\", \"xref\": \"x\", \"y\": 63, \"yref\": \"y\"}, {\"align\": \"left\", \"font\": {\"color\": \"#000000\"}, \"showarrow\": false, \"text\": \"66.62065593434349\", \"x\": 0.55, \"xanchor\": \"left\", \"xref\": \"x\", \"y\": 63, \"yref\": \"y\"}, {\"align\": \"left\", \"font\": {\"color\": \"#000000\"}, \"showarrow\": false, \"text\": \"4653770240\", \"x\": 1.55, \"xanchor\": \"left\", \"xref\": \"x\", \"y\": 63, \"yref\": \"y\"}, {\"align\": \"left\", \"font\": {\"color\": \"#000000\"}, \"showarrow\": false, \"text\": \"7078.50\", \"x\": 2.55, \"xanchor\": \"left\", \"xref\": \"x\", \"y\": 63, \"yref\": \"y\"}, {\"align\": \"left\", \"font\": {\"color\": \"#000000\"}, \"showarrow\": false, \"text\": \"2017-11-03\", \"x\": -0.45, \"xanchor\": \"left\", \"xref\": \"x\", \"y\": 64, \"yref\": \"y\"}, {\"align\": \"left\", \"font\": {\"color\": \"#000000\"}, \"showarrow\": false, \"text\": \"80.82874253956035\", \"x\": 0.55, \"xanchor\": \"left\", \"xref\": \"x\", \"y\": 64, \"yref\": \"y\"}, {\"align\": \"left\", \"font\": {\"color\": \"#000000\"}, \"showarrow\": false, \"text\": \"3369860096\", \"x\": 1.55, \"xanchor\": \"left\", \"xref\": \"x\", \"y\": 64, \"yref\": \"y\"}, {\"align\": \"left\", \"font\": {\"color\": \"#000000\"}, \"showarrow\": false, \"text\": \"7207.76\", \"x\": 2.55, \"xanchor\": \"left\", \"xref\": \"x\", \"y\": 64, \"yref\": \"y\"}, {\"align\": \"left\", \"font\": {\"color\": \"#000000\"}, \"showarrow\": false, \"text\": \"2017-11-04\", \"x\": -0.45, \"xanchor\": \"left\", \"xref\": \"x\", \"y\": 65, \"yref\": \"y\"}, {\"align\": \"left\", \"font\": {\"color\": \"#000000\"}, \"showarrow\": false, \"text\": \"56.06653724747473\", \"x\": 0.55, \"xanchor\": \"left\", \"xref\": \"x\", \"y\": 65, \"yref\": \"y\"}, {\"align\": \"left\", \"font\": {\"color\": \"#000000\"}, \"showarrow\": false, \"text\": \"2483800064\", \"x\": 1.55, \"xanchor\": \"left\", \"xref\": \"x\", \"y\": 65, \"yref\": \"y\"}, {\"align\": \"left\", \"font\": {\"color\": \"#000000\"}, \"showarrow\": false, \"text\": \"7379.95\", \"x\": 2.55, \"xanchor\": \"left\", \"xref\": \"x\", \"y\": 65, \"yref\": \"y\"}, {\"align\": \"left\", \"font\": {\"color\": \"#000000\"}, \"showarrow\": false, \"text\": \"2017-11-05\", \"x\": -0.45, \"xanchor\": \"left\", \"xref\": \"x\", \"y\": 66, \"yref\": \"y\"}, {\"align\": \"left\", \"font\": {\"color\": \"#000000\"}, \"showarrow\": false, \"text\": \"50.97287406806151\", \"x\": 0.55, \"xanchor\": \"left\", \"xref\": \"x\", \"y\": 66, \"yref\": \"y\"}, {\"align\": \"left\", \"font\": {\"color\": \"#000000\"}, \"showarrow\": false, \"text\": \"2380410112\", \"x\": 1.55, \"xanchor\": \"left\", \"xref\": \"x\", \"y\": 66, \"yref\": \"y\"}, {\"align\": \"left\", \"font\": {\"color\": \"#000000\"}, \"showarrow\": false, \"text\": \"7407.41\", \"x\": 2.55, \"xanchor\": \"left\", \"xref\": \"x\", \"y\": 66, \"yref\": \"y\"}, {\"align\": \"left\", \"font\": {\"color\": \"#000000\"}, \"showarrow\": false, \"text\": \"2017-11-06\", \"x\": -0.45, \"xanchor\": \"left\", \"xref\": \"x\", \"y\": 67, \"yref\": \"y\"}, {\"align\": \"left\", \"font\": {\"color\": \"#000000\"}, \"showarrow\": false, \"text\": \"55.187238413041996\", \"x\": 0.55, \"xanchor\": \"left\", \"xref\": \"x\", \"y\": 67, \"yref\": \"y\"}, {\"align\": \"left\", \"font\": {\"color\": \"#000000\"}, \"showarrow\": false, \"text\": \"3111899904\", \"x\": 1.55, \"xanchor\": \"left\", \"xref\": \"x\", \"y\": 67, \"yref\": \"y\"}, {\"align\": \"left\", \"font\": {\"color\": \"#000000\"}, \"showarrow\": false, \"text\": \"7022.76\", \"x\": 2.55, \"xanchor\": \"left\", \"xref\": \"x\", \"y\": 67, \"yref\": \"y\"}, {\"align\": \"left\", \"font\": {\"color\": \"#000000\"}, \"showarrow\": false, \"text\": \"2017-11-07\", \"x\": -0.45, \"xanchor\": \"left\", \"xref\": \"x\", \"y\": 68, \"yref\": \"y\"}, {\"align\": \"left\", \"font\": {\"color\": \"#000000\"}, \"showarrow\": false, \"text\": \"66.26171888903922\", \"x\": 0.55, \"xanchor\": \"left\", \"xref\": \"x\", \"y\": 68, \"yref\": \"y\"}, {\"align\": \"left\", \"font\": {\"color\": \"#000000\"}, \"showarrow\": false, \"text\": \"2326340096\", \"x\": 1.55, \"xanchor\": \"left\", \"xref\": \"x\", \"y\": 68, \"yref\": \"y\"}, {\"align\": \"left\", \"font\": {\"color\": \"#000000\"}, \"showarrow\": false, \"text\": \"7144.38\", \"x\": 2.55, \"xanchor\": \"left\", \"xref\": \"x\", \"y\": 68, \"yref\": \"y\"}, {\"align\": \"left\", \"font\": {\"color\": \"#000000\"}, \"showarrow\": false, \"text\": \"2017-11-08\", \"x\": -0.45, \"xanchor\": \"left\", \"xref\": \"x\", \"y\": 69, \"yref\": \"y\"}, {\"align\": \"left\", \"font\": {\"color\": \"#000000\"}, \"showarrow\": false, \"text\": \"101.87834161866388\", \"x\": 0.55, \"xanchor\": \"left\", \"xref\": \"x\", \"y\": 69, \"yref\": \"y\"}, {\"align\": \"left\", \"font\": {\"color\": \"#000000\"}, \"showarrow\": false, \"text\": \"4602200064\", \"x\": 1.55, \"xanchor\": \"left\", \"xref\": \"x\", \"y\": 69, \"yref\": \"y\"}, {\"align\": \"left\", \"font\": {\"color\": \"#000000\"}, \"showarrow\": false, \"text\": \"7459.69\", \"x\": 2.55, \"xanchor\": \"left\", \"xref\": \"x\", \"y\": 69, \"yref\": \"y\"}, {\"align\": \"left\", \"font\": {\"color\": \"#000000\"}, \"showarrow\": false, \"text\": \"2017-11-09\", \"x\": -0.45, \"xanchor\": \"left\", \"xref\": \"x\", \"y\": 70, \"yref\": \"y\"}, {\"align\": \"left\", \"font\": {\"color\": \"#000000\"}, \"showarrow\": false, \"text\": \"68.17436293105042\", \"x\": 0.55, \"xanchor\": \"left\", \"xref\": \"x\", \"y\": 70, \"yref\": \"y\"}, {\"align\": \"left\", \"font\": {\"color\": \"#000000\"}, \"showarrow\": false, \"text\": \"3226249984\", \"x\": 1.55, \"xanchor\": \"left\", \"xref\": \"x\", \"y\": 70, \"yref\": \"y\"}, {\"align\": \"left\", \"font\": {\"color\": \"#000000\"}, \"showarrow\": false, \"text\": \"7143.58\", \"x\": 2.55, \"xanchor\": \"left\", \"xref\": \"x\", \"y\": 70, \"yref\": \"y\"}, {\"align\": \"left\", \"font\": {\"color\": \"#000000\"}, \"showarrow\": false, \"text\": \"2017-11-10\", \"x\": -0.45, \"xanchor\": \"left\", \"xref\": \"x\", \"y\": 71, \"yref\": \"y\"}, {\"align\": \"left\", \"font\": {\"color\": \"#000000\"}, \"showarrow\": false, \"text\": \"75.20613068181805\", \"x\": 0.55, \"xanchor\": \"left\", \"xref\": \"x\", \"y\": 71, \"yref\": \"y\"}, {\"align\": \"left\", \"font\": {\"color\": \"#000000\"}, \"showarrow\": false, \"text\": \"5208249856\", \"x\": 1.55, \"xanchor\": \"left\", \"xref\": \"x\", \"y\": 71, \"yref\": \"y\"}, {\"align\": \"left\", \"font\": {\"color\": \"#000000\"}, \"showarrow\": false, \"text\": \"6618.14\", \"x\": 2.55, \"xanchor\": \"left\", \"xref\": \"x\", \"y\": 71, \"yref\": \"y\"}, {\"align\": \"left\", \"font\": {\"color\": \"#000000\"}, \"showarrow\": false, \"text\": \"2017-11-11\", \"x\": -0.45, \"xanchor\": \"left\", \"xref\": \"x\", \"y\": 72, \"yref\": \"y\"}, {\"align\": \"left\", \"font\": {\"color\": \"#000000\"}, \"showarrow\": false, \"text\": \"65.08762490310195\", \"x\": 0.55, \"xanchor\": \"left\", \"xref\": \"x\", \"y\": 72, \"yref\": \"y\"}, {\"align\": \"left\", \"font\": {\"color\": \"#000000\"}, \"showarrow\": false, \"text\": \"4908680192\", \"x\": 1.55, \"xanchor\": \"left\", \"xref\": \"x\", \"y\": 72, \"yref\": \"y\"}, {\"align\": \"left\", \"font\": {\"color\": \"#000000\"}, \"showarrow\": false, \"text\": \"6357.60\", \"x\": 2.55, \"xanchor\": \"left\", \"xref\": \"x\", \"y\": 72, \"yref\": \"y\"}, {\"align\": \"left\", \"font\": {\"color\": \"#000000\"}, \"showarrow\": false, \"text\": \"2017-11-12\", \"x\": -0.45, \"xanchor\": \"left\", \"xref\": \"x\", \"y\": 73, \"yref\": \"y\"}, {\"align\": \"left\", \"font\": {\"color\": \"#000000\"}, \"showarrow\": false, \"text\": \"69.47252675730356\", \"x\": 0.55, \"xanchor\": \"left\", \"xref\": \"x\", \"y\": 73, \"yref\": \"y\"}, {\"align\": \"left\", \"font\": {\"color\": \"#000000\"}, \"showarrow\": false, \"text\": \"8957349888\", \"x\": 1.55, \"xanchor\": \"left\", \"xref\": \"x\", \"y\": 73, \"yref\": \"y\"}, {\"align\": \"left\", \"font\": {\"color\": \"#000000\"}, \"showarrow\": false, \"text\": \"5950.07\", \"x\": 2.55, \"xanchor\": \"left\", \"xref\": \"x\", \"y\": 73, \"yref\": \"y\"}, {\"align\": \"left\", \"font\": {\"color\": \"#000000\"}, \"showarrow\": false, \"text\": \"2017-11-13\", \"x\": -0.45, \"xanchor\": \"left\", \"xref\": \"x\", \"y\": 74, \"yref\": \"y\"}, {\"align\": \"left\", \"font\": {\"color\": \"#000000\"}, \"showarrow\": false, \"text\": \"70.9659491041366\", \"x\": 0.55, \"xanchor\": \"left\", \"xref\": \"x\", \"y\": 74, \"yref\": \"y\"}, {\"align\": \"left\", \"font\": {\"color\": \"#000000\"}, \"showarrow\": false, \"text\": \"6263249920\", \"x\": 1.55, \"xanchor\": \"left\", \"xref\": \"x\", \"y\": 74, \"yref\": \"y\"}, {\"align\": \"left\", \"font\": {\"color\": \"#000000\"}, \"showarrow\": false, \"text\": \"6559.49\", \"x\": 2.55, \"xanchor\": \"left\", \"xref\": \"x\", \"y\": 74, \"yref\": \"y\"}, {\"align\": \"left\", \"font\": {\"color\": \"#000000\"}, \"showarrow\": false, \"text\": \"2017-11-14\", \"x\": -0.45, \"xanchor\": \"left\", \"xref\": \"x\", \"y\": 75, \"yref\": \"y\"}, {\"align\": \"left\", \"font\": {\"color\": \"#000000\"}, \"showarrow\": false, \"text\": \"84.93580048840873\", \"x\": 0.55, \"xanchor\": \"left\", \"xref\": \"x\", \"y\": 75, \"yref\": \"y\"}, {\"align\": \"left\", \"font\": {\"color\": \"#000000\"}, \"showarrow\": false, \"text\": \"3197110016\", \"x\": 1.55, \"xanchor\": \"left\", \"xref\": \"x\", \"y\": 75, \"yref\": \"y\"}, {\"align\": \"left\", \"font\": {\"color\": \"#000000\"}, \"showarrow\": false, \"text\": \"6635.75\", \"x\": 2.55, \"xanchor\": \"left\", \"xref\": \"x\", \"y\": 75, \"yref\": \"y\"}, {\"align\": \"left\", \"font\": {\"color\": \"#000000\"}, \"showarrow\": false, \"text\": \"2017-11-15\", \"x\": -0.45, \"xanchor\": \"left\", \"xref\": \"x\", \"y\": 76, \"yref\": \"y\"}, {\"align\": \"left\", \"font\": {\"color\": \"#000000\"}, \"showarrow\": false, \"text\": \"93.5920690488001\", \"x\": 0.55, \"xanchor\": \"left\", \"xref\": \"x\", \"y\": 76, \"yref\": \"y\"}, {\"align\": \"left\", \"font\": {\"color\": \"#000000\"}, \"showarrow\": false, \"text\": \"4200880128\", \"x\": 1.55, \"xanchor\": \"left\", \"xref\": \"x\", \"y\": 76, \"yref\": \"y\"}, {\"align\": \"left\", \"font\": {\"color\": \"#000000\"}, \"showarrow\": false, \"text\": \"7315.54\", \"x\": 2.55, \"xanchor\": \"left\", \"xref\": \"x\", \"y\": 76, \"yref\": \"y\"}, {\"align\": \"left\", \"font\": {\"color\": \"#000000\"}, \"showarrow\": false, \"text\": \"2017-11-16\", \"x\": -0.45, \"xanchor\": \"left\", \"xref\": \"x\", \"y\": 77, \"yref\": \"y\"}, {\"align\": \"left\", \"font\": {\"color\": \"#000000\"}, \"showarrow\": false, \"text\": \"95.94134783756459\", \"x\": 0.55, \"xanchor\": \"left\", \"xref\": \"x\", \"y\": 77, \"yref\": \"y\"}, {\"align\": \"left\", \"font\": {\"color\": \"#000000\"}, \"showarrow\": false, \"text\": \"5123809792\", \"x\": 1.55, \"xanchor\": \"left\", \"xref\": \"x\", \"y\": 77, \"yref\": \"y\"}, {\"align\": \"left\", \"font\": {\"color\": \"#000000\"}, \"showarrow\": false, \"text\": \"7871.69\", \"x\": 2.55, \"xanchor\": \"left\", \"xref\": \"x\", \"y\": 77, \"yref\": \"y\"}, {\"align\": \"left\", \"font\": {\"color\": \"#000000\"}, \"showarrow\": false, \"text\": \"2017-11-17\", \"x\": -0.45, \"xanchor\": \"left\", \"xref\": \"x\", \"y\": 78, \"yref\": \"y\"}, {\"align\": \"left\", \"font\": {\"color\": \"#000000\"}, \"showarrow\": false, \"text\": \"97.8746565547247\", \"x\": 0.55, \"xanchor\": \"left\", \"xref\": \"x\", \"y\": 78, \"yref\": \"y\"}, {\"align\": \"left\", \"font\": {\"color\": \"#000000\"}, \"showarrow\": false, \"text\": \"4651670016\", \"x\": 1.55, \"xanchor\": \"left\", \"xref\": \"x\", \"y\": 78, \"yref\": \"y\"}, {\"align\": \"left\", \"font\": {\"color\": \"#000000\"}, \"showarrow\": false, \"text\": \"7708.99\", \"x\": 2.55, \"xanchor\": \"left\", \"xref\": \"x\", \"y\": 78, \"yref\": \"y\"}, {\"align\": \"left\", \"font\": {\"color\": \"#000000\"}, \"showarrow\": false, \"text\": \"2017-11-18\", \"x\": -0.45, \"xanchor\": \"left\", \"xref\": \"x\", \"y\": 79, \"yref\": \"y\"}, {\"align\": \"left\", \"font\": {\"color\": \"#000000\"}, \"showarrow\": false, \"text\": \"77.56095560265358\", \"x\": 0.55, \"xanchor\": \"left\", \"xref\": \"x\", \"y\": 79, \"yref\": \"y\"}, {\"align\": \"left\", \"font\": {\"color\": \"#000000\"}, \"showarrow\": false, \"text\": \"3667190016\", \"x\": 1.55, \"xanchor\": \"left\", \"xref\": \"x\", \"y\": 79, \"yref\": \"y\"}, {\"align\": \"left\", \"font\": {\"color\": \"#000000\"}, \"showarrow\": false, \"text\": \"7790.15\", \"x\": 2.55, \"xanchor\": \"left\", \"xref\": \"x\", \"y\": 79, \"yref\": \"y\"}, {\"align\": \"left\", \"font\": {\"color\": \"#000000\"}, \"showarrow\": false, \"text\": \"2017-11-19\", \"x\": -0.45, \"xanchor\": \"left\", \"xref\": \"x\", \"y\": 80, \"yref\": \"y\"}, {\"align\": \"left\", \"font\": {\"color\": \"#000000\"}, \"showarrow\": false, \"text\": \"79.85877472750465\", \"x\": 0.55, \"xanchor\": \"left\", \"xref\": \"x\", \"y\": 80, \"yref\": \"y\"}, {\"align\": \"left\", \"font\": {\"color\": \"#000000\"}, \"showarrow\": false, \"text\": \"3149319936\", \"x\": 1.55, \"xanchor\": \"left\", \"xref\": \"x\", \"y\": 80, \"yref\": \"y\"}, {\"align\": \"left\", \"font\": {\"color\": \"#000000\"}, \"showarrow\": false, \"text\": \"8036.49\", \"x\": 2.55, \"xanchor\": \"left\", \"xref\": \"x\", \"y\": 80, \"yref\": \"y\"}, {\"align\": \"left\", \"font\": {\"color\": \"#000000\"}, \"showarrow\": false, \"text\": \"2017-11-20\", \"x\": -0.45, \"xanchor\": \"left\", \"xref\": \"x\", \"y\": 81, \"yref\": \"y\"}, {\"align\": \"left\", \"font\": {\"color\": \"#000000\"}, \"showarrow\": false, \"text\": \"64.63633352634466\", \"x\": 0.55, \"xanchor\": \"left\", \"xref\": \"x\", \"y\": 81, \"yref\": \"y\"}, {\"align\": \"left\", \"font\": {\"color\": \"#000000\"}, \"showarrow\": false, \"text\": \"3488450048\", \"x\": 1.55, \"xanchor\": \"left\", \"xref\": \"x\", \"y\": 81, \"yref\": \"y\"}, {\"align\": \"left\", \"font\": {\"color\": \"#000000\"}, \"showarrow\": false, \"text\": \"8200.64\", \"x\": 2.55, \"xanchor\": \"left\", \"xref\": \"x\", \"y\": 81, \"yref\": \"y\"}, {\"align\": \"left\", \"font\": {\"color\": \"#000000\"}, \"showarrow\": false, \"text\": \"2017-11-21\", \"x\": -0.45, \"xanchor\": \"left\", \"xref\": \"x\", \"y\": 82, \"yref\": \"y\"}, {\"align\": \"left\", \"font\": {\"color\": \"#000000\"}, \"showarrow\": false, \"text\": \"88.84891132305194\", \"x\": 0.55, \"xanchor\": \"left\", \"xref\": \"x\", \"y\": 82, \"yref\": \"y\"}, {\"align\": \"left\", \"font\": {\"color\": \"#000000\"}, \"showarrow\": false, \"text\": \"4277609984\", \"x\": 1.55, \"xanchor\": \"left\", \"xref\": \"x\", \"y\": 82, \"yref\": \"y\"}, {\"align\": \"left\", \"font\": {\"color\": \"#000000\"}, \"showarrow\": false, \"text\": \"8071.26\", \"x\": 2.55, \"xanchor\": \"left\", \"xref\": \"x\", \"y\": 82, \"yref\": \"y\"}, {\"align\": \"left\", \"font\": {\"color\": \"#000000\"}, \"showarrow\": false, \"text\": \"2017-11-22\", \"x\": -0.45, \"xanchor\": \"left\", \"xref\": \"x\", \"y\": 83, \"yref\": \"y\"}, {\"align\": \"left\", \"font\": {\"color\": \"#000000\"}, \"showarrow\": false, \"text\": \"110.26343371212111\", \"x\": 0.55, \"xanchor\": \"left\", \"xref\": \"x\", \"y\": 83, \"yref\": \"y\"}, {\"align\": \"left\", \"font\": {\"color\": \"#000000\"}, \"showarrow\": false, \"text\": \"3633530112\", \"x\": 1.55, \"xanchor\": \"left\", \"xref\": \"x\", \"y\": 83, \"yref\": \"y\"}, {\"align\": \"left\", \"font\": {\"color\": \"#000000\"}, \"showarrow\": false, \"text\": \"8253.55\", \"x\": 2.55, \"xanchor\": \"left\", \"xref\": \"x\", \"y\": 83, \"yref\": \"y\"}, {\"align\": \"left\", \"font\": {\"color\": \"#000000\"}, \"showarrow\": false, \"text\": \"2017-11-23\", \"x\": -0.45, \"xanchor\": \"left\", \"xref\": \"x\", \"y\": 84, \"yref\": \"y\"}, {\"align\": \"left\", \"font\": {\"color\": \"#000000\"}, \"showarrow\": false, \"text\": \"87.35194385554097\", \"x\": 0.55, \"xanchor\": \"left\", \"xref\": \"x\", \"y\": 84, \"yref\": \"y\"}, {\"align\": \"left\", \"font\": {\"color\": \"#000000\"}, \"showarrow\": false, \"text\": \"4225179904\", \"x\": 1.55, \"xanchor\": \"left\", \"xref\": \"x\", \"y\": 84, \"yref\": \"y\"}, {\"align\": \"left\", \"font\": {\"color\": \"#000000\"}, \"showarrow\": false, \"text\": \"8038.77\", \"x\": 2.55, \"xanchor\": \"left\", \"xref\": \"x\", \"y\": 84, \"yref\": \"y\"}, {\"align\": \"left\", \"font\": {\"color\": \"#000000\"}, \"showarrow\": false, \"text\": \"2017-11-24\", \"x\": -0.45, \"xanchor\": \"left\", \"xref\": \"x\", \"y\": 85, \"yref\": \"y\"}, {\"align\": \"left\", \"font\": {\"color\": \"#000000\"}, \"showarrow\": false, \"text\": \"89.90354034661327\", \"x\": 0.55, \"xanchor\": \"left\", \"xref\": \"x\", \"y\": 85, \"yref\": \"y\"}, {\"align\": \"left\", \"font\": {\"color\": \"#000000\"}, \"showarrow\": false, \"text\": \"5058610176\", \"x\": 1.55, \"xanchor\": \"left\", \"xref\": \"x\", \"y\": 85, \"yref\": \"y\"}, {\"align\": \"left\", \"font\": {\"color\": \"#000000\"}, \"showarrow\": false, \"text\": \"8253.69\", \"x\": 2.55, \"xanchor\": \"left\", \"xref\": \"x\", \"y\": 85, \"yref\": \"y\"}, {\"align\": \"left\", \"font\": {\"color\": \"#000000\"}, \"showarrow\": false, \"text\": \"2017-11-25\", \"x\": -0.45, \"xanchor\": \"left\", \"xref\": \"x\", \"y\": 86, \"yref\": \"y\"}, {\"align\": \"left\", \"font\": {\"color\": \"#000000\"}, \"showarrow\": false, \"text\": \"76.17952306654975\", \"x\": 0.55, \"xanchor\": \"left\", \"xref\": \"x\", \"y\": 86, \"yref\": \"y\"}, {\"align\": \"left\", \"font\": {\"color\": \"#000000\"}, \"showarrow\": false, \"text\": \"4342060032\", \"x\": 1.55, \"xanchor\": \"left\", \"xref\": \"x\", \"y\": 86, \"yref\": \"y\"}, {\"align\": \"left\", \"font\": {\"color\": \"#000000\"}, \"showarrow\": false, \"text\": \"8790.92\", \"x\": 2.55, \"xanchor\": \"left\", \"xref\": \"x\", \"y\": 86, \"yref\": \"y\"}, {\"align\": \"left\", \"font\": {\"color\": \"#000000\"}, \"showarrow\": false, \"text\": \"2017-11-26\", \"x\": -0.45, \"xanchor\": \"left\", \"xref\": \"x\", \"y\": 87, \"yref\": \"y\"}, {\"align\": \"left\", \"font\": {\"color\": \"#000000\"}, \"showarrow\": false, \"text\": \"102.0800786174081\", \"x\": 0.55, \"xanchor\": \"left\", \"xref\": \"x\", \"y\": 87, \"yref\": \"y\"}, {\"align\": \"left\", \"font\": {\"color\": \"#000000\"}, \"showarrow\": false, \"text\": \"5475579904\", \"x\": 1.55, \"xanchor\": \"left\", \"xref\": \"x\", \"y\": 87, \"yref\": \"y\"}, {\"align\": \"left\", \"font\": {\"color\": \"#000000\"}, \"showarrow\": false, \"text\": \"9330.55\", \"x\": 2.55, \"xanchor\": \"left\", \"xref\": \"x\", \"y\": 87, \"yref\": \"y\"}, {\"align\": \"left\", \"font\": {\"color\": \"#000000\"}, \"showarrow\": false, \"text\": \"2017-11-27\", \"x\": -0.45, \"xanchor\": \"left\", \"xref\": \"x\", \"y\": 88, \"yref\": \"y\"}, {\"align\": \"left\", \"font\": {\"color\": \"#000000\"}, \"showarrow\": false, \"text\": \"135.68944123908972\", \"x\": 0.55, \"xanchor\": \"left\", \"xref\": \"x\", \"y\": 88, \"yref\": \"y\"}, {\"align\": \"left\", \"font\": {\"color\": \"#000000\"}, \"showarrow\": false, \"text\": \"5653320192\", \"x\": 1.55, \"xanchor\": \"left\", \"xref\": \"x\", \"y\": 88, \"yref\": \"y\"}, {\"align\": \"left\", \"font\": {\"color\": \"#000000\"}, \"showarrow\": false, \"text\": \"9818.35\", \"x\": 2.55, \"xanchor\": \"left\", \"xref\": \"x\", \"y\": 88, \"yref\": \"y\"}, {\"align\": \"left\", \"font\": {\"color\": \"#000000\"}, \"showarrow\": false, \"text\": \"2017-11-28\", \"x\": -0.45, \"xanchor\": \"left\", \"xref\": \"x\", \"y\": 89, \"yref\": \"y\"}, {\"align\": \"left\", \"font\": {\"color\": \"#000000\"}, \"showarrow\": false, \"text\": \"126.73609075935641\", \"x\": 0.55, \"xanchor\": \"left\", \"xref\": \"x\", \"y\": 89, \"yref\": \"y\"}, {\"align\": \"left\", \"font\": {\"color\": \"#000000\"}, \"showarrow\": false, \"text\": \"6348819968\", \"x\": 1.55, \"xanchor\": \"left\", \"xref\": \"x\", \"y\": 89, \"yref\": \"y\"}, {\"align\": \"left\", \"font\": {\"color\": \"#000000\"}, \"showarrow\": false, \"text\": \"10058.80\", \"x\": 2.55, \"xanchor\": \"left\", \"xref\": \"x\", \"y\": 89, \"yref\": \"y\"}, {\"align\": \"left\", \"font\": {\"color\": \"#000000\"}, \"showarrow\": false, \"text\": \"2017-11-29\", \"x\": -0.45, \"xanchor\": \"left\", \"xref\": \"x\", \"y\": 90, \"yref\": \"y\"}, {\"align\": \"left\", \"font\": {\"color\": \"#000000\"}, \"showarrow\": false, \"text\": \"171.53002591249177\", \"x\": 0.55, \"xanchor\": \"left\", \"xref\": \"x\", \"y\": 90, \"yref\": \"y\"}, {\"align\": \"left\", \"font\": {\"color\": \"#000000\"}, \"showarrow\": false, \"text\": \"11568799744\", \"x\": 1.55, \"xanchor\": \"left\", \"xref\": \"x\", \"y\": 90, \"yref\": \"y\"}, {\"align\": \"left\", \"font\": {\"color\": \"#000000\"}, \"showarrow\": false, \"text\": \"9888.61\", \"x\": 2.55, \"xanchor\": \"left\", \"xref\": \"x\", \"y\": 90, \"yref\": \"y\"}, {\"align\": \"left\", \"font\": {\"color\": \"#000000\"}, \"showarrow\": false, \"text\": \"2017-11-30\", \"x\": -0.45, \"xanchor\": \"left\", \"xref\": \"x\", \"y\": 91, \"yref\": \"y\"}, {\"align\": \"left\", \"font\": {\"color\": \"#000000\"}, \"showarrow\": false, \"text\": \"119.28993525399588\", \"x\": 0.55, \"xanchor\": \"left\", \"xref\": \"x\", \"y\": 91, \"yref\": \"y\"}, {\"align\": \"left\", \"font\": {\"color\": \"#000000\"}, \"showarrow\": false, \"text\": \"8310689792\", \"x\": 1.55, \"xanchor\": \"left\", \"xref\": \"x\", \"y\": 91, \"yref\": \"y\"}, {\"align\": \"left\", \"font\": {\"color\": \"#000000\"}, \"showarrow\": false, \"text\": \"10233.60\", \"x\": 2.55, \"xanchor\": \"left\", \"xref\": \"x\", \"y\": 91, \"yref\": \"y\"}], \"height\": 2810, \"margin\": {\"b\": 0, \"l\": 0, \"r\": 0, \"t\": 0}, \"xaxis\": {\"dtick\": 1, \"gridwidth\": 2, \"showticklabels\": false, \"tick0\": -0.5, \"ticks\": \"\", \"zeroline\": false}, \"yaxis\": {\"autorange\": \"reversed\", \"dtick\": 1, \"gridwidth\": 2, \"showticklabels\": false, \"tick0\": 0.5, \"ticks\": \"\", \"zeroline\": false}}, {\"showLink\": true, \"linkText\": \"Export to plot.ly\"})});</script><script type=\"text/javascript\">window.addEventListener(\"resize\", function(){window._Plotly.Plots.resize(document.getElementById(\"44b00526-13c7-4eb7-ae97-24500323e28f\"));});</script>"
      ]
     },
     "metadata": {},
     "output_type": "display_data"
    }
   ],
   "source": [
    "# ===================================== #\n",
    "# Getting the closing price and volume  #\n",
    "# ===================================== #\n",
    "url='https://coinmarketcap.com/currencies/'+ crypto_name +'/historical-data/?start=20170901&end=20171130'\n",
    "    \n",
    "page = requests.get(url)\n",
    "soup = BeautifulSoup(page.text, \"lxml\") \n",
    "table = soup.find('table', attrs={'class':'table'})\n",
    "table_rows = table.find_all('tr')\n",
    "\n",
    "l = []\n",
    "for tr in table_rows[1:]:\n",
    "    td = tr.find_all('td')\n",
    "    row = [tr.text for tr in td]\n",
    "    l.append(row)\n",
    "df_temp = pd.DataFrame(l, columns=[\"date\", \"a\", \"b\", \"c\", \"close\",'volume', 'd'])\n",
    "df = pd.DataFrame(df_temp, columns=[\"date\", 'volume', 'close'])\n",
    "df['date'] = df['date'].apply(lambda x: datetime.datetime.strptime(x, \"%b %d, %Y\").strftime(\"%Y-%m-%d\"))\n",
    "df['volume'] = df['volume'].apply(lambda x: re.sub(\"[^0-9]\", \"\", x))\n",
    "df['close'] = df['close'].apply(lambda x: re.sub(\",\", \"\", x))\n",
    "df_marketcap_sentiment_line = pd.merge(df_polarity_line, df, left_on='date', right_on='date')\n",
    "\n",
    "# ======================================= #\n",
    "# Polarity, Vol. and Closing Price TABLE  #\n",
    "# ======================================= #\n",
    "table = ff.create_table(df_marketcap_sentiment_line)\n",
    "plotly.offline.iplot(table, filename='df_marketcap_sentiment_line')"
   ]
  },
  {
   "cell_type": "code",
   "execution_count": 57,
   "metadata": {},
   "outputs": [
    {
     "data": {
      "application/vnd.plotly.v1+json": {
       "data": [
        {
         "mode": "lines",
         "name": "Closing Price",
         "type": "scatter",
         "uid": "06a6bf67-06f9-4e5a-83a7-09d82ba02b51",
         "x": [
          "2017-09-01",
          "2017-09-02",
          "2017-09-03",
          "2017-09-04",
          "2017-09-05",
          "2017-09-06",
          "2017-09-07",
          "2017-09-08",
          "2017-09-09",
          "2017-09-10",
          "2017-09-11",
          "2017-09-12",
          "2017-09-13",
          "2017-09-14",
          "2017-09-15",
          "2017-09-16",
          "2017-09-17",
          "2017-09-18",
          "2017-09-19",
          "2017-09-20",
          "2017-09-21",
          "2017-09-22",
          "2017-09-23",
          "2017-09-24",
          "2017-09-25",
          "2017-09-26",
          "2017-09-27",
          "2017-09-28",
          "2017-09-29",
          "2017-09-30",
          "2017-10-01",
          "2017-10-02",
          "2017-10-03",
          "2017-10-04",
          "2017-10-05",
          "2017-10-06",
          "2017-10-07",
          "2017-10-08",
          "2017-10-09",
          "2017-10-10",
          "2017-10-11",
          "2017-10-12",
          "2017-10-13",
          "2017-10-14",
          "2017-10-15",
          "2017-10-16",
          "2017-10-17",
          "2017-10-18",
          "2017-10-19",
          "2017-10-20",
          "2017-10-21",
          "2017-10-22",
          "2017-10-23",
          "2017-10-24",
          "2017-10-25",
          "2017-10-26",
          "2017-10-27",
          "2017-10-28",
          "2017-10-29",
          "2017-10-30",
          "2017-10-31",
          "2017-11-01",
          "2017-11-02",
          "2017-11-03",
          "2017-11-04",
          "2017-11-05",
          "2017-11-06",
          "2017-11-07",
          "2017-11-08",
          "2017-11-09",
          "2017-11-10",
          "2017-11-11",
          "2017-11-12",
          "2017-11-13",
          "2017-11-14",
          "2017-11-15",
          "2017-11-16",
          "2017-11-17",
          "2017-11-18",
          "2017-11-19",
          "2017-11-20",
          "2017-11-21",
          "2017-11-22",
          "2017-11-23",
          "2017-11-24",
          "2017-11-25",
          "2017-11-26",
          "2017-11-27",
          "2017-11-28",
          "2017-11-29",
          "2017-11-30"
         ],
         "y": [
          "4892.01",
          "4578.77",
          "4582.96",
          "4236.31",
          "4376.53",
          "4597.12",
          "4599.88",
          "4228.75",
          "4226.06",
          "4122.94",
          "4161.27",
          "4130.81",
          "3882.59",
          "3154.95",
          "3637.52",
          "3625.04",
          "3582.88",
          "4065.20",
          "3924.97",
          "3905.95",
          "3631.04",
          "3630.70",
          "3792.40",
          "3682.84",
          "3926.07",
          "3892.35",
          "4200.67",
          "4174.73",
          "4163.07",
          "4338.71",
          "4403.74",
          "4409.32",
          "4317.48",
          "4229.36",
          "4328.41",
          "4370.81",
          "4426.89",
          "4610.48",
          "4772.02",
          "4781.99",
          "4826.48",
          "5446.91",
          "5647.21",
          "5831.79",
          "5678.19",
          "5725.59",
          "5605.51",
          "5590.69",
          "5708.52",
          "6011.45",
          "6031.60",
          "6008.42",
          "5930.32",
          "5526.64",
          "5750.80",
          "5904.83",
          "5780.90",
          "5753.09",
          "6153.85",
          "6130.53",
          "6468.40",
          "6767.31",
          "7078.50",
          "7207.76",
          "7379.95",
          "7407.41",
          "7022.76",
          "7144.38",
          "7459.69",
          "7143.58",
          "6618.14",
          "6357.60",
          "5950.07",
          "6559.49",
          "6635.75",
          "7315.54",
          "7871.69",
          "7708.99",
          "7790.15",
          "8036.49",
          "8200.64",
          "8071.26",
          "8253.55",
          "8038.77",
          "8253.69",
          "8790.92",
          "9330.55",
          "9818.35",
          "10058.80",
          "9888.61",
          "10233.60"
         ]
        },
        {
         "mode": "lines",
         "name": "Polarity",
         "type": "scatter",
         "uid": "87d4c136-5264-43f7-a99f-f0c9fe57e767",
         "x": [
          "2017-09-01",
          "2017-09-02",
          "2017-09-03",
          "2017-09-04",
          "2017-09-05",
          "2017-09-06",
          "2017-09-07",
          "2017-09-08",
          "2017-09-09",
          "2017-09-10",
          "2017-09-11",
          "2017-09-12",
          "2017-09-13",
          "2017-09-14",
          "2017-09-15",
          "2017-09-16",
          "2017-09-17",
          "2017-09-18",
          "2017-09-19",
          "2017-09-20",
          "2017-09-21",
          "2017-09-22",
          "2017-09-23",
          "2017-09-24",
          "2017-09-25",
          "2017-09-26",
          "2017-09-27",
          "2017-09-28",
          "2017-09-29",
          "2017-09-30",
          "2017-10-01",
          "2017-10-02",
          "2017-10-03",
          "2017-10-04",
          "2017-10-05",
          "2017-10-06",
          "2017-10-07",
          "2017-10-08",
          "2017-10-09",
          "2017-10-10",
          "2017-10-11",
          "2017-10-12",
          "2017-10-13",
          "2017-10-14",
          "2017-10-15",
          "2017-10-16",
          "2017-10-17",
          "2017-10-18",
          "2017-10-19",
          "2017-10-20",
          "2017-10-21",
          "2017-10-22",
          "2017-10-23",
          "2017-10-24",
          "2017-10-25",
          "2017-10-26",
          "2017-10-27",
          "2017-10-28",
          "2017-10-29",
          "2017-10-30",
          "2017-10-31",
          "2017-11-01",
          "2017-11-02",
          "2017-11-03",
          "2017-11-04",
          "2017-11-05",
          "2017-11-06",
          "2017-11-07",
          "2017-11-08",
          "2017-11-09",
          "2017-11-10",
          "2017-11-11",
          "2017-11-12",
          "2017-11-13",
          "2017-11-14",
          "2017-11-15",
          "2017-11-16",
          "2017-11-17",
          "2017-11-18",
          "2017-11-19",
          "2017-11-20",
          "2017-11-21",
          "2017-11-22",
          "2017-11-23",
          "2017-11-24",
          "2017-11-25",
          "2017-11-26",
          "2017-11-27",
          "2017-11-28",
          "2017-11-29",
          "2017-11-30"
         ],
         "y": [
          44.84127886002886,
          34.72393849206349,
          30.12381042568544,
          43.906720628908154,
          51.60989305254931,
          49.39670815295817,
          54.017747884349454,
          45.23649801587301,
          36.867362629268875,
          43.62673601448154,
          45.281234668109654,
          38.138232804115376,
          56.79393598184227,
          56.14570337395531,
          59.89907314213567,
          9.883154461279464,
          49.61875174033869,
          49.05703698283776,
          49.648816305222574,
          44.84952994181024,
          36.79902311808565,
          46.762610113410915,
          37.00751833814336,
          40.71855782527657,
          47.90088936237374,
          44.5973292824074,
          50.33652717652716,
          46.36906472247988,
          54.04768668831172,
          33.32747925685426,
          47.53804800234494,
          53.303671762265516,
          44.61395399305555,
          46.99523922258297,
          52.85774779040402,
          49.65176775943964,
          39.233273245851386,
          45.06565479008838,
          64.45839601370854,
          64.05344494047618,
          49.029935966810974,
          69.14563292899224,
          67.38291578213448,
          40.39778632680975,
          42.93939138407888,
          61.87198006854253,
          57.585856782106816,
          61.17085682532166,
          64.9031809163059,
          61.83325431397312,
          62.9805841149591,
          41.22259750593734,
          57.8168929623617,
          70.14401393458658,
          68.57515346921599,
          65.96972327441078,
          53.58439078282832,
          40.44496268488456,
          48.928504537129534,
          62.66725360750357,
          76.58504479316979,
          68.9412382756132,
          66.62065593434349,
          80.82874253956035,
          56.06653724747473,
          50.97287406806151,
          55.187238413041996,
          66.26171888903922,
          101.87834161866388,
          68.17436293105042,
          75.20613068181805,
          65.08762490310195,
          69.47252675730356,
          70.9659491041366,
          84.93580048840873,
          93.5920690488001,
          95.94134783756459,
          97.8746565547247,
          77.56095560265358,
          79.85877472750465,
          64.63633352634466,
          88.84891132305194,
          110.26343371212111,
          87.35194385554097,
          89.90354034661327,
          76.17952306654975,
          102.0800786174081,
          135.68944123908972,
          126.73609075935641,
          171.53002591249177,
          119.28993525399588
         ],
         "yaxis": "y2"
        }
       ],
       "layout": {
        "title": "Sentiment Polarity Vs. Closing Price (in USD)",
        "yaxis": {
         "title": "Closing Price."
        },
        "yaxis2": {
         "overlaying": "y",
         "side": "right",
         "tickfont": {
          "color": "rgb(148, 103, 189)"
         },
         "title": "Polarity",
         "titlefont": {
          "color": "rgb(148, 103, 189)"
         }
        }
       }
      },
      "text/html": [
       "<div id=\"dd9abbb7-71f9-444c-ab8a-0a651a2ceece\" style=\"height: 525px; width: 100%;\" class=\"plotly-graph-div\"></div><script type=\"text/javascript\">require([\"plotly\"], function(Plotly) { window.PLOTLYENV=window.PLOTLYENV || {};window.PLOTLYENV.BASE_URL=\"https://plot.ly\";Plotly.newPlot(\"dd9abbb7-71f9-444c-ab8a-0a651a2ceece\", [{\"mode\": \"lines\", \"name\": \"Closing Price\", \"x\": [\"2017-09-01\", \"2017-09-02\", \"2017-09-03\", \"2017-09-04\", \"2017-09-05\", \"2017-09-06\", \"2017-09-07\", \"2017-09-08\", \"2017-09-09\", \"2017-09-10\", \"2017-09-11\", \"2017-09-12\", \"2017-09-13\", \"2017-09-14\", \"2017-09-15\", \"2017-09-16\", \"2017-09-17\", \"2017-09-18\", \"2017-09-19\", \"2017-09-20\", \"2017-09-21\", \"2017-09-22\", \"2017-09-23\", \"2017-09-24\", \"2017-09-25\", \"2017-09-26\", \"2017-09-27\", \"2017-09-28\", \"2017-09-29\", \"2017-09-30\", \"2017-10-01\", \"2017-10-02\", \"2017-10-03\", \"2017-10-04\", \"2017-10-05\", \"2017-10-06\", \"2017-10-07\", \"2017-10-08\", \"2017-10-09\", \"2017-10-10\", \"2017-10-11\", \"2017-10-12\", \"2017-10-13\", \"2017-10-14\", \"2017-10-15\", \"2017-10-16\", \"2017-10-17\", \"2017-10-18\", \"2017-10-19\", \"2017-10-20\", \"2017-10-21\", \"2017-10-22\", \"2017-10-23\", \"2017-10-24\", \"2017-10-25\", \"2017-10-26\", \"2017-10-27\", \"2017-10-28\", \"2017-10-29\", \"2017-10-30\", \"2017-10-31\", \"2017-11-01\", \"2017-11-02\", \"2017-11-03\", \"2017-11-04\", \"2017-11-05\", \"2017-11-06\", \"2017-11-07\", \"2017-11-08\", \"2017-11-09\", \"2017-11-10\", \"2017-11-11\", \"2017-11-12\", \"2017-11-13\", \"2017-11-14\", \"2017-11-15\", \"2017-11-16\", \"2017-11-17\", \"2017-11-18\", \"2017-11-19\", \"2017-11-20\", \"2017-11-21\", \"2017-11-22\", \"2017-11-23\", \"2017-11-24\", \"2017-11-25\", \"2017-11-26\", \"2017-11-27\", \"2017-11-28\", \"2017-11-29\", \"2017-11-30\"], \"y\": [\"4892.01\", \"4578.77\", \"4582.96\", \"4236.31\", \"4376.53\", \"4597.12\", \"4599.88\", \"4228.75\", \"4226.06\", \"4122.94\", \"4161.27\", \"4130.81\", \"3882.59\", \"3154.95\", \"3637.52\", \"3625.04\", \"3582.88\", \"4065.20\", \"3924.97\", \"3905.95\", \"3631.04\", \"3630.70\", \"3792.40\", \"3682.84\", \"3926.07\", \"3892.35\", \"4200.67\", \"4174.73\", \"4163.07\", \"4338.71\", \"4403.74\", \"4409.32\", \"4317.48\", \"4229.36\", \"4328.41\", \"4370.81\", \"4426.89\", \"4610.48\", \"4772.02\", \"4781.99\", \"4826.48\", \"5446.91\", \"5647.21\", \"5831.79\", \"5678.19\", \"5725.59\", \"5605.51\", \"5590.69\", \"5708.52\", \"6011.45\", \"6031.60\", \"6008.42\", \"5930.32\", \"5526.64\", \"5750.80\", \"5904.83\", \"5780.90\", \"5753.09\", \"6153.85\", \"6130.53\", \"6468.40\", \"6767.31\", \"7078.50\", \"7207.76\", \"7379.95\", \"7407.41\", \"7022.76\", \"7144.38\", \"7459.69\", \"7143.58\", \"6618.14\", \"6357.60\", \"5950.07\", \"6559.49\", \"6635.75\", \"7315.54\", \"7871.69\", \"7708.99\", \"7790.15\", \"8036.49\", \"8200.64\", \"8071.26\", \"8253.55\", \"8038.77\", \"8253.69\", \"8790.92\", \"9330.55\", \"9818.35\", \"10058.80\", \"9888.61\", \"10233.60\"], \"type\": \"scatter\", \"uid\": \"06a6bf67-06f9-4e5a-83a7-09d82ba02b51\"}, {\"mode\": \"lines\", \"name\": \"Polarity\", \"x\": [\"2017-09-01\", \"2017-09-02\", \"2017-09-03\", \"2017-09-04\", \"2017-09-05\", \"2017-09-06\", \"2017-09-07\", \"2017-09-08\", \"2017-09-09\", \"2017-09-10\", \"2017-09-11\", \"2017-09-12\", \"2017-09-13\", \"2017-09-14\", \"2017-09-15\", \"2017-09-16\", \"2017-09-17\", \"2017-09-18\", \"2017-09-19\", \"2017-09-20\", \"2017-09-21\", \"2017-09-22\", \"2017-09-23\", \"2017-09-24\", \"2017-09-25\", \"2017-09-26\", \"2017-09-27\", \"2017-09-28\", \"2017-09-29\", \"2017-09-30\", \"2017-10-01\", \"2017-10-02\", \"2017-10-03\", \"2017-10-04\", \"2017-10-05\", \"2017-10-06\", \"2017-10-07\", \"2017-10-08\", \"2017-10-09\", \"2017-10-10\", \"2017-10-11\", \"2017-10-12\", \"2017-10-13\", \"2017-10-14\", \"2017-10-15\", \"2017-10-16\", \"2017-10-17\", \"2017-10-18\", \"2017-10-19\", \"2017-10-20\", \"2017-10-21\", \"2017-10-22\", \"2017-10-23\", \"2017-10-24\", \"2017-10-25\", \"2017-10-26\", \"2017-10-27\", \"2017-10-28\", \"2017-10-29\", \"2017-10-30\", \"2017-10-31\", \"2017-11-01\", \"2017-11-02\", \"2017-11-03\", \"2017-11-04\", \"2017-11-05\", \"2017-11-06\", \"2017-11-07\", \"2017-11-08\", \"2017-11-09\", \"2017-11-10\", \"2017-11-11\", \"2017-11-12\", \"2017-11-13\", \"2017-11-14\", \"2017-11-15\", \"2017-11-16\", \"2017-11-17\", \"2017-11-18\", \"2017-11-19\", \"2017-11-20\", \"2017-11-21\", \"2017-11-22\", \"2017-11-23\", \"2017-11-24\", \"2017-11-25\", \"2017-11-26\", \"2017-11-27\", \"2017-11-28\", \"2017-11-29\", \"2017-11-30\"], \"y\": [44.84127886002886, 34.72393849206349, 30.12381042568544, 43.906720628908154, 51.60989305254931, 49.39670815295817, 54.017747884349454, 45.23649801587301, 36.867362629268875, 43.62673601448154, 45.281234668109654, 38.138232804115376, 56.79393598184227, 56.14570337395531, 59.89907314213567, 9.883154461279464, 49.61875174033869, 49.05703698283776, 49.648816305222574, 44.84952994181024, 36.79902311808565, 46.762610113410915, 37.00751833814336, 40.71855782527657, 47.90088936237374, 44.5973292824074, 50.33652717652716, 46.36906472247988, 54.04768668831172, 33.32747925685426, 47.53804800234494, 53.303671762265516, 44.61395399305555, 46.99523922258297, 52.85774779040402, 49.65176775943964, 39.233273245851386, 45.06565479008838, 64.45839601370854, 64.05344494047618, 49.029935966810974, 69.14563292899224, 67.38291578213448, 40.39778632680975, 42.93939138407888, 61.87198006854253, 57.585856782106816, 61.17085682532166, 64.9031809163059, 61.83325431397312, 62.9805841149591, 41.22259750593734, 57.8168929623617, 70.14401393458658, 68.57515346921599, 65.96972327441078, 53.58439078282832, 40.44496268488456, 48.928504537129534, 62.66725360750357, 76.58504479316979, 68.9412382756132, 66.62065593434349, 80.82874253956035, 56.06653724747473, 50.97287406806151, 55.187238413041996, 66.26171888903922, 101.87834161866388, 68.17436293105042, 75.20613068181805, 65.08762490310195, 69.47252675730356, 70.9659491041366, 84.93580048840873, 93.5920690488001, 95.94134783756459, 97.8746565547247, 77.56095560265358, 79.85877472750465, 64.63633352634466, 88.84891132305194, 110.26343371212111, 87.35194385554097, 89.90354034661327, 76.17952306654975, 102.0800786174081, 135.68944123908972, 126.73609075935641, 171.53002591249177, 119.28993525399588], \"yaxis\": \"y2\", \"type\": \"scatter\", \"uid\": \"87d4c136-5264-43f7-a99f-f0c9fe57e767\"}], {\"title\": \"Sentiment Polarity Vs. Closing Price (in USD)\", \"yaxis\": {\"title\": \"Closing Price.\"}, \"yaxis2\": {\"overlaying\": \"y\", \"side\": \"right\", \"tickfont\": {\"color\": \"rgb(148, 103, 189)\"}, \"title\": \"Polarity\", \"titlefont\": {\"color\": \"rgb(148, 103, 189)\"}}}, {\"showLink\": true, \"linkText\": \"Export to plot.ly\"})});</script><script type=\"text/javascript\">window.addEventListener(\"resize\", function(){window._Plotly.Plots.resize(document.getElementById(\"dd9abbb7-71f9-444c-ab8a-0a651a2ceece\"));});</script>"
      ],
      "text/vnd.plotly.v1+html": [
       "<div id=\"dd9abbb7-71f9-444c-ab8a-0a651a2ceece\" style=\"height: 525px; width: 100%;\" class=\"plotly-graph-div\"></div><script type=\"text/javascript\">require([\"plotly\"], function(Plotly) { window.PLOTLYENV=window.PLOTLYENV || {};window.PLOTLYENV.BASE_URL=\"https://plot.ly\";Plotly.newPlot(\"dd9abbb7-71f9-444c-ab8a-0a651a2ceece\", [{\"mode\": \"lines\", \"name\": \"Closing Price\", \"x\": [\"2017-09-01\", \"2017-09-02\", \"2017-09-03\", \"2017-09-04\", \"2017-09-05\", \"2017-09-06\", \"2017-09-07\", \"2017-09-08\", \"2017-09-09\", \"2017-09-10\", \"2017-09-11\", \"2017-09-12\", \"2017-09-13\", \"2017-09-14\", \"2017-09-15\", \"2017-09-16\", \"2017-09-17\", \"2017-09-18\", \"2017-09-19\", \"2017-09-20\", \"2017-09-21\", \"2017-09-22\", \"2017-09-23\", \"2017-09-24\", \"2017-09-25\", \"2017-09-26\", \"2017-09-27\", \"2017-09-28\", \"2017-09-29\", \"2017-09-30\", \"2017-10-01\", \"2017-10-02\", \"2017-10-03\", \"2017-10-04\", \"2017-10-05\", \"2017-10-06\", \"2017-10-07\", \"2017-10-08\", \"2017-10-09\", \"2017-10-10\", \"2017-10-11\", \"2017-10-12\", \"2017-10-13\", \"2017-10-14\", \"2017-10-15\", \"2017-10-16\", \"2017-10-17\", \"2017-10-18\", \"2017-10-19\", \"2017-10-20\", \"2017-10-21\", \"2017-10-22\", \"2017-10-23\", \"2017-10-24\", \"2017-10-25\", \"2017-10-26\", \"2017-10-27\", \"2017-10-28\", \"2017-10-29\", \"2017-10-30\", \"2017-10-31\", \"2017-11-01\", \"2017-11-02\", \"2017-11-03\", \"2017-11-04\", \"2017-11-05\", \"2017-11-06\", \"2017-11-07\", \"2017-11-08\", \"2017-11-09\", \"2017-11-10\", \"2017-11-11\", \"2017-11-12\", \"2017-11-13\", \"2017-11-14\", \"2017-11-15\", \"2017-11-16\", \"2017-11-17\", \"2017-11-18\", \"2017-11-19\", \"2017-11-20\", \"2017-11-21\", \"2017-11-22\", \"2017-11-23\", \"2017-11-24\", \"2017-11-25\", \"2017-11-26\", \"2017-11-27\", \"2017-11-28\", \"2017-11-29\", \"2017-11-30\"], \"y\": [\"4892.01\", \"4578.77\", \"4582.96\", \"4236.31\", \"4376.53\", \"4597.12\", \"4599.88\", \"4228.75\", \"4226.06\", \"4122.94\", \"4161.27\", \"4130.81\", \"3882.59\", \"3154.95\", \"3637.52\", \"3625.04\", \"3582.88\", \"4065.20\", \"3924.97\", \"3905.95\", \"3631.04\", \"3630.70\", \"3792.40\", \"3682.84\", \"3926.07\", \"3892.35\", \"4200.67\", \"4174.73\", \"4163.07\", \"4338.71\", \"4403.74\", \"4409.32\", \"4317.48\", \"4229.36\", \"4328.41\", \"4370.81\", \"4426.89\", \"4610.48\", \"4772.02\", \"4781.99\", \"4826.48\", \"5446.91\", \"5647.21\", \"5831.79\", \"5678.19\", \"5725.59\", \"5605.51\", \"5590.69\", \"5708.52\", \"6011.45\", \"6031.60\", \"6008.42\", \"5930.32\", \"5526.64\", \"5750.80\", \"5904.83\", \"5780.90\", \"5753.09\", \"6153.85\", \"6130.53\", \"6468.40\", \"6767.31\", \"7078.50\", \"7207.76\", \"7379.95\", \"7407.41\", \"7022.76\", \"7144.38\", \"7459.69\", \"7143.58\", \"6618.14\", \"6357.60\", \"5950.07\", \"6559.49\", \"6635.75\", \"7315.54\", \"7871.69\", \"7708.99\", \"7790.15\", \"8036.49\", \"8200.64\", \"8071.26\", \"8253.55\", \"8038.77\", \"8253.69\", \"8790.92\", \"9330.55\", \"9818.35\", \"10058.80\", \"9888.61\", \"10233.60\"], \"type\": \"scatter\", \"uid\": \"06a6bf67-06f9-4e5a-83a7-09d82ba02b51\"}, {\"mode\": \"lines\", \"name\": \"Polarity\", \"x\": [\"2017-09-01\", \"2017-09-02\", \"2017-09-03\", \"2017-09-04\", \"2017-09-05\", \"2017-09-06\", \"2017-09-07\", \"2017-09-08\", \"2017-09-09\", \"2017-09-10\", \"2017-09-11\", \"2017-09-12\", \"2017-09-13\", \"2017-09-14\", \"2017-09-15\", \"2017-09-16\", \"2017-09-17\", \"2017-09-18\", \"2017-09-19\", \"2017-09-20\", \"2017-09-21\", \"2017-09-22\", \"2017-09-23\", \"2017-09-24\", \"2017-09-25\", \"2017-09-26\", \"2017-09-27\", \"2017-09-28\", \"2017-09-29\", \"2017-09-30\", \"2017-10-01\", \"2017-10-02\", \"2017-10-03\", \"2017-10-04\", \"2017-10-05\", \"2017-10-06\", \"2017-10-07\", \"2017-10-08\", \"2017-10-09\", \"2017-10-10\", \"2017-10-11\", \"2017-10-12\", \"2017-10-13\", \"2017-10-14\", \"2017-10-15\", \"2017-10-16\", \"2017-10-17\", \"2017-10-18\", \"2017-10-19\", \"2017-10-20\", \"2017-10-21\", \"2017-10-22\", \"2017-10-23\", \"2017-10-24\", \"2017-10-25\", \"2017-10-26\", \"2017-10-27\", \"2017-10-28\", \"2017-10-29\", \"2017-10-30\", \"2017-10-31\", \"2017-11-01\", \"2017-11-02\", \"2017-11-03\", \"2017-11-04\", \"2017-11-05\", \"2017-11-06\", \"2017-11-07\", \"2017-11-08\", \"2017-11-09\", \"2017-11-10\", \"2017-11-11\", \"2017-11-12\", \"2017-11-13\", \"2017-11-14\", \"2017-11-15\", \"2017-11-16\", \"2017-11-17\", \"2017-11-18\", \"2017-11-19\", \"2017-11-20\", \"2017-11-21\", \"2017-11-22\", \"2017-11-23\", \"2017-11-24\", \"2017-11-25\", \"2017-11-26\", \"2017-11-27\", \"2017-11-28\", \"2017-11-29\", \"2017-11-30\"], \"y\": [44.84127886002886, 34.72393849206349, 30.12381042568544, 43.906720628908154, 51.60989305254931, 49.39670815295817, 54.017747884349454, 45.23649801587301, 36.867362629268875, 43.62673601448154, 45.281234668109654, 38.138232804115376, 56.79393598184227, 56.14570337395531, 59.89907314213567, 9.883154461279464, 49.61875174033869, 49.05703698283776, 49.648816305222574, 44.84952994181024, 36.79902311808565, 46.762610113410915, 37.00751833814336, 40.71855782527657, 47.90088936237374, 44.5973292824074, 50.33652717652716, 46.36906472247988, 54.04768668831172, 33.32747925685426, 47.53804800234494, 53.303671762265516, 44.61395399305555, 46.99523922258297, 52.85774779040402, 49.65176775943964, 39.233273245851386, 45.06565479008838, 64.45839601370854, 64.05344494047618, 49.029935966810974, 69.14563292899224, 67.38291578213448, 40.39778632680975, 42.93939138407888, 61.87198006854253, 57.585856782106816, 61.17085682532166, 64.9031809163059, 61.83325431397312, 62.9805841149591, 41.22259750593734, 57.8168929623617, 70.14401393458658, 68.57515346921599, 65.96972327441078, 53.58439078282832, 40.44496268488456, 48.928504537129534, 62.66725360750357, 76.58504479316979, 68.9412382756132, 66.62065593434349, 80.82874253956035, 56.06653724747473, 50.97287406806151, 55.187238413041996, 66.26171888903922, 101.87834161866388, 68.17436293105042, 75.20613068181805, 65.08762490310195, 69.47252675730356, 70.9659491041366, 84.93580048840873, 93.5920690488001, 95.94134783756459, 97.8746565547247, 77.56095560265358, 79.85877472750465, 64.63633352634466, 88.84891132305194, 110.26343371212111, 87.35194385554097, 89.90354034661327, 76.17952306654975, 102.0800786174081, 135.68944123908972, 126.73609075935641, 171.53002591249177, 119.28993525399588], \"yaxis\": \"y2\", \"type\": \"scatter\", \"uid\": \"87d4c136-5264-43f7-a99f-f0c9fe57e767\"}], {\"title\": \"Sentiment Polarity Vs. Closing Price (in USD)\", \"yaxis\": {\"title\": \"Closing Price.\"}, \"yaxis2\": {\"overlaying\": \"y\", \"side\": \"right\", \"tickfont\": {\"color\": \"rgb(148, 103, 189)\"}, \"title\": \"Polarity\", \"titlefont\": {\"color\": \"rgb(148, 103, 189)\"}}}, {\"showLink\": true, \"linkText\": \"Export to plot.ly\"})});</script><script type=\"text/javascript\">window.addEventListener(\"resize\", function(){window._Plotly.Plots.resize(document.getElementById(\"dd9abbb7-71f9-444c-ab8a-0a651a2ceece\"));});</script>"
      ]
     },
     "metadata": {},
     "output_type": "display_data"
    }
   ],
   "source": [
    "# ============================================== #\n",
    "# Plot Polarity, Price in USD(Close) and Volume  #\n",
    "# ============================================== #\n",
    "trace1 = go.Scatter(\n",
    "    x=df_marketcap_sentiment_line['date'],\n",
    "    y=df_marketcap_sentiment_line['close'],\n",
    "    mode = 'lines',\n",
    "    name='Closing Price'\n",
    ")\n",
    "trace2 = go.Scatter(\n",
    "    x=df_marketcap_sentiment_line['date'],\n",
    "    y=df_marketcap_sentiment_line['polarity'],\n",
    "    mode = 'lines',\n",
    "    name='Polarity',\n",
    "    yaxis='y2'\n",
    ")\n",
    "data = [trace1, trace2]\n",
    "layout = go.Layout(\n",
    "    title='Sentiment Polarity Vs. Closing Price (in USD)',\n",
    "    yaxis=dict(\n",
    "        title='Closing Price.'\n",
    "    ),\n",
    "    yaxis2=dict(\n",
    "        title='Polarity',\n",
    "        titlefont=dict(\n",
    "            color='rgb(148, 103, 189)'\n",
    "        ),\n",
    "        tickfont=dict(\n",
    "            color='rgb(148, 103, 189)'\n",
    "        ),\n",
    "        overlaying='y',\n",
    "        side='right'\n",
    "    )\n",
    ")\n",
    "fig = go.Figure(data=data, layout=layout)\n",
    "\n",
    "plotly.offline.iplot(fig, filename='Sentiment_vs_Market.html')"
   ]
  },
  {
   "cell_type": "code",
   "execution_count": null,
   "metadata": {},
   "outputs": [],
   "source": []
  }
 ],
 "metadata": {
  "kernelspec": {
   "display_name": "Python 3",
   "language": "python",
   "name": "python3"
  },
  "language_info": {
   "codemirror_mode": {
    "name": "ipython",
    "version": 3
   },
   "file_extension": ".py",
   "mimetype": "text/x-python",
   "name": "python",
   "nbconvert_exporter": "python",
   "pygments_lexer": "ipython3",
   "version": "3.6.5"
  }
 },
 "nbformat": 4,
 "nbformat_minor": 2
}
